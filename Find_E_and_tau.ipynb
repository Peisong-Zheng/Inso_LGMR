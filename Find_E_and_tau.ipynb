{
 "cells": [
  {
   "cell_type": "code",
   "execution_count": 1,
   "metadata": {},
   "outputs": [
    {
     "name": "stdout",
     "output_type": "stream",
     "text": [
      "xarray.Dataset {\n",
      "dimensions:\n",
      "\tlat = 96 ;\n",
      "\tlon = 144 ;\n",
      "\tage = 120 ;\n",
      "\n",
      "variables:\n",
      "\tfloat32 lat(lat) ;\n",
      "\t\tlat:FillValue = 9.969209968386869e+36 ;\n",
      "\t\tlat:long_name = vector latitudes ;\n",
      "\t\tlat:units = degrees_north ;\n",
      "\tfloat32 lon(lon) ;\n",
      "\t\tlon:FillValue = 9.969209968386869e+36 ;\n",
      "\t\tlon:long_name = vector of longitudes ;\n",
      "\t\tlon:units = degrees_east ;\n",
      "\tfloat32 age(age) ;\n",
      "\t\tage:long_name = reconstruction bin mid-point (years BP) ;\n",
      "\tfloat32 sat(age, lat, lon) ;\n",
      "\t\tsat:FillValue = 9.969209968386869e+36 ;\n",
      "\t\tsat:long_name = ENSEMBLE MEAN (n = 500) mean annual temperature at reference height ;\n",
      "\t\tsat:units = degrees Celsius ;\n",
      "\tfloat32 sat_std(age, lat, lon) ;\n",
      "\t\tsat_std:FillValue = 9.969209968386869e+36 ;\n",
      "\t\tsat_std:long_name = ENSEMBLE STANDARD DEVIATION (n = 500) mean annual temperature at reference height ;\n",
      "\t\tsat_std:units = degrees Celsius ;\n",
      "\n",
      "// global attributes:\n",
      "}"
     ]
    },
    {
     "name": "stderr",
     "output_type": "stream",
     "text": [
      "d:\\Users\\User\\anaconda3\\envs\\pz_venv_causal\\lib\\site-packages\\xarray\\coding\\variables.py:147: FutureWarning: elementwise comparison failed; returning scalar instead, but in the future will perform elementwise comparison\n",
      "  condition |= data == fv\n",
      "d:\\Users\\User\\anaconda3\\envs\\pz_venv_causal\\lib\\site-packages\\xarray\\coding\\variables.py:147: FutureWarning: elementwise comparison failed; returning scalar instead, but in the future will perform elementwise comparison\n",
      "  condition |= data == fv\n"
     ]
    }
   ],
   "source": [
    "\n",
    "import xarray as xr\n",
    "\n",
    "\n",
    "ds_sat = xr.open_dataset('LGMR_data/LGMR_SAT_climo.nc')\n",
    "\n",
    "import pandas as pd\n",
    "df_pre = pd.read_csv(r\"D:\\VScode\\Inso_LGMR\\inso_data\\pre.csv\")\n",
    "df_obl = pd.read_csv(r\"D:\\VScode\\Inso_LGMR\\inso_data\\obl.csv\")\n",
    "\n",
    "df = pd.DataFrame({\n",
    "    'Time': ds_sat['age'].values,\n",
    "    'X': df_pre['pre'].values,\n",
    "    'Y': ds_sat['sat'].isel(lat=80).isel(lon=0).values\n",
    "})\n",
    "\n",
    "ds_sat.info()"
   ]
  },
  {
   "cell_type": "code",
   "execution_count": 9,
   "metadata": {},
   "outputs": [
    {
     "data": {
      "text/html": [
       "<div><svg style=\"position: absolute; width: 0; height: 0; overflow: hidden\">\n",
       "<defs>\n",
       "<symbol id=\"icon-database\" viewBox=\"0 0 32 32\">\n",
       "<path d=\"M16 0c-8.837 0-16 2.239-16 5v4c0 2.761 7.163 5 16 5s16-2.239 16-5v-4c0-2.761-7.163-5-16-5z\"></path>\n",
       "<path d=\"M16 17c-8.837 0-16-2.239-16-5v6c0 2.761 7.163 5 16 5s16-2.239 16-5v-6c0 2.761-7.163 5-16 5z\"></path>\n",
       "<path d=\"M16 26c-8.837 0-16-2.239-16-5v6c0 2.761 7.163 5 16 5s16-2.239 16-5v-6c0 2.761-7.163 5-16 5z\"></path>\n",
       "</symbol>\n",
       "<symbol id=\"icon-file-text2\" viewBox=\"0 0 32 32\">\n",
       "<path d=\"M28.681 7.159c-0.694-0.947-1.662-2.053-2.724-3.116s-2.169-2.030-3.116-2.724c-1.612-1.182-2.393-1.319-2.841-1.319h-15.5c-1.378 0-2.5 1.121-2.5 2.5v27c0 1.378 1.122 2.5 2.5 2.5h23c1.378 0 2.5-1.122 2.5-2.5v-19.5c0-0.448-0.137-1.23-1.319-2.841zM24.543 5.457c0.959 0.959 1.712 1.825 2.268 2.543h-4.811v-4.811c0.718 0.556 1.584 1.309 2.543 2.268zM28 29.5c0 0.271-0.229 0.5-0.5 0.5h-23c-0.271 0-0.5-0.229-0.5-0.5v-27c0-0.271 0.229-0.5 0.5-0.5 0 0 15.499-0 15.5 0v7c0 0.552 0.448 1 1 1h7v19.5z\"></path>\n",
       "<path d=\"M23 26h-14c-0.552 0-1-0.448-1-1s0.448-1 1-1h14c0.552 0 1 0.448 1 1s-0.448 1-1 1z\"></path>\n",
       "<path d=\"M23 22h-14c-0.552 0-1-0.448-1-1s0.448-1 1-1h14c0.552 0 1 0.448 1 1s-0.448 1-1 1z\"></path>\n",
       "<path d=\"M23 18h-14c-0.552 0-1-0.448-1-1s0.448-1 1-1h14c0.552 0 1 0.448 1 1s-0.448 1-1 1z\"></path>\n",
       "</symbol>\n",
       "</defs>\n",
       "</svg>\n",
       "<style>/* CSS stylesheet for displaying xarray objects in jupyterlab.\n",
       " *\n",
       " */\n",
       "\n",
       ":root {\n",
       "  --xr-font-color0: var(--jp-content-font-color0, rgba(0, 0, 0, 1));\n",
       "  --xr-font-color2: var(--jp-content-font-color2, rgba(0, 0, 0, 0.54));\n",
       "  --xr-font-color3: var(--jp-content-font-color3, rgba(0, 0, 0, 0.38));\n",
       "  --xr-border-color: var(--jp-border-color2, #e0e0e0);\n",
       "  --xr-disabled-color: var(--jp-layout-color3, #bdbdbd);\n",
       "  --xr-background-color: var(--jp-layout-color0, white);\n",
       "  --xr-background-color-row-even: var(--jp-layout-color1, white);\n",
       "  --xr-background-color-row-odd: var(--jp-layout-color2, #eeeeee);\n",
       "}\n",
       "\n",
       "html[theme=dark],\n",
       "body[data-theme=dark],\n",
       "body.vscode-dark {\n",
       "  --xr-font-color0: rgba(255, 255, 255, 1);\n",
       "  --xr-font-color2: rgba(255, 255, 255, 0.54);\n",
       "  --xr-font-color3: rgba(255, 255, 255, 0.38);\n",
       "  --xr-border-color: #1F1F1F;\n",
       "  --xr-disabled-color: #515151;\n",
       "  --xr-background-color: #111111;\n",
       "  --xr-background-color-row-even: #111111;\n",
       "  --xr-background-color-row-odd: #313131;\n",
       "}\n",
       "\n",
       ".xr-wrap {\n",
       "  display: block !important;\n",
       "  min-width: 300px;\n",
       "  max-width: 700px;\n",
       "}\n",
       "\n",
       ".xr-text-repr-fallback {\n",
       "  /* fallback to plain text repr when CSS is not injected (untrusted notebook) */\n",
       "  display: none;\n",
       "}\n",
       "\n",
       ".xr-header {\n",
       "  padding-top: 6px;\n",
       "  padding-bottom: 6px;\n",
       "  margin-bottom: 4px;\n",
       "  border-bottom: solid 1px var(--xr-border-color);\n",
       "}\n",
       "\n",
       ".xr-header > div,\n",
       ".xr-header > ul {\n",
       "  display: inline;\n",
       "  margin-top: 0;\n",
       "  margin-bottom: 0;\n",
       "}\n",
       "\n",
       ".xr-obj-type,\n",
       ".xr-array-name {\n",
       "  margin-left: 2px;\n",
       "  margin-right: 10px;\n",
       "}\n",
       "\n",
       ".xr-obj-type {\n",
       "  color: var(--xr-font-color2);\n",
       "}\n",
       "\n",
       ".xr-sections {\n",
       "  padding-left: 0 !important;\n",
       "  display: grid;\n",
       "  grid-template-columns: 150px auto auto 1fr 20px 20px;\n",
       "}\n",
       "\n",
       ".xr-section-item {\n",
       "  display: contents;\n",
       "}\n",
       "\n",
       ".xr-section-item input {\n",
       "  display: none;\n",
       "}\n",
       "\n",
       ".xr-section-item input + label {\n",
       "  color: var(--xr-disabled-color);\n",
       "}\n",
       "\n",
       ".xr-section-item input:enabled + label {\n",
       "  cursor: pointer;\n",
       "  color: var(--xr-font-color2);\n",
       "}\n",
       "\n",
       ".xr-section-item input:enabled + label:hover {\n",
       "  color: var(--xr-font-color0);\n",
       "}\n",
       "\n",
       ".xr-section-summary {\n",
       "  grid-column: 1;\n",
       "  color: var(--xr-font-color2);\n",
       "  font-weight: 500;\n",
       "}\n",
       "\n",
       ".xr-section-summary > span {\n",
       "  display: inline-block;\n",
       "  padding-left: 0.5em;\n",
       "}\n",
       "\n",
       ".xr-section-summary-in:disabled + label {\n",
       "  color: var(--xr-font-color2);\n",
       "}\n",
       "\n",
       ".xr-section-summary-in + label:before {\n",
       "  display: inline-block;\n",
       "  content: '►';\n",
       "  font-size: 11px;\n",
       "  width: 15px;\n",
       "  text-align: center;\n",
       "}\n",
       "\n",
       ".xr-section-summary-in:disabled + label:before {\n",
       "  color: var(--xr-disabled-color);\n",
       "}\n",
       "\n",
       ".xr-section-summary-in:checked + label:before {\n",
       "  content: '▼';\n",
       "}\n",
       "\n",
       ".xr-section-summary-in:checked + label > span {\n",
       "  display: none;\n",
       "}\n",
       "\n",
       ".xr-section-summary,\n",
       ".xr-section-inline-details {\n",
       "  padding-top: 4px;\n",
       "  padding-bottom: 4px;\n",
       "}\n",
       "\n",
       ".xr-section-inline-details {\n",
       "  grid-column: 2 / -1;\n",
       "}\n",
       "\n",
       ".xr-section-details {\n",
       "  display: none;\n",
       "  grid-column: 1 / -1;\n",
       "  margin-bottom: 5px;\n",
       "}\n",
       "\n",
       ".xr-section-summary-in:checked ~ .xr-section-details {\n",
       "  display: contents;\n",
       "}\n",
       "\n",
       ".xr-array-wrap {\n",
       "  grid-column: 1 / -1;\n",
       "  display: grid;\n",
       "  grid-template-columns: 20px auto;\n",
       "}\n",
       "\n",
       ".xr-array-wrap > label {\n",
       "  grid-column: 1;\n",
       "  vertical-align: top;\n",
       "}\n",
       "\n",
       ".xr-preview {\n",
       "  color: var(--xr-font-color3);\n",
       "}\n",
       "\n",
       ".xr-array-preview,\n",
       ".xr-array-data {\n",
       "  padding: 0 5px !important;\n",
       "  grid-column: 2;\n",
       "}\n",
       "\n",
       ".xr-array-data,\n",
       ".xr-array-in:checked ~ .xr-array-preview {\n",
       "  display: none;\n",
       "}\n",
       "\n",
       ".xr-array-in:checked ~ .xr-array-data,\n",
       ".xr-array-preview {\n",
       "  display: inline-block;\n",
       "}\n",
       "\n",
       ".xr-dim-list {\n",
       "  display: inline-block !important;\n",
       "  list-style: none;\n",
       "  padding: 0 !important;\n",
       "  margin: 0;\n",
       "}\n",
       "\n",
       ".xr-dim-list li {\n",
       "  display: inline-block;\n",
       "  padding: 0;\n",
       "  margin: 0;\n",
       "}\n",
       "\n",
       ".xr-dim-list:before {\n",
       "  content: '(';\n",
       "}\n",
       "\n",
       ".xr-dim-list:after {\n",
       "  content: ')';\n",
       "}\n",
       "\n",
       ".xr-dim-list li:not(:last-child):after {\n",
       "  content: ',';\n",
       "  padding-right: 5px;\n",
       "}\n",
       "\n",
       ".xr-has-index {\n",
       "  font-weight: bold;\n",
       "}\n",
       "\n",
       ".xr-var-list,\n",
       ".xr-var-item {\n",
       "  display: contents;\n",
       "}\n",
       "\n",
       ".xr-var-item > div,\n",
       ".xr-var-item label,\n",
       ".xr-var-item > .xr-var-name span {\n",
       "  background-color: var(--xr-background-color-row-even);\n",
       "  margin-bottom: 0;\n",
       "}\n",
       "\n",
       ".xr-var-item > .xr-var-name:hover span {\n",
       "  padding-right: 5px;\n",
       "}\n",
       "\n",
       ".xr-var-list > li:nth-child(odd) > div,\n",
       ".xr-var-list > li:nth-child(odd) > label,\n",
       ".xr-var-list > li:nth-child(odd) > .xr-var-name span {\n",
       "  background-color: var(--xr-background-color-row-odd);\n",
       "}\n",
       "\n",
       ".xr-var-name {\n",
       "  grid-column: 1;\n",
       "}\n",
       "\n",
       ".xr-var-dims {\n",
       "  grid-column: 2;\n",
       "}\n",
       "\n",
       ".xr-var-dtype {\n",
       "  grid-column: 3;\n",
       "  text-align: right;\n",
       "  color: var(--xr-font-color2);\n",
       "}\n",
       "\n",
       ".xr-var-preview {\n",
       "  grid-column: 4;\n",
       "}\n",
       "\n",
       ".xr-index-preview {\n",
       "  grid-column: 2 / 5;\n",
       "  color: var(--xr-font-color2);\n",
       "}\n",
       "\n",
       ".xr-var-name,\n",
       ".xr-var-dims,\n",
       ".xr-var-dtype,\n",
       ".xr-preview,\n",
       ".xr-attrs dt {\n",
       "  white-space: nowrap;\n",
       "  overflow: hidden;\n",
       "  text-overflow: ellipsis;\n",
       "  padding-right: 10px;\n",
       "}\n",
       "\n",
       ".xr-var-name:hover,\n",
       ".xr-var-dims:hover,\n",
       ".xr-var-dtype:hover,\n",
       ".xr-attrs dt:hover {\n",
       "  overflow: visible;\n",
       "  width: auto;\n",
       "  z-index: 1;\n",
       "}\n",
       "\n",
       ".xr-var-attrs,\n",
       ".xr-var-data,\n",
       ".xr-index-data {\n",
       "  display: none;\n",
       "  background-color: var(--xr-background-color) !important;\n",
       "  padding-bottom: 5px !important;\n",
       "}\n",
       "\n",
       ".xr-var-attrs-in:checked ~ .xr-var-attrs,\n",
       ".xr-var-data-in:checked ~ .xr-var-data,\n",
       ".xr-index-data-in:checked ~ .xr-index-data {\n",
       "  display: block;\n",
       "}\n",
       "\n",
       ".xr-var-data > table {\n",
       "  float: right;\n",
       "}\n",
       "\n",
       ".xr-var-name span,\n",
       ".xr-var-data,\n",
       ".xr-index-name div,\n",
       ".xr-index-data,\n",
       ".xr-attrs {\n",
       "  padding-left: 25px !important;\n",
       "}\n",
       "\n",
       ".xr-attrs,\n",
       ".xr-var-attrs,\n",
       ".xr-var-data,\n",
       ".xr-index-data {\n",
       "  grid-column: 1 / -1;\n",
       "}\n",
       "\n",
       "dl.xr-attrs {\n",
       "  padding: 0;\n",
       "  margin: 0;\n",
       "  display: grid;\n",
       "  grid-template-columns: 125px auto;\n",
       "}\n",
       "\n",
       ".xr-attrs dt,\n",
       ".xr-attrs dd {\n",
       "  padding: 0;\n",
       "  margin: 0;\n",
       "  float: left;\n",
       "  padding-right: 10px;\n",
       "  width: auto;\n",
       "}\n",
       "\n",
       ".xr-attrs dt {\n",
       "  font-weight: normal;\n",
       "  grid-column: 1;\n",
       "}\n",
       "\n",
       ".xr-attrs dt:hover span {\n",
       "  display: inline-block;\n",
       "  background: var(--xr-background-color);\n",
       "  padding-right: 10px;\n",
       "}\n",
       "\n",
       ".xr-attrs dd {\n",
       "  grid-column: 2;\n",
       "  white-space: pre-wrap;\n",
       "  word-break: break-all;\n",
       "}\n",
       "\n",
       ".xr-icon-database,\n",
       ".xr-icon-file-text2,\n",
       ".xr-no-icon {\n",
       "  display: inline-block;\n",
       "  vertical-align: middle;\n",
       "  width: 1em;\n",
       "  height: 1.5em !important;\n",
       "  stroke-width: 0;\n",
       "  stroke: currentColor;\n",
       "  fill: currentColor;\n",
       "}\n",
       "</style><pre class='xr-text-repr-fallback'>&lt;xarray.Dataset&gt;\n",
       "Dimensions:  (lat: 96, lon: 144, age: 120)\n",
       "Coordinates:\n",
       "  * lat      (lat) float32 -90.0 -88.11 -86.21 -84.32 ... 84.32 86.21 88.11 90.0\n",
       "  * lon      (lon) float32 0.0 2.5 5.0 7.5 10.0 ... 350.0 352.5 355.0 357.5\n",
       "  * age      (age) float32 100.0 300.0 500.0 ... 2.35e+04 2.37e+04 2.39e+04\n",
       "Data variables:\n",
       "    sat      (age, lat, lon) float32 ...\n",
       "    sat_std  (age, lat, lon) float32 ...</pre><div class='xr-wrap' style='display:none'><div class='xr-header'><div class='xr-obj-type'>xarray.Dataset</div></div><ul class='xr-sections'><li class='xr-section-item'><input id='section-64a72a9a-7fa3-44d2-831b-5cd79199d50e' class='xr-section-summary-in' type='checkbox' disabled ><label for='section-64a72a9a-7fa3-44d2-831b-5cd79199d50e' class='xr-section-summary'  title='Expand/collapse section'>Dimensions:</label><div class='xr-section-inline-details'><ul class='xr-dim-list'><li><span class='xr-has-index'>lat</span>: 96</li><li><span class='xr-has-index'>lon</span>: 144</li><li><span class='xr-has-index'>age</span>: 120</li></ul></div><div class='xr-section-details'></div></li><li class='xr-section-item'><input id='section-e5a1211d-116a-4c03-9699-75c1eca8e845' class='xr-section-summary-in' type='checkbox'  checked><label for='section-e5a1211d-116a-4c03-9699-75c1eca8e845' class='xr-section-summary' >Coordinates: <span>(3)</span></label><div class='xr-section-inline-details'></div><div class='xr-section-details'><ul class='xr-var-list'><li class='xr-var-item'><div class='xr-var-name'><span class='xr-has-index'>lat</span></div><div class='xr-var-dims'>(lat)</div><div class='xr-var-dtype'>float32</div><div class='xr-var-preview xr-preview'>-90.0 -88.11 -86.21 ... 88.11 90.0</div><input id='attrs-205b7699-d0ba-4b0b-a24a-f0e6530d953d' class='xr-var-attrs-in' type='checkbox' ><label for='attrs-205b7699-d0ba-4b0b-a24a-f0e6530d953d' title='Show/Hide attributes'><svg class='icon xr-icon-file-text2'><use xlink:href='#icon-file-text2'></use></svg></label><input id='data-4b46be90-feae-45dc-b27e-618c3f1f6eae' class='xr-var-data-in' type='checkbox'><label for='data-4b46be90-feae-45dc-b27e-618c3f1f6eae' title='Show/Hide data repr'><svg class='icon xr-icon-database'><use xlink:href='#icon-database'></use></svg></label><div class='xr-var-attrs'><dl class='xr-attrs'><dt><span>FillValue :</span></dt><dd>9.969209968386869e+36</dd><dt><span>long_name :</span></dt><dd>vector latitudes</dd><dt><span>units :</span></dt><dd>degrees_north</dd></dl></div><div class='xr-var-data'><pre>array([-90.      , -88.10526 , -86.210526, -84.31579 , -82.42105 , -80.52631 ,\n",
       "       -78.63158 , -76.73684 , -74.8421  , -72.947365, -71.052635, -69.1579  ,\n",
       "       -67.26316 , -65.36842 , -63.473682, -61.57895 , -59.68421 , -57.789474,\n",
       "       -55.894737, -54.      , -52.105263, -50.210526, -48.31579 , -46.42105 ,\n",
       "       -44.526318, -42.63158 , -40.736843, -38.842106, -36.94737 , -35.05263 ,\n",
       "       -33.157894, -31.263159, -29.368422, -27.473684, -25.578947, -23.68421 ,\n",
       "       -21.789474, -19.894737, -18.      , -16.105263, -14.210526, -12.315789,\n",
       "       -10.421053,  -8.526316,  -6.631579,  -4.736842,  -2.842105,  -0.947368,\n",
       "         0.947368,   2.842105,   4.736842,   6.631579,   8.526316,  10.421053,\n",
       "        12.315789,  14.210526,  16.105263,  18.      ,  19.894737,  21.789474,\n",
       "        23.68421 ,  25.578947,  27.473684,  29.368422,  31.263159,  33.157894,\n",
       "        35.05263 ,  36.94737 ,  38.842106,  40.736843,  42.63158 ,  44.526318,\n",
       "        46.42105 ,  48.31579 ,  50.210526,  52.105263,  54.      ,  55.894737,\n",
       "        57.789474,  59.68421 ,  61.57895 ,  63.473682,  65.36842 ,  67.26316 ,\n",
       "        69.1579  ,  71.052635,  72.947365,  74.8421  ,  76.73684 ,  78.63158 ,\n",
       "        80.52631 ,  82.42105 ,  84.31579 ,  86.210526,  88.10526 ,  90.      ],\n",
       "      dtype=float32)</pre></div></li><li class='xr-var-item'><div class='xr-var-name'><span class='xr-has-index'>lon</span></div><div class='xr-var-dims'>(lon)</div><div class='xr-var-dtype'>float32</div><div class='xr-var-preview xr-preview'>0.0 2.5 5.0 ... 352.5 355.0 357.5</div><input id='attrs-4b4f6313-23b1-4f99-b8be-57fb0462a951' class='xr-var-attrs-in' type='checkbox' ><label for='attrs-4b4f6313-23b1-4f99-b8be-57fb0462a951' title='Show/Hide attributes'><svg class='icon xr-icon-file-text2'><use xlink:href='#icon-file-text2'></use></svg></label><input id='data-95efd39a-4f90-453f-afb7-d9fe14ea794e' class='xr-var-data-in' type='checkbox'><label for='data-95efd39a-4f90-453f-afb7-d9fe14ea794e' title='Show/Hide data repr'><svg class='icon xr-icon-database'><use xlink:href='#icon-database'></use></svg></label><div class='xr-var-attrs'><dl class='xr-attrs'><dt><span>FillValue :</span></dt><dd>9.969209968386869e+36</dd><dt><span>long_name :</span></dt><dd>vector of longitudes</dd><dt><span>units :</span></dt><dd>degrees_east</dd></dl></div><div class='xr-var-data'><pre>array([  0. ,   2.5,   5. ,   7.5,  10. ,  12.5,  15. ,  17.5,  20. ,  22.5,\n",
       "        25. ,  27.5,  30. ,  32.5,  35. ,  37.5,  40. ,  42.5,  45. ,  47.5,\n",
       "        50. ,  52.5,  55. ,  57.5,  60. ,  62.5,  65. ,  67.5,  70. ,  72.5,\n",
       "        75. ,  77.5,  80. ,  82.5,  85. ,  87.5,  90. ,  92.5,  95. ,  97.5,\n",
       "       100. , 102.5, 105. , 107.5, 110. , 112.5, 115. , 117.5, 120. , 122.5,\n",
       "       125. , 127.5, 130. , 132.5, 135. , 137.5, 140. , 142.5, 145. , 147.5,\n",
       "       150. , 152.5, 155. , 157.5, 160. , 162.5, 165. , 167.5, 170. , 172.5,\n",
       "       175. , 177.5, 180. , 182.5, 185. , 187.5, 190. , 192.5, 195. , 197.5,\n",
       "       200. , 202.5, 205. , 207.5, 210. , 212.5, 215. , 217.5, 220. , 222.5,\n",
       "       225. , 227.5, 230. , 232.5, 235. , 237.5, 240. , 242.5, 245. , 247.5,\n",
       "       250. , 252.5, 255. , 257.5, 260. , 262.5, 265. , 267.5, 270. , 272.5,\n",
       "       275. , 277.5, 280. , 282.5, 285. , 287.5, 290. , 292.5, 295. , 297.5,\n",
       "       300. , 302.5, 305. , 307.5, 310. , 312.5, 315. , 317.5, 320. , 322.5,\n",
       "       325. , 327.5, 330. , 332.5, 335. , 337.5, 340. , 342.5, 345. , 347.5,\n",
       "       350. , 352.5, 355. , 357.5], dtype=float32)</pre></div></li><li class='xr-var-item'><div class='xr-var-name'><span class='xr-has-index'>age</span></div><div class='xr-var-dims'>(age)</div><div class='xr-var-dtype'>float32</div><div class='xr-var-preview xr-preview'>100.0 300.0 ... 2.37e+04 2.39e+04</div><input id='attrs-875720e8-6c9f-4c0e-acf4-49d0e189f4c9' class='xr-var-attrs-in' type='checkbox' ><label for='attrs-875720e8-6c9f-4c0e-acf4-49d0e189f4c9' title='Show/Hide attributes'><svg class='icon xr-icon-file-text2'><use xlink:href='#icon-file-text2'></use></svg></label><input id='data-30791022-1491-4837-b2e9-9983f64dc9c6' class='xr-var-data-in' type='checkbox'><label for='data-30791022-1491-4837-b2e9-9983f64dc9c6' title='Show/Hide data repr'><svg class='icon xr-icon-database'><use xlink:href='#icon-database'></use></svg></label><div class='xr-var-attrs'><dl class='xr-attrs'><dt><span>long_name :</span></dt><dd>reconstruction bin mid-point (years BP)</dd></dl></div><div class='xr-var-data'><pre>array([  100.,   300.,   500.,   700.,   900.,  1100.,  1300.,  1500.,  1700.,\n",
       "        1900.,  2100.,  2300.,  2500.,  2700.,  2900.,  3100.,  3300.,  3500.,\n",
       "        3700.,  3900.,  4100.,  4300.,  4500.,  4700.,  4900.,  5100.,  5300.,\n",
       "        5500.,  5700.,  5900.,  6100.,  6300.,  6500.,  6700.,  6900.,  7100.,\n",
       "        7300.,  7500.,  7700.,  7900.,  8100.,  8300.,  8500.,  8700.,  8900.,\n",
       "        9100.,  9300.,  9500.,  9700.,  9900., 10100., 10300., 10500., 10700.,\n",
       "       10900., 11100., 11300., 11500., 11700., 11900., 12100., 12300., 12500.,\n",
       "       12700., 12900., 13100., 13300., 13500., 13700., 13900., 14100., 14300.,\n",
       "       14500., 14700., 14900., 15100., 15300., 15500., 15700., 15900., 16100.,\n",
       "       16300., 16500., 16700., 16900., 17100., 17300., 17500., 17700., 17900.,\n",
       "       18100., 18300., 18500., 18700., 18900., 19100., 19300., 19500., 19700.,\n",
       "       19900., 20100., 20300., 20500., 20700., 20900., 21100., 21300., 21500.,\n",
       "       21700., 21900., 22100., 22300., 22500., 22700., 22900., 23100., 23300.,\n",
       "       23500., 23700., 23900.], dtype=float32)</pre></div></li></ul></div></li><li class='xr-section-item'><input id='section-7e3b2420-e7d4-40e0-87dc-90b50d42789a' class='xr-section-summary-in' type='checkbox'  checked><label for='section-7e3b2420-e7d4-40e0-87dc-90b50d42789a' class='xr-section-summary' >Data variables: <span>(2)</span></label><div class='xr-section-inline-details'></div><div class='xr-section-details'><ul class='xr-var-list'><li class='xr-var-item'><div class='xr-var-name'><span>sat</span></div><div class='xr-var-dims'>(age, lat, lon)</div><div class='xr-var-dtype'>float32</div><div class='xr-var-preview xr-preview'>...</div><input id='attrs-3855c84e-3a37-4340-92e0-990e4d50043c' class='xr-var-attrs-in' type='checkbox' ><label for='attrs-3855c84e-3a37-4340-92e0-990e4d50043c' title='Show/Hide attributes'><svg class='icon xr-icon-file-text2'><use xlink:href='#icon-file-text2'></use></svg></label><input id='data-dca0ed54-d27b-4d8b-9c1b-9920490028fd' class='xr-var-data-in' type='checkbox'><label for='data-dca0ed54-d27b-4d8b-9c1b-9920490028fd' title='Show/Hide data repr'><svg class='icon xr-icon-database'><use xlink:href='#icon-database'></use></svg></label><div class='xr-var-attrs'><dl class='xr-attrs'><dt><span>FillValue :</span></dt><dd>9.969209968386869e+36</dd><dt><span>long_name :</span></dt><dd>ENSEMBLE MEAN (n = 500) mean annual temperature at reference height</dd><dt><span>units :</span></dt><dd>degrees Celsius</dd></dl></div><div class='xr-var-data'><pre>[1658880 values with dtype=float32]</pre></div></li><li class='xr-var-item'><div class='xr-var-name'><span>sat_std</span></div><div class='xr-var-dims'>(age, lat, lon)</div><div class='xr-var-dtype'>float32</div><div class='xr-var-preview xr-preview'>...</div><input id='attrs-c69a61ca-ca4d-46c6-9c3c-f4796d0d297d' class='xr-var-attrs-in' type='checkbox' ><label for='attrs-c69a61ca-ca4d-46c6-9c3c-f4796d0d297d' title='Show/Hide attributes'><svg class='icon xr-icon-file-text2'><use xlink:href='#icon-file-text2'></use></svg></label><input id='data-272b37f9-9257-4121-a233-57808d56272c' class='xr-var-data-in' type='checkbox'><label for='data-272b37f9-9257-4121-a233-57808d56272c' title='Show/Hide data repr'><svg class='icon xr-icon-database'><use xlink:href='#icon-database'></use></svg></label><div class='xr-var-attrs'><dl class='xr-attrs'><dt><span>FillValue :</span></dt><dd>9.969209968386869e+36</dd><dt><span>long_name :</span></dt><dd>ENSEMBLE STANDARD DEVIATION (n = 500) mean annual temperature at reference height</dd><dt><span>units :</span></dt><dd>degrees Celsius</dd></dl></div><div class='xr-var-data'><pre>[1658880 values with dtype=float32]</pre></div></li></ul></div></li><li class='xr-section-item'><input id='section-1b815fa3-237f-4f07-bdf7-813e81aaba58' class='xr-section-summary-in' type='checkbox'  ><label for='section-1b815fa3-237f-4f07-bdf7-813e81aaba58' class='xr-section-summary' >Indexes: <span>(3)</span></label><div class='xr-section-inline-details'></div><div class='xr-section-details'><ul class='xr-var-list'><li class='xr-var-item'><div class='xr-index-name'><div>lat</div></div><div class='xr-index-preview'>PandasIndex</div><div></div><input id='index-4253f45f-d042-47f4-9bff-8447eb3d84ba' class='xr-index-data-in' type='checkbox'/><label for='index-4253f45f-d042-47f4-9bff-8447eb3d84ba' title='Show/Hide index repr'><svg class='icon xr-icon-database'><use xlink:href='#icon-database'></use></svg></label><div class='xr-index-data'><pre>PandasIndex(Float64Index([              -90.0,  -88.10526275634766,  -86.21052551269531,\n",
       "               -84.31578826904297,  -82.42105102539062,  -80.52631378173828,\n",
       "               -78.63157653808594,   -76.7368392944336,  -74.84210205078125,\n",
       "                -72.9473648071289,   -71.0526351928711,  -69.15789794921875,\n",
       "                -67.2631607055664,  -65.36842346191406,  -63.47368240356445,\n",
       "              -61.578948974609375,  -59.68421173095703,  -57.78947448730469,\n",
       "              -55.894737243652344,               -54.0, -52.105262756347656,\n",
       "               -50.21052551269531,  -48.31578826904297, -46.421051025390625,\n",
       "               -44.52631759643555,   -42.6315803527832,  -40.73684310913086,\n",
       "              -38.842105865478516,  -36.94736862182617,  -35.05263137817383,\n",
       "              -33.157894134521484, -31.263158798217773,  -29.36842155456543,\n",
       "              -27.473684310913086, -25.578947067260742,   -23.6842098236084,\n",
       "              -21.789474487304688, -19.894737243652344,               -18.0,\n",
       "              -16.105262756347656, -14.210526466369629, -12.315789222717285,\n",
       "              -10.421052932739258,  -8.526315689086914, -6.6315789222717285,\n",
       "               -4.736842155456543, -2.8421051502227783, -0.9473684430122375,\n",
       "               0.9473684430122375,  2.8421051502227783,   4.736842155456543,\n",
       "               6.6315789222717285,   8.526315689086914,  10.421052932739258,\n",
       "               12.315789222717285,  14.210526466369629,  16.105262756347656,\n",
       "                             18.0,  19.894737243652344,  21.789474487304688,\n",
       "                 23.6842098236084,  25.578947067260742,  27.473684310913086,\n",
       "                29.36842155456543,  31.263158798217773,  33.157894134521484,\n",
       "                35.05263137817383,   36.94736862182617,  38.842105865478516,\n",
       "                40.73684310913086,    42.6315803527832,   44.52631759643555,\n",
       "               46.421051025390625,   48.31578826904297,   50.21052551269531,\n",
       "               52.105262756347656,                54.0,  55.894737243652344,\n",
       "                57.78947448730469,   59.68421173095703,  61.578948974609375,\n",
       "                63.47368240356445,   65.36842346191406,    67.2631607055664,\n",
       "                69.15789794921875,    71.0526351928711,    72.9473648071289,\n",
       "                74.84210205078125,    76.7368392944336,   78.63157653808594,\n",
       "                80.52631378173828,   82.42105102539062,   84.31578826904297,\n",
       "                86.21052551269531,   88.10526275634766,                90.0],\n",
       "             dtype=&#x27;float64&#x27;, name=&#x27;lat&#x27;))</pre></div></li><li class='xr-var-item'><div class='xr-index-name'><div>lon</div></div><div class='xr-index-preview'>PandasIndex</div><div></div><input id='index-7f96b591-8d34-4586-9b3f-64ca294e7621' class='xr-index-data-in' type='checkbox'/><label for='index-7f96b591-8d34-4586-9b3f-64ca294e7621' title='Show/Hide index repr'><svg class='icon xr-icon-database'><use xlink:href='#icon-database'></use></svg></label><div class='xr-index-data'><pre>PandasIndex(Float64Index([  0.0,   2.5,   5.0,   7.5,  10.0,  12.5,  15.0,  17.5,  20.0,\n",
       "               22.5,\n",
       "              ...\n",
       "              335.0, 337.5, 340.0, 342.5, 345.0, 347.5, 350.0, 352.5, 355.0,\n",
       "              357.5],\n",
       "             dtype=&#x27;float64&#x27;, name=&#x27;lon&#x27;, length=144))</pre></div></li><li class='xr-var-item'><div class='xr-index-name'><div>age</div></div><div class='xr-index-preview'>PandasIndex</div><div></div><input id='index-f518ed05-1fc3-43c7-9bbb-d1d5651d332c' class='xr-index-data-in' type='checkbox'/><label for='index-f518ed05-1fc3-43c7-9bbb-d1d5651d332c' title='Show/Hide index repr'><svg class='icon xr-icon-database'><use xlink:href='#icon-database'></use></svg></label><div class='xr-index-data'><pre>PandasIndex(Float64Index([  100.0,   300.0,   500.0,   700.0,   900.0,  1100.0,  1300.0,\n",
       "               1500.0,  1700.0,  1900.0,\n",
       "              ...\n",
       "              22100.0, 22300.0, 22500.0, 22700.0, 22900.0, 23100.0, 23300.0,\n",
       "              23500.0, 23700.0, 23900.0],\n",
       "             dtype=&#x27;float64&#x27;, name=&#x27;age&#x27;, length=120))</pre></div></li></ul></div></li><li class='xr-section-item'><input id='section-559b8d2e-7be2-4403-8105-b37524f558f2' class='xr-section-summary-in' type='checkbox' disabled ><label for='section-559b8d2e-7be2-4403-8105-b37524f558f2' class='xr-section-summary'  title='Expand/collapse section'>Attributes: <span>(0)</span></label><div class='xr-section-inline-details'></div><div class='xr-section-details'><dl class='xr-attrs'></dl></div></li></ul></div></div>"
      ],
      "text/plain": [
       "<xarray.Dataset>\n",
       "Dimensions:  (lat: 96, lon: 144, age: 120)\n",
       "Coordinates:\n",
       "  * lat      (lat) float32 -90.0 -88.11 -86.21 -84.32 ... 84.32 86.21 88.11 90.0\n",
       "  * lon      (lon) float32 0.0 2.5 5.0 7.5 10.0 ... 350.0 352.5 355.0 357.5\n",
       "  * age      (age) float32 100.0 300.0 500.0 ... 2.35e+04 2.37e+04 2.39e+04\n",
       "Data variables:\n",
       "    sat      (age, lat, lon) float32 ...\n",
       "    sat_std  (age, lat, lon) float32 ..."
      ]
     },
     "execution_count": 9,
     "metadata": {},
     "output_type": "execute_result"
    }
   ],
   "source": [
    "ds_sat"
   ]
  },
  {
   "cell_type": "code",
   "execution_count": 10,
   "metadata": {},
   "outputs": [
    {
     "name": "stderr",
     "output_type": "stream",
     "text": [
      "d:\\Users\\User\\anaconda3\\envs\\pz_venv_causal\\lib\\site-packages\\xarray\\coding\\variables.py:147: FutureWarning:\n",
      "\n",
      "elementwise comparison failed; returning scalar instead, but in the future will perform elementwise comparison\n",
      "\n"
     ]
    },
    {
     "data": {
      "text/plain": [
       "[<matplotlib.lines.Line2D at 0x2cdd3417340>]"
      ]
     },
     "execution_count": 10,
     "metadata": {},
     "output_type": "execute_result"
    },
    {
     "data": {
      "image/png": "[encoded data removed]",
      "text/plain": [
       "<Figure size 640x480 with 1 Axes>"
      ]
     },
     "metadata": {},
     "output_type": "display_data"
    }
   ],
   "source": [
    "# plot any sat from the ds_sat\n",
    "\n",
    "import matplotlib.pyplot as plt\n",
    "import numpy as np\n",
    "\n",
    "plt.plot(ds_sat['sat'].isel(lat=80).isel(lon=0).values)"
   ]
  },
  {
   "cell_type": "code",
   "execution_count": 12,
   "metadata": {},
   "outputs": [
    {
     "data": {
      "text/plain": [
       "[<matplotlib.lines.Line2D at 0x2cdd3491d60>]"
      ]
     },
     "execution_count": 12,
     "metadata": {},
     "output_type": "execute_result"
    },
    {
     "data": {
      "image/png": "[encoded data removed]",
      "text/plain": [
       "<Figure size 640x480 with 1 Axes>"
      ]
     },
     "metadata": {},
     "output_type": "display_data"
    }
   ],
   "source": [
    "# plot df_pre\n",
    "plt.plot(df_pre['pre'].values)\n",
    "\n",
    "# print(df_pre['pre'].values)"
   ]
  },
  {
   "cell_type": "code",
   "execution_count": 2,
   "metadata": {},
   "outputs": [
    {
     "name": "stderr",
     "output_type": "stream",
     "text": [
      "d:\\Users\\User\\anaconda3\\envs\\pz_venv_causal\\lib\\site-packages\\xarray\\coding\\variables.py:147: FutureWarning: elementwise comparison failed; returning scalar instead, but in the future will perform elementwise comparison\n",
      "  condition |= data == fv\n",
      "d:\\Users\\User\\anaconda3\\envs\\pz_venv_causal\\lib\\site-packages\\xarray\\coding\\variables.py:147: FutureWarning: elementwise comparison failed; returning scalar instead, but in the future will perform elementwise comparison\n",
      "  condition |= data == fv\n",
      "d:\\Users\\User\\anaconda3\\envs\\pz_venv_causal\\lib\\site-packages\\xarray\\coding\\variables.py:147: FutureWarning: elementwise comparison failed; returning scalar instead, but in the future will perform elementwise comparison\n",
      "  condition |= data == fv\n",
      "d:\\Users\\User\\anaconda3\\envs\\pz_venv_causal\\lib\\site-packages\\xarray\\coding\\variables.py:147: FutureWarning: elementwise comparison failed; returning scalar instead, but in the future will perform elementwise comparison\n",
      "  condition |= data == fv\n",
      "d:\\Users\\User\\anaconda3\\envs\\pz_venv_causal\\lib\\site-packages\\xarray\\coding\\variables.py:147: FutureWarning: elementwise comparison failed; returning scalar instead, but in the future will perform elementwise comparison\n",
      "  condition |= data == fv\n",
      "d:\\Users\\User\\anaconda3\\envs\\pz_venv_causal\\lib\\site-packages\\xarray\\coding\\variables.py:147: FutureWarning: elementwise comparison failed; returning scalar instead, but in the future will perform elementwise comparison\n",
      "  condition |= data == fv\n",
      "d:\\Users\\User\\anaconda3\\envs\\pz_venv_causal\\lib\\site-packages\\xarray\\coding\\variables.py:147: FutureWarning: elementwise comparison failed; returning scalar instead, but in the future will perform elementwise comparison\n",
      "  condition |= data == fv\n",
      "d:\\Users\\User\\anaconda3\\envs\\pz_venv_causal\\lib\\site-packages\\xarray\\coding\\variables.py:147: FutureWarning: elementwise comparison failed; returning scalar instead, but in the future will perform elementwise comparison\n",
      "  condition |= data == fv\n",
      "d:\\Users\\User\\anaconda3\\envs\\pz_venv_causal\\lib\\site-packages\\xarray\\coding\\variables.py:147: FutureWarning: elementwise comparison failed; returning scalar instead, but in the future will perform elementwise comparison\n",
      "  condition |= data == fv\n",
      "d:\\Users\\User\\anaconda3\\envs\\pz_venv_causal\\lib\\site-packages\\xarray\\coding\\variables.py:147: FutureWarning: elementwise comparison failed; returning scalar instead, but in the future will perform elementwise comparison\n",
      "  condition |= data == fv\n"
     ]
    },
    {
     "data": {
      "application/vnd.plotly.v1+json": {
       "config": {
        "plotlyServerURL": "https://plot.ly"
       },
       "data": [
        {
         "cmax": 0.9922926648498305,
         "cmin": 0.6200870922991173,
         "colorbar": {
          "len": 0.3,
          "title": {
           "side": "right",
           "text": "rho"
          },
          "x": 1.02
         },
         "colorscale": [
          [
           0,
           "#440154"
          ],
          [
           0.1111111111111111,
           "#482878"
          ],
          [
           0.2222222222222222,
           "#3e4989"
          ],
          [
           0.3333333333333333,
           "#31688e"
          ],
          [
           0.4444444444444444,
           "#26828e"
          ],
          [
           0.5555555555555556,
           "#1f9e89"
          ],
          [
           0.6666666666666666,
           "#35b779"
          ],
          [
           0.7777777777777778,
           "#6ece58"
          ],
          [
           0.8888888888888888,
           "#b5de2b"
          ],
          [
           1,
           "#fde725"
          ]
         ],
         "scene": "scene",
         "showscale": true,
         "type": "surface",
         "x": [
          [
           1,
           1,
           1,
           1,
           1,
           1,
           1,
           1,
           1,
           1
          ],
          [
           2,
           2,
           2,
           2,
           2,
           2,
           2,
           2,
           2,
           2
          ],
          [
           3,
           3,
           3,
           3,
           3,
           3,
           3,
           3,
           3,
           3
          ],
          [
           4,
           4,
           4,
           4,
           4,
           4,
           4,
           4,
           4,
           4
          ],
          [
           5,
           5,
           5,
           5,
           5,
           5,
           5,
           5,
           5,
           5
          ]
         ],
         "y": [
          [
           1,
           2,
           3,
           4,
           5,
           6,
           7,
           8,
           9,
           10
          ],
          [
           1,
           2,
           3,
           4,
           5,
           6,
           7,
           8,
           9,
           10
          ],
          [
           1,
           2,
           3,
           4,
           5,
           6,
           7,
           8,
           9,
           10
          ],
          [
           1,
           2,
           3,
           4,
           5,
           6,
           7,
           8,
           9,
           10
          ],
          [
           1,
           2,
           3,
           4,
           5,
           6,
           7,
           8,
           9,
           10
          ]
         ],
         "z": [
          [
           0.7229170679559129,
           0.7229170679559129,
           0.7229170679559129,
           0.7229170679559129,
           0.7229170679559129,
           0.7229170679559129,
           0.7229170679559129,
           0.7229170679559129,
           0.7229170679559129,
           0.7229170679559129
          ],
          [
           0.88521790601792,
           0.9405197239742313,
           0.932060944376842,
           0.89988955535017,
           0.88184540973661,
           0.8762980402826602,
           0.8486427841841855,
           0.8533514403476056,
           0.8720505624925511,
           0.8697880671907156
          ],
          [
           0.9156550297330593,
           0.9012636061017949,
           0.8599516016854037,
           0.8535407894173481,
           0.848224537099501,
           0.8330317107889218,
           0.8062258838147756,
           0.8167799949057061,
           0.8670974503471813,
           0.8128006952966039
          ],
          [
           0.899732634313435,
           0.8572272613984613,
           0.8517230756232846,
           0.8230460404311938,
           0.7839751531600869,
           0.8033191965371,
           0.7685963994190234,
           0.7327631304388649,
           0.7398630355885312,
           0.7863667028020658
          ],
          [
           0.8754121193588651,
           0.8414413044574655,
           0.8130337343431343,
           0.765763618346262,
           0.7615634467682685,
           0.7251003475178702,
           0.7498354595528092,
           0.8313281840158561,
           0.9075620176578771,
           0.9315918289540189
          ]
         ]
        },
        {
         "cmax": 0.9922926648498305,
         "cmin": 0.6200870922991173,
         "colorscale": [
          [
           0,
           "#440154"
          ],
          [
           0.1111111111111111,
           "#482878"
          ],
          [
           0.2222222222222222,
           "#3e4989"
          ],
          [
           0.3333333333333333,
           "#31688e"
          ],
          [
           0.4444444444444444,
           "#26828e"
          ],
          [
           0.5555555555555556,
           "#1f9e89"
          ],
          [
           0.6666666666666666,
           "#35b779"
          ],
          [
           0.7777777777777778,
           "#6ece58"
          ],
          [
           0.8888888888888888,
           "#b5de2b"
          ],
          [
           1,
           "#fde725"
          ]
         ],
         "scene": "scene2",
         "showscale": false,
         "type": "surface",
         "x": [
          [
           1,
           1,
           1,
           1,
           1,
           1,
           1,
           1,
           1,
           1
          ],
          [
           2,
           2,
           2,
           2,
           2,
           2,
           2,
           2,
           2,
           2
          ],
          [
           3,
           3,
           3,
           3,
           3,
           3,
           3,
           3,
           3,
           3
          ],
          [
           4,
           4,
           4,
           4,
           4,
           4,
           4,
           4,
           4,
           4
          ],
          [
           5,
           5,
           5,
           5,
           5,
           5,
           5,
           5,
           5,
           5
          ]
         ],
         "y": [
          [
           1,
           2,
           3,
           4,
           5,
           6,
           7,
           8,
           9,
           10
          ],
          [
           1,
           2,
           3,
           4,
           5,
           6,
           7,
           8,
           9,
           10
          ],
          [
           1,
           2,
           3,
           4,
           5,
           6,
           7,
           8,
           9,
           10
          ],
          [
           1,
           2,
           3,
           4,
           5,
           6,
           7,
           8,
           9,
           10
          ],
          [
           1,
           2,
           3,
           4,
           5,
           6,
           7,
           8,
           9,
           10
          ]
         ],
         "z": [
          [
           0.6200870922991173,
           0.6200870922991173,
           0.6200870922991173,
           0.6200870922991173,
           0.6200870922991173,
           0.6200870922991173,
           0.6200870922991173,
           0.6200870922991173,
           0.6200870922991173,
           0.6200870922991173
          ],
          [
           0.7872740543758342,
           0.8609472694091054,
           0.9163760280494049,
           0.9400248698154083,
           0.9518809024527491,
           0.9366624267050694,
           0.9588789073412572,
           0.9718162652402372,
           0.9725864097591214,
           0.9729485831542193
          ],
          [
           0.8527813009632901,
           0.9420245108482123,
           0.9653911879042851,
           0.9798921278507358,
           0.9763290739839113,
           0.9719075318770054,
           0.9569946762440353,
           0.9185912197676458,
           0.8741162612702519,
           0.8192297734802467
          ],
          [
           0.8964398139507539,
           0.9663858049179047,
           0.9753338279136973,
           0.9701676612078275,
           0.93771898761169,
           0.8694781424851529,
           0.7844199675191652,
           0.7334576571840243,
           0.7403536246758975,
           0.7867233051224043
          ],
          [
           0.9360344780181463,
           0.976921736076432,
           0.9650522458688224,
           0.9140614272473692,
           0.8038684223980747,
           0.7276137970255366,
           0.7508552457336742,
           0.8304698481179559,
           0.9075321814373578,
           0.9319697872595293
          ]
         ]
        },
        {
         "cmax": 0.9922926648498305,
         "cmin": 0.6200870922991173,
         "colorscale": [
          [
           0,
           "#440154"
          ],
          [
           0.1111111111111111,
           "#482878"
          ],
          [
           0.2222222222222222,
           "#3e4989"
          ],
          [
           0.3333333333333333,
           "#31688e"
          ],
          [
           0.4444444444444444,
           "#26828e"
          ],
          [
           0.5555555555555556,
           "#1f9e89"
          ],
          [
           0.6666666666666666,
           "#35b779"
          ],
          [
           0.7777777777777778,
           "#6ece58"
          ],
          [
           0.8888888888888888,
           "#b5de2b"
          ],
          [
           1,
           "#fde725"
          ]
         ],
         "scene": "scene3",
         "showscale": false,
         "type": "surface",
         "x": [
          [
           1,
           1,
           1,
           1,
           1,
           1,
           1,
           1,
           1,
           1
          ],
          [
           2,
           2,
           2,
           2,
           2,
           2,
           2,
           2,
           2,
           2
          ],
          [
           3,
           3,
           3,
           3,
           3,
           3,
           3,
           3,
           3,
           3
          ],
          [
           4,
           4,
           4,
           4,
           4,
           4,
           4,
           4,
           4,
           4
          ],
          [
           5,
           5,
           5,
           5,
           5,
           5,
           5,
           5,
           5,
           5
          ]
         ],
         "y": [
          [
           1,
           2,
           3,
           4,
           5,
           6,
           7,
           8,
           9,
           10
          ],
          [
           1,
           2,
           3,
           4,
           5,
           6,
           7,
           8,
           9,
           10
          ],
          [
           1,
           2,
           3,
           4,
           5,
           6,
           7,
           8,
           9,
           10
          ],
          [
           1,
           2,
           3,
           4,
           5,
           6,
           7,
           8,
           9,
           10
          ],
          [
           1,
           2,
           3,
           4,
           5,
           6,
           7,
           8,
           9,
           10
          ]
         ],
         "z": [
          [
           0.8256005875818885,
           0.8256005875818885,
           0.8256005875818885,
           0.8256005875818885,
           0.8256005875818885,
           0.8256005875818885,
           0.8256005875818885,
           0.8256005875818885,
           0.8256005875818885,
           0.8256005875818885
          ],
          [
           0.8579889035351892,
           0.9226478952811845,
           0.9450555576000415,
           0.9502454047991576,
           0.9673463303713699,
           0.9690208758589338,
           0.9732388507925511,
           0.9721094168294094,
           0.9677771419151247,
           0.9551699817509061
          ],
          [
           0.9058744571823655,
           0.9419610007440361,
           0.960825329023481,
           0.9911359289051758,
           0.9849288866068593,
           0.9684779065286704,
           0.9391746221658143,
           0.9152624866982351,
           0.8698956129432198,
           0.8107436256642496
          ],
          [
           0.9173993482712459,
           0.94896009779507,
           0.9922926648498305,
           0.9777493115736806,
           0.9400277256844947,
           0.8712172569340076,
           0.7783933736061043,
           0.7303691210221295,
           0.7359312867308859,
           0.7824548825420701
          ],
          [
           0.9238399365750107,
           0.9837252783951705,
           0.9782468618279347,
           0.9161596114869119,
           0.8042035140013188,
           0.7230338119327958,
           0.746634714521101,
           0.827937777703167,
           0.9059956577804099,
           0.9301363898532935
          ]
         ]
        },
        {
         "cmax": 0.9922926648498305,
         "cmin": 0.6200870922991173,
         "colorscale": [
          [
           0,
           "#440154"
          ],
          [
           0.1111111111111111,
           "#482878"
          ],
          [
           0.2222222222222222,
           "#3e4989"
          ],
          [
           0.3333333333333333,
           "#31688e"
          ],
          [
           0.4444444444444444,
           "#26828e"
          ],
          [
           0.5555555555555556,
           "#1f9e89"
          ],
          [
           0.6666666666666666,
           "#35b779"
          ],
          [
           0.7777777777777778,
           "#6ece58"
          ],
          [
           0.8888888888888888,
           "#b5de2b"
          ],
          [
           1,
           "#fde725"
          ]
         ],
         "scene": "scene4",
         "showscale": false,
         "type": "surface",
         "x": [
          [
           1,
           1,
           1,
           1,
           1,
           1,
           1,
           1,
           1,
           1
          ],
          [
           2,
           2,
           2,
           2,
           2,
           2,
           2,
           2,
           2,
           2
          ],
          [
           3,
           3,
           3,
           3,
           3,
           3,
           3,
           3,
           3,
           3
          ],
          [
           4,
           4,
           4,
           4,
           4,
           4,
           4,
           4,
           4,
           4
          ],
          [
           5,
           5,
           5,
           5,
           5,
           5,
           5,
           5,
           5,
           5
          ]
         ],
         "y": [
          [
           1,
           2,
           3,
           4,
           5,
           6,
           7,
           8,
           9,
           10
          ],
          [
           1,
           2,
           3,
           4,
           5,
           6,
           7,
           8,
           9,
           10
          ],
          [
           1,
           2,
           3,
           4,
           5,
           6,
           7,
           8,
           9,
           10
          ],
          [
           1,
           2,
           3,
           4,
           5,
           6,
           7,
           8,
           9,
           10
          ],
          [
           1,
           2,
           3,
           4,
           5,
           6,
           7,
           8,
           9,
           10
          ]
         ],
         "z": [
          [
           0.7164322003421443,
           0.7164322003421443,
           0.7164322003421443,
           0.7164322003421443,
           0.7164322003421443,
           0.7164322003421443,
           0.7164322003421443,
           0.7164322003421443,
           0.7164322003421443,
           0.7164322003421443
          ],
          [
           0.7481610093899261,
           0.8409755799022055,
           0.8306219322843489,
           0.8570562744063276,
           0.8846321639175951,
           0.9045574989045444,
           0.8998590468762504,
           0.9182236246187304,
           0.9036963582740101,
           0.8930527545640741
          ],
          [
           0.79691593343368,
           0.8768047729904005,
           0.9230915025242286,
           0.9390188638665609,
           0.920658415490956,
           0.9275579024805649,
           0.8970792195339264,
           0.879191851917763,
           0.8508129108941599,
           0.7858155712536679
          ],
          [
           0.8331073658612113,
           0.940707166340778,
           0.9609029689655325,
           0.9527178523326822,
           0.9177254769269454,
           0.858843872767035,
           0.7606116476251097,
           0.7204981731926466,
           0.7339889467468108,
           0.7793483728927302
          ],
          [
           0.865999531540638,
           0.9641366755327805,
           0.9620818129732222,
           0.9048375669725166,
           0.7841419238448339,
           0.71978321321742,
           0.7442873828831098,
           0.8276809263686159,
           0.9054688102705126,
           0.9297835630781024
          ]
         ]
        },
        {
         "cmax": 0.9922926648498305,
         "cmin": 0.6200870922991173,
         "colorscale": [
          [
           0,
           "#440154"
          ],
          [
           0.1111111111111111,
           "#482878"
          ],
          [
           0.2222222222222222,
           "#3e4989"
          ],
          [
           0.3333333333333333,
           "#31688e"
          ],
          [
           0.4444444444444444,
           "#26828e"
          ],
          [
           0.5555555555555556,
           "#1f9e89"
          ],
          [
           0.6666666666666666,
           "#35b779"
          ],
          [
           0.7777777777777778,
           "#6ece58"
          ],
          [
           0.8888888888888888,
           "#b5de2b"
          ],
          [
           1,
           "#fde725"
          ]
         ],
         "scene": "scene5",
         "showscale": false,
         "type": "surface",
         "x": [
          [
           1,
           1,
           1,
           1,
           1,
           1,
           1,
           1,
           1,
           1
          ],
          [
           2,
           2,
           2,
           2,
           2,
           2,
           2,
           2,
           2,
           2
          ],
          [
           3,
           3,
           3,
           3,
           3,
           3,
           3,
           3,
           3,
           3
          ],
          [
           4,
           4,
           4,
           4,
           4,
           4,
           4,
           4,
           4,
           4
          ],
          [
           5,
           5,
           5,
           5,
           5,
           5,
           5,
           5,
           5,
           5
          ]
         ],
         "y": [
          [
           1,
           2,
           3,
           4,
           5,
           6,
           7,
           8,
           9,
           10
          ],
          [
           1,
           2,
           3,
           4,
           5,
           6,
           7,
           8,
           9,
           10
          ],
          [
           1,
           2,
           3,
           4,
           5,
           6,
           7,
           8,
           9,
           10
          ],
          [
           1,
           2,
           3,
           4,
           5,
           6,
           7,
           8,
           9,
           10
          ],
          [
           1,
           2,
           3,
           4,
           5,
           6,
           7,
           8,
           9,
           10
          ]
         ],
         "z": [
          [
           0.6810555785931486,
           0.6810555785931486,
           0.6810555785931486,
           0.6810555785931486,
           0.6810555785931486,
           0.6810555785931486,
           0.6810555785931486,
           0.6810555785931486,
           0.6810555785931486,
           0.6810555785931486
          ],
          [
           0.6547320890392924,
           0.7663241413658797,
           0.7482196091748832,
           0.8096430311547079,
           0.8442127615182354,
           0.8359024460993888,
           0.8311484195157904,
           0.8697468693944825,
           0.8852690306273049,
           0.9145460719845743
          ],
          [
           0.7123563054562063,
           0.7804589924367556,
           0.8189105030896772,
           0.891393236259687,
           0.9199993953804443,
           0.9412412561948185,
           0.920907779202948,
           0.9084584444005812,
           0.8660929401064534,
           0.817988237732521
          ],
          [
           0.7393270549121779,
           0.8426469932041045,
           0.8997969241292019,
           0.9379366729344897,
           0.9293561418727393,
           0.8609059849557272,
           0.7810543239308527,
           0.7316629207452351,
           0.7398022283131073,
           0.7842641932840965
          ],
          [
           0.7866142122238065,
           0.869063471230569,
           0.9426637340017572,
           0.9059631229255686,
           0.803082544902266,
           0.7267327941722335,
           0.7498635729728315,
           0.8296226248042763,
           0.9070205990427261,
           0.9305737605392531
          ]
         ]
        },
        {
         "cmax": 0.9922926648498305,
         "cmin": 0.6200870922991173,
         "colorscale": [
          [
           0,
           "#440154"
          ],
          [
           0.1111111111111111,
           "#482878"
          ],
          [
           0.2222222222222222,
           "#3e4989"
          ],
          [
           0.3333333333333333,
           "#31688e"
          ],
          [
           0.4444444444444444,
           "#26828e"
          ],
          [
           0.5555555555555556,
           "#1f9e89"
          ],
          [
           0.6666666666666666,
           "#35b779"
          ],
          [
           0.7777777777777778,
           "#6ece58"
          ],
          [
           0.8888888888888888,
           "#b5de2b"
          ],
          [
           1,
           "#fde725"
          ]
         ],
         "scene": "scene6",
         "showscale": false,
         "type": "surface",
         "x": [
          [
           1,
           1,
           1,
           1,
           1,
           1,
           1,
           1,
           1,
           1
          ],
          [
           2,
           2,
           2,
           2,
           2,
           2,
           2,
           2,
           2,
           2
          ],
          [
           3,
           3,
           3,
           3,
           3,
           3,
           3,
           3,
           3,
           3
          ],
          [
           4,
           4,
           4,
           4,
           4,
           4,
           4,
           4,
           4,
           4
          ],
          [
           5,
           5,
           5,
           5,
           5,
           5,
           5,
           5,
           5,
           5
          ]
         ],
         "y": [
          [
           1,
           2,
           3,
           4,
           5,
           6,
           7,
           8,
           9,
           10
          ],
          [
           1,
           2,
           3,
           4,
           5,
           6,
           7,
           8,
           9,
           10
          ],
          [
           1,
           2,
           3,
           4,
           5,
           6,
           7,
           8,
           9,
           10
          ],
          [
           1,
           2,
           3,
           4,
           5,
           6,
           7,
           8,
           9,
           10
          ],
          [
           1,
           2,
           3,
           4,
           5,
           6,
           7,
           8,
           9,
           10
          ]
         ],
         "z": [
          [
           0.917954663341109,
           0.917954663341109,
           0.917954663341109,
           0.917954663341109,
           0.917954663341109,
           0.917954663341109,
           0.917954663341109,
           0.917954663341109,
           0.917954663341109,
           0.917954663341109
          ],
          [
           0.9187984837158207,
           0.9547197053205241,
           0.9671733812919073,
           0.9559368034498689,
           0.9716759117787992,
           0.9500774275655763,
           0.9636609593999257,
           0.9796119837110728,
           0.9559968934117442,
           0.9619688949140376
          ],
          [
           0.9206168159878685,
           0.9806284446100829,
           0.9820297923019711,
           0.989723888179764,
           0.9768258264273335,
           0.9675987081609194,
           0.9408730539648983,
           0.9131002747005328,
           0.861761171446132,
           0.8019014546650048
          ],
          [
           0.9364119040177447,
           0.9794517418185971,
           0.9856088062300082,
           0.9783604780286149,
           0.9260512158961908,
           0.86521251054002,
           0.7758262957776162,
           0.7323218377569439,
           0.7379669694560415,
           0.7837377374556072
          ],
          [
           0.9492764509184232,
           0.9851597969338206,
           0.9764445708551268,
           0.9120149969451766,
           0.7952925718509222,
           0.7267975704682605,
           0.7493514443240316,
           0.8289820046874911,
           0.9058936779486443,
           0.9259933706611579
          ]
         ]
        },
        {
         "cmax": 0.9922926648498305,
         "cmin": 0.6200870922991173,
         "colorscale": [
          [
           0,
           "#440154"
          ],
          [
           0.1111111111111111,
           "#482878"
          ],
          [
           0.2222222222222222,
           "#3e4989"
          ],
          [
           0.3333333333333333,
           "#31688e"
          ],
          [
           0.4444444444444444,
           "#26828e"
          ],
          [
           0.5555555555555556,
           "#1f9e89"
          ],
          [
           0.6666666666666666,
           "#35b779"
          ],
          [
           0.7777777777777778,
           "#6ece58"
          ],
          [
           0.8888888888888888,
           "#b5de2b"
          ],
          [
           1,
           "#fde725"
          ]
         ],
         "scene": "scene7",
         "showscale": false,
         "type": "surface",
         "x": [
          [
           1,
           1,
           1,
           1,
           1,
           1,
           1,
           1,
           1,
           1
          ],
          [
           2,
           2,
           2,
           2,
           2,
           2,
           2,
           2,
           2,
           2
          ],
          [
           3,
           3,
           3,
           3,
           3,
           3,
           3,
           3,
           3,
           3
          ],
          [
           4,
           4,
           4,
           4,
           4,
           4,
           4,
           4,
           4,
           4
          ],
          [
           5,
           5,
           5,
           5,
           5,
           5,
           5,
           5,
           5,
           5
          ]
         ],
         "y": [
          [
           1,
           2,
           3,
           4,
           5,
           6,
           7,
           8,
           9,
           10
          ],
          [
           1,
           2,
           3,
           4,
           5,
           6,
           7,
           8,
           9,
           10
          ],
          [
           1,
           2,
           3,
           4,
           5,
           6,
           7,
           8,
           9,
           10
          ],
          [
           1,
           2,
           3,
           4,
           5,
           6,
           7,
           8,
           9,
           10
          ],
          [
           1,
           2,
           3,
           4,
           5,
           6,
           7,
           8,
           9,
           10
          ]
         ],
         "z": [
          [
           0.7339261450322274,
           0.7339261450322274,
           0.7339261450322274,
           0.7339261450322274,
           0.7339261450322274,
           0.7339261450322274,
           0.7339261450322274,
           0.7339261450322274,
           0.7339261450322274,
           0.7339261450322274
          ],
          [
           0.7903116833499803,
           0.8086690321345872,
           0.9021923046591406,
           0.8631154450589937,
           0.9002776148048419,
           0.8989855919901975,
           0.9007622516806886,
           0.9284642091314501,
           0.9536944928941967,
           0.9719616280475863
          ],
          [
           0.811612561628532,
           0.8407098402342357,
           0.9533015154151593,
           0.9289955459390933,
           0.9350699242800877,
           0.9580973879884607,
           0.9409437317252037,
           0.9192371725391535,
           0.8726766066175949,
           0.8152746355204825
          ],
          [
           0.8438119686384316,
           0.8652159057537941,
           0.9681328747252101,
           0.9605166192268652,
           0.9321617225490153,
           0.8680893001851964,
           0.7831851918408378,
           0.733555617982403,
           0.738996410914578,
           0.7846831719640041
          ],
          [
           0.8682417785505525,
           0.8959835315852864,
           0.9611489656049813,
           0.9100637385102339,
           0.7998263454107103,
           0.7270045102224455,
           0.7489450237185936,
           0.8294757443257998,
           0.9075123046938554,
           0.9288539924853468
          ]
         ]
        },
        {
         "cmax": 0.9922926648498305,
         "cmin": 0.6200870922991173,
         "colorscale": [
          [
           0,
           "#440154"
          ],
          [
           0.1111111111111111,
           "#482878"
          ],
          [
           0.2222222222222222,
           "#3e4989"
          ],
          [
           0.3333333333333333,
           "#31688e"
          ],
          [
           0.4444444444444444,
           "#26828e"
          ],
          [
           0.5555555555555556,
           "#1f9e89"
          ],
          [
           0.6666666666666666,
           "#35b779"
          ],
          [
           0.7777777777777778,
           "#6ece58"
          ],
          [
           0.8888888888888888,
           "#b5de2b"
          ],
          [
           1,
           "#fde725"
          ]
         ],
         "scene": "scene8",
         "showscale": false,
         "type": "surface",
         "x": [
          [
           1,
           1,
           1,
           1,
           1,
           1,
           1,
           1,
           1,
           1
          ],
          [
           2,
           2,
           2,
           2,
           2,
           2,
           2,
           2,
           2,
           2
          ],
          [
           3,
           3,
           3,
           3,
           3,
           3,
           3,
           3,
           3,
           3
          ],
          [
           4,
           4,
           4,
           4,
           4,
           4,
           4,
           4,
           4,
           4
          ],
          [
           5,
           5,
           5,
           5,
           5,
           5,
           5,
           5,
           5,
           5
          ]
         ],
         "y": [
          [
           1,
           2,
           3,
           4,
           5,
           6,
           7,
           8,
           9,
           10
          ],
          [
           1,
           2,
           3,
           4,
           5,
           6,
           7,
           8,
           9,
           10
          ],
          [
           1,
           2,
           3,
           4,
           5,
           6,
           7,
           8,
           9,
           10
          ],
          [
           1,
           2,
           3,
           4,
           5,
           6,
           7,
           8,
           9,
           10
          ],
          [
           1,
           2,
           3,
           4,
           5,
           6,
           7,
           8,
           9,
           10
          ]
         ],
         "z": [
          [
           0.7650650491343813,
           0.7650650491343813,
           0.7650650491343813,
           0.7650650491343813,
           0.7650650491343813,
           0.7650650491343813,
           0.7650650491343813,
           0.7650650491343813,
           0.7650650491343813,
           0.7650650491343813
          ],
          [
           0.8553692458565366,
           0.8653196705866968,
           0.8563809747115945,
           0.900027870908572,
           0.9151439238764523,
           0.9274117884299029,
           0.9238802936519774,
           0.9221594347575066,
           0.9349285777169377,
           0.9431889021425227
          ],
          [
           0.8598739555867516,
           0.8961779561219132,
           0.9291071940597634,
           0.940861137524111,
           0.9422517228063921,
           0.94091587194311,
           0.9373323551622963,
           0.9102868106817336,
           0.8566312675884132,
           0.810510154427767
          ],
          [
           0.8782339823278307,
           0.9175465235147664,
           0.9558516147621734,
           0.9618267145586794,
           0.9323021804214273,
           0.856926763313328,
           0.7715839552537014,
           0.7276852085992128,
           0.734392633099991,
           0.784324613394552
          ],
          [
           0.8917124753502977,
           0.9390157676253992,
           0.9574600822859415,
           0.9169055787868351,
           0.7938713764225912,
           0.7203356355792946,
           0.7472066329937437,
           0.828296741686953,
           0.9064075495601358,
           0.9313446456217188
          ]
         ]
        },
        {
         "cmax": 0.9922926648498305,
         "cmin": 0.6200870922991173,
         "colorscale": [
          [
           0,
           "#440154"
          ],
          [
           0.1111111111111111,
           "#482878"
          ],
          [
           0.2222222222222222,
           "#3e4989"
          ],
          [
           0.3333333333333333,
           "#31688e"
          ],
          [
           0.4444444444444444,
           "#26828e"
          ],
          [
           0.5555555555555556,
           "#1f9e89"
          ],
          [
           0.6666666666666666,
           "#35b779"
          ],
          [
           0.7777777777777778,
           "#6ece58"
          ],
          [
           0.8888888888888888,
           "#b5de2b"
          ],
          [
           1,
           "#fde725"
          ]
         ],
         "scene": "scene9",
         "showscale": false,
         "type": "surface",
         "x": [
          [
           1,
           1,
           1,
           1,
           1,
           1,
           1,
           1,
           1,
           1
          ],
          [
           2,
           2,
           2,
           2,
           2,
           2,
           2,
           2,
           2,
           2
          ],
          [
           3,
           3,
           3,
           3,
           3,
           3,
           3,
           3,
           3,
           3
          ],
          [
           4,
           4,
           4,
           4,
           4,
           4,
           4,
           4,
           4,
           4
          ],
          [
           5,
           5,
           5,
           5,
           5,
           5,
           5,
           5,
           5,
           5
          ]
         ],
         "y": [
          [
           1,
           2,
           3,
           4,
           5,
           6,
           7,
           8,
           9,
           10
          ],
          [
           1,
           2,
           3,
           4,
           5,
           6,
           7,
           8,
           9,
           10
          ],
          [
           1,
           2,
           3,
           4,
           5,
           6,
           7,
           8,
           9,
           10
          ],
          [
           1,
           2,
           3,
           4,
           5,
           6,
           7,
           8,
           9,
           10
          ],
          [
           1,
           2,
           3,
           4,
           5,
           6,
           7,
           8,
           9,
           10
          ]
         ],
         "z": [
          [
           0.649325523631519,
           0.649325523631519,
           0.649325523631519,
           0.649325523631519,
           0.649325523631519,
           0.649325523631519,
           0.649325523631519,
           0.649325523631519,
           0.649325523631519,
           0.649325523631519
          ],
          [
           0.7542529261909066,
           0.842159579140162,
           0.8362584205579515,
           0.8493561175266838,
           0.879307826540134,
           0.8816320109153415,
           0.9100420354264254,
           0.8952238340754456,
           0.9115050226101171,
           0.9013368838000339
          ],
          [
           0.8132035931502405,
           0.8908698171629557,
           0.9393549885556098,
           0.9491910704377845,
           0.9218897808954206,
           0.9240407731817786,
           0.9021304026375944,
           0.8736981064473395,
           0.8413730009600143,
           0.7837492822844031
          ],
          [
           0.8319723536391649,
           0.9439025417346643,
           0.963519512352264,
           0.9490534813637687,
           0.9190137842150293,
           0.8514234617712916,
           0.7596286638777187,
           0.7226404533059589,
           0.7330626105501511,
           0.7768455001147726
          ],
          [
           0.8664710172979472,
           0.9699541313002081,
           0.9605564966747729,
           0.9001787860434982,
           0.7821358935326871,
           0.7183307417655869,
           0.7439911925491859,
           0.82774223869059,
           0.9048577114846087,
           0.9293658842577965
          ]
         ]
        },
        {
         "cmax": 0.9922926648498305,
         "cmin": 0.6200870922991173,
         "colorscale": [
          [
           0,
           "#440154"
          ],
          [
           0.1111111111111111,
           "#482878"
          ],
          [
           0.2222222222222222,
           "#3e4989"
          ],
          [
           0.3333333333333333,
           "#31688e"
          ],
          [
           0.4444444444444444,
           "#26828e"
          ],
          [
           0.5555555555555556,
           "#1f9e89"
          ],
          [
           0.6666666666666666,
           "#35b779"
          ],
          [
           0.7777777777777778,
           "#6ece58"
          ],
          [
           0.8888888888888888,
           "#b5de2b"
          ],
          [
           1,
           "#fde725"
          ]
         ],
         "scene": "scene10",
         "showscale": false,
         "type": "surface",
         "x": [
          [
           1,
           1,
           1,
           1,
           1,
           1,
           1,
           1,
           1,
           1
          ],
          [
           2,
           2,
           2,
           2,
           2,
           2,
           2,
           2,
           2,
           2
          ],
          [
           3,
           3,
           3,
           3,
           3,
           3,
           3,
           3,
           3,
           3
          ],
          [
           4,
           4,
           4,
           4,
           4,
           4,
           4,
           4,
           4,
           4
          ],
          [
           5,
           5,
           5,
           5,
           5,
           5,
           5,
           5,
           5,
           5
          ]
         ],
         "y": [
          [
           1,
           2,
           3,
           4,
           5,
           6,
           7,
           8,
           9,
           10
          ],
          [
           1,
           2,
           3,
           4,
           5,
           6,
           7,
           8,
           9,
           10
          ],
          [
           1,
           2,
           3,
           4,
           5,
           6,
           7,
           8,
           9,
           10
          ],
          [
           1,
           2,
           3,
           4,
           5,
           6,
           7,
           8,
           9,
           10
          ],
          [
           1,
           2,
           3,
           4,
           5,
           6,
           7,
           8,
           9,
           10
          ]
         ],
         "z": [
          [
           0.7546183977762954,
           0.7546183977762954,
           0.7546183977762954,
           0.7546183977762954,
           0.7546183977762954,
           0.7546183977762954,
           0.7546183977762954,
           0.7546183977762954,
           0.7546183977762954,
           0.7546183977762954
          ],
          [
           0.8706274109304598,
           0.8815691144068424,
           0.9229850872617107,
           0.9444119176582189,
           0.9698389949424158,
           0.9552494250615466,
           0.9553927688419435,
           0.9697384477529549,
           0.9784317266232259,
           0.9730883390084939
          ],
          [
           0.9098760724491872,
           0.9439124045061732,
           0.9810906715191167,
           0.9811268946940844,
           0.9849359368782533,
           0.9771688808593461,
           0.953815212926803,
           0.9205173020649803,
           0.8742439674509047,
           0.817981850216524
          ],
          [
           0.9317136671837637,
           0.9730592923004816,
           0.9845584561078446,
           0.9772255877545817,
           0.939215405313624,
           0.8691120389690768,
           0.7836802281299431,
           0.7333919890452851,
           0.7400793758596932,
           0.7861390541903026
          ],
          [
           0.9449038432802862,
           0.9818879894161373,
           0.9724443138692834,
           0.9133221295627644,
           0.8036293938690033,
           0.7274677399120238,
           0.7505145291488432,
           0.8302805771843701,
           0.9074943033193494,
           0.9318623427665355
          ]
         ]
        }
       ],
       "layout": {
        "annotations": [
         {
          "font": {
           "size": 16
          },
          "showarrow": false,
          "text": "lat=42.63, lon=205.00",
          "x": 0.088,
          "xanchor": "center",
          "xref": "paper",
          "y": 1,
          "yanchor": "bottom",
          "yref": "paper"
         },
         {
          "font": {
           "size": 16
          },
          "showarrow": false,
          "text": "lat=16.11, lon=107.50",
          "x": 0.294,
          "xanchor": "center",
          "xref": "paper",
          "y": 1,
          "yanchor": "bottom",
          "yref": "paper"
         },
         {
          "font": {
           "size": 16
          },
          "showarrow": false,
          "text": "lat=72.95, lon=190.00",
          "x": 0.5,
          "xanchor": "center",
          "xref": "paper",
          "y": 1,
          "yanchor": "bottom",
          "yref": "paper"
         },
         {
          "font": {
           "size": 16
          },
          "showarrow": false,
          "text": "lat=82.42, lon=145.00",
          "x": 0.706,
          "xanchor": "center",
          "xref": "paper",
          "y": 1,
          "yanchor": "bottom",
          "yref": "paper"
         },
         {
          "font": {
           "size": 16
          },
          "showarrow": false,
          "text": "lat=72.95, lon=330.00",
          "x": 0.9119999999999999,
          "xanchor": "center",
          "xref": "paper",
          "y": 1,
          "yanchor": "bottom",
          "yref": "paper"
         },
         {
          "font": {
           "size": 16
          },
          "showarrow": false,
          "text": "lat=-16.11, lon=312.50",
          "x": 0.088,
          "xanchor": "center",
          "xref": "paper",
          "y": 0.45,
          "yanchor": "bottom",
          "yref": "paper"
         },
         {
          "font": {
           "size": 16
          },
          "showarrow": false,
          "text": "lat=-27.47, lon=87.50",
          "x": 0.294,
          "xanchor": "center",
          "xref": "paper",
          "y": 0.45,
          "yanchor": "bottom",
          "yref": "paper"
         },
         {
          "font": {
           "size": 16
          },
          "showarrow": false,
          "text": "lat=69.16, lon=22.50",
          "x": 0.5,
          "xanchor": "center",
          "xref": "paper",
          "y": 0.45,
          "yanchor": "bottom",
          "yref": "paper"
         },
         {
          "font": {
           "size": 16
          },
          "showarrow": false,
          "text": "lat=86.21, lon=140.00",
          "x": 0.706,
          "xanchor": "center",
          "xref": "paper",
          "y": 0.45,
          "yanchor": "bottom",
          "yref": "paper"
         },
         {
          "font": {
           "size": 16
          },
          "showarrow": false,
          "text": "lat=4.74, lon=112.50",
          "x": 0.9119999999999999,
          "xanchor": "center",
          "xref": "paper",
          "y": 0.45,
          "yanchor": "bottom",
          "yref": "paper"
         }
        ],
        "height": 1600,
        "margin": {
         "b": 50,
         "l": 50,
         "r": 50,
         "t": 80
        },
        "scene": {
         "camera": {
          "eye": {
           "x": 1,
           "y": 2,
           "z": 3
          }
         },
         "domain": {
          "x": [
           0,
           0.176
          ],
          "y": [
           0.55,
           1
          ]
         },
         "xaxis": {
          "title": {
           "text": "E"
          }
         },
         "yaxis": {
          "title": {
           "text": "tau"
          }
         },
         "zaxis": {
          "title": {
           "text": "rho"
          }
         }
        },
        "scene10": {
         "camera": {
          "eye": {
           "x": 1,
           "y": 2,
           "z": 3
          }
         },
         "domain": {
          "x": [
           0.824,
           1
          ],
          "y": [
           0,
           0.45
          ]
         },
         "xaxis": {
          "title": {
           "text": "E"
          }
         },
         "yaxis": {
          "title": {
           "text": "tau"
          }
         },
         "zaxis": {
          "title": {
           "text": "rho"
          }
         }
        },
        "scene2": {
         "camera": {
          "eye": {
           "x": 1,
           "y": 2,
           "z": 3
          }
         },
         "domain": {
          "x": [
           0.206,
           0.382
          ],
          "y": [
           0.55,
           1
          ]
         },
         "xaxis": {
          "title": {
           "text": "E"
          }
         },
         "yaxis": {
          "title": {
           "text": "tau"
          }
         },
         "zaxis": {
          "title": {
           "text": "rho"
          }
         }
        },
        "scene3": {
         "camera": {
          "eye": {
           "x": 1,
           "y": 2,
           "z": 3
          }
         },
         "domain": {
          "x": [
           0.412,
           0.588
          ],
          "y": [
           0.55,
           1
          ]
         },
         "xaxis": {
          "title": {
           "text": "E"
          }
         },
         "yaxis": {
          "title": {
           "text": "tau"
          }
         },
         "zaxis": {
          "title": {
           "text": "rho"
          }
         }
        },
        "scene4": {
         "camera": {
          "eye": {
           "x": 1,
           "y": 2,
           "z": 3
          }
         },
         "domain": {
          "x": [
           0.618,
           0.794
          ],
          "y": [
           0.55,
           1
          ]
         },
         "xaxis": {
          "title": {
           "text": "E"
          }
         },
         "yaxis": {
          "title": {
           "text": "tau"
          }
         },
         "zaxis": {
          "title": {
           "text": "rho"
          }
         }
        },
        "scene5": {
         "camera": {
          "eye": {
           "x": 1,
           "y": 2,
           "z": 3
          }
         },
         "domain": {
          "x": [
           0.824,
           1
          ],
          "y": [
           0.55,
           1
          ]
         },
         "xaxis": {
          "title": {
           "text": "E"
          }
         },
         "yaxis": {
          "title": {
           "text": "tau"
          }
         },
         "zaxis": {
          "title": {
           "text": "rho"
          }
         }
        },
        "scene6": {
         "camera": {
          "eye": {
           "x": 1,
           "y": 2,
           "z": 3
          }
         },
         "domain": {
          "x": [
           0,
           0.176
          ],
          "y": [
           0,
           0.45
          ]
         },
         "xaxis": {
          "title": {
           "text": "E"
          }
         },
         "yaxis": {
          "title": {
           "text": "tau"
          }
         },
         "zaxis": {
          "title": {
           "text": "rho"
          }
         }
        },
        "scene7": {
         "camera": {
          "eye": {
           "x": 1,
           "y": 2,
           "z": 3
          }
         },
         "domain": {
          "x": [
           0.206,
           0.382
          ],
          "y": [
           0,
           0.45
          ]
         },
         "xaxis": {
          "title": {
           "text": "E"
          }
         },
         "yaxis": {
          "title": {
           "text": "tau"
          }
         },
         "zaxis": {
          "title": {
           "text": "rho"
          }
         }
        },
        "scene8": {
         "camera": {
          "eye": {
           "x": 1,
           "y": 2,
           "z": 3
          }
         },
         "domain": {
          "x": [
           0.412,
           0.588
          ],
          "y": [
           0,
           0.45
          ]
         },
         "xaxis": {
          "title": {
           "text": "E"
          }
         },
         "yaxis": {
          "title": {
           "text": "tau"
          }
         },
         "zaxis": {
          "title": {
           "text": "rho"
          }
         }
        },
        "scene9": {
         "camera": {
          "eye": {
           "x": 1,
           "y": 2,
           "z": 3
          }
         },
         "domain": {
          "x": [
           0.618,
           0.794
          ],
          "y": [
           0,
           0.45
          ]
         },
         "xaxis": {
          "title": {
           "text": "E"
          }
         },
         "yaxis": {
          "title": {
           "text": "tau"
          }
         },
         "zaxis": {
          "title": {
           "text": "rho"
          }
         }
        },
        "template": {
         "data": {
          "bar": [
           {
            "error_x": {
             "color": "#2a3f5f"
            },
            "error_y": {
             "color": "#2a3f5f"
            },
            "marker": {
             "line": {
              "color": "#E5ECF6",
              "width": 0.5
             },
             "pattern": {
              "fillmode": "overlay",
              "size": 10,
              "solidity": 0.2
             }
            },
            "type": "bar"
           }
          ],
          "barpolar": [
           {
            "marker": {
             "line": {
              "color": "#E5ECF6",
              "width": 0.5
             },
             "pattern": {
              "fillmode": "overlay",
              "size": 10,
              "solidity": 0.2
             }
            },
            "type": "barpolar"
           }
          ],
          "carpet": [
           {
            "aaxis": {
             "endlinecolor": "#2a3f5f",
             "gridcolor": "white",
             "linecolor": "white",
             "minorgridcolor": "white",
             "startlinecolor": "#2a3f5f"
            },
            "baxis": {
             "endlinecolor": "#2a3f5f",
             "gridcolor": "white",
             "linecolor": "white",
             "minorgridcolor": "white",
             "startlinecolor": "#2a3f5f"
            },
            "type": "carpet"
           }
          ],
          "choropleth": [
           {
            "colorbar": {
             "outlinewidth": 0,
             "ticks": ""
            },
            "type": "choropleth"
           }
          ],
          "contour": [
           {
            "colorbar": {
             "outlinewidth": 0,
             "ticks": ""
            },
            "colorscale": [
             [
              0,
              "#0d0887"
             ],
             [
              0.1111111111111111,
              "#46039f"
             ],
             [
              0.2222222222222222,
              "#7201a8"
             ],
             [
              0.3333333333333333,
              "#9c179e"
             ],
             [
              0.4444444444444444,
              "#bd3786"
             ],
             [
              0.5555555555555556,
              "#d8576b"
             ],
             [
              0.6666666666666666,
              "#ed7953"
             ],
             [
              0.7777777777777778,
              "#fb9f3a"
             ],
             [
              0.8888888888888888,
              "#fdca26"
             ],
             [
              1,
              "#f0f921"
             ]
            ],
            "type": "contour"
           }
          ],
          "contourcarpet": [
           {
            "colorbar": {
             "outlinewidth": 0,
             "ticks": ""
            },
            "type": "contourcarpet"
           }
          ],
          "heatmap": [
           {
            "colorbar": {
             "outlinewidth": 0,
             "ticks": ""
            },
            "colorscale": [
             [
              0,
              "#0d0887"
             ],
             [
              0.1111111111111111,
              "#46039f"
             ],
             [
              0.2222222222222222,
              "#7201a8"
             ],
             [
              0.3333333333333333,
              "#9c179e"
             ],
             [
              0.4444444444444444,
              "#bd3786"
             ],
             [
              0.5555555555555556,
              "#d8576b"
             ],
             [
              0.6666666666666666,
              "#ed7953"
             ],
             [
              0.7777777777777778,
              "#fb9f3a"
             ],
             [
              0.8888888888888888,
              "#fdca26"
             ],
             [
              1,
              "#f0f921"
             ]
            ],
            "type": "heatmap"
           }
          ],
          "heatmapgl": [
           {
            "colorbar": {
             "outlinewidth": 0,
             "ticks": ""
            },
            "colorscale": [
             [
              0,
              "#0d0887"
             ],
             [
              0.1111111111111111,
              "#46039f"
             ],
             [
              0.2222222222222222,
              "#7201a8"
             ],
             [
              0.3333333333333333,
              "#9c179e"
             ],
             [
              0.4444444444444444,
              "#bd3786"
             ],
             [
              0.5555555555555556,
              "#d8576b"
             ],
             [
              0.6666666666666666,
              "#ed7953"
             ],
             [
              0.7777777777777778,
              "#fb9f3a"
             ],
             [
              0.8888888888888888,
              "#fdca26"
             ],
             [
              1,
              "#f0f921"
             ]
            ],
            "type": "heatmapgl"
           }
          ],
          "histogram": [
           {
            "marker": {
             "pattern": {
              "fillmode": "overlay",
              "size": 10,
              "solidity": 0.2
             }
            },
            "type": "histogram"
           }
          ],
          "histogram2d": [
           {
            "colorbar": {
             "outlinewidth": 0,
             "ticks": ""
            },
            "colorscale": [
             [
              0,
              "#0d0887"
             ],
             [
              0.1111111111111111,
              "#46039f"
             ],
             [
              0.2222222222222222,
              "#7201a8"
             ],
             [
              0.3333333333333333,
              "#9c179e"
             ],
             [
              0.4444444444444444,
              "#bd3786"
             ],
             [
              0.5555555555555556,
              "#d8576b"
             ],
             [
              0.6666666666666666,
              "#ed7953"
             ],
             [
              0.7777777777777778,
              "#fb9f3a"
             ],
             [
              0.8888888888888888,
              "#fdca26"
             ],
             [
              1,
              "#f0f921"
             ]
            ],
            "type": "histogram2d"
           }
          ],
          "histogram2dcontour": [
           {
            "colorbar": {
             "outlinewidth": 0,
             "ticks": ""
            },
            "colorscale": [
             [
              0,
              "#0d0887"
             ],
             [
              0.1111111111111111,
              "#46039f"
             ],
             [
              0.2222222222222222,
              "#7201a8"
             ],
             [
              0.3333333333333333,
              "#9c179e"
             ],
             [
              0.4444444444444444,
              "#bd3786"
             ],
             [
              0.5555555555555556,
              "#d8576b"
             ],
             [
              0.6666666666666666,
              "#ed7953"
             ],
             [
              0.7777777777777778,
              "#fb9f3a"
             ],
             [
              0.8888888888888888,
              "#fdca26"
             ],
             [
              1,
              "#f0f921"
             ]
            ],
            "type": "histogram2dcontour"
           }
          ],
          "mesh3d": [
           {
            "colorbar": {
             "outlinewidth": 0,
             "ticks": ""
            },
            "type": "mesh3d"
           }
          ],
          "parcoords": [
           {
            "line": {
             "colorbar": {
              "outlinewidth": 0,
              "ticks": ""
             }
            },
            "type": "parcoords"
           }
          ],
          "pie": [
           {
            "automargin": true,
            "type": "pie"
           }
          ],
          "scatter": [
           {
            "fillpattern": {
             "fillmode": "overlay",
             "size": 10,
             "solidity": 0.2
            },
            "type": "scatter"
           }
          ],
          "scatter3d": [
           {
            "line": {
             "colorbar": {
              "outlinewidth": 0,
              "ticks": ""
             }
            },
            "marker": {
             "colorbar": {
              "outlinewidth": 0,
              "ticks": ""
             }
            },
            "type": "scatter3d"
           }
          ],
          "scattercarpet": [
           {
            "marker": {
             "colorbar": {
              "outlinewidth": 0,
              "ticks": ""
             }
            },
            "type": "scattercarpet"
           }
          ],
          "scattergeo": [
           {
            "marker": {
             "colorbar": {
              "outlinewidth": 0,
              "ticks": ""
             }
            },
            "type": "scattergeo"
           }
          ],
          "scattergl": [
           {
            "marker": {
             "colorbar": {
              "outlinewidth": 0,
              "ticks": ""
             }
            },
            "type": "scattergl"
           }
          ],
          "scattermapbox": [
           {
            "marker": {
             "colorbar": {
              "outlinewidth": 0,
              "ticks": ""
             }
            },
            "type": "scattermapbox"
           }
          ],
          "scatterpolar": [
           {
            "marker": {
             "colorbar": {
              "outlinewidth": 0,
              "ticks": ""
             }
            },
            "type": "scatterpolar"
           }
          ],
          "scatterpolargl": [
           {
            "marker": {
             "colorbar": {
              "outlinewidth": 0,
              "ticks": ""
             }
            },
            "type": "scatterpolargl"
           }
          ],
          "scatterternary": [
           {
            "marker": {
             "colorbar": {
              "outlinewidth": 0,
              "ticks": ""
             }
            },
            "type": "scatterternary"
           }
          ],
          "surface": [
           {
            "colorbar": {
             "outlinewidth": 0,
             "ticks": ""
            },
            "colorscale": [
             [
              0,
              "#0d0887"
             ],
             [
              0.1111111111111111,
              "#46039f"
             ],
             [
              0.2222222222222222,
              "#7201a8"
             ],
             [
              0.3333333333333333,
              "#9c179e"
             ],
             [
              0.4444444444444444,
              "#bd3786"
             ],
             [
              0.5555555555555556,
              "#d8576b"
             ],
             [
              0.6666666666666666,
              "#ed7953"
             ],
             [
              0.7777777777777778,
              "#fb9f3a"
             ],
             [
              0.8888888888888888,
              "#fdca26"
             ],
             [
              1,
              "#f0f921"
             ]
            ],
            "type": "surface"
           }
          ],
          "table": [
           {
            "cells": {
             "fill": {
              "color": "#EBF0F8"
             },
             "line": {
              "color": "white"
             }
            },
            "header": {
             "fill": {
              "color": "#C8D4E3"
             },
             "line": {
              "color": "white"
             }
            },
            "type": "table"
           }
          ]
         },
         "layout": {
          "annotationdefaults": {
           "arrowcolor": "#2a3f5f",
           "arrowhead": 0,
           "arrowwidth": 1
          },
          "autotypenumbers": "strict",
          "coloraxis": {
           "colorbar": {
            "outlinewidth": 0,
            "ticks": ""
           }
          },
          "colorscale": {
           "diverging": [
            [
             0,
             "#8e0152"
            ],
            [
             0.1,
             "#c51b7d"
            ],
            [
             0.2,
             "#de77ae"
            ],
            [
             0.3,
             "#f1b6da"
            ],
            [
             0.4,
             "#fde0ef"
            ],
            [
             0.5,
             "#f7f7f7"
            ],
            [
             0.6,
             "#e6f5d0"
            ],
            [
             0.7,
             "#b8e186"
            ],
            [
             0.8,
             "#7fbc41"
            ],
            [
             0.9,
             "#4d9221"
            ],
            [
             1,
             "#276419"
            ]
           ],
           "sequential": [
            [
             0,
             "#0d0887"
            ],
            [
             0.1111111111111111,
             "#46039f"
            ],
            [
             0.2222222222222222,
             "#7201a8"
            ],
            [
             0.3333333333333333,
             "#9c179e"
            ],
            [
             0.4444444444444444,
             "#bd3786"
            ],
            [
             0.5555555555555556,
             "#d8576b"
            ],
            [
             0.6666666666666666,
             "#ed7953"
            ],
            [
             0.7777777777777778,
             "#fb9f3a"
            ],
            [
             0.8888888888888888,
             "#fdca26"
            ],
            [
             1,
             "#f0f921"
            ]
           ],
           "sequentialminus": [
            [
             0,
             "#0d0887"
            ],
            [
             0.1111111111111111,
             "#46039f"
            ],
            [
             0.2222222222222222,
             "#7201a8"
            ],
            [
             0.3333333333333333,
             "#9c179e"
            ],
            [
             0.4444444444444444,
             "#bd3786"
            ],
            [
             0.5555555555555556,
             "#d8576b"
            ],
            [
             0.6666666666666666,
             "#ed7953"
            ],
            [
             0.7777777777777778,
             "#fb9f3a"
            ],
            [
             0.8888888888888888,
             "#fdca26"
            ],
            [
             1,
             "#f0f921"
            ]
           ]
          },
          "colorway": [
           "#636efa",
           "#EF553B",
           "#00cc96",
           "#ab63fa",
           "#FFA15A",
           "#19d3f3",
           "#FF6692",
           "#B6E880",
           "#FF97FF",
           "#FECB52"
          ],
          "font": {
           "color": "#2a3f5f"
          },
          "geo": {
           "bgcolor": "white",
           "lakecolor": "white",
           "landcolor": "#E5ECF6",
           "showlakes": true,
           "showland": true,
           "subunitcolor": "white"
          },
          "hoverlabel": {
           "align": "left"
          },
          "hovermode": "closest",
          "mapbox": {
           "style": "light"
          },
          "paper_bgcolor": "white",
          "plot_bgcolor": "#E5ECF6",
          "polar": {
           "angularaxis": {
            "gridcolor": "white",
            "linecolor": "white",
            "ticks": ""
           },
           "bgcolor": "#E5ECF6",
           "radialaxis": {
            "gridcolor": "white",
            "linecolor": "white",
            "ticks": ""
           }
          },
          "scene": {
           "xaxis": {
            "backgroundcolor": "#E5ECF6",
            "gridcolor": "white",
            "gridwidth": 2,
            "linecolor": "white",
            "showbackground": true,
            "ticks": "",
            "zerolinecolor": "white"
           },
           "yaxis": {
            "backgroundcolor": "#E5ECF6",
            "gridcolor": "white",
            "gridwidth": 2,
            "linecolor": "white",
            "showbackground": true,
            "ticks": "",
            "zerolinecolor": "white"
           },
           "zaxis": {
            "backgroundcolor": "#E5ECF6",
            "gridcolor": "white",
            "gridwidth": 2,
            "linecolor": "white",
            "showbackground": true,
            "ticks": "",
            "zerolinecolor": "white"
           }
          },
          "shapedefaults": {
           "line": {
            "color": "#2a3f5f"
           }
          },
          "ternary": {
           "aaxis": {
            "gridcolor": "white",
            "linecolor": "white",
            "ticks": ""
           },
           "baxis": {
            "gridcolor": "white",
            "linecolor": "white",
            "ticks": ""
           },
           "bgcolor": "#E5ECF6",
           "caxis": {
            "gridcolor": "white",
            "linecolor": "white",
            "ticks": ""
           }
          },
          "title": {
           "x": 0.05
          },
          "xaxis": {
           "automargin": true,
           "gridcolor": "white",
           "linecolor": "white",
           "ticks": "",
           "title": {
            "standoff": 15
           },
           "zerolinecolor": "white",
           "zerolinewidth": 2
          },
          "yaxis": {
           "automargin": true,
           "gridcolor": "white",
           "linecolor": "white",
           "ticks": "",
           "title": {
            "standoff": 15
           },
           "zerolinecolor": "white",
           "zerolinewidth": 2
          }
         }
        },
        "width": 2800
       }
      }
     },
     "metadata": {},
     "output_type": "display_data"
    }
   ],
   "source": [
    "import xarray as xr\n",
    "import pandas as pd\n",
    "import numpy as np\n",
    "import random\n",
    "\n",
    "import plotly.graph_objects as go\n",
    "from plotly.subplots import make_subplots\n",
    "\n",
    "from pyEDM import EmbedDimension\n",
    "\n",
    "# Assume ds_sat and df_pre are already defined\n",
    "# Grab coordinate sizes\n",
    "nlat = ds_sat.sizes[\"lat\"]\n",
    "nlon = ds_sat.sizes[\"lon\"]\n",
    "ages = ds_sat[\"age\"].values  # keep track of the ages\n",
    "\n",
    "# ---------------------------------------------------------------------\n",
    "# 2. Randomly select 10 (lat, lon) grid points\n",
    "# ---------------------------------------------------------------------\n",
    "all_pairs = [(ilat, ilon) for ilat in range(nlat) for ilon in range(nlon)]\n",
    "random_pairs = random.sample(all_pairs, 10)  # pick 10 unique (ilat, ilon)\n",
    "\n",
    "results_list = []  # will be a list of (ilat, ilon, E_axis, Tau_axis, RhoMatrix)\n",
    "\n",
    "for idx, (ilat, ilon) in enumerate(random_pairs):\n",
    "    # Extract local sat time series\n",
    "    sat_ts = ds_sat[\"sat\"].isel(lat=ilat, lon=ilon).values\n",
    "\n",
    "    df_tmp = pd.DataFrame({\n",
    "        \"Time\": ages,\n",
    "        \"pre\": df_pre[\"pre\"],  # predictor\n",
    "        \"sat\": sat_ts          # target to predict\n",
    "    })\n",
    "\n",
    "    # We'll store a 2D array of shape (5,10) for E=1..5, tau=1..10\n",
    "    RhoMatrix = np.zeros((5, 10))\n",
    "\n",
    "    # For each tau in 1..10, call EmbedDimension once with maxE=5 and Tp=tau\n",
    "    for tau in range(1, 11):\n",
    "        edm_out = EmbedDimension(\n",
    "            dataFrame=df_tmp,\n",
    "            columns=\"sat\",\n",
    "            target=\"pre\",\n",
    "            maxE=5,          # We'll evaluate E=1..5\n",
    "            tau=tau,\n",
    "            Tp=5,\n",
    "            lib=\"1 120\",     # Entire time series, adapt if needed\n",
    "            pred=\"1 120\",\n",
    "            showPlot=False,  # We'll handle plotting ourselves\n",
    "        )\n",
    "\n",
    "        for e_row in edm_out.itertuples():\n",
    "            e_val = e_row.E     # 1..5\n",
    "            rho_val = e_row.rho\n",
    "            RhoMatrix[int(e_val - 1), int(tau - 1)] = rho_val\n",
    "\n",
    "    # Axis values for plotting\n",
    "    E_axis = np.arange(1, 6)     # E = 1..5\n",
    "    Tau_axis = np.arange(1, 11)  # tau = 1..10\n",
    "\n",
    "    # Save the result for this grid point\n",
    "    results_list.append((ilat, ilon, E_axis, Tau_axis, RhoMatrix))\n",
    "\n",
    "# ---------------------------------------------------------------------\n",
    "# Compute global min and max for all RhoMatrix values\n",
    "# ---------------------------------------------------------------------\n",
    "global_min = min(np.min(RhoMatrix) for _, _, _, _, RhoMatrix in results_list)\n",
    "global_max = max(np.max(RhoMatrix) for _, _, _, _, RhoMatrix in results_list)\n",
    "\n",
    "# ---------------------------------------------------------------------\n",
    "# 4. Make a 3D surface plot for each of the 10 results using Plotly subplots\n",
    "# ---------------------------------------------------------------------\n",
    "\n",
    "# Create subplot titles using true latitude and longitude values\n",
    "subplot_titles = [\n",
    "    f\"lat={ds_sat['lat'].values[r[0]]:.2f}, lon={ds_sat['lon'].values[r[1]]:.2f}\"\n",
    "    for r in results_list\n",
    "]\n",
    "\n",
    "# Create a 2x5 grid of 3D subplots with adjusted spacing\n",
    "fig = make_subplots(\n",
    "    rows=2, cols=5,\n",
    "    specs=[[{\"type\": \"surface\"}]*5, [{\"type\": \"surface\"}]*5],\n",
    "    subplot_titles=subplot_titles,\n",
    "    horizontal_spacing=0.03,  # reduce horizontal spacing\n",
    "    vertical_spacing=0.1      # reduce vertical spacing\n",
    ")\n",
    "\n",
    "# Add each surface plot trace to its respective subplot\n",
    "for i, (ilat, ilon, E_axis, Tau_axis, RhoMatrix) in enumerate(results_list):\n",
    "    E_grid, Tau_grid = np.meshgrid(E_axis, Tau_axis, indexing='ij')\n",
    "    row = (i // 5) + 1\n",
    "    col = (i % 5) + 1\n",
    "\n",
    "    # For a common colorbar, all surfaces use the same color range.\n",
    "    # We enable the colorbar (showscale=True) only for the first trace.\n",
    "    surf = go.Surface(\n",
    "        x=E_grid,       # E dimension\n",
    "        y=Tau_grid,     # tau dimension\n",
    "        z=RhoMatrix,    # rho values\n",
    "        colorscale=\"Viridis\",\n",
    "        cmin=global_min,\n",
    "        cmax=global_max,\n",
    "        showscale=True if i == 0 else False,\n",
    "        # Customize the colorbar for the first subplot\n",
    "        colorbar=dict(\n",
    "            title=\"rho\",\n",
    "            titleside=\"right\",\n",
    "            x=1.02,  \n",
    "            # adjust the shrink ratio to make the colorbar shorter\n",
    "            len=0.3\n",
    "        ) if i == 0 else None\n",
    "    )\n",
    "\n",
    "    fig.add_trace(surf, row=row, col=col)\n",
    "\n",
    "# Update overall layout with adjusted margins for better label visibility\n",
    "fig.update_layout(\n",
    "    height=1600,\n",
    "    width=2800,\n",
    "    margin=dict(l=50, r=50, t=80, b=50),\n",
    ")\n",
    "\n",
    "# ---------------------------------------------------------------------\n",
    "# 3. Adjust the viewing angle (camera) for each subplot\n",
    "# ---------------------------------------------------------------------\n",
    "# Loop over each subplot scene and set the camera view.\n",
    "# Note: The first scene is named 'scene', and subsequent ones as 'scene2', 'scene3', etc.\n",
    "for i in range(1, len(results_list)+1):\n",
    "    scene_id = f'scene{i}' if i > 1 else 'scene'\n",
    "    fig.layout[scene_id].update(\n",
    "        xaxis_title=\"E\",\n",
    "        yaxis_title=\"tau\",\n",
    "        zaxis_title=\"rho\",\n",
    "        camera=dict(\n",
    "            eye=dict(x=1, y=2, z=3)  \n",
    "        )\n",
    "    )\n",
    "\n",
    "fig.show()\n"
   ]
  },
  {
   "cell_type": "code",
   "execution_count": null,
   "metadata": {},
   "outputs": [],
   "source": [
    "# fig.write_image(\"surface_plots.png\", width=1400, height=800, scale=3)\n",
    "fig.write_image(\"surface_plots.svg\", width=1400, height=800)"
   ]
  },
  {
   "cell_type": "code",
   "execution_count": null,
   "metadata": {},
   "outputs": [],
   "source": []
  },
  {
   "cell_type": "code",
   "execution_count": null,
   "metadata": {},
   "outputs": [],
   "source": []
  },
  {
   "cell_type": "code",
   "execution_count": null,
   "metadata": {},
   "outputs": [],
   "source": []
  },
  {
   "cell_type": "code",
   "execution_count": null,
   "metadata": {},
   "outputs": [],
   "source": []
  },
  {
   "cell_type": "code",
   "execution_count": 2,
   "metadata": {},
   "outputs": [
    {
     "name": "stderr",
     "output_type": "stream",
     "text": [
      "d:\\Users\\User\\anaconda3\\envs\\pz_venv_causal\\lib\\site-packages\\xarray\\coding\\variables.py:147: FutureWarning: elementwise comparison failed; returning scalar instead, but in the future will perform elementwise comparison\n",
      "  condition |= data == fv\n",
      "d:\\Users\\User\\anaconda3\\envs\\pz_venv_causal\\lib\\site-packages\\xarray\\coding\\variables.py:147: FutureWarning: elementwise comparison failed; returning scalar instead, but in the future will perform elementwise comparison\n",
      "  condition |= data == fv\n",
      "d:\\Users\\User\\anaconda3\\envs\\pz_venv_causal\\lib\\site-packages\\xarray\\coding\\variables.py:147: FutureWarning: elementwise comparison failed; returning scalar instead, but in the future will perform elementwise comparison\n",
      "  condition |= data == fv\n",
      "d:\\Users\\User\\anaconda3\\envs\\pz_venv_causal\\lib\\site-packages\\xarray\\coding\\variables.py:147: FutureWarning: elementwise comparison failed; returning scalar instead, but in the future will perform elementwise comparison\n",
      "  condition |= data == fv\n",
      "d:\\Users\\User\\anaconda3\\envs\\pz_venv_causal\\lib\\site-packages\\xarray\\coding\\variables.py:147: FutureWarning: elementwise comparison failed; returning scalar instead, but in the future will perform elementwise comparison\n",
      "  condition |= data == fv\n",
      "d:\\Users\\User\\anaconda3\\envs\\pz_venv_causal\\lib\\site-packages\\xarray\\coding\\variables.py:147: FutureWarning: elementwise comparison failed; returning scalar instead, but in the future will perform elementwise comparison\n",
      "  condition |= data == fv\n",
      "d:\\Users\\User\\anaconda3\\envs\\pz_venv_causal\\lib\\site-packages\\xarray\\coding\\variables.py:147: FutureWarning: elementwise comparison failed; returning scalar instead, but in the future will perform elementwise comparison\n",
      "  condition |= data == fv\n",
      "d:\\Users\\User\\anaconda3\\envs\\pz_venv_causal\\lib\\site-packages\\xarray\\coding\\variables.py:147: FutureWarning: elementwise comparison failed; returning scalar instead, but in the future will perform elementwise comparison\n",
      "  condition |= data == fv\n",
      "d:\\Users\\User\\anaconda3\\envs\\pz_venv_causal\\lib\\site-packages\\xarray\\coding\\variables.py:147: FutureWarning: elementwise comparison failed; returning scalar instead, but in the future will perform elementwise comparison\n",
      "  condition |= data == fv\n",
      "d:\\Users\\User\\anaconda3\\envs\\pz_venv_causal\\lib\\site-packages\\xarray\\coding\\variables.py:147: FutureWarning: elementwise comparison failed; returning scalar instead, but in the future will perform elementwise comparison\n",
      "  condition |= data == fv\n"
     ]
    },
    {
     "data": {
      "application/vnd.plotly.v1+json": {
       "config": {
        "plotlyServerURL": "https://plot.ly"
       },
       "data": [
        {
         "colorscale": [
          [
           0,
           "#440154"
          ],
          [
           0.1111111111111111,
           "#482878"
          ],
          [
           0.2222222222222222,
           "#3e4989"
          ],
          [
           0.3333333333333333,
           "#31688e"
          ],
          [
           0.4444444444444444,
           "#26828e"
          ],
          [
           0.5555555555555556,
           "#1f9e89"
          ],
          [
           0.6666666666666666,
           "#35b779"
          ],
          [
           0.7777777777777778,
           "#6ece58"
          ],
          [
           0.8888888888888888,
           "#b5de2b"
          ],
          [
           1,
           "#fde725"
          ]
         ],
         "scene": "scene",
         "showscale": false,
         "type": "surface",
         "x": [
          [
           1,
           1,
           1,
           1,
           1,
           1,
           1,
           1,
           1,
           1
          ],
          [
           2,
           2,
           2,
           2,
           2,
           2,
           2,
           2,
           2,
           2
          ],
          [
           3,
           3,
           3,
           3,
           3,
           3,
           3,
           3,
           3,
           3
          ],
          [
           4,
           4,
           4,
           4,
           4,
           4,
           4,
           4,
           4,
           4
          ],
          [
           5,
           5,
           5,
           5,
           5,
           5,
           5,
           5,
           5,
           5
          ]
         ],
         "y": [
          [
           1,
           2,
           3,
           4,
           5,
           6,
           7,
           8,
           9,
           10
          ],
          [
           1,
           2,
           3,
           4,
           5,
           6,
           7,
           8,
           9,
           10
          ],
          [
           1,
           2,
           3,
           4,
           5,
           6,
           7,
           8,
           9,
           10
          ],
          [
           1,
           2,
           3,
           4,
           5,
           6,
           7,
           8,
           9,
           10
          ],
          [
           1,
           2,
           3,
           4,
           5,
           6,
           7,
           8,
           9,
           10
          ]
         ],
         "z": [
          [
           0.8375619636877429,
           0.8375619636877429,
           0.8375619636877429,
           0.8375619636877429,
           0.8375619636877429,
           0.8375619636877429,
           0.8375619636877429,
           0.8375619636877429,
           0.8375619636877429,
           0.8375619636877429
          ],
          [
           0.8697379937078378,
           0.8315409053280122,
           0.9308983435815267,
           0.9740123806132288,
           0.9710998619254259,
           0.9652278551296652,
           0.9724946248374347,
           0.9593228673686548,
           0.9454192906016472,
           0.9584014596901514
          ],
          [
           0.8625891127954551,
           0.9370594161908589,
           0.9696154655317655,
           0.9803785065770279,
           0.9790630688198335,
           0.953216503613059,
           0.941790050035736,
           0.9287884808860569,
           0.8728801790006384,
           0.8220352785255751
          ],
          [
           0.8806828340832044,
           0.9636091129016247,
           0.9744963442415019,
           0.9632984831781018,
           0.9318957642070779,
           0.8701618278890078,
           0.7864200861267703,
           0.7330821918972117,
           0.7392963719080387,
           0.7862350436461432
          ],
          [
           0.919335259985025,
           0.976522952354856,
           0.9613813877008007,
           0.9184160459950647,
           0.8082929419480651,
           0.7270661190792652,
           0.7510145063750029,
           0.829752304384351,
           0.9072591579828827,
           0.9321350784897688
          ]
         ]
        },
        {
         "colorscale": [
          [
           0,
           "#440154"
          ],
          [
           0.1111111111111111,
           "#482878"
          ],
          [
           0.2222222222222222,
           "#3e4989"
          ],
          [
           0.3333333333333333,
           "#31688e"
          ],
          [
           0.4444444444444444,
           "#26828e"
          ],
          [
           0.5555555555555556,
           "#1f9e89"
          ],
          [
           0.6666666666666666,
           "#35b779"
          ],
          [
           0.7777777777777778,
           "#6ece58"
          ],
          [
           0.8888888888888888,
           "#b5de2b"
          ],
          [
           1,
           "#fde725"
          ]
         ],
         "scene": "scene2",
         "showscale": false,
         "type": "surface",
         "x": [
          [
           1,
           1,
           1,
           1,
           1,
           1,
           1,
           1,
           1,
           1
          ],
          [
           2,
           2,
           2,
           2,
           2,
           2,
           2,
           2,
           2,
           2
          ],
          [
           3,
           3,
           3,
           3,
           3,
           3,
           3,
           3,
           3,
           3
          ],
          [
           4,
           4,
           4,
           4,
           4,
           4,
           4,
           4,
           4,
           4
          ],
          [
           5,
           5,
           5,
           5,
           5,
           5,
           5,
           5,
           5,
           5
          ]
         ],
         "y": [
          [
           1,
           2,
           3,
           4,
           5,
           6,
           7,
           8,
           9,
           10
          ],
          [
           1,
           2,
           3,
           4,
           5,
           6,
           7,
           8,
           9,
           10
          ],
          [
           1,
           2,
           3,
           4,
           5,
           6,
           7,
           8,
           9,
           10
          ],
          [
           1,
           2,
           3,
           4,
           5,
           6,
           7,
           8,
           9,
           10
          ],
          [
           1,
           2,
           3,
           4,
           5,
           6,
           7,
           8,
           9,
           10
          ]
         ],
         "z": [
          [
           0.7795215334753919,
           0.7795215334753919,
           0.7795215334753919,
           0.7795215334753919,
           0.7795215334753919,
           0.7795215334753919,
           0.7795215334753919,
           0.7795215334753919,
           0.7795215334753919,
           0.7795215334753919
          ],
          [
           0.9075419762896311,
           0.9544710147910339,
           0.9447546048146993,
           0.9267456236517542,
           0.9040833678587351,
           0.9108278848939253,
           0.9070872388229649,
           0.9091561881860437,
           0.9319557415422969,
           0.9426107167627227
          ],
          [
           0.9230134862445033,
           0.9189946507815154,
           0.8996447803028862,
           0.8879971600166462,
           0.9049200842786023,
           0.884481470578873,
           0.8634372208905623,
           0.8895573474373588,
           0.8779251761837001,
           0.8183485799253121
          ],
          [
           0.9115197612060495,
           0.885210683095992,
           0.8945956648550426,
           0.866314459451958,
           0.8354968904060516,
           0.8556526649491567,
           0.785143967512866,
           0.7339083047867047,
           0.7406925273234275,
           0.7864974074179999
          ],
          [
           0.8963596777877872,
           0.8835290438772895,
           0.8589975714365518,
           0.8312560758601888,
           0.7952793156275144,
           0.7279468958054485,
           0.750425929416301,
           0.8301061275384879,
           0.9074851043669354,
           0.93179179916083
          ]
         ]
        },
        {
         "colorscale": [
          [
           0,
           "#440154"
          ],
          [
           0.1111111111111111,
           "#482878"
          ],
          [
           0.2222222222222222,
           "#3e4989"
          ],
          [
           0.3333333333333333,
           "#31688e"
          ],
          [
           0.4444444444444444,
           "#26828e"
          ],
          [
           0.5555555555555556,
           "#1f9e89"
          ],
          [
           0.6666666666666666,
           "#35b779"
          ],
          [
           0.7777777777777778,
           "#6ece58"
          ],
          [
           0.8888888888888888,
           "#b5de2b"
          ],
          [
           1,
           "#fde725"
          ]
         ],
         "scene": "scene3",
         "showscale": false,
         "type": "surface",
         "x": [
          [
           1,
           1,
           1,
           1,
           1,
           1,
           1,
           1,
           1,
           1
          ],
          [
           2,
           2,
           2,
           2,
           2,
           2,
           2,
           2,
           2,
           2
          ],
          [
           3,
           3,
           3,
           3,
           3,
           3,
           3,
           3,
           3,
           3
          ],
          [
           4,
           4,
           4,
           4,
           4,
           4,
           4,
           4,
           4,
           4
          ],
          [
           5,
           5,
           5,
           5,
           5,
           5,
           5,
           5,
           5,
           5
          ]
         ],
         "y": [
          [
           1,
           2,
           3,
           4,
           5,
           6,
           7,
           8,
           9,
           10
          ],
          [
           1,
           2,
           3,
           4,
           5,
           6,
           7,
           8,
           9,
           10
          ],
          [
           1,
           2,
           3,
           4,
           5,
           6,
           7,
           8,
           9,
           10
          ],
          [
           1,
           2,
           3,
           4,
           5,
           6,
           7,
           8,
           9,
           10
          ],
          [
           1,
           2,
           3,
           4,
           5,
           6,
           7,
           8,
           9,
           10
          ]
         ],
         "z": [
          [
           0.751234910723342,
           0.751234910723342,
           0.751234910723342,
           0.751234910723342,
           0.751234910723342,
           0.751234910723342,
           0.751234910723342,
           0.751234910723342,
           0.751234910723342,
           0.751234910723342
          ],
          [
           0.876706851314655,
           0.9347584524408752,
           0.935740748234857,
           0.9028501526059028,
           0.8850145511712222,
           0.8784745040685797,
           0.8735229433093091,
           0.8707714013018816,
           0.8916716927824319,
           0.8812492891702522
          ],
          [
           0.9210232013559747,
           0.8942819258107074,
           0.8741976825070773,
           0.874112479791158,
           0.866106355323747,
           0.8454555976573621,
           0.8190861459148463,
           0.8281593297423985,
           0.8774299393956483,
           0.820992808842514
          ],
          [
           0.9063615293957716,
           0.8634538185405206,
           0.8564940631122597,
           0.8249975848274794,
           0.7989714016129769,
           0.8233782513675503,
           0.7784377148782564,
           0.7338152420056038,
           0.740544972597063,
           0.7865049705282722
          ],
          [
           0.8844568349449783,
           0.8518724546125183,
           0.8311814167084494,
           0.7773120825823365,
           0.7737301243964317,
           0.7270314699608555,
           0.7504390776863489,
           0.8303972215581996,
           0.9074945440794837,
           0.9312295297294187
          ]
         ]
        },
        {
         "colorscale": [
          [
           0,
           "#440154"
          ],
          [
           0.1111111111111111,
           "#482878"
          ],
          [
           0.2222222222222222,
           "#3e4989"
          ],
          [
           0.3333333333333333,
           "#31688e"
          ],
          [
           0.4444444444444444,
           "#26828e"
          ],
          [
           0.5555555555555556,
           "#1f9e89"
          ],
          [
           0.6666666666666666,
           "#35b779"
          ],
          [
           0.7777777777777778,
           "#6ece58"
          ],
          [
           0.8888888888888888,
           "#b5de2b"
          ],
          [
           1,
           "#fde725"
          ]
         ],
         "scene": "scene4",
         "showscale": false,
         "type": "surface",
         "x": [
          [
           1,
           1,
           1,
           1,
           1,
           1,
           1,
           1,
           1,
           1
          ],
          [
           2,
           2,
           2,
           2,
           2,
           2,
           2,
           2,
           2,
           2
          ],
          [
           3,
           3,
           3,
           3,
           3,
           3,
           3,
           3,
           3,
           3
          ],
          [
           4,
           4,
           4,
           4,
           4,
           4,
           4,
           4,
           4,
           4
          ],
          [
           5,
           5,
           5,
           5,
           5,
           5,
           5,
           5,
           5,
           5
          ]
         ],
         "y": [
          [
           1,
           2,
           3,
           4,
           5,
           6,
           7,
           8,
           9,
           10
          ],
          [
           1,
           2,
           3,
           4,
           5,
           6,
           7,
           8,
           9,
           10
          ],
          [
           1,
           2,
           3,
           4,
           5,
           6,
           7,
           8,
           9,
           10
          ],
          [
           1,
           2,
           3,
           4,
           5,
           6,
           7,
           8,
           9,
           10
          ],
          [
           1,
           2,
           3,
           4,
           5,
           6,
           7,
           8,
           9,
           10
          ]
         ],
         "z": [
          [
           0.6809088476270825,
           0.6809088476270825,
           0.6809088476270825,
           0.6809088476270825,
           0.6809088476270825,
           0.6809088476270825,
           0.6809088476270825,
           0.6809088476270825,
           0.6809088476270825,
           0.6809088476270825
          ],
          [
           0.7188928301329456,
           0.8040766497407839,
           0.8403758991087387,
           0.8305951943482395,
           0.8292801098164007,
           0.8574562902069488,
           0.8493800690863719,
           0.8732076661816098,
           0.9142994524704334,
           0.9519727817761271
          ],
          [
           0.7724130185888864,
           0.8522243764069233,
           0.8850950836432516,
           0.902429112561437,
           0.9591434726831972,
           0.9721306438228985,
           0.9603824680275601,
           0.9249058707749976,
           0.8746613557753208,
           0.8217584383350707
          ],
          [
           0.8089554288233439,
           0.8657728785783446,
           0.9276431439811255,
           0.9699542603502125,
           0.9463634164259805,
           0.8683765684825505,
           0.7842186952276491,
           0.7343754756211879,
           0.7402181517237936,
           0.8126938619533701
          ],
          [
           0.845028125622314,
           0.8952838910096513,
           0.9677920496215238,
           0.9170820996851184,
           0.8031038215913764,
           0.7289901667630179,
           0.7507821662708679,
           0.9198888200753589,
           0.9847605951259026,
           0.9010233966682905
          ]
         ]
        },
        {
         "colorscale": [
          [
           0,
           "#440154"
          ],
          [
           0.1111111111111111,
           "#482878"
          ],
          [
           0.2222222222222222,
           "#3e4989"
          ],
          [
           0.3333333333333333,
           "#31688e"
          ],
          [
           0.4444444444444444,
           "#26828e"
          ],
          [
           0.5555555555555556,
           "#1f9e89"
          ],
          [
           0.6666666666666666,
           "#35b779"
          ],
          [
           0.7777777777777778,
           "#6ece58"
          ],
          [
           0.8888888888888888,
           "#b5de2b"
          ],
          [
           1,
           "#fde725"
          ]
         ],
         "scene": "scene5",
         "showscale": false,
         "type": "surface",
         "x": [
          [
           1,
           1,
           1,
           1,
           1,
           1,
           1,
           1,
           1,
           1
          ],
          [
           2,
           2,
           2,
           2,
           2,
           2,
           2,
           2,
           2,
           2
          ],
          [
           3,
           3,
           3,
           3,
           3,
           3,
           3,
           3,
           3,
           3
          ],
          [
           4,
           4,
           4,
           4,
           4,
           4,
           4,
           4,
           4,
           4
          ],
          [
           5,
           5,
           5,
           5,
           5,
           5,
           5,
           5,
           5,
           5
          ]
         ],
         "y": [
          [
           1,
           2,
           3,
           4,
           5,
           6,
           7,
           8,
           9,
           10
          ],
          [
           1,
           2,
           3,
           4,
           5,
           6,
           7,
           8,
           9,
           10
          ],
          [
           1,
           2,
           3,
           4,
           5,
           6,
           7,
           8,
           9,
           10
          ],
          [
           1,
           2,
           3,
           4,
           5,
           6,
           7,
           8,
           9,
           10
          ],
          [
           1,
           2,
           3,
           4,
           5,
           6,
           7,
           8,
           9,
           10
          ]
         ],
         "z": [
          [
           0.8305367894483392,
           0.8305367894483392,
           0.8305367894483392,
           0.8305367894483392,
           0.8305367894483392,
           0.8305367894483392,
           0.8305367894483392,
           0.8305367894483392,
           0.8305367894483392,
           0.8305367894483392
          ],
          [
           0.90623179956321,
           0.9474184631174757,
           0.9634692656581192,
           0.9527774062477611,
           0.935044812104395,
           0.9483911259041544,
           0.9774729533163729,
           0.9855087922079065,
           0.9949181351517894,
           0.9928224586433553
          ],
          [
           0.935766163991932,
           0.9389311782963013,
           0.9335112578960878,
           0.9550244890606617,
           0.9651108065844971,
           0.9625638179452445,
           0.9496008375547407,
           0.9210652179005473,
           0.8782931800587819,
           0.821803495466518
          ],
          [
           0.9362234946694825,
           0.9297100021125032,
           0.9303785922606979,
           0.9302702446181081,
           0.9304753141098802,
           0.8694016285742631,
           0.7857763248575415,
           0.7332577162453117,
           0.7396179383279513,
           0.7862743132026445
          ],
          [
           0.9346723101071847,
           0.9191722384179346,
           0.9110947688201654,
           0.9064451850956787,
           0.8035453673350331,
           0.7283134841187177,
           0.7497452256995379,
           0.8296237803902663,
           0.9076961554251561,
           0.9321054134539887
          ]
         ]
        },
        {
         "colorscale": [
          [
           0,
           "#440154"
          ],
          [
           0.1111111111111111,
           "#482878"
          ],
          [
           0.2222222222222222,
           "#3e4989"
          ],
          [
           0.3333333333333333,
           "#31688e"
          ],
          [
           0.4444444444444444,
           "#26828e"
          ],
          [
           0.5555555555555556,
           "#1f9e89"
          ],
          [
           0.6666666666666666,
           "#35b779"
          ],
          [
           0.7777777777777778,
           "#6ece58"
          ],
          [
           0.8888888888888888,
           "#b5de2b"
          ],
          [
           1,
           "#fde725"
          ]
         ],
         "scene": "scene6",
         "showscale": false,
         "type": "surface",
         "x": [
          [
           1,
           1,
           1,
           1,
           1,
           1,
           1,
           1,
           1,
           1
          ],
          [
           2,
           2,
           2,
           2,
           2,
           2,
           2,
           2,
           2,
           2
          ],
          [
           3,
           3,
           3,
           3,
           3,
           3,
           3,
           3,
           3,
           3
          ],
          [
           4,
           4,
           4,
           4,
           4,
           4,
           4,
           4,
           4,
           4
          ],
          [
           5,
           5,
           5,
           5,
           5,
           5,
           5,
           5,
           5,
           5
          ]
         ],
         "y": [
          [
           1,
           2,
           3,
           4,
           5,
           6,
           7,
           8,
           9,
           10
          ],
          [
           1,
           2,
           3,
           4,
           5,
           6,
           7,
           8,
           9,
           10
          ],
          [
           1,
           2,
           3,
           4,
           5,
           6,
           7,
           8,
           9,
           10
          ],
          [
           1,
           2,
           3,
           4,
           5,
           6,
           7,
           8,
           9,
           10
          ],
          [
           1,
           2,
           3,
           4,
           5,
           6,
           7,
           8,
           9,
           10
          ]
         ],
         "z": [
          [
           0.6828322112201957,
           0.6828322112201957,
           0.6828322112201957,
           0.6828322112201957,
           0.6828322112201957,
           0.6828322112201957,
           0.6828322112201957,
           0.6828322112201957,
           0.6828322112201957,
           0.6828322112201957
          ],
          [
           0.7524320316146389,
           0.8562244304176585,
           0.8416942180705473,
           0.8795372659605709,
           0.9043360864717092,
           0.9213986661131215,
           0.9198446742106343,
           0.9338497738247366,
           0.9168078516372892,
           0.9030558471198956
          ],
          [
           0.8182455355227868,
           0.9000717956847782,
           0.9319994699859031,
           0.9593721924922606,
           0.9334285966802118,
           0.9436640380435635,
           0.8993454590666136,
           0.895143587977204,
           0.8613424983524163,
           0.7898067627744244
          ],
          [
           0.8555101260175315,
           0.940276097192083,
           0.9714543130288664,
           0.9659529756867822,
           0.9262179762404695,
           0.8628680022660862,
           0.7611276705087134,
           0.7227691532798487,
           0.7344614290787133,
           0.7800047293715483
          ],
          [
           0.8825730987001758,
           0.9735373858990853,
           0.9704410376853345,
           0.9159677208658071,
           0.7875183546908362,
           0.7201501489513851,
           0.7437172755885663,
           0.8277498645673107,
           0.9057261153535671,
           0.9299228910546141
          ]
         ]
        },
        {
         "colorscale": [
          [
           0,
           "#440154"
          ],
          [
           0.1111111111111111,
           "#482878"
          ],
          [
           0.2222222222222222,
           "#3e4989"
          ],
          [
           0.3333333333333333,
           "#31688e"
          ],
          [
           0.4444444444444444,
           "#26828e"
          ],
          [
           0.5555555555555556,
           "#1f9e89"
          ],
          [
           0.6666666666666666,
           "#35b779"
          ],
          [
           0.7777777777777778,
           "#6ece58"
          ],
          [
           0.8888888888888888,
           "#b5de2b"
          ],
          [
           1,
           "#fde725"
          ]
         ],
         "scene": "scene7",
         "showscale": false,
         "type": "surface",
         "x": [
          [
           1,
           1,
           1,
           1,
           1,
           1,
           1,
           1,
           1,
           1
          ],
          [
           2,
           2,
           2,
           2,
           2,
           2,
           2,
           2,
           2,
           2
          ],
          [
           3,
           3,
           3,
           3,
           3,
           3,
           3,
           3,
           3,
           3
          ],
          [
           4,
           4,
           4,
           4,
           4,
           4,
           4,
           4,
           4,
           4
          ],
          [
           5,
           5,
           5,
           5,
           5,
           5,
           5,
           5,
           5,
           5
          ]
         ],
         "y": [
          [
           1,
           2,
           3,
           4,
           5,
           6,
           7,
           8,
           9,
           10
          ],
          [
           1,
           2,
           3,
           4,
           5,
           6,
           7,
           8,
           9,
           10
          ],
          [
           1,
           2,
           3,
           4,
           5,
           6,
           7,
           8,
           9,
           10
          ],
          [
           1,
           2,
           3,
           4,
           5,
           6,
           7,
           8,
           9,
           10
          ],
          [
           1,
           2,
           3,
           4,
           5,
           6,
           7,
           8,
           9,
           10
          ]
         ],
         "z": [
          [
           0.7467841530957321,
           0.7467841530957321,
           0.7467841530957321,
           0.7467841530957321,
           0.7467841530957321,
           0.7467841530957321,
           0.7467841530957321,
           0.7467841530957321,
           0.7467841530957321,
           0.7467841530957321
          ],
          [
           0.7676642969269887,
           0.8584169965782732,
           0.8389395409659511,
           0.8697241708064101,
           0.8719792631116605,
           0.9081316074524354,
           0.9138824646098271,
           0.9269767622712741,
           0.9162226173027407,
           0.9041458128954784
          ],
          [
           0.8332241178272054,
           0.9112939314621025,
           0.9329381613500614,
           0.9565756229646354,
           0.9290322259642038,
           0.9161289591551288,
           0.9044088594055081,
           0.8721560356999276,
           0.8416076903778078,
           0.7875031958828109
          ],
          [
           0.8638459453378613,
           0.9561695594532792,
           0.970246555768406,
           0.9591677502589161,
           0.9142443570555795,
           0.8398397121999249,
           0.7544978308772248,
           0.7248020009076809,
           0.733406299939833,
           0.7742736267077311
          ],
          [
           0.8872946227576318,
           0.9778464817997462,
           0.9634110171713628,
           0.912806073274333,
           0.781234068631558,
           0.716768886752699,
           0.7414911630112344,
           0.8270481139150219,
           0.9045390318265641,
           0.9287695227252274
          ]
         ]
        },
        {
         "colorscale": [
          [
           0,
           "#440154"
          ],
          [
           0.1111111111111111,
           "#482878"
          ],
          [
           0.2222222222222222,
           "#3e4989"
          ],
          [
           0.3333333333333333,
           "#31688e"
          ],
          [
           0.4444444444444444,
           "#26828e"
          ],
          [
           0.5555555555555556,
           "#1f9e89"
          ],
          [
           0.6666666666666666,
           "#35b779"
          ],
          [
           0.7777777777777778,
           "#6ece58"
          ],
          [
           0.8888888888888888,
           "#b5de2b"
          ],
          [
           1,
           "#fde725"
          ]
         ],
         "scene": "scene8",
         "showscale": false,
         "type": "surface",
         "x": [
          [
           1,
           1,
           1,
           1,
           1,
           1,
           1,
           1,
           1,
           1
          ],
          [
           2,
           2,
           2,
           2,
           2,
           2,
           2,
           2,
           2,
           2
          ],
          [
           3,
           3,
           3,
           3,
           3,
           3,
           3,
           3,
           3,
           3
          ],
          [
           4,
           4,
           4,
           4,
           4,
           4,
           4,
           4,
           4,
           4
          ],
          [
           5,
           5,
           5,
           5,
           5,
           5,
           5,
           5,
           5,
           5
          ]
         ],
         "y": [
          [
           1,
           2,
           3,
           4,
           5,
           6,
           7,
           8,
           9,
           10
          ],
          [
           1,
           2,
           3,
           4,
           5,
           6,
           7,
           8,
           9,
           10
          ],
          [
           1,
           2,
           3,
           4,
           5,
           6,
           7,
           8,
           9,
           10
          ],
          [
           1,
           2,
           3,
           4,
           5,
           6,
           7,
           8,
           9,
           10
          ],
          [
           1,
           2,
           3,
           4,
           5,
           6,
           7,
           8,
           9,
           10
          ]
         ],
         "z": [
          [
           0.7284406702288049,
           0.7284406702288049,
           0.7284406702288049,
           0.7284406702288049,
           0.7284406702288049,
           0.7284406702288049,
           0.7284406702288049,
           0.7284406702288049,
           0.7284406702288049,
           0.7284406702288049
          ],
          [
           0.8561588359371214,
           0.9377233911887578,
           0.9472985473725527,
           0.9405277221082056,
           0.931446772247091,
           0.9441349916277746,
           0.9532366066207699,
           0.9531139039178845,
           0.9491552702938965,
           0.9417531028700608
          ],
          [
           0.9017919642488585,
           0.9427870650489343,
           0.9587157923897721,
           0.9788388800847856,
           0.9833506599450929,
           0.9667198237098233,
           0.9451279418126257,
           0.9193553235921508,
           0.876399250626148,
           0.8155388861612827
          ],
          [
           0.9129547002290074,
           0.9389438768681079,
           0.9767010192309346,
           0.9762808651996931,
           0.9417997493898242,
           0.8717617438487616,
           0.7801143970585881,
           0.7313821797102898,
           0.737681851499011,
           0.7843333770822636
          ],
          [
           0.9212978693718994,
           0.9635210097933736,
           0.9733875031268201,
           0.9204787286931897,
           0.8057453078478409,
           0.7251404457043813,
           0.7482499537803533,
           0.8289949631247634,
           0.9066241338140465,
           0.9307348075148411
          ]
         ]
        },
        {
         "colorscale": [
          [
           0,
           "#440154"
          ],
          [
           0.1111111111111111,
           "#482878"
          ],
          [
           0.2222222222222222,
           "#3e4989"
          ],
          [
           0.3333333333333333,
           "#31688e"
          ],
          [
           0.4444444444444444,
           "#26828e"
          ],
          [
           0.5555555555555556,
           "#1f9e89"
          ],
          [
           0.6666666666666666,
           "#35b779"
          ],
          [
           0.7777777777777778,
           "#6ece58"
          ],
          [
           0.8888888888888888,
           "#b5de2b"
          ],
          [
           1,
           "#fde725"
          ]
         ],
         "scene": "scene9",
         "showscale": false,
         "type": "surface",
         "x": [
          [
           1,
           1,
           1,
           1,
           1,
           1,
           1,
           1,
           1,
           1
          ],
          [
           2,
           2,
           2,
           2,
           2,
           2,
           2,
           2,
           2,
           2
          ],
          [
           3,
           3,
           3,
           3,
           3,
           3,
           3,
           3,
           3,
           3
          ],
          [
           4,
           4,
           4,
           4,
           4,
           4,
           4,
           4,
           4,
           4
          ],
          [
           5,
           5,
           5,
           5,
           5,
           5,
           5,
           5,
           5,
           5
          ]
         ],
         "y": [
          [
           1,
           2,
           3,
           4,
           5,
           6,
           7,
           8,
           9,
           10
          ],
          [
           1,
           2,
           3,
           4,
           5,
           6,
           7,
           8,
           9,
           10
          ],
          [
           1,
           2,
           3,
           4,
           5,
           6,
           7,
           8,
           9,
           10
          ],
          [
           1,
           2,
           3,
           4,
           5,
           6,
           7,
           8,
           9,
           10
          ],
          [
           1,
           2,
           3,
           4,
           5,
           6,
           7,
           8,
           9,
           10
          ]
         ],
         "z": [
          [
           0.7509688395514896,
           0.7509688395514896,
           0.7509688395514896,
           0.7509688395514896,
           0.7509688395514896,
           0.7509688395514896,
           0.7509688395514896,
           0.7509688395514896,
           0.7509688395514896,
           0.7509688395514896
          ],
          [
           0.7936799949205828,
           0.8321826746333871,
           0.832664893979464,
           0.8073042392655829,
           0.8302115804222072,
           0.8915225071875709,
           0.8935054493015406,
           0.9184983955936544,
           0.9419312258487597,
           0.9392133886643117
          ],
          [
           0.8291826746189614,
           0.8830888102981943,
           0.9475924861878445,
           0.9585295026824749,
           0.9694908877980781,
           0.9419702297923364,
           0.9077947092987965,
           0.8533586979345872,
           0.8126466274768978,
           0.7564089071648882
          ],
          [
           0.8339628272526395,
           0.9476933193572141,
           0.9700314744378996,
           0.945732574332494,
           0.9176762942299908,
           0.81537005774052,
           0.7297972624868116,
           0.6727296720928332,
           0.7030603097429091,
           0.7564748291132837
          ],
          [
           0.8617563880639815,
           0.9560619643301593,
           0.9561140945523106,
           0.8683645771119519,
           0.7512069522654254,
           0.6834352196386054,
           0.7061101550032135,
           0.803255752829254,
           0.8929338123969252,
           0.9298799501077155
          ]
         ]
        },
        {
         "colorscale": [
          [
           0,
           "#440154"
          ],
          [
           0.1111111111111111,
           "#482878"
          ],
          [
           0.2222222222222222,
           "#3e4989"
          ],
          [
           0.3333333333333333,
           "#31688e"
          ],
          [
           0.4444444444444444,
           "#26828e"
          ],
          [
           0.5555555555555556,
           "#1f9e89"
          ],
          [
           0.6666666666666666,
           "#35b779"
          ],
          [
           0.7777777777777778,
           "#6ece58"
          ],
          [
           0.8888888888888888,
           "#b5de2b"
          ],
          [
           1,
           "#fde725"
          ]
         ],
         "scene": "scene10",
         "showscale": false,
         "type": "surface",
         "x": [
          [
           1,
           1,
           1,
           1,
           1,
           1,
           1,
           1,
           1,
           1
          ],
          [
           2,
           2,
           2,
           2,
           2,
           2,
           2,
           2,
           2,
           2
          ],
          [
           3,
           3,
           3,
           3,
           3,
           3,
           3,
           3,
           3,
           3
          ],
          [
           4,
           4,
           4,
           4,
           4,
           4,
           4,
           4,
           4,
           4
          ],
          [
           5,
           5,
           5,
           5,
           5,
           5,
           5,
           5,
           5,
           5
          ]
         ],
         "y": [
          [
           1,
           2,
           3,
           4,
           5,
           6,
           7,
           8,
           9,
           10
          ],
          [
           1,
           2,
           3,
           4,
           5,
           6,
           7,
           8,
           9,
           10
          ],
          [
           1,
           2,
           3,
           4,
           5,
           6,
           7,
           8,
           9,
           10
          ],
          [
           1,
           2,
           3,
           4,
           5,
           6,
           7,
           8,
           9,
           10
          ],
          [
           1,
           2,
           3,
           4,
           5,
           6,
           7,
           8,
           9,
           10
          ]
         ],
         "z": [
          [
           0.5667955584162265,
           0.5667955584162265,
           0.5667955584162265,
           0.5667955584162265,
           0.5667955584162265,
           0.5667955584162265,
           0.5667955584162265,
           0.5667955584162265,
           0.5667955584162265,
           0.5667955584162265
          ],
          [
           0.733607324358681,
           0.7032327844530245,
           0.8343241215387214,
           0.9113313020848532,
           0.9305570850545555,
           0.9179228447455668,
           0.9518133351598015,
           0.9468463913902172,
           0.9639959172122082,
           0.9549035938839003
          ],
          [
           0.7827638642207317,
           0.8926505024221398,
           0.9301804199635795,
           0.9616232425502976,
           0.9724969241084596,
           0.964200712607004,
           0.9503236973740109,
           0.923744353980929,
           0.8750775891224499,
           0.8198324532625034
          ],
          [
           0.8192142982823211,
           0.9439760620209684,
           0.9774329104464634,
           0.966193479413955,
           0.9437837257088234,
           0.8717859901759106,
           0.7857238762209444,
           0.7318093669174052,
           0.7380786489058513,
           0.7862935379524004
          ],
          [
           0.8641321410764833,
           0.9699532222765682,
           0.9689767419272146,
           0.9211045560384556,
           0.8055974882762769,
           0.7268605456511875,
           0.7500430127384846,
           0.8295903531359832,
           0.906668088693826,
           0.9314507620046636
          ]
         ]
        }
       ],
       "layout": {
        "annotations": [
         {
          "font": {
           "size": 16
          },
          "showarrow": false,
          "text": "lat=57.79, lon=62.50",
          "x": 0.088,
          "xanchor": "center",
          "xref": "paper",
          "y": 1,
          "yanchor": "bottom",
          "yref": "paper"
         },
         {
          "font": {
           "size": 16
          },
          "showarrow": false,
          "text": "lat=42.63, lon=182.50",
          "x": 0.294,
          "xanchor": "center",
          "xref": "paper",
          "y": 1,
          "yanchor": "bottom",
          "yref": "paper"
         },
         {
          "font": {
           "size": 16
          },
          "showarrow": false,
          "text": "lat=44.53, lon=187.50",
          "x": 0.5,
          "xanchor": "center",
          "xref": "paper",
          "y": 1,
          "yanchor": "bottom",
          "yref": "paper"
         },
         {
          "font": {
           "size": 16
          },
          "showarrow": false,
          "text": "lat=-36.95, lon=295.00",
          "x": 0.706,
          "xanchor": "center",
          "xref": "paper",
          "y": 1,
          "yanchor": "bottom",
          "yref": "paper"
         },
         {
          "font": {
           "size": 16
          },
          "showarrow": false,
          "text": "lat=4.74, lon=182.50",
          "x": 0.9119999999999999,
          "xanchor": "center",
          "xref": "paper",
          "y": 1,
          "yanchor": "bottom",
          "yref": "paper"
         },
         {
          "font": {
           "size": 16
          },
          "showarrow": false,
          "text": "lat=80.53, lon=152.50",
          "x": 0.088,
          "xanchor": "center",
          "xref": "paper",
          "y": 0.45,
          "yanchor": "bottom",
          "yref": "paper"
         },
         {
          "font": {
           "size": 16
          },
          "showarrow": false,
          "text": "lat=90.00, lon=310.00",
          "x": 0.294,
          "xanchor": "center",
          "xref": "paper",
          "y": 0.45,
          "yanchor": "bottom",
          "yref": "paper"
         },
         {
          "font": {
           "size": 16
          },
          "showarrow": false,
          "text": "lat=63.47, lon=172.50",
          "x": 0.5,
          "xanchor": "center",
          "xref": "paper",
          "y": 0.45,
          "yanchor": "bottom",
          "yref": "paper"
         },
         {
          "font": {
           "size": 16
          },
          "showarrow": false,
          "text": "lat=-69.16, lon=107.50",
          "x": 0.706,
          "xanchor": "center",
          "xref": "paper",
          "y": 0.45,
          "yanchor": "bottom",
          "yref": "paper"
         },
         {
          "font": {
           "size": 16
          },
          "showarrow": false,
          "text": "lat=29.37, lon=100.00",
          "x": 0.9119999999999999,
          "xanchor": "center",
          "xref": "paper",
          "y": 0.45,
          "yanchor": "bottom",
          "yref": "paper"
         }
        ],
        "height": 1600,
        "margin": {
         "b": 50,
         "l": 50,
         "r": 50,
         "t": 80
        },
        "scene": {
         "camera": {
          "eye": {
           "x": 1,
           "y": 2,
           "z": 3
          }
         },
         "domain": {
          "x": [
           0,
           0.176
          ],
          "y": [
           0.55,
           1
          ]
         },
         "xaxis": {
          "title": {
           "text": "E"
          }
         },
         "yaxis": {
          "title": {
           "text": "tau"
          }
         },
         "zaxis": {
          "title": {
           "text": "rho"
          }
         }
        },
        "scene10": {
         "camera": {
          "eye": {
           "x": 1,
           "y": 2,
           "z": 3
          }
         },
         "domain": {
          "x": [
           0.824,
           1
          ],
          "y": [
           0,
           0.45
          ]
         },
         "xaxis": {
          "title": {
           "text": "E"
          }
         },
         "yaxis": {
          "title": {
           "text": "tau"
          }
         },
         "zaxis": {
          "title": {
           "text": "rho"
          }
         }
        },
        "scene2": {
         "camera": {
          "eye": {
           "x": 1,
           "y": 2,
           "z": 3
          }
         },
         "domain": {
          "x": [
           0.206,
           0.382
          ],
          "y": [
           0.55,
           1
          ]
         },
         "xaxis": {
          "title": {
           "text": "E"
          }
         },
         "yaxis": {
          "title": {
           "text": "tau"
          }
         },
         "zaxis": {
          "title": {
           "text": "rho"
          }
         }
        },
        "scene3": {
         "camera": {
          "eye": {
           "x": 1,
           "y": 2,
           "z": 3
          }
         },
         "domain": {
          "x": [
           0.412,
           0.588
          ],
          "y": [
           0.55,
           1
          ]
         },
         "xaxis": {
          "title": {
           "text": "E"
          }
         },
         "yaxis": {
          "title": {
           "text": "tau"
          }
         },
         "zaxis": {
          "title": {
           "text": "rho"
          }
         }
        },
        "scene4": {
         "camera": {
          "eye": {
           "x": 1,
           "y": 2,
           "z": 3
          }
         },
         "domain": {
          "x": [
           0.618,
           0.794
          ],
          "y": [
           0.55,
           1
          ]
         },
         "xaxis": {
          "title": {
           "text": "E"
          }
         },
         "yaxis": {
          "title": {
           "text": "tau"
          }
         },
         "zaxis": {
          "title": {
           "text": "rho"
          }
         }
        },
        "scene5": {
         "camera": {
          "eye": {
           "x": 1,
           "y": 2,
           "z": 3
          }
         },
         "domain": {
          "x": [
           0.824,
           1
          ],
          "y": [
           0.55,
           1
          ]
         },
         "xaxis": {
          "title": {
           "text": "E"
          }
         },
         "yaxis": {
          "title": {
           "text": "tau"
          }
         },
         "zaxis": {
          "title": {
           "text": "rho"
          }
         }
        },
        "scene6": {
         "camera": {
          "eye": {
           "x": 1,
           "y": 2,
           "z": 3
          }
         },
         "domain": {
          "x": [
           0,
           0.176
          ],
          "y": [
           0,
           0.45
          ]
         },
         "xaxis": {
          "title": {
           "text": "E"
          }
         },
         "yaxis": {
          "title": {
           "text": "tau"
          }
         },
         "zaxis": {
          "title": {
           "text": "rho"
          }
         }
        },
        "scene7": {
         "camera": {
          "eye": {
           "x": 1,
           "y": 2,
           "z": 3
          }
         },
         "domain": {
          "x": [
           0.206,
           0.382
          ],
          "y": [
           0,
           0.45
          ]
         },
         "xaxis": {
          "title": {
           "text": "E"
          }
         },
         "yaxis": {
          "title": {
           "text": "tau"
          }
         },
         "zaxis": {
          "title": {
           "text": "rho"
          }
         }
        },
        "scene8": {
         "camera": {
          "eye": {
           "x": 1,
           "y": 2,
           "z": 3
          }
         },
         "domain": {
          "x": [
           0.412,
           0.588
          ],
          "y": [
           0,
           0.45
          ]
         },
         "xaxis": {
          "title": {
           "text": "E"
          }
         },
         "yaxis": {
          "title": {
           "text": "tau"
          }
         },
         "zaxis": {
          "title": {
           "text": "rho"
          }
         }
        },
        "scene9": {
         "camera": {
          "eye": {
           "x": 1,
           "y": 2,
           "z": 3
          }
         },
         "domain": {
          "x": [
           0.618,
           0.794
          ],
          "y": [
           0,
           0.45
          ]
         },
         "xaxis": {
          "title": {
           "text": "E"
          }
         },
         "yaxis": {
          "title": {
           "text": "tau"
          }
         },
         "zaxis": {
          "title": {
           "text": "rho"
          }
         }
        },
        "template": {
         "data": {
          "bar": [
           {
            "error_x": {
             "color": "#2a3f5f"
            },
            "error_y": {
             "color": "#2a3f5f"
            },
            "marker": {
             "line": {
              "color": "#E5ECF6",
              "width": 0.5
             },
             "pattern": {
              "fillmode": "overlay",
              "size": 10,
              "solidity": 0.2
             }
            },
            "type": "bar"
           }
          ],
          "barpolar": [
           {
            "marker": {
             "line": {
              "color": "#E5ECF6",
              "width": 0.5
             },
             "pattern": {
              "fillmode": "overlay",
              "size": 10,
              "solidity": 0.2
             }
            },
            "type": "barpolar"
           }
          ],
          "carpet": [
           {
            "aaxis": {
             "endlinecolor": "#2a3f5f",
             "gridcolor": "white",
             "linecolor": "white",
             "minorgridcolor": "white",
             "startlinecolor": "#2a3f5f"
            },
            "baxis": {
             "endlinecolor": "#2a3f5f",
             "gridcolor": "white",
             "linecolor": "white",
             "minorgridcolor": "white",
             "startlinecolor": "#2a3f5f"
            },
            "type": "carpet"
           }
          ],
          "choropleth": [
           {
            "colorbar": {
             "outlinewidth": 0,
             "ticks": ""
            },
            "type": "choropleth"
           }
          ],
          "contour": [
           {
            "colorbar": {
             "outlinewidth": 0,
             "ticks": ""
            },
            "colorscale": [
             [
              0,
              "#0d0887"
             ],
             [
              0.1111111111111111,
              "#46039f"
             ],
             [
              0.2222222222222222,
              "#7201a8"
             ],
             [
              0.3333333333333333,
              "#9c179e"
             ],
             [
              0.4444444444444444,
              "#bd3786"
             ],
             [
              0.5555555555555556,
              "#d8576b"
             ],
             [
              0.6666666666666666,
              "#ed7953"
             ],
             [
              0.7777777777777778,
              "#fb9f3a"
             ],
             [
              0.8888888888888888,
              "#fdca26"
             ],
             [
              1,
              "#f0f921"
             ]
            ],
            "type": "contour"
           }
          ],
          "contourcarpet": [
           {
            "colorbar": {
             "outlinewidth": 0,
             "ticks": ""
            },
            "type": "contourcarpet"
           }
          ],
          "heatmap": [
           {
            "colorbar": {
             "outlinewidth": 0,
             "ticks": ""
            },
            "colorscale": [
             [
              0,
              "#0d0887"
             ],
             [
              0.1111111111111111,
              "#46039f"
             ],
             [
              0.2222222222222222,
              "#7201a8"
             ],
             [
              0.3333333333333333,
              "#9c179e"
             ],
             [
              0.4444444444444444,
              "#bd3786"
             ],
             [
              0.5555555555555556,
              "#d8576b"
             ],
             [
              0.6666666666666666,
              "#ed7953"
             ],
             [
              0.7777777777777778,
              "#fb9f3a"
             ],
             [
              0.8888888888888888,
              "#fdca26"
             ],
             [
              1,
              "#f0f921"
             ]
            ],
            "type": "heatmap"
           }
          ],
          "heatmapgl": [
           {
            "colorbar": {
             "outlinewidth": 0,
             "ticks": ""
            },
            "colorscale": [
             [
              0,
              "#0d0887"
             ],
             [
              0.1111111111111111,
              "#46039f"
             ],
             [
              0.2222222222222222,
              "#7201a8"
             ],
             [
              0.3333333333333333,
              "#9c179e"
             ],
             [
              0.4444444444444444,
              "#bd3786"
             ],
             [
              0.5555555555555556,
              "#d8576b"
             ],
             [
              0.6666666666666666,
              "#ed7953"
             ],
             [
              0.7777777777777778,
              "#fb9f3a"
             ],
             [
              0.8888888888888888,
              "#fdca26"
             ],
             [
              1,
              "#f0f921"
             ]
            ],
            "type": "heatmapgl"
           }
          ],
          "histogram": [
           {
            "marker": {
             "pattern": {
              "fillmode": "overlay",
              "size": 10,
              "solidity": 0.2
             }
            },
            "type": "histogram"
           }
          ],
          "histogram2d": [
           {
            "colorbar": {
             "outlinewidth": 0,
             "ticks": ""
            },
            "colorscale": [
             [
              0,
              "#0d0887"
             ],
             [
              0.1111111111111111,
              "#46039f"
             ],
             [
              0.2222222222222222,
              "#7201a8"
             ],
             [
              0.3333333333333333,
              "#9c179e"
             ],
             [
              0.4444444444444444,
              "#bd3786"
             ],
             [
              0.5555555555555556,
              "#d8576b"
             ],
             [
              0.6666666666666666,
              "#ed7953"
             ],
             [
              0.7777777777777778,
              "#fb9f3a"
             ],
             [
              0.8888888888888888,
              "#fdca26"
             ],
             [
              1,
              "#f0f921"
             ]
            ],
            "type": "histogram2d"
           }
          ],
          "histogram2dcontour": [
           {
            "colorbar": {
             "outlinewidth": 0,
             "ticks": ""
            },
            "colorscale": [
             [
              0,
              "#0d0887"
             ],
             [
              0.1111111111111111,
              "#46039f"
             ],
             [
              0.2222222222222222,
              "#7201a8"
             ],
             [
              0.3333333333333333,
              "#9c179e"
             ],
             [
              0.4444444444444444,
              "#bd3786"
             ],
             [
              0.5555555555555556,
              "#d8576b"
             ],
             [
              0.6666666666666666,
              "#ed7953"
             ],
             [
              0.7777777777777778,
              "#fb9f3a"
             ],
             [
              0.8888888888888888,
              "#fdca26"
             ],
             [
              1,
              "#f0f921"
             ]
            ],
            "type": "histogram2dcontour"
           }
          ],
          "mesh3d": [
           {
            "colorbar": {
             "outlinewidth": 0,
             "ticks": ""
            },
            "type": "mesh3d"
           }
          ],
          "parcoords": [
           {
            "line": {
             "colorbar": {
              "outlinewidth": 0,
              "ticks": ""
             }
            },
            "type": "parcoords"
           }
          ],
          "pie": [
           {
            "automargin": true,
            "type": "pie"
           }
          ],
          "scatter": [
           {
            "fillpattern": {
             "fillmode": "overlay",
             "size": 10,
             "solidity": 0.2
            },
            "type": "scatter"
           }
          ],
          "scatter3d": [
           {
            "line": {
             "colorbar": {
              "outlinewidth": 0,
              "ticks": ""
             }
            },
            "marker": {
             "colorbar": {
              "outlinewidth": 0,
              "ticks": ""
             }
            },
            "type": "scatter3d"
           }
          ],
          "scattercarpet": [
           {
            "marker": {
             "colorbar": {
              "outlinewidth": 0,
              "ticks": ""
             }
            },
            "type": "scattercarpet"
           }
          ],
          "scattergeo": [
           {
            "marker": {
             "colorbar": {
              "outlinewidth": 0,
              "ticks": ""
             }
            },
            "type": "scattergeo"
           }
          ],
          "scattergl": [
           {
            "marker": {
             "colorbar": {
              "outlinewidth": 0,
              "ticks": ""
             }
            },
            "type": "scattergl"
           }
          ],
          "scattermapbox": [
           {
            "marker": {
             "colorbar": {
              "outlinewidth": 0,
              "ticks": ""
             }
            },
            "type": "scattermapbox"
           }
          ],
          "scatterpolar": [
           {
            "marker": {
             "colorbar": {
              "outlinewidth": 0,
              "ticks": ""
             }
            },
            "type": "scatterpolar"
           }
          ],
          "scatterpolargl": [
           {
            "marker": {
             "colorbar": {
              "outlinewidth": 0,
              "ticks": ""
             }
            },
            "type": "scatterpolargl"
           }
          ],
          "scatterternary": [
           {
            "marker": {
             "colorbar": {
              "outlinewidth": 0,
              "ticks": ""
             }
            },
            "type": "scatterternary"
           }
          ],
          "surface": [
           {
            "colorbar": {
             "outlinewidth": 0,
             "ticks": ""
            },
            "colorscale": [
             [
              0,
              "#0d0887"
             ],
             [
              0.1111111111111111,
              "#46039f"
             ],
             [
              0.2222222222222222,
              "#7201a8"
             ],
             [
              0.3333333333333333,
              "#9c179e"
             ],
             [
              0.4444444444444444,
              "#bd3786"
             ],
             [
              0.5555555555555556,
              "#d8576b"
             ],
             [
              0.6666666666666666,
              "#ed7953"
             ],
             [
              0.7777777777777778,
              "#fb9f3a"
             ],
             [
              0.8888888888888888,
              "#fdca26"
             ],
             [
              1,
              "#f0f921"
             ]
            ],
            "type": "surface"
           }
          ],
          "table": [
           {
            "cells": {
             "fill": {
              "color": "#EBF0F8"
             },
             "line": {
              "color": "white"
             }
            },
            "header": {
             "fill": {
              "color": "#C8D4E3"
             },
             "line": {
              "color": "white"
             }
            },
            "type": "table"
           }
          ]
         },
         "layout": {
          "annotationdefaults": {
           "arrowcolor": "#2a3f5f",
           "arrowhead": 0,
           "arrowwidth": 1
          },
          "autotypenumbers": "strict",
          "coloraxis": {
           "colorbar": {
            "outlinewidth": 0,
            "ticks": ""
           }
          },
          "colorscale": {
           "diverging": [
            [
             0,
             "#8e0152"
            ],
            [
             0.1,
             "#c51b7d"
            ],
            [
             0.2,
             "#de77ae"
            ],
            [
             0.3,
             "#f1b6da"
            ],
            [
             0.4,
             "#fde0ef"
            ],
            [
             0.5,
             "#f7f7f7"
            ],
            [
             0.6,
             "#e6f5d0"
            ],
            [
             0.7,
             "#b8e186"
            ],
            [
             0.8,
             "#7fbc41"
            ],
            [
             0.9,
             "#4d9221"
            ],
            [
             1,
             "#276419"
            ]
           ],
           "sequential": [
            [
             0,
             "#0d0887"
            ],
            [
             0.1111111111111111,
             "#46039f"
            ],
            [
             0.2222222222222222,
             "#7201a8"
            ],
            [
             0.3333333333333333,
             "#9c179e"
            ],
            [
             0.4444444444444444,
             "#bd3786"
            ],
            [
             0.5555555555555556,
             "#d8576b"
            ],
            [
             0.6666666666666666,
             "#ed7953"
            ],
            [
             0.7777777777777778,
             "#fb9f3a"
            ],
            [
             0.8888888888888888,
             "#fdca26"
            ],
            [
             1,
             "#f0f921"
            ]
           ],
           "sequentialminus": [
            [
             0,
             "#0d0887"
            ],
            [
             0.1111111111111111,
             "#46039f"
            ],
            [
             0.2222222222222222,
             "#7201a8"
            ],
            [
             0.3333333333333333,
             "#9c179e"
            ],
            [
             0.4444444444444444,
             "#bd3786"
            ],
            [
             0.5555555555555556,
             "#d8576b"
            ],
            [
             0.6666666666666666,
             "#ed7953"
            ],
            [
             0.7777777777777778,
             "#fb9f3a"
            ],
            [
             0.8888888888888888,
             "#fdca26"
            ],
            [
             1,
             "#f0f921"
            ]
           ]
          },
          "colorway": [
           "#636efa",
           "#EF553B",
           "#00cc96",
           "#ab63fa",
           "#FFA15A",
           "#19d3f3",
           "#FF6692",
           "#B6E880",
           "#FF97FF",
           "#FECB52"
          ],
          "font": {
           "color": "#2a3f5f"
          },
          "geo": {
           "bgcolor": "white",
           "lakecolor": "white",
           "landcolor": "#E5ECF6",
           "showlakes": true,
           "showland": true,
           "subunitcolor": "white"
          },
          "hoverlabel": {
           "align": "left"
          },
          "hovermode": "closest",
          "mapbox": {
           "style": "light"
          },
          "paper_bgcolor": "white",
          "plot_bgcolor": "#E5ECF6",
          "polar": {
           "angularaxis": {
            "gridcolor": "white",
            "linecolor": "white",
            "ticks": ""
           },
           "bgcolor": "#E5ECF6",
           "radialaxis": {
            "gridcolor": "white",
            "linecolor": "white",
            "ticks": ""
           }
          },
          "scene": {
           "xaxis": {
            "backgroundcolor": "#E5ECF6",
            "gridcolor": "white",
            "gridwidth": 2,
            "linecolor": "white",
            "showbackground": true,
            "ticks": "",
            "zerolinecolor": "white"
           },
           "yaxis": {
            "backgroundcolor": "#E5ECF6",
            "gridcolor": "white",
            "gridwidth": 2,
            "linecolor": "white",
            "showbackground": true,
            "ticks": "",
            "zerolinecolor": "white"
           },
           "zaxis": {
            "backgroundcolor": "#E5ECF6",
            "gridcolor": "white",
            "gridwidth": 2,
            "linecolor": "white",
            "showbackground": true,
            "ticks": "",
            "zerolinecolor": "white"
           }
          },
          "shapedefaults": {
           "line": {
            "color": "#2a3f5f"
           }
          },
          "ternary": {
           "aaxis": {
            "gridcolor": "white",
            "linecolor": "white",
            "ticks": ""
           },
           "baxis": {
            "gridcolor": "white",
            "linecolor": "white",
            "ticks": ""
           },
           "bgcolor": "#E5ECF6",
           "caxis": {
            "gridcolor": "white",
            "linecolor": "white",
            "ticks": ""
           }
          },
          "title": {
           "x": 0.05
          },
          "xaxis": {
           "automargin": true,
           "gridcolor": "white",
           "linecolor": "white",
           "ticks": "",
           "title": {
            "standoff": 15
           },
           "zerolinecolor": "white",
           "zerolinewidth": 2
          },
          "yaxis": {
           "automargin": true,
           "gridcolor": "white",
           "linecolor": "white",
           "ticks": "",
           "title": {
            "standoff": 15
           },
           "zerolinecolor": "white",
           "zerolinewidth": 2
          }
         }
        },
        "width": 2800
       }
      }
     },
     "metadata": {},
     "output_type": "display_data"
    }
   ],
   "source": [
    "import xarray as xr\n",
    "import pandas as pd\n",
    "import numpy as np\n",
    "import random\n",
    "\n",
    "import plotly.graph_objects as go\n",
    "from plotly.subplots import make_subplots\n",
    "\n",
    "from pyEDM import EmbedDimension\n",
    "\n",
    "# Assume ds_sat and df_pre are already defined\n",
    "# Grab coordinate sizes\n",
    "nlat = ds_sat.sizes[\"lat\"]\n",
    "nlon = ds_sat.sizes[\"lon\"]\n",
    "ages = ds_sat[\"age\"].values  # keep track of the ages\n",
    "\n",
    "# ---------------------------------------------------------------------\n",
    "# 2. Randomly select 10 (lat, lon) grid points\n",
    "# ---------------------------------------------------------------------\n",
    "all_pairs = [(ilat, ilon) for ilat in range(nlat) for ilon in range(nlon)]\n",
    "random_pairs = random.sample(all_pairs, 10)  # pick 10 unique (ilat, ilon)\n",
    "\n",
    "results_list = []  # will be a list of (ilat, ilon, E_axis, Tau_axis, RhoMatrix)\n",
    "\n",
    "for idx, (ilat, ilon) in enumerate(random_pairs):\n",
    "    # Extract local sat time series\n",
    "    sat_ts = ds_sat[\"sat\"].isel(lat=ilat, lon=ilon).values\n",
    "\n",
    "    df_tmp = pd.DataFrame({\n",
    "        \"Time\": ages,\n",
    "        \"pre\": df_pre[\"pre\"],  # predictor\n",
    "        \"sat\": sat_ts          # target to predict\n",
    "    })\n",
    "\n",
    "    # We'll store a 2D array of shape (5,10) for E=1..5, tau=1..10\n",
    "    RhoMatrix = np.zeros((5, 10))\n",
    "\n",
    "    # For each tau in 1..10, call EmbedDimension once with maxE=5 and Tp=tau\n",
    "    for tau in range(1, 11):\n",
    "        edm_out = EmbedDimension(\n",
    "            dataFrame=df_tmp,\n",
    "            columns=\"sat\",\n",
    "            target=\"pre\",\n",
    "            maxE=5,          # We'll evaluate E=1..5\n",
    "            tau=tau,\n",
    "            Tp=5,\n",
    "            lib=\"1 120\",     # Entire time series, adapt if needed\n",
    "            pred=\"1 120\",\n",
    "            showPlot=False,  # We'll handle plotting ourselves\n",
    "        )\n",
    "\n",
    "        for e_row in edm_out.itertuples():\n",
    "            e_val = e_row.E     # 1..5\n",
    "            rho_val = e_row.rho\n",
    "            RhoMatrix[int(e_val - 1), int(tau - 1)] = rho_val\n",
    "\n",
    "    # Axis values for plotting\n",
    "    E_axis = np.arange(1, 6)     # E = 1..5\n",
    "    Tau_axis = np.arange(1, 11)  # tau = 1..10\n",
    "\n",
    "    # Save the result for this grid point\n",
    "    results_list.append((ilat, ilon, E_axis, Tau_axis, RhoMatrix))\n",
    "\n",
    "# ---------------------------------------------------------------------\n",
    "# 4. Make a 3D surface plot for each of the 10 results using Plotly subplots\n",
    "# ---------------------------------------------------------------------\n",
    "\n",
    "# Create subplot titles using true latitude and longitude values\n",
    "subplot_titles = [\n",
    "    f\"lat={ds_sat['lat'].values[r[0]]:.2f}, lon={ds_sat['lon'].values[r[1]]:.2f}\"\n",
    "    for r in results_list\n",
    "]\n",
    "\n",
    "# Create a 2x5 grid of 3D subplots with adjusted spacing\n",
    "fig = make_subplots(\n",
    "    rows=2, cols=5,\n",
    "    specs=[[{\"type\": \"surface\"}]*5, [{\"type\": \"surface\"}]*5],\n",
    "    subplot_titles=subplot_titles,\n",
    "    horizontal_spacing=0.03,  # reduce horizontal spacing\n",
    "    vertical_spacing=0.1      # reduce vertical spacing\n",
    ")\n",
    "\n",
    "# Add each surface plot trace to its respective subplot\n",
    "for i, (ilat, ilon, E_axis, Tau_axis, RhoMatrix) in enumerate(results_list):\n",
    "    E_grid, Tau_grid = np.meshgrid(E_axis, Tau_axis, indexing='ij')\n",
    "    row = (i // 5) + 1\n",
    "    col = (i % 5) + 1\n",
    "\n",
    "    surf = go.Surface(\n",
    "        x=E_grid,       # E dimension\n",
    "        y=Tau_grid,     # tau dimension\n",
    "        z=RhoMatrix,    # rho values\n",
    "        colorscale=\"Viridis\",\n",
    "        showscale=False\n",
    "    )\n",
    "\n",
    "\n",
    "    fig.add_trace(surf, row=row, col=col)\n",
    "       \n",
    "    # set x ticks\n",
    "    # fig.update_xaxes(title_text=\"E\", row=row, col=col, tickmode=\"array\", tickvals=[1, 2, 3, 4, 5])\n",
    "\n",
    "\n",
    "# Update overall layout with adjusted margins for better label visibility\n",
    "fig.update_layout(\n",
    "    height=1600,\n",
    "    width=2800,\n",
    "    margin=dict(l=50, r=50, t=80, b=50),\n",
    "    # title=\"3D Surface Plots with Adjusted Subplots and Viewing Angles\"\n",
    ")\n",
    "\n",
    "\n",
    "\n",
    "# ---------------------------------------------------------------------\n",
    "# 3. Adjust the viewing angle (camera) for each subplot\n",
    "# ---------------------------------------------------------------------\n",
    "# Loop over each subplot scene and set the camera view.\n",
    "# Note: The first scene is named 'scene', and subsequent ones as 'scene2', 'scene3', etc.\n",
    "for i in range(1, len(results_list)+1):\n",
    "    scene_id = f'scene{i}' if i > 1 else 'scene'\n",
    "    fig.layout[scene_id].update(\n",
    "        xaxis_title=\"E\",\n",
    "        yaxis_title=\"tau\",\n",
    "        zaxis_title=\"rho\",\n",
    "        camera=dict(\n",
    "            eye=dict(x=1, y=2, z=3)  \n",
    "        )\n",
    "    )\n",
    "\n",
    "fig.show()\n"
   ]
  },
  {
   "cell_type": "code",
   "execution_count": null,
   "metadata": {},
   "outputs": [],
   "source": []
  },
  {
   "cell_type": "code",
   "execution_count": null,
   "metadata": {},
   "outputs": [],
   "source": []
  },
  {
   "cell_type": "code",
   "execution_count": null,
   "metadata": {},
   "outputs": [
    {
     "name": "stderr",
     "output_type": "stream",
     "text": [
      "d:\\Users\\User\\anaconda3\\envs\\pz_venv_causal\\lib\\site-packages\\xarray\\coding\\variables.py:147: FutureWarning:\n",
      "\n",
      "elementwise comparison failed; returning scalar instead, but in the future will perform elementwise comparison\n",
      "\n",
      "d:\\Users\\User\\anaconda3\\envs\\pz_venv_causal\\lib\\site-packages\\xarray\\coding\\variables.py:147: FutureWarning:\n",
      "\n",
      "elementwise comparison failed; returning scalar instead, but in the future will perform elementwise comparison\n",
      "\n",
      "d:\\Users\\User\\anaconda3\\envs\\pz_venv_causal\\lib\\site-packages\\xarray\\coding\\variables.py:147: FutureWarning:\n",
      "\n",
      "elementwise comparison failed; returning scalar instead, but in the future will perform elementwise comparison\n",
      "\n",
      "d:\\Users\\User\\anaconda3\\envs\\pz_venv_causal\\lib\\site-packages\\xarray\\coding\\variables.py:147: FutureWarning:\n",
      "\n",
      "elementwise comparison failed; returning scalar instead, but in the future will perform elementwise comparison\n",
      "\n",
      "d:\\Users\\User\\anaconda3\\envs\\pz_venv_causal\\lib\\site-packages\\xarray\\coding\\variables.py:147: FutureWarning:\n",
      "\n",
      "elementwise comparison failed; returning scalar instead, but in the future will perform elementwise comparison\n",
      "\n",
      "d:\\Users\\User\\anaconda3\\envs\\pz_venv_causal\\lib\\site-packages\\xarray\\coding\\variables.py:147: FutureWarning:\n",
      "\n",
      "elementwise comparison failed; returning scalar instead, but in the future will perform elementwise comparison\n",
      "\n",
      "d:\\Users\\User\\anaconda3\\envs\\pz_venv_causal\\lib\\site-packages\\xarray\\coding\\variables.py:147: FutureWarning:\n",
      "\n",
      "elementwise comparison failed; returning scalar instead, but in the future will perform elementwise comparison\n",
      "\n",
      "d:\\Users\\User\\anaconda3\\envs\\pz_venv_causal\\lib\\site-packages\\xarray\\coding\\variables.py:147: FutureWarning:\n",
      "\n",
      "elementwise comparison failed; returning scalar instead, but in the future will perform elementwise comparison\n",
      "\n",
      "d:\\Users\\User\\anaconda3\\envs\\pz_venv_causal\\lib\\site-packages\\xarray\\coding\\variables.py:147: FutureWarning:\n",
      "\n",
      "elementwise comparison failed; returning scalar instead, but in the future will perform elementwise comparison\n",
      "\n",
      "d:\\Users\\User\\anaconda3\\envs\\pz_venv_causal\\lib\\site-packages\\xarray\\coding\\variables.py:147: FutureWarning:\n",
      "\n",
      "elementwise comparison failed; returning scalar instead, but in the future will perform elementwise comparison\n",
      "\n"
     ]
    },
    {
     "data": {
      "image/png": "[encoded data removed]",
      "text/plain": [
       "<Figure size 2000x800 with 10 Axes>"
      ]
     },
     "metadata": {},
     "output_type": "display_data"
    }
   ],
   "source": [
    "import xarray as xr\n",
    "import pandas as pd\n",
    "import numpy as np\n",
    "import random\n",
    "import matplotlib.pyplot as plt\n",
    "from mpl_toolkits.mplot3d import Axes3D  # required for 3D plotting\n",
    "from pyEDM import EmbedDimension\n",
    "\n",
    "# Assume ds_sat and df_pre are already defined\n",
    "# Grab coordinate sizes and time variable\n",
    "nlat = ds_sat.sizes[\"lat\"]\n",
    "nlon = ds_sat.sizes[\"lon\"]\n",
    "ages = ds_sat[\"age\"].values  # time coordinate\n",
    "\n",
    "# ---------------------------------------------------------------------\n",
    "# 1. Randomly select 10 (lat, lon) grid points\n",
    "# ---------------------------------------------------------------------\n",
    "all_pairs = [(ilat, ilon) for ilat in range(nlat) for ilon in range(nlon)]\n",
    "random_pairs = random.sample(all_pairs, 10)  # pick 10 unique (ilat, ilon)\n",
    "\n",
    "results_list = []  # will store (ilat, ilon, E_axis, Tau_axis, RhoMatrix)\n",
    "\n",
    "for idx, (ilat, ilon) in enumerate(random_pairs):\n",
    "    # Extract local satellite time series\n",
    "    sat_ts = ds_sat[\"sat\"].isel(lat=ilat, lon=ilon).values\n",
    "\n",
    "    df_tmp = pd.DataFrame({\n",
    "        \"Time\": ages,\n",
    "        \"pre\": df_pre[\"pre\"],  # predictor\n",
    "        \"sat\": sat_ts          # target to predict\n",
    "    })\n",
    "\n",
    "    # Prepare a 2D array of shape (5, 10) for E=1..5, tau=1..10\n",
    "    RhoMatrix = np.zeros((5, 10))\n",
    "\n",
    "    # For each tau in 1..10, run EmbedDimension with maxE=5 and Tp=5\n",
    "    for tau in range(1, 11):\n",
    "        edm_out = EmbedDimension(\n",
    "            dataFrame=df_tmp,\n",
    "            columns=\"sat\",\n",
    "            target=\"pre\",\n",
    "            maxE=5,          # evaluate E = 1..5\n",
    "            tau=tau,\n",
    "            Tp=5,\n",
    "            lib=\"1 120\",     # adapt library range if needed\n",
    "            pred=\"1 120\",\n",
    "            showPlot=False,  # plotting is done via Matplotlib\n",
    "        )\n",
    "\n",
    "        for e_row in edm_out.itertuples():\n",
    "            e_val = e_row.E  # E value (1..5)\n",
    "            rho_val = e_row.rho\n",
    "            RhoMatrix[int(e_val - 1), int(tau - 1)] = rho_val\n",
    "\n",
    "    # Define axis values for plotting\n",
    "    E_axis = np.arange(1, 6)     # E = 1..5\n",
    "    Tau_axis = np.arange(1, 11)  # tau = 1..10\n",
    "\n",
    "    # Save result along with grid point indices\n",
    "    results_list.append((ilat, ilon, E_axis, Tau_axis, RhoMatrix))\n",
    "\n",
    "# ---------------------------------------------------------------------\n",
    "# 2. Create a stationary figure with 2 rows x 5 columns of 3D subplots\n",
    "# ---------------------------------------------------------------------\n",
    "fig = plt.figure(figsize=(20, 8))\n",
    "\n",
    "for i, (ilat, ilon, E_axis, Tau_axis, RhoMatrix) in enumerate(results_list):\n",
    "    ax = fig.add_subplot(2, 5, i+1, projection='3d')\n",
    "    # Create meshgrid for surface plotting\n",
    "    E_grid, Tau_grid = np.meshgrid(E_axis, Tau_axis, indexing='ij')\n",
    "    surf = ax.plot_surface(E_grid, Tau_grid, RhoMatrix, cmap='viridis')\n",
    "    \n",
    "    # Set subplot title with true latitude and longitude values\n",
    "    lat_val = ds_sat['lat'].values[ilat]\n",
    "    lon_val = ds_sat['lon'].values[ilon]\n",
    "    ax.set_title(f\"lat={lat_val:.2f}, lon={lon_val:.2f}\", fontsize=10)\n",
    "\n",
    "    # adjust the viewing angle\n",
    "    # ax.view_init(elev=20, azim=45)\n",
    "    \n",
    "    # Label the axes\n",
    "    ax.set_xlabel(\"E\")\n",
    "    ax.set_ylabel(\"tau\")\n",
    "    ax.set_zlabel(\"rho\")\n",
    "    \n",
    "    # -----------------------------------------------------------------\n",
    "    # 3. Change the viewing angle (camera) of the subplot:\n",
    "    # Use view_init(elev, azim) to set elevation and azimuth angles.\n",
    "    # Adjust these values to your preferred perspective.\n",
    "    # -----------------------------------------------------------------\n",
    "    ax.view_init(elev=40, azim=60)\n",
    "\n",
    "# Adjust layout to ensure axis labels are not overlapped\n",
    "# plt.tight_layout()\n",
    "plt.show()\n"
   ]
  },
  {
   "cell_type": "code",
   "execution_count": null,
   "metadata": {},
   "outputs": [
    {
     "name": "stderr",
     "output_type": "stream",
     "text": [
      "d:\\Users\\User\\anaconda3\\envs\\pz_venv_causal\\lib\\site-packages\\xarray\\coding\\variables.py:147: FutureWarning:\n",
      "\n",
      "elementwise comparison failed; returning scalar instead, but in the future will perform elementwise comparison\n",
      "\n",
      "d:\\Users\\User\\anaconda3\\envs\\pz_venv_causal\\lib\\site-packages\\xarray\\coding\\variables.py:147: FutureWarning:\n",
      "\n",
      "elementwise comparison failed; returning scalar instead, but in the future will perform elementwise comparison\n",
      "\n",
      "d:\\Users\\User\\anaconda3\\envs\\pz_venv_causal\\lib\\site-packages\\xarray\\coding\\variables.py:147: FutureWarning:\n",
      "\n",
      "elementwise comparison failed; returning scalar instead, but in the future will perform elementwise comparison\n",
      "\n",
      "d:\\Users\\User\\anaconda3\\envs\\pz_venv_causal\\lib\\site-packages\\xarray\\coding\\variables.py:147: FutureWarning:\n",
      "\n",
      "elementwise comparison failed; returning scalar instead, but in the future will perform elementwise comparison\n",
      "\n",
      "d:\\Users\\User\\anaconda3\\envs\\pz_venv_causal\\lib\\site-packages\\xarray\\coding\\variables.py:147: FutureWarning:\n",
      "\n",
      "elementwise comparison failed; returning scalar instead, but in the future will perform elementwise comparison\n",
      "\n",
      "d:\\Users\\User\\anaconda3\\envs\\pz_venv_causal\\lib\\site-packages\\xarray\\coding\\variables.py:147: FutureWarning:\n",
      "\n",
      "elementwise comparison failed; returning scalar instead, but in the future will perform elementwise comparison\n",
      "\n",
      "d:\\Users\\User\\anaconda3\\envs\\pz_venv_causal\\lib\\site-packages\\xarray\\coding\\variables.py:147: FutureWarning:\n",
      "\n",
      "elementwise comparison failed; returning scalar instead, but in the future will perform elementwise comparison\n",
      "\n",
      "d:\\Users\\User\\anaconda3\\envs\\pz_venv_causal\\lib\\site-packages\\xarray\\coding\\variables.py:147: FutureWarning:\n",
      "\n",
      "elementwise comparison failed; returning scalar instead, but in the future will perform elementwise comparison\n",
      "\n",
      "d:\\Users\\User\\anaconda3\\envs\\pz_venv_causal\\lib\\site-packages\\xarray\\coding\\variables.py:147: FutureWarning:\n",
      "\n",
      "elementwise comparison failed; returning scalar instead, but in the future will perform elementwise comparison\n",
      "\n",
      "d:\\Users\\User\\anaconda3\\envs\\pz_venv_causal\\lib\\site-packages\\xarray\\coding\\variables.py:147: FutureWarning:\n",
      "\n",
      "elementwise comparison failed; returning scalar instead, but in the future will perform elementwise comparison\n",
      "\n"
     ]
    },
    {
     "data": {
      "application/vnd.plotly.v1+json": {
       "config": {
        "plotlyServerURL": "https://plot.ly"
       },
       "data": [
        {
         "colorscale": [
          [
           0,
           "#440154"
          ],
          [
           0.1111111111111111,
           "#482878"
          ],
          [
           0.2222222222222222,
           "#3e4989"
          ],
          [
           0.3333333333333333,
           "#31688e"
          ],
          [
           0.4444444444444444,
           "#26828e"
          ],
          [
           0.5555555555555556,
           "#1f9e89"
          ],
          [
           0.6666666666666666,
           "#35b779"
          ],
          [
           0.7777777777777778,
           "#6ece58"
          ],
          [
           0.8888888888888888,
           "#b5de2b"
          ],
          [
           1,
           "#fde725"
          ]
         ],
         "scene": "scene",
         "showscale": false,
         "type": "surface",
         "x": [
          [
           1,
           1,
           1,
           1,
           1,
           1,
           1,
           1,
           1,
           1
          ],
          [
           2,
           2,
           2,
           2,
           2,
           2,
           2,
           2,
           2,
           2
          ],
          [
           3,
           3,
           3,
           3,
           3,
           3,
           3,
           3,
           3,
           3
          ],
          [
           4,
           4,
           4,
           4,
           4,
           4,
           4,
           4,
           4,
           4
          ],
          [
           5,
           5,
           5,
           5,
           5,
           5,
           5,
           5,
           5,
           5
          ]
         ],
         "y": [
          [
           1,
           2,
           3,
           4,
           5,
           6,
           7,
           8,
           9,
           10
          ],
          [
           1,
           2,
           3,
           4,
           5,
           6,
           7,
           8,
           9,
           10
          ],
          [
           1,
           2,
           3,
           4,
           5,
           6,
           7,
           8,
           9,
           10
          ],
          [
           1,
           2,
           3,
           4,
           5,
           6,
           7,
           8,
           9,
           10
          ],
          [
           1,
           2,
           3,
           4,
           5,
           6,
           7,
           8,
           9,
           10
          ]
         ],
         "z": [
          [
           0.6102943526814973,
           0.6102943526814973,
           0.6102943526814973,
           0.6102943526814973,
           0.6102943526814973,
           0.6102943526814973,
           0.6102943526814973,
           0.6102943526814973,
           0.6102943526814973,
           0.6102943526814973
          ],
          [
           0.6546563420533635,
           0.5801112197994969,
           0.7013714702215929,
           0.7544169145535833,
           0.8597409219361223,
           0.8350352765155763,
           0.8634800302493875,
           0.8839801239619888,
           0.8308834976746947,
           0.86118427588393
          ],
          [
           0.6407561571528064,
           0.7722278098465364,
           0.8888159868019582,
           0.9163104800928207,
           0.9222243271540024,
           0.9299567945106982,
           0.8917972217160552,
           0.7622733059682959,
           0.7089952964292007,
           0.6559762031424416
          ],
          [
           0.6774257462022767,
           0.8758506316724248,
           0.9271782195551019,
           0.8878090982614262,
           0.8655017927384583,
           0.7645037614994167,
           0.6625924620244042,
           0.591142645002905,
           0.6153927930738132,
           0.6916879075571415
          ],
          [
           0.7403722040374107,
           0.8914877269275508,
           0.901774230925868,
           0.8011827294045173,
           0.6829996706909572,
           0.6223422189764831,
           0.6494829650406923,
           0.7441653434328787,
           0.8422137694810451,
           0.9103699581892774
          ]
         ]
        },
        {
         "colorscale": [
          [
           0,
           "#440154"
          ],
          [
           0.1111111111111111,
           "#482878"
          ],
          [
           0.2222222222222222,
           "#3e4989"
          ],
          [
           0.3333333333333333,
           "#31688e"
          ],
          [
           0.4444444444444444,
           "#26828e"
          ],
          [
           0.5555555555555556,
           "#1f9e89"
          ],
          [
           0.6666666666666666,
           "#35b779"
          ],
          [
           0.7777777777777778,
           "#6ece58"
          ],
          [
           0.8888888888888888,
           "#b5de2b"
          ],
          [
           1,
           "#fde725"
          ]
         ],
         "scene": "scene2",
         "showscale": false,
         "type": "surface",
         "x": [
          [
           1,
           1,
           1,
           1,
           1,
           1,
           1,
           1,
           1,
           1
          ],
          [
           2,
           2,
           2,
           2,
           2,
           2,
           2,
           2,
           2,
           2
          ],
          [
           3,
           3,
           3,
           3,
           3,
           3,
           3,
           3,
           3,
           3
          ],
          [
           4,
           4,
           4,
           4,
           4,
           4,
           4,
           4,
           4,
           4
          ],
          [
           5,
           5,
           5,
           5,
           5,
           5,
           5,
           5,
           5,
           5
          ]
         ],
         "y": [
          [
           1,
           2,
           3,
           4,
           5,
           6,
           7,
           8,
           9,
           10
          ],
          [
           1,
           2,
           3,
           4,
           5,
           6,
           7,
           8,
           9,
           10
          ],
          [
           1,
           2,
           3,
           4,
           5,
           6,
           7,
           8,
           9,
           10
          ],
          [
           1,
           2,
           3,
           4,
           5,
           6,
           7,
           8,
           9,
           10
          ],
          [
           1,
           2,
           3,
           4,
           5,
           6,
           7,
           8,
           9,
           10
          ]
         ],
         "z": [
          [
           0.8485812549295468,
           0.8485812549295468,
           0.8485812549295468,
           0.8485812549295468,
           0.8485812549295468,
           0.8485812549295468,
           0.8485812549295468,
           0.8485812549295468,
           0.8485812549295468,
           0.8485812549295468
          ],
          [
           0.8279785440439853,
           0.8546882689505974,
           0.9163635411406604,
           0.9280395097772985,
           0.9483093433367846,
           0.9709566773225615,
           0.988891161844338,
           0.9926039292768362,
           0.9862634412251424,
           0.9865895026057494
          ],
          [
           0.843908780574039,
           0.9217425961812693,
           0.972130365850061,
           0.9925868111608092,
           0.9890607181222836,
           0.9677851385526814,
           0.9533632589366197,
           0.9129739459980152,
           0.8527222434319655,
           0.7852996800114648
          ],
          [
           0.8811038373967448,
           0.9652235053560613,
           0.9908726946217339,
           0.9761523939451702,
           0.931257623673719,
           0.8430144963456616,
           0.7422344988667111,
           0.6744069377013425,
           0.6760561522915582,
           0.7263073958436224
          ],
          [
           0.9107312004414213,
           0.9831796068926797,
           0.9735930043498847,
           0.9010974912622884,
           0.7645664031202084,
           0.6684690331667315,
           0.6866340497915604,
           0.7753837582061411,
           0.8711213418025308,
           0.9085145879635149
          ]
         ]
        },
        {
         "colorscale": [
          [
           0,
           "#440154"
          ],
          [
           0.1111111111111111,
           "#482878"
          ],
          [
           0.2222222222222222,
           "#3e4989"
          ],
          [
           0.3333333333333333,
           "#31688e"
          ],
          [
           0.4444444444444444,
           "#26828e"
          ],
          [
           0.5555555555555556,
           "#1f9e89"
          ],
          [
           0.6666666666666666,
           "#35b779"
          ],
          [
           0.7777777777777778,
           "#6ece58"
          ],
          [
           0.8888888888888888,
           "#b5de2b"
          ],
          [
           1,
           "#fde725"
          ]
         ],
         "scene": "scene3",
         "showscale": false,
         "type": "surface",
         "x": [
          [
           1,
           1,
           1,
           1,
           1,
           1,
           1,
           1,
           1,
           1
          ],
          [
           2,
           2,
           2,
           2,
           2,
           2,
           2,
           2,
           2,
           2
          ],
          [
           3,
           3,
           3,
           3,
           3,
           3,
           3,
           3,
           3,
           3
          ],
          [
           4,
           4,
           4,
           4,
           4,
           4,
           4,
           4,
           4,
           4
          ],
          [
           5,
           5,
           5,
           5,
           5,
           5,
           5,
           5,
           5,
           5
          ]
         ],
         "y": [
          [
           1,
           2,
           3,
           4,
           5,
           6,
           7,
           8,
           9,
           10
          ],
          [
           1,
           2,
           3,
           4,
           5,
           6,
           7,
           8,
           9,
           10
          ],
          [
           1,
           2,
           3,
           4,
           5,
           6,
           7,
           8,
           9,
           10
          ],
          [
           1,
           2,
           3,
           4,
           5,
           6,
           7,
           8,
           9,
           10
          ],
          [
           1,
           2,
           3,
           4,
           5,
           6,
           7,
           8,
           9,
           10
          ]
         ],
         "z": [
          [
           0.7896801797070372,
           0.7896801797070372,
           0.7896801797070372,
           0.7896801797070372,
           0.7896801797070372,
           0.7896801797070372,
           0.7896801797070372,
           0.7896801797070372,
           0.7896801797070372,
           0.7896801797070372
          ],
          [
           0.8450147077382099,
           0.8835240696606822,
           0.8695974512122195,
           0.8514585186667891,
           0.8826019513309231,
           0.8673492583339057,
           0.8842377530042479,
           0.909862204221257,
           0.9232103596626365,
           0.9139472317282957
          ],
          [
           0.8526719230379693,
           0.9000622189947712,
           0.9583478623091425,
           0.9560615579398006,
           0.9651680981323596,
           0.9320417768332081,
           0.8984397534138969,
           0.8293102755980668,
           0.7887584951225795,
           0.715599752866067
          ],
          [
           0.8752927609138832,
           0.9489991452400075,
           0.9785153311801805,
           0.9491879016268535,
           0.8900742117574629,
           0.7804895015974843,
           0.6700841175136457,
           0.6056664876871914,
           0.6391919417844214,
           0.6928179354066424
          ],
          [
           0.8922257517202479,
           0.9560717999463484,
           0.9576344427723689,
           0.8467030508169722,
           0.6846186032097454,
           0.6146224361756117,
           0.6344537079429841,
           0.7448845559076178,
           0.8557123246168924,
           0.9080154200661485
          ]
         ]
        },
        {
         "colorscale": [
          [
           0,
           "#440154"
          ],
          [
           0.1111111111111111,
           "#482878"
          ],
          [
           0.2222222222222222,
           "#3e4989"
          ],
          [
           0.3333333333333333,
           "#31688e"
          ],
          [
           0.4444444444444444,
           "#26828e"
          ],
          [
           0.5555555555555556,
           "#1f9e89"
          ],
          [
           0.6666666666666666,
           "#35b779"
          ],
          [
           0.7777777777777778,
           "#6ece58"
          ],
          [
           0.8888888888888888,
           "#b5de2b"
          ],
          [
           1,
           "#fde725"
          ]
         ],
         "scene": "scene4",
         "showscale": false,
         "type": "surface",
         "x": [
          [
           1,
           1,
           1,
           1,
           1,
           1,
           1,
           1,
           1,
           1
          ],
          [
           2,
           2,
           2,
           2,
           2,
           2,
           2,
           2,
           2,
           2
          ],
          [
           3,
           3,
           3,
           3,
           3,
           3,
           3,
           3,
           3,
           3
          ],
          [
           4,
           4,
           4,
           4,
           4,
           4,
           4,
           4,
           4,
           4
          ],
          [
           5,
           5,
           5,
           5,
           5,
           5,
           5,
           5,
           5,
           5
          ]
         ],
         "y": [
          [
           1,
           2,
           3,
           4,
           5,
           6,
           7,
           8,
           9,
           10
          ],
          [
           1,
           2,
           3,
           4,
           5,
           6,
           7,
           8,
           9,
           10
          ],
          [
           1,
           2,
           3,
           4,
           5,
           6,
           7,
           8,
           9,
           10
          ],
          [
           1,
           2,
           3,
           4,
           5,
           6,
           7,
           8,
           9,
           10
          ],
          [
           1,
           2,
           3,
           4,
           5,
           6,
           7,
           8,
           9,
           10
          ]
         ],
         "z": [
          [
           0.7150534874393983,
           0.7150534874393983,
           0.7150534874393983,
           0.7150534874393983,
           0.7150534874393983,
           0.7150534874393983,
           0.7150534874393983,
           0.7150534874393983,
           0.7150534874393983,
           0.7150534874393983
          ],
          [
           0.7675615689275811,
           0.851526341799014,
           0.8401076555526262,
           0.8746415961759892,
           0.8699789662633344,
           0.8951959537522808,
           0.921843982364768,
           0.9263843811046261,
           0.9175909938722968,
           0.9062722282452013
          ],
          [
           0.8428569590043814,
           0.9267529760382984,
           0.9451492403054477,
           0.9582262107651376,
           0.9297074146705184,
           0.9095131960513558,
           0.910687221139625,
           0.859659121782068,
           0.8185418322119979,
           0.7489556909339926
          ],
          [
           0.8808964733438703,
           0.9655181301870303,
           0.9711071103964904,
           0.9618722872833698,
           0.9147753210005528,
           0.8161699548271875,
           0.7087490125440555,
           0.6677438848160929,
           0.6700296337902406,
           0.7115719704825804
          ],
          [
           0.9040060513468094,
           0.979701933918672,
           0.9645136677140075,
           0.909106339728462,
           0.7420666182044342,
           0.6586731551851371,
           0.6778597042192199,
           0.7730465887872283,
           0.8650885364028832,
           0.9059495705522698
          ]
         ]
        },
        {
         "colorscale": [
          [
           0,
           "#440154"
          ],
          [
           0.1111111111111111,
           "#482878"
          ],
          [
           0.2222222222222222,
           "#3e4989"
          ],
          [
           0.3333333333333333,
           "#31688e"
          ],
          [
           0.4444444444444444,
           "#26828e"
          ],
          [
           0.5555555555555556,
           "#1f9e89"
          ],
          [
           0.6666666666666666,
           "#35b779"
          ],
          [
           0.7777777777777778,
           "#6ece58"
          ],
          [
           0.8888888888888888,
           "#b5de2b"
          ],
          [
           1,
           "#fde725"
          ]
         ],
         "scene": "scene5",
         "showscale": false,
         "type": "surface",
         "x": [
          [
           1,
           1,
           1,
           1,
           1,
           1,
           1,
           1,
           1,
           1
          ],
          [
           2,
           2,
           2,
           2,
           2,
           2,
           2,
           2,
           2,
           2
          ],
          [
           3,
           3,
           3,
           3,
           3,
           3,
           3,
           3,
           3,
           3
          ],
          [
           4,
           4,
           4,
           4,
           4,
           4,
           4,
           4,
           4,
           4
          ],
          [
           5,
           5,
           5,
           5,
           5,
           5,
           5,
           5,
           5,
           5
          ]
         ],
         "y": [
          [
           1,
           2,
           3,
           4,
           5,
           6,
           7,
           8,
           9,
           10
          ],
          [
           1,
           2,
           3,
           4,
           5,
           6,
           7,
           8,
           9,
           10
          ],
          [
           1,
           2,
           3,
           4,
           5,
           6,
           7,
           8,
           9,
           10
          ],
          [
           1,
           2,
           3,
           4,
           5,
           6,
           7,
           8,
           9,
           10
          ],
          [
           1,
           2,
           3,
           4,
           5,
           6,
           7,
           8,
           9,
           10
          ]
         ],
         "z": [
          [
           0.8397168388846434,
           0.8397168388846434,
           0.8397168388846434,
           0.8397168388846434,
           0.8397168388846434,
           0.8397168388846434,
           0.8397168388846434,
           0.8397168388846434,
           0.8397168388846434,
           0.8397168388846434
          ],
          [
           0.8839660072225274,
           0.8968476084545984,
           0.9053833423558725,
           0.9264638989615217,
           0.9448012635924312,
           0.9325382924601737,
           0.9618035726616975,
           0.9471072658312965,
           0.9707734661500383,
           0.9618107152045949
          ],
          [
           0.8918156216301903,
           0.9250396627585636,
           0.9393540442444505,
           0.9569555274436686,
           0.9665120198082882,
           0.9520870040196111,
           0.9330206757284505,
           0.8964493243078767,
           0.8404350606659551,
           0.7552615727883686
          ],
          [
           0.8966135843167782,
           0.9384378059945679,
           0.969200852261124,
           0.9487417131452965,
           0.9150630213743229,
           0.8305675003693627,
           0.7106766518085578,
           0.6651904687424695,
           0.6649989020644756,
           0.7159001414613692
          ],
          [
           0.9001623843879084,
           0.9593795837241699,
           0.9579093697656557,
           0.8898331191768936,
           0.7465577556379825,
           0.662550093308994,
           0.6817143997028312,
           0.7722128513559163,
           0.8657513600376325,
           0.9034020836708807
          ]
         ]
        },
        {
         "colorscale": [
          [
           0,
           "#440154"
          ],
          [
           0.1111111111111111,
           "#482878"
          ],
          [
           0.2222222222222222,
           "#3e4989"
          ],
          [
           0.3333333333333333,
           "#31688e"
          ],
          [
           0.4444444444444444,
           "#26828e"
          ],
          [
           0.5555555555555556,
           "#1f9e89"
          ],
          [
           0.6666666666666666,
           "#35b779"
          ],
          [
           0.7777777777777778,
           "#6ece58"
          ],
          [
           0.8888888888888888,
           "#b5de2b"
          ],
          [
           1,
           "#fde725"
          ]
         ],
         "scene": "scene6",
         "showscale": false,
         "type": "surface",
         "x": [
          [
           1,
           1,
           1,
           1,
           1,
           1,
           1,
           1,
           1,
           1
          ],
          [
           2,
           2,
           2,
           2,
           2,
           2,
           2,
           2,
           2,
           2
          ],
          [
           3,
           3,
           3,
           3,
           3,
           3,
           3,
           3,
           3,
           3
          ],
          [
           4,
           4,
           4,
           4,
           4,
           4,
           4,
           4,
           4,
           4
          ],
          [
           5,
           5,
           5,
           5,
           5,
           5,
           5,
           5,
           5,
           5
          ]
         ],
         "y": [
          [
           1,
           2,
           3,
           4,
           5,
           6,
           7,
           8,
           9,
           10
          ],
          [
           1,
           2,
           3,
           4,
           5,
           6,
           7,
           8,
           9,
           10
          ],
          [
           1,
           2,
           3,
           4,
           5,
           6,
           7,
           8,
           9,
           10
          ],
          [
           1,
           2,
           3,
           4,
           5,
           6,
           7,
           8,
           9,
           10
          ],
          [
           1,
           2,
           3,
           4,
           5,
           6,
           7,
           8,
           9,
           10
          ]
         ],
         "z": [
          [
           0.5415031774321745,
           0.5415031774321745,
           0.5415031774321745,
           0.5415031774321745,
           0.5415031774321745,
           0.5415031774321745,
           0.5415031774321745,
           0.5415031774321745,
           0.5415031774321745,
           0.5415031774321745
          ],
          [
           0.7034013111178643,
           0.7678094403730537,
           0.7647254057839924,
           0.7252006642926937,
           0.7570191315139134,
           0.739700623518106,
           0.6849080198480847,
           0.6638708001313823,
           0.6574091924531968,
           0.6419669340070335
          ],
          [
           0.7287139416495972,
           0.7543166192883684,
           0.7613186264205344,
           0.7018759519564223,
           0.6846154225333804,
           0.6348895761730681,
           0.633386997149017,
           0.6080419830617203,
           0.6527793868236929,
           0.6006925955510095
          ],
          [
           0.743685310922331,
           0.7454274046040302,
           0.7054205128000182,
           0.6453098197400322,
           0.6025629186331509,
           0.6071137347773266,
           0.591418863483858,
           0.6299935286927331,
           0.6746098872478227,
           0.7349460801385955
          ],
          [
           0.7467825264023403,
           0.7022245294171486,
           0.6418636087239825,
           0.5947320499473405,
           0.5736117650532784,
           0.6205765080936098,
           0.690558217088777,
           0.7868244499274228,
           0.8638056108622428,
           0.8672658499026067
          ]
         ]
        },
        {
         "colorscale": [
          [
           0,
           "#440154"
          ],
          [
           0.1111111111111111,
           "#482878"
          ],
          [
           0.2222222222222222,
           "#3e4989"
          ],
          [
           0.3333333333333333,
           "#31688e"
          ],
          [
           0.4444444444444444,
           "#26828e"
          ],
          [
           0.5555555555555556,
           "#1f9e89"
          ],
          [
           0.6666666666666666,
           "#35b779"
          ],
          [
           0.7777777777777778,
           "#6ece58"
          ],
          [
           0.8888888888888888,
           "#b5de2b"
          ],
          [
           1,
           "#fde725"
          ]
         ],
         "scene": "scene7",
         "showscale": false,
         "type": "surface",
         "x": [
          [
           1,
           1,
           1,
           1,
           1,
           1,
           1,
           1,
           1,
           1
          ],
          [
           2,
           2,
           2,
           2,
           2,
           2,
           2,
           2,
           2,
           2
          ],
          [
           3,
           3,
           3,
           3,
           3,
           3,
           3,
           3,
           3,
           3
          ],
          [
           4,
           4,
           4,
           4,
           4,
           4,
           4,
           4,
           4,
           4
          ],
          [
           5,
           5,
           5,
           5,
           5,
           5,
           5,
           5,
           5,
           5
          ]
         ],
         "y": [
          [
           1,
           2,
           3,
           4,
           5,
           6,
           7,
           8,
           9,
           10
          ],
          [
           1,
           2,
           3,
           4,
           5,
           6,
           7,
           8,
           9,
           10
          ],
          [
           1,
           2,
           3,
           4,
           5,
           6,
           7,
           8,
           9,
           10
          ],
          [
           1,
           2,
           3,
           4,
           5,
           6,
           7,
           8,
           9,
           10
          ],
          [
           1,
           2,
           3,
           4,
           5,
           6,
           7,
           8,
           9,
           10
          ]
         ],
         "z": [
          [
           0.7996787819714071,
           0.7996787819714071,
           0.7996787819714071,
           0.7996787819714071,
           0.7996787819714071,
           0.7996787819714071,
           0.7996787819714071,
           0.7996787819714071,
           0.7996787819714071,
           0.7996787819714071
          ],
          [
           0.8560741430003206,
           0.9154207823150894,
           0.9036329177550855,
           0.9391272830917596,
           0.9395918183515664,
           0.9607369079746009,
           0.9691592189399065,
           0.9653313553935108,
           0.9658500603310529,
           0.9565816534155269
          ],
          [
           0.8840222985201008,
           0.9414850742371953,
           0.9587609689152973,
           0.9654466869424648,
           0.9745714669871407,
           0.9440264883048523,
           0.933111493796107,
           0.902014498753432,
           0.8409236216869916,
           0.7582993451829602
          ],
          [
           0.8985278681959873,
           0.9646677145257746,
           0.9864414932106432,
           0.9667182294322173,
           0.9219949262398831,
           0.833154065334032,
           0.7107542115023836,
           0.6708071765049312,
           0.6678725786192999,
           0.7135644367996372
          ],
          [
           0.9185001685070867,
           0.981816990672008,
           0.970586428207789,
           0.901196009284962,
           0.7529765699806157,
           0.6598517832593882,
           0.6801312136688819,
           0.7716921715786591,
           0.8646955541574864,
           0.9038696171617484
          ]
         ]
        },
        {
         "colorscale": [
          [
           0,
           "#440154"
          ],
          [
           0.1111111111111111,
           "#482878"
          ],
          [
           0.2222222222222222,
           "#3e4989"
          ],
          [
           0.3333333333333333,
           "#31688e"
          ],
          [
           0.4444444444444444,
           "#26828e"
          ],
          [
           0.5555555555555556,
           "#1f9e89"
          ],
          [
           0.6666666666666666,
           "#35b779"
          ],
          [
           0.7777777777777778,
           "#6ece58"
          ],
          [
           0.8888888888888888,
           "#b5de2b"
          ],
          [
           1,
           "#fde725"
          ]
         ],
         "scene": "scene8",
         "showscale": false,
         "type": "surface",
         "x": [
          [
           1,
           1,
           1,
           1,
           1,
           1,
           1,
           1,
           1,
           1
          ],
          [
           2,
           2,
           2,
           2,
           2,
           2,
           2,
           2,
           2,
           2
          ],
          [
           3,
           3,
           3,
           3,
           3,
           3,
           3,
           3,
           3,
           3
          ],
          [
           4,
           4,
           4,
           4,
           4,
           4,
           4,
           4,
           4,
           4
          ],
          [
           5,
           5,
           5,
           5,
           5,
           5,
           5,
           5,
           5,
           5
          ]
         ],
         "y": [
          [
           1,
           2,
           3,
           4,
           5,
           6,
           7,
           8,
           9,
           10
          ],
          [
           1,
           2,
           3,
           4,
           5,
           6,
           7,
           8,
           9,
           10
          ],
          [
           1,
           2,
           3,
           4,
           5,
           6,
           7,
           8,
           9,
           10
          ],
          [
           1,
           2,
           3,
           4,
           5,
           6,
           7,
           8,
           9,
           10
          ],
          [
           1,
           2,
           3,
           4,
           5,
           6,
           7,
           8,
           9,
           10
          ]
         ],
         "z": [
          [
           0.7965583485410186,
           0.7965583485410186,
           0.7965583485410186,
           0.7965583485410186,
           0.7965583485410186,
           0.7965583485410186,
           0.7965583485410186,
           0.7965583485410186,
           0.7965583485410186,
           0.7965583485410186
          ],
          [
           0.8648517957514683,
           0.870826617493231,
           0.9225326517335413,
           0.942142418168678,
           0.9450913664615819,
           0.9577989701147802,
           0.9579210150028146,
           0.9583438387992996,
           0.9586477028837064,
           0.9495671442373113
          ],
          [
           0.8660099702214691,
           0.9257313295585708,
           0.9569629513316122,
           0.9670106715096259,
           0.9543444263168084,
           0.9555832342583854,
           0.9469206407625106,
           0.9125797349789142,
           0.8507386588839023,
           0.7841964118985242
          ],
          [
           0.8912578530494345,
           0.9530029741956579,
           0.9650426827878973,
           0.9571745263486219,
           0.9327914007020556,
           0.8513937314190286,
           0.7411462180390932,
           0.6768356250671503,
           0.6756794710495523,
           0.7269979404635011
          ],
          [
           0.8967861155511178,
           0.9632248215493164,
           0.9590592389694549,
           0.9048232041280009,
           0.7643489528083762,
           0.6700075655234743,
           0.6877767366770091,
           0.7757247399919195,
           0.8695503102031039,
           0.9086699069967462
          ]
         ]
        },
        {
         "colorscale": [
          [
           0,
           "#440154"
          ],
          [
           0.1111111111111111,
           "#482878"
          ],
          [
           0.2222222222222222,
           "#3e4989"
          ],
          [
           0.3333333333333333,
           "#31688e"
          ],
          [
           0.4444444444444444,
           "#26828e"
          ],
          [
           0.5555555555555556,
           "#1f9e89"
          ],
          [
           0.6666666666666666,
           "#35b779"
          ],
          [
           0.7777777777777778,
           "#6ece58"
          ],
          [
           0.8888888888888888,
           "#b5de2b"
          ],
          [
           1,
           "#fde725"
          ]
         ],
         "scene": "scene9",
         "showscale": false,
         "type": "surface",
         "x": [
          [
           1,
           1,
           1,
           1,
           1,
           1,
           1,
           1,
           1,
           1
          ],
          [
           2,
           2,
           2,
           2,
           2,
           2,
           2,
           2,
           2,
           2
          ],
          [
           3,
           3,
           3,
           3,
           3,
           3,
           3,
           3,
           3,
           3
          ],
          [
           4,
           4,
           4,
           4,
           4,
           4,
           4,
           4,
           4,
           4
          ],
          [
           5,
           5,
           5,
           5,
           5,
           5,
           5,
           5,
           5,
           5
          ]
         ],
         "y": [
          [
           1,
           2,
           3,
           4,
           5,
           6,
           7,
           8,
           9,
           10
          ],
          [
           1,
           2,
           3,
           4,
           5,
           6,
           7,
           8,
           9,
           10
          ],
          [
           1,
           2,
           3,
           4,
           5,
           6,
           7,
           8,
           9,
           10
          ],
          [
           1,
           2,
           3,
           4,
           5,
           6,
           7,
           8,
           9,
           10
          ],
          [
           1,
           2,
           3,
           4,
           5,
           6,
           7,
           8,
           9,
           10
          ]
         ],
         "z": [
          [
           0.5681322841335077,
           0.5681322841335077,
           0.5681322841335077,
           0.5681322841335077,
           0.5681322841335077,
           0.5681322841335077,
           0.5681322841335077,
           0.5681322841335077,
           0.5681322841335077,
           0.5681322841335077
          ],
          [
           0.6856621979703534,
           0.7522217621905025,
           0.7334573351274012,
           0.7913251724298545,
           0.7902628744135843,
           0.834794611410553,
           0.7865903646206523,
           0.8025748286938638,
           0.8811762715746334,
           0.8365508640518302
          ],
          [
           0.7529507412359094,
           0.7792251838032598,
           0.8645814034839706,
           0.8424563977127931,
           0.9051607730082898,
           0.911289300306117,
           0.8914357537946542,
           0.7626256620987156,
           0.7139248445732003,
           0.6347772666121992
          ],
          [
           0.7420031950195614,
           0.8596095560907994,
           0.9285321969419588,
           0.9335924069433348,
           0.8723818419630804,
           0.759881474894219,
           0.6586681309154866,
           0.589848085521015,
           0.6324175998744668,
           0.6887100616051323
          ],
          [
           0.7611133460187527,
           0.8815608399482029,
           0.9451050229018743,
           0.8325291694742569,
           0.6754913175450136,
           0.6036876123571394,
           0.6319807411685642,
           0.7388066071309445,
           0.8465486396131162,
           0.9106817293022086
          ]
         ]
        },
        {
         "colorscale": [
          [
           0,
           "#440154"
          ],
          [
           0.1111111111111111,
           "#482878"
          ],
          [
           0.2222222222222222,
           "#3e4989"
          ],
          [
           0.3333333333333333,
           "#31688e"
          ],
          [
           0.4444444444444444,
           "#26828e"
          ],
          [
           0.5555555555555556,
           "#1f9e89"
          ],
          [
           0.6666666666666666,
           "#35b779"
          ],
          [
           0.7777777777777778,
           "#6ece58"
          ],
          [
           0.8888888888888888,
           "#b5de2b"
          ],
          [
           1,
           "#fde725"
          ]
         ],
         "scene": "scene10",
         "showscale": false,
         "type": "surface",
         "x": [
          [
           1,
           1,
           1,
           1,
           1,
           1,
           1,
           1,
           1,
           1
          ],
          [
           2,
           2,
           2,
           2,
           2,
           2,
           2,
           2,
           2,
           2
          ],
          [
           3,
           3,
           3,
           3,
           3,
           3,
           3,
           3,
           3,
           3
          ],
          [
           4,
           4,
           4,
           4,
           4,
           4,
           4,
           4,
           4,
           4
          ],
          [
           5,
           5,
           5,
           5,
           5,
           5,
           5,
           5,
           5,
           5
          ]
         ],
         "y": [
          [
           1,
           2,
           3,
           4,
           5,
           6,
           7,
           8,
           9,
           10
          ],
          [
           1,
           2,
           3,
           4,
           5,
           6,
           7,
           8,
           9,
           10
          ],
          [
           1,
           2,
           3,
           4,
           5,
           6,
           7,
           8,
           9,
           10
          ],
          [
           1,
           2,
           3,
           4,
           5,
           6,
           7,
           8,
           9,
           10
          ],
          [
           1,
           2,
           3,
           4,
           5,
           6,
           7,
           8,
           9,
           10
          ]
         ],
         "z": [
          [
           0.8690391666400934,
           0.8690391666400934,
           0.8690391666400934,
           0.8690391666400934,
           0.8690391666400934,
           0.8690391666400934,
           0.8690391666400934,
           0.8690391666400934,
           0.8690391666400934,
           0.8690391666400934
          ],
          [
           0.9193107219925926,
           0.9577305368852844,
           0.9647721122763223,
           0.9666987605124191,
           0.9617028844642048,
           0.9670962012902851,
           0.9523464093351398,
           0.9725981222390057,
           0.9893866835597197,
           0.9896483267298427
          ],
          [
           0.947225394231282,
           0.9588808533947907,
           0.9427818626009056,
           0.9359002608540982,
           0.9293623347793811,
           0.9531554596150557,
           0.9471304410388937,
           0.915400899926332,
           0.8566013469001079,
           0.7883865555191895
          ],
          [
           0.9479398993653214,
           0.9258635332045311,
           0.9094805552963161,
           0.9270312728132899,
           0.9218434822125803,
           0.8460086066015983,
           0.7446246618058282,
           0.6768717510713395,
           0.677742770141514,
           0.7269458834800329
          ],
          [
           0.9496758782426081,
           0.9062402185385602,
           0.9055579477493099,
           0.8991777652596644,
           0.7670843196596336,
           0.6706076307812976,
           0.6874748096240136,
           0.7762440505617746,
           0.8710768672512529,
           0.9098703390096816
          ]
         ]
        }
       ],
       "layout": {
        "annotations": [
         {
          "font": {
           "size": 16
          },
          "showarrow": false,
          "text": "Point 1: (lat=5, lon=130)",
          "x": 0.08399999999999999,
          "xanchor": "center",
          "xref": "paper",
          "y": 1,
          "yanchor": "bottom",
          "yref": "paper"
         },
         {
          "font": {
           "size": 16
          },
          "showarrow": false,
          "text": "Point 2: (lat=30, lon=52)",
          "x": 0.292,
          "xanchor": "center",
          "xref": "paper",
          "y": 1,
          "yanchor": "bottom",
          "yref": "paper"
         },
         {
          "font": {
           "size": 16
          },
          "showarrow": false,
          "text": "Point 3: (lat=12, lon=53)",
          "x": 0.5,
          "xanchor": "center",
          "xref": "paper",
          "y": 1,
          "yanchor": "bottom",
          "yref": "paper"
         },
         {
          "font": {
           "size": 16
          },
          "showarrow": false,
          "text": "Point 4: (lat=95, lon=6)",
          "x": 0.708,
          "xanchor": "center",
          "xref": "paper",
          "y": 1,
          "yanchor": "bottom",
          "yref": "paper"
         },
         {
          "font": {
           "size": 16
          },
          "showarrow": false,
          "text": "Point 5: (lat=88, lon=109)",
          "x": 0.9159999999999999,
          "xanchor": "center",
          "xref": "paper",
          "y": 1,
          "yanchor": "bottom",
          "yref": "paper"
         },
         {
          "font": {
           "size": 16
          },
          "showarrow": false,
          "text": "Point 6: (lat=76, lon=82)",
          "x": 0.08399999999999999,
          "xanchor": "center",
          "xref": "paper",
          "y": 0.375,
          "yanchor": "bottom",
          "yref": "paper"
         },
         {
          "font": {
           "size": 16
          },
          "showarrow": false,
          "text": "Point 7: (lat=91, lon=112)",
          "x": 0.292,
          "xanchor": "center",
          "xref": "paper",
          "y": 0.375,
          "yanchor": "bottom",
          "yref": "paper"
         },
         {
          "font": {
           "size": 16
          },
          "showarrow": false,
          "text": "Point 8: (lat=80, lon=19)",
          "x": 0.5,
          "xanchor": "center",
          "xref": "paper",
          "y": 0.375,
          "yanchor": "bottom",
          "yref": "paper"
         },
         {
          "font": {
           "size": 16
          },
          "showarrow": false,
          "text": "Point 9: (lat=2, lon=127)",
          "x": 0.708,
          "xanchor": "center",
          "xref": "paper",
          "y": 0.375,
          "yanchor": "bottom",
          "yref": "paper"
         },
         {
          "font": {
           "size": 16
          },
          "showarrow": false,
          "text": "Point 10: (lat=49, lon=70)",
          "x": 0.9159999999999999,
          "xanchor": "center",
          "xref": "paper",
          "y": 0.375,
          "yanchor": "bottom",
          "yref": "paper"
         }
        ],
        "height": 800,
        "scene": {
         "domain": {
          "x": [
           0,
           0.16799999999999998
          ],
          "y": [
           0.625,
           1
          ]
         },
         "xaxis": {
          "title": {
           "text": "E"
          }
         },
         "yaxis": {
          "title": {
           "text": "tau"
          }
         },
         "zaxis": {
          "title": {
           "text": "rho"
          }
         }
        },
        "scene10": {
         "domain": {
          "x": [
           0.832,
           1
          ],
          "y": [
           0,
           0.375
          ]
         }
        },
        "scene2": {
         "domain": {
          "x": [
           0.208,
           0.376
          ],
          "y": [
           0.625,
           1
          ]
         }
        },
        "scene3": {
         "domain": {
          "x": [
           0.416,
           0.584
          ],
          "y": [
           0.625,
           1
          ]
         }
        },
        "scene4": {
         "domain": {
          "x": [
           0.624,
           0.792
          ],
          "y": [
           0.625,
           1
          ]
         }
        },
        "scene5": {
         "domain": {
          "x": [
           0.832,
           1
          ],
          "y": [
           0.625,
           1
          ]
         }
        },
        "scene6": {
         "domain": {
          "x": [
           0,
           0.16799999999999998
          ],
          "y": [
           0,
           0.375
          ]
         }
        },
        "scene7": {
         "domain": {
          "x": [
           0.208,
           0.376
          ],
          "y": [
           0,
           0.375
          ]
         }
        },
        "scene8": {
         "domain": {
          "x": [
           0.416,
           0.584
          ],
          "y": [
           0,
           0.375
          ]
         }
        },
        "scene9": {
         "domain": {
          "x": [
           0.624,
           0.792
          ],
          "y": [
           0,
           0.375
          ]
         }
        },
        "template": {
         "data": {
          "bar": [
           {
            "error_x": {
             "color": "#2a3f5f"
            },
            "error_y": {
             "color": "#2a3f5f"
            },
            "marker": {
             "line": {
              "color": "#E5ECF6",
              "width": 0.5
             },
             "pattern": {
              "fillmode": "overlay",
              "size": 10,
              "solidity": 0.2
             }
            },
            "type": "bar"
           }
          ],
          "barpolar": [
           {
            "marker": {
             "line": {
              "color": "#E5ECF6",
              "width": 0.5
             },
             "pattern": {
              "fillmode": "overlay",
              "size": 10,
              "solidity": 0.2
             }
            },
            "type": "barpolar"
           }
          ],
          "carpet": [
           {
            "aaxis": {
             "endlinecolor": "#2a3f5f",
             "gridcolor": "white",
             "linecolor": "white",
             "minorgridcolor": "white",
             "startlinecolor": "#2a3f5f"
            },
            "baxis": {
             "endlinecolor": "#2a3f5f",
             "gridcolor": "white",
             "linecolor": "white",
             "minorgridcolor": "white",
             "startlinecolor": "#2a3f5f"
            },
            "type": "carpet"
           }
          ],
          "choropleth": [
           {
            "colorbar": {
             "outlinewidth": 0,
             "ticks": ""
            },
            "type": "choropleth"
           }
          ],
          "contour": [
           {
            "colorbar": {
             "outlinewidth": 0,
             "ticks": ""
            },
            "colorscale": [
             [
              0,
              "#0d0887"
             ],
             [
              0.1111111111111111,
              "#46039f"
             ],
             [
              0.2222222222222222,
              "#7201a8"
             ],
             [
              0.3333333333333333,
              "#9c179e"
             ],
             [
              0.4444444444444444,
              "#bd3786"
             ],
             [
              0.5555555555555556,
              "#d8576b"
             ],
             [
              0.6666666666666666,
              "#ed7953"
             ],
             [
              0.7777777777777778,
              "#fb9f3a"
             ],
             [
              0.8888888888888888,
              "#fdca26"
             ],
             [
              1,
              "#f0f921"
             ]
            ],
            "type": "contour"
           }
          ],
          "contourcarpet": [
           {
            "colorbar": {
             "outlinewidth": 0,
             "ticks": ""
            },
            "type": "contourcarpet"
           }
          ],
          "heatmap": [
           {
            "colorbar": {
             "outlinewidth": 0,
             "ticks": ""
            },
            "colorscale": [
             [
              0,
              "#0d0887"
             ],
             [
              0.1111111111111111,
              "#46039f"
             ],
             [
              0.2222222222222222,
              "#7201a8"
             ],
             [
              0.3333333333333333,
              "#9c179e"
             ],
             [
              0.4444444444444444,
              "#bd3786"
             ],
             [
              0.5555555555555556,
              "#d8576b"
             ],
             [
              0.6666666666666666,
              "#ed7953"
             ],
             [
              0.7777777777777778,
              "#fb9f3a"
             ],
             [
              0.8888888888888888,
              "#fdca26"
             ],
             [
              1,
              "#f0f921"
             ]
            ],
            "type": "heatmap"
           }
          ],
          "heatmapgl": [
           {
            "colorbar": {
             "outlinewidth": 0,
             "ticks": ""
            },
            "colorscale": [
             [
              0,
              "#0d0887"
             ],
             [
              0.1111111111111111,
              "#46039f"
             ],
             [
              0.2222222222222222,
              "#7201a8"
             ],
             [
              0.3333333333333333,
              "#9c179e"
             ],
             [
              0.4444444444444444,
              "#bd3786"
             ],
             [
              0.5555555555555556,
              "#d8576b"
             ],
             [
              0.6666666666666666,
              "#ed7953"
             ],
             [
              0.7777777777777778,
              "#fb9f3a"
             ],
             [
              0.8888888888888888,
              "#fdca26"
             ],
             [
              1,
              "#f0f921"
             ]
            ],
            "type": "heatmapgl"
           }
          ],
          "histogram": [
           {
            "marker": {
             "pattern": {
              "fillmode": "overlay",
              "size": 10,
              "solidity": 0.2
             }
            },
            "type": "histogram"
           }
          ],
          "histogram2d": [
           {
            "colorbar": {
             "outlinewidth": 0,
             "ticks": ""
            },
            "colorscale": [
             [
              0,
              "#0d0887"
             ],
             [
              0.1111111111111111,
              "#46039f"
             ],
             [
              0.2222222222222222,
              "#7201a8"
             ],
             [
              0.3333333333333333,
              "#9c179e"
             ],
             [
              0.4444444444444444,
              "#bd3786"
             ],
             [
              0.5555555555555556,
              "#d8576b"
             ],
             [
              0.6666666666666666,
              "#ed7953"
             ],
             [
              0.7777777777777778,
              "#fb9f3a"
             ],
             [
              0.8888888888888888,
              "#fdca26"
             ],
             [
              1,
              "#f0f921"
             ]
            ],
            "type": "histogram2d"
           }
          ],
          "histogram2dcontour": [
           {
            "colorbar": {
             "outlinewidth": 0,
             "ticks": ""
            },
            "colorscale": [
             [
              0,
              "#0d0887"
             ],
             [
              0.1111111111111111,
              "#46039f"
             ],
             [
              0.2222222222222222,
              "#7201a8"
             ],
             [
              0.3333333333333333,
              "#9c179e"
             ],
             [
              0.4444444444444444,
              "#bd3786"
             ],
             [
              0.5555555555555556,
              "#d8576b"
             ],
             [
              0.6666666666666666,
              "#ed7953"
             ],
             [
              0.7777777777777778,
              "#fb9f3a"
             ],
             [
              0.8888888888888888,
              "#fdca26"
             ],
             [
              1,
              "#f0f921"
             ]
            ],
            "type": "histogram2dcontour"
           }
          ],
          "mesh3d": [
           {
            "colorbar": {
             "outlinewidth": 0,
             "ticks": ""
            },
            "type": "mesh3d"
           }
          ],
          "parcoords": [
           {
            "line": {
             "colorbar": {
              "outlinewidth": 0,
              "ticks": ""
             }
            },
            "type": "parcoords"
           }
          ],
          "pie": [
           {
            "automargin": true,
            "type": "pie"
           }
          ],
          "scatter": [
           {
            "fillpattern": {
             "fillmode": "overlay",
             "size": 10,
             "solidity": 0.2
            },
            "type": "scatter"
           }
          ],
          "scatter3d": [
           {
            "line": {
             "colorbar": {
              "outlinewidth": 0,
              "ticks": ""
             }
            },
            "marker": {
             "colorbar": {
              "outlinewidth": 0,
              "ticks": ""
             }
            },
            "type": "scatter3d"
           }
          ],
          "scattercarpet": [
           {
            "marker": {
             "colorbar": {
              "outlinewidth": 0,
              "ticks": ""
             }
            },
            "type": "scattercarpet"
           }
          ],
          "scattergeo": [
           {
            "marker": {
             "colorbar": {
              "outlinewidth": 0,
              "ticks": ""
             }
            },
            "type": "scattergeo"
           }
          ],
          "scattergl": [
           {
            "marker": {
             "colorbar": {
              "outlinewidth": 0,
              "ticks": ""
             }
            },
            "type": "scattergl"
           }
          ],
          "scattermapbox": [
           {
            "marker": {
             "colorbar": {
              "outlinewidth": 0,
              "ticks": ""
             }
            },
            "type": "scattermapbox"
           }
          ],
          "scatterpolar": [
           {
            "marker": {
             "colorbar": {
              "outlinewidth": 0,
              "ticks": ""
             }
            },
            "type": "scatterpolar"
           }
          ],
          "scatterpolargl": [
           {
            "marker": {
             "colorbar": {
              "outlinewidth": 0,
              "ticks": ""
             }
            },
            "type": "scatterpolargl"
           }
          ],
          "scatterternary": [
           {
            "marker": {
             "colorbar": {
              "outlinewidth": 0,
              "ticks": ""
             }
            },
            "type": "scatterternary"
           }
          ],
          "surface": [
           {
            "colorbar": {
             "outlinewidth": 0,
             "ticks": ""
            },
            "colorscale": [
             [
              0,
              "#0d0887"
             ],
             [
              0.1111111111111111,
              "#46039f"
             ],
             [
              0.2222222222222222,
              "#7201a8"
             ],
             [
              0.3333333333333333,
              "#9c179e"
             ],
             [
              0.4444444444444444,
              "#bd3786"
             ],
             [
              0.5555555555555556,
              "#d8576b"
             ],
             [
              0.6666666666666666,
              "#ed7953"
             ],
             [
              0.7777777777777778,
              "#fb9f3a"
             ],
             [
              0.8888888888888888,
              "#fdca26"
             ],
             [
              1,
              "#f0f921"
             ]
            ],
            "type": "surface"
           }
          ],
          "table": [
           {
            "cells": {
             "fill": {
              "color": "#EBF0F8"
             },
             "line": {
              "color": "white"
             }
            },
            "header": {
             "fill": {
              "color": "#C8D4E3"
             },
             "line": {
              "color": "white"
             }
            },
            "type": "table"
           }
          ]
         },
         "layout": {
          "annotationdefaults": {
           "arrowcolor": "#2a3f5f",
           "arrowhead": 0,
           "arrowwidth": 1
          },
          "autotypenumbers": "strict",
          "coloraxis": {
           "colorbar": {
            "outlinewidth": 0,
            "ticks": ""
           }
          },
          "colorscale": {
           "diverging": [
            [
             0,
             "#8e0152"
            ],
            [
             0.1,
             "#c51b7d"
            ],
            [
             0.2,
             "#de77ae"
            ],
            [
             0.3,
             "#f1b6da"
            ],
            [
             0.4,
             "#fde0ef"
            ],
            [
             0.5,
             "#f7f7f7"
            ],
            [
             0.6,
             "#e6f5d0"
            ],
            [
             0.7,
             "#b8e186"
            ],
            [
             0.8,
             "#7fbc41"
            ],
            [
             0.9,
             "#4d9221"
            ],
            [
             1,
             "#276419"
            ]
           ],
           "sequential": [
            [
             0,
             "#0d0887"
            ],
            [
             0.1111111111111111,
             "#46039f"
            ],
            [
             0.2222222222222222,
             "#7201a8"
            ],
            [
             0.3333333333333333,
             "#9c179e"
            ],
            [
             0.4444444444444444,
             "#bd3786"
            ],
            [
             0.5555555555555556,
             "#d8576b"
            ],
            [
             0.6666666666666666,
             "#ed7953"
            ],
            [
             0.7777777777777778,
             "#fb9f3a"
            ],
            [
             0.8888888888888888,
             "#fdca26"
            ],
            [
             1,
             "#f0f921"
            ]
           ],
           "sequentialminus": [
            [
             0,
             "#0d0887"
            ],
            [
             0.1111111111111111,
             "#46039f"
            ],
            [
             0.2222222222222222,
             "#7201a8"
            ],
            [
             0.3333333333333333,
             "#9c179e"
            ],
            [
             0.4444444444444444,
             "#bd3786"
            ],
            [
             0.5555555555555556,
             "#d8576b"
            ],
            [
             0.6666666666666666,
             "#ed7953"
            ],
            [
             0.7777777777777778,
             "#fb9f3a"
            ],
            [
             0.8888888888888888,
             "#fdca26"
            ],
            [
             1,
             "#f0f921"
            ]
           ]
          },
          "colorway": [
           "#636efa",
           "#EF553B",
           "#00cc96",
           "#ab63fa",
           "#FFA15A",
           "#19d3f3",
           "#FF6692",
           "#B6E880",
           "#FF97FF",
           "#FECB52"
          ],
          "font": {
           "color": "#2a3f5f"
          },
          "geo": {
           "bgcolor": "white",
           "lakecolor": "white",
           "landcolor": "#E5ECF6",
           "showlakes": true,
           "showland": true,
           "subunitcolor": "white"
          },
          "hoverlabel": {
           "align": "left"
          },
          "hovermode": "closest",
          "mapbox": {
           "style": "light"
          },
          "paper_bgcolor": "white",
          "plot_bgcolor": "#E5ECF6",
          "polar": {
           "angularaxis": {
            "gridcolor": "white",
            "linecolor": "white",
            "ticks": ""
           },
           "bgcolor": "#E5ECF6",
           "radialaxis": {
            "gridcolor": "white",
            "linecolor": "white",
            "ticks": ""
           }
          },
          "scene": {
           "xaxis": {
            "backgroundcolor": "#E5ECF6",
            "gridcolor": "white",
            "gridwidth": 2,
            "linecolor": "white",
            "showbackground": true,
            "ticks": "",
            "zerolinecolor": "white"
           },
           "yaxis": {
            "backgroundcolor": "#E5ECF6",
            "gridcolor": "white",
            "gridwidth": 2,
            "linecolor": "white",
            "showbackground": true,
            "ticks": "",
            "zerolinecolor": "white"
           },
           "zaxis": {
            "backgroundcolor": "#E5ECF6",
            "gridcolor": "white",
            "gridwidth": 2,
            "linecolor": "white",
            "showbackground": true,
            "ticks": "",
            "zerolinecolor": "white"
           }
          },
          "shapedefaults": {
           "line": {
            "color": "#2a3f5f"
           }
          },
          "ternary": {
           "aaxis": {
            "gridcolor": "white",
            "linecolor": "white",
            "ticks": ""
           },
           "baxis": {
            "gridcolor": "white",
            "linecolor": "white",
            "ticks": ""
           },
           "bgcolor": "#E5ECF6",
           "caxis": {
            "gridcolor": "white",
            "linecolor": "white",
            "ticks": ""
           }
          },
          "title": {
           "x": 0.05
          },
          "xaxis": {
           "automargin": true,
           "gridcolor": "white",
           "linecolor": "white",
           "ticks": "",
           "title": {
            "standoff": 15
           },
           "zerolinecolor": "white",
           "zerolinewidth": 2
          },
          "yaxis": {
           "automargin": true,
           "gridcolor": "white",
           "linecolor": "white",
           "ticks": "",
           "title": {
            "standoff": 15
           },
           "zerolinecolor": "white",
           "zerolinewidth": 2
          }
         }
        },
        "title": {
         "text": "EmbedDimension scan of E in [1..5], tau in [1..10] (Tp = tau)"
        },
        "width": 1400
       }
      }
     },
     "metadata": {},
     "output_type": "display_data"
    }
   ],
   "source": [
    "import xarray as xr\n",
    "import pandas as pd\n",
    "import numpy as np\n",
    "import random\n",
    "\n",
    "import plotly.graph_objects as go\n",
    "from plotly.subplots import make_subplots\n",
    "\n",
    "from pyEDM import EmbedDimension\n",
    "\n",
    "\n",
    "# assert ds_sat.sizes[\"age\"] == len(df_pre), (\n",
    "#     \"ds_sat age dimension must match length of precession time series.\"\n",
    "# )\n",
    "\n",
    "\n",
    "# Grab coordinate sizes\n",
    "nlat = ds_sat.sizes[\"lat\"]\n",
    "nlon = ds_sat.sizes[\"lon\"]\n",
    "ages = ds_sat[\"age\"].values  # not strictly needed but good to keep track\n",
    "\n",
    "# ---------------------------------------------------------------------\n",
    "# 2. Randomly select 10 (lat, lon) grid points\n",
    "# ---------------------------------------------------------------------\n",
    "all_pairs = [(ilat, ilon) for ilat in range(nlat) for ilon in range(nlon)]\n",
    "random_pairs = random.sample(all_pairs, 10)  # pick 10 unique (ilat, ilon)\n",
    "\n",
    "\n",
    "\n",
    "results_list = []  # will be a list of (ilat, ilon, Evals, Tauvals, RhoMatrix)\n",
    "\n",
    "for idx, (ilat, ilon) in enumerate(random_pairs):\n",
    "    # Extract local sat time series\n",
    "    sat_ts = ds_sat[\"sat\"].isel(lat=ilat, lon=ilon).values\n",
    "\n",
    "    df_tmp = pd.DataFrame({\n",
    "        \"Time\": ages,\n",
    "        \"pre\": df_pre[\"pre\"],  # predictor\n",
    "        \"sat\": sat_ts          # target to predict\n",
    "    })\n",
    "\n",
    "    # We'll store a 2D array of shape (5,10) for E=1..5, tau=1..10\n",
    "    # Accessed as RhoMatrix[E-1, tau-1].\n",
    "    RhoMatrix = np.zeros((5, 10))\n",
    "\n",
    "    # For each tau in 1..10, call EmbedDimension once with maxE=5 and Tp=tau\n",
    "    for tau in range(1, 11):\n",
    "        edm_out = EmbedDimension(\n",
    "            dataFrame=df_tmp,\n",
    "            columns=\"sat\",\n",
    "            target=\"pre\",\n",
    "            maxE=5,          # We'll evaluate E=1..5\n",
    "            tau=tau,\n",
    "            Tp=0,\n",
    "            lib=\"1 120\",     # Entire time series, adapt if needed\n",
    "            pred=\"1 120\",\n",
    "            showPlot=False,  # We'll handle plotting ourselves\n",
    "            # If you want to speed up or parallelize, you can set numThreads or numProcess\n",
    "        )\n",
    "\n",
    "        for e_row in edm_out.itertuples():\n",
    "            e_val = e_row.E     # 1..5\n",
    "            # print(e_val)\n",
    "            rho_val = e_row.rho\n",
    "            RhoMatrix[int(e_val - 1), int(tau - 1)] = rho_val\n",
    "\n",
    "    # We'll store the axis values for plotting (note: we want these in 2D for a surface plot).\n",
    "    E_axis = np.arange(1, 6)     # 1..5\n",
    "    Tau_axis = np.arange(1, 11)  # 1..10\n",
    "\n",
    "    # Save the result for this grid point\n",
    "    results_list.append((ilat, ilon, E_axis, Tau_axis, RhoMatrix))\n",
    "\n",
    "# ---------------------------------------------------------------------\n",
    "# 4. Make a 3D surface plot for each of the 10 results\n",
    "#    using Plotly subplots\n",
    "# ---------------------------------------------------------------------\n",
    "\n",
    "# We'll do 2 rows, 5 columns of 3D subplots\n",
    "fig = make_subplots(\n",
    "    rows=2, cols=5,\n",
    "    specs=[\n",
    "        [{\"type\": \"surface\"}]*5,\n",
    "        [{\"type\": \"surface\"}]*5\n",
    "    ],\n",
    "    subplot_titles=[f\"Point {i+1}: (lat={r[0]}, lon={r[1]})\" for i, r in enumerate(results_list)]\n",
    ")\n",
    "\n",
    "for i, (ilat, ilon, E_axis, Tau_axis, RhoMatrix) in enumerate(results_list):\n",
    "\n",
    "    E_grid, Tau_grid = np.meshgrid(E_axis, Tau_axis, indexing='ij')\n",
    "\n",
    "    row = (i // 5) + 1\n",
    "    col = (i % 5) + 1\n",
    "\n",
    "    # Create the surface trace\n",
    "    surf = go.Surface(\n",
    "        x=E_grid,       # E dimension\n",
    "        y=Tau_grid,     # tau dimension\n",
    "        z=RhoMatrix,    # rho\n",
    "        colorscale=\"Viridis\",   # or any Plotly colormap you like\n",
    "        showscale=False         # hide colorbar in subplots for neatness\n",
    "    )\n",
    "    fig.add_trace(surf, row=row, col=col)\n",
    "\n",
    "# Update overall layout\n",
    "fig.update_layout(\n",
    "    height=800, width=1400,\n",
    "    title=\"\",\n",
    "    scene=dict(\n",
    "        xaxis_title=\"E\",\n",
    "        yaxis_title=\"tau\",\n",
    "        zaxis_title=\"rho\"\n",
    "    ),\n",
    "    # If you prefer separate axis labels per subplot, you can set them individually\n",
    "    # with fig.update_xaxes(..., row=?, col=?)\n",
    ")\n",
    "\n",
    "fig.show()\n"
   ]
  }
 ],
 "metadata": {
  "kernelspec": {
   "display_name": "pz_venv_causal",
   "language": "python",
   "name": "python3"
  },
  "language_info": {
   "codemirror_mode": {
    "name": "ipython",
    "version": 3
   },
   "file_extension": ".py",
   "mimetype": "text/x-python",
   "name": "python",
   "nbconvert_exporter": "python",
   "pygments_lexer": "ipython3",
   "version": "3.8.18"
  }
 },
 "nbformat": 4,
 "nbformat_minor": 2
}
