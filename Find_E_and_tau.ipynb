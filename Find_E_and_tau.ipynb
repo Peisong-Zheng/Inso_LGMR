{
 "cells": [
  {
   "cell_type": "code",
   "execution_count": 8,
   "metadata": {},
   "outputs": [
    {
     "data": {
      "text/html": [
       "<div><svg style=\"position: absolute; width: 0; height: 0; overflow: hidden\">\n",
       "<defs>\n",
       "<symbol id=\"icon-database\" viewBox=\"0 0 32 32\">\n",
       "<path d=\"M16 0c-8.837 0-16 2.239-16 5v4c0 2.761 7.163 5 16 5s16-2.239 16-5v-4c0-2.761-7.163-5-16-5z\"></path>\n",
       "<path d=\"M16 17c-8.837 0-16-2.239-16-5v6c0 2.761 7.163 5 16 5s16-2.239 16-5v-6c0 2.761-7.163 5-16 5z\"></path>\n",
       "<path d=\"M16 26c-8.837 0-16-2.239-16-5v6c0 2.761 7.163 5 16 5s16-2.239 16-5v-6c0 2.761-7.163 5-16 5z\"></path>\n",
       "</symbol>\n",
       "<symbol id=\"icon-file-text2\" viewBox=\"0 0 32 32\">\n",
       "<path d=\"M28.681 7.159c-0.694-0.947-1.662-2.053-2.724-3.116s-2.169-2.030-3.116-2.724c-1.612-1.182-2.393-1.319-2.841-1.319h-15.5c-1.378 0-2.5 1.121-2.5 2.5v27c0 1.378 1.122 2.5 2.5 2.5h23c1.378 0 2.5-1.122 2.5-2.5v-19.5c0-0.448-0.137-1.23-1.319-2.841zM24.543 5.457c0.959 0.959 1.712 1.825 2.268 2.543h-4.811v-4.811c0.718 0.556 1.584 1.309 2.543 2.268zM28 29.5c0 0.271-0.229 0.5-0.5 0.5h-23c-0.271 0-0.5-0.229-0.5-0.5v-27c0-0.271 0.229-0.5 0.5-0.5 0 0 15.499-0 15.5 0v7c0 0.552 0.448 1 1 1h7v19.5z\"></path>\n",
       "<path d=\"M23 26h-14c-0.552 0-1-0.448-1-1s0.448-1 1-1h14c0.552 0 1 0.448 1 1s-0.448 1-1 1z\"></path>\n",
       "<path d=\"M23 22h-14c-0.552 0-1-0.448-1-1s0.448-1 1-1h14c0.552 0 1 0.448 1 1s-0.448 1-1 1z\"></path>\n",
       "<path d=\"M23 18h-14c-0.552 0-1-0.448-1-1s0.448-1 1-1h14c0.552 0 1 0.448 1 1s-0.448 1-1 1z\"></path>\n",
       "</symbol>\n",
       "</defs>\n",
       "</svg>\n",
       "<style>/* CSS stylesheet for displaying xarray objects in jupyterlab.\n",
       " *\n",
       " */\n",
       "\n",
       ":root {\n",
       "  --xr-font-color0: var(--jp-content-font-color0, rgba(0, 0, 0, 1));\n",
       "  --xr-font-color2: var(--jp-content-font-color2, rgba(0, 0, 0, 0.54));\n",
       "  --xr-font-color3: var(--jp-content-font-color3, rgba(0, 0, 0, 0.38));\n",
       "  --xr-border-color: var(--jp-border-color2, #e0e0e0);\n",
       "  --xr-disabled-color: var(--jp-layout-color3, #bdbdbd);\n",
       "  --xr-background-color: var(--jp-layout-color0, white);\n",
       "  --xr-background-color-row-even: var(--jp-layout-color1, white);\n",
       "  --xr-background-color-row-odd: var(--jp-layout-color2, #eeeeee);\n",
       "}\n",
       "\n",
       "html[theme=dark],\n",
       "body[data-theme=dark],\n",
       "body.vscode-dark {\n",
       "  --xr-font-color0: rgba(255, 255, 255, 1);\n",
       "  --xr-font-color2: rgba(255, 255, 255, 0.54);\n",
       "  --xr-font-color3: rgba(255, 255, 255, 0.38);\n",
       "  --xr-border-color: #1F1F1F;\n",
       "  --xr-disabled-color: #515151;\n",
       "  --xr-background-color: #111111;\n",
       "  --xr-background-color-row-even: #111111;\n",
       "  --xr-background-color-row-odd: #313131;\n",
       "}\n",
       "\n",
       ".xr-wrap {\n",
       "  display: block !important;\n",
       "  min-width: 300px;\n",
       "  max-width: 700px;\n",
       "}\n",
       "\n",
       ".xr-text-repr-fallback {\n",
       "  /* fallback to plain text repr when CSS is not injected (untrusted notebook) */\n",
       "  display: none;\n",
       "}\n",
       "\n",
       ".xr-header {\n",
       "  padding-top: 6px;\n",
       "  padding-bottom: 6px;\n",
       "  margin-bottom: 4px;\n",
       "  border-bottom: solid 1px var(--xr-border-color);\n",
       "}\n",
       "\n",
       ".xr-header > div,\n",
       ".xr-header > ul {\n",
       "  display: inline;\n",
       "  margin-top: 0;\n",
       "  margin-bottom: 0;\n",
       "}\n",
       "\n",
       ".xr-obj-type,\n",
       ".xr-array-name {\n",
       "  margin-left: 2px;\n",
       "  margin-right: 10px;\n",
       "}\n",
       "\n",
       ".xr-obj-type {\n",
       "  color: var(--xr-font-color2);\n",
       "}\n",
       "\n",
       ".xr-sections {\n",
       "  padding-left: 0 !important;\n",
       "  display: grid;\n",
       "  grid-template-columns: 150px auto auto 1fr 20px 20px;\n",
       "}\n",
       "\n",
       ".xr-section-item {\n",
       "  display: contents;\n",
       "}\n",
       "\n",
       ".xr-section-item input {\n",
       "  display: none;\n",
       "}\n",
       "\n",
       ".xr-section-item input + label {\n",
       "  color: var(--xr-disabled-color);\n",
       "}\n",
       "\n",
       ".xr-section-item input:enabled + label {\n",
       "  cursor: pointer;\n",
       "  color: var(--xr-font-color2);\n",
       "}\n",
       "\n",
       ".xr-section-item input:enabled + label:hover {\n",
       "  color: var(--xr-font-color0);\n",
       "}\n",
       "\n",
       ".xr-section-summary {\n",
       "  grid-column: 1;\n",
       "  color: var(--xr-font-color2);\n",
       "  font-weight: 500;\n",
       "}\n",
       "\n",
       ".xr-section-summary > span {\n",
       "  display: inline-block;\n",
       "  padding-left: 0.5em;\n",
       "}\n",
       "\n",
       ".xr-section-summary-in:disabled + label {\n",
       "  color: var(--xr-font-color2);\n",
       "}\n",
       "\n",
       ".xr-section-summary-in + label:before {\n",
       "  display: inline-block;\n",
       "  content: '►';\n",
       "  font-size: 11px;\n",
       "  width: 15px;\n",
       "  text-align: center;\n",
       "}\n",
       "\n",
       ".xr-section-summary-in:disabled + label:before {\n",
       "  color: var(--xr-disabled-color);\n",
       "}\n",
       "\n",
       ".xr-section-summary-in:checked + label:before {\n",
       "  content: '▼';\n",
       "}\n",
       "\n",
       ".xr-section-summary-in:checked + label > span {\n",
       "  display: none;\n",
       "}\n",
       "\n",
       ".xr-section-summary,\n",
       ".xr-section-inline-details {\n",
       "  padding-top: 4px;\n",
       "  padding-bottom: 4px;\n",
       "}\n",
       "\n",
       ".xr-section-inline-details {\n",
       "  grid-column: 2 / -1;\n",
       "}\n",
       "\n",
       ".xr-section-details {\n",
       "  display: none;\n",
       "  grid-column: 1 / -1;\n",
       "  margin-bottom: 5px;\n",
       "}\n",
       "\n",
       ".xr-section-summary-in:checked ~ .xr-section-details {\n",
       "  display: contents;\n",
       "}\n",
       "\n",
       ".xr-array-wrap {\n",
       "  grid-column: 1 / -1;\n",
       "  display: grid;\n",
       "  grid-template-columns: 20px auto;\n",
       "}\n",
       "\n",
       ".xr-array-wrap > label {\n",
       "  grid-column: 1;\n",
       "  vertical-align: top;\n",
       "}\n",
       "\n",
       ".xr-preview {\n",
       "  color: var(--xr-font-color3);\n",
       "}\n",
       "\n",
       ".xr-array-preview,\n",
       ".xr-array-data {\n",
       "  padding: 0 5px !important;\n",
       "  grid-column: 2;\n",
       "}\n",
       "\n",
       ".xr-array-data,\n",
       ".xr-array-in:checked ~ .xr-array-preview {\n",
       "  display: none;\n",
       "}\n",
       "\n",
       ".xr-array-in:checked ~ .xr-array-data,\n",
       ".xr-array-preview {\n",
       "  display: inline-block;\n",
       "}\n",
       "\n",
       ".xr-dim-list {\n",
       "  display: inline-block !important;\n",
       "  list-style: none;\n",
       "  padding: 0 !important;\n",
       "  margin: 0;\n",
       "}\n",
       "\n",
       ".xr-dim-list li {\n",
       "  display: inline-block;\n",
       "  padding: 0;\n",
       "  margin: 0;\n",
       "}\n",
       "\n",
       ".xr-dim-list:before {\n",
       "  content: '(';\n",
       "}\n",
       "\n",
       ".xr-dim-list:after {\n",
       "  content: ')';\n",
       "}\n",
       "\n",
       ".xr-dim-list li:not(:last-child):after {\n",
       "  content: ',';\n",
       "  padding-right: 5px;\n",
       "}\n",
       "\n",
       ".xr-has-index {\n",
       "  font-weight: bold;\n",
       "}\n",
       "\n",
       ".xr-var-list,\n",
       ".xr-var-item {\n",
       "  display: contents;\n",
       "}\n",
       "\n",
       ".xr-var-item > div,\n",
       ".xr-var-item label,\n",
       ".xr-var-item > .xr-var-name span {\n",
       "  background-color: var(--xr-background-color-row-even);\n",
       "  margin-bottom: 0;\n",
       "}\n",
       "\n",
       ".xr-var-item > .xr-var-name:hover span {\n",
       "  padding-right: 5px;\n",
       "}\n",
       "\n",
       ".xr-var-list > li:nth-child(odd) > div,\n",
       ".xr-var-list > li:nth-child(odd) > label,\n",
       ".xr-var-list > li:nth-child(odd) > .xr-var-name span {\n",
       "  background-color: var(--xr-background-color-row-odd);\n",
       "}\n",
       "\n",
       ".xr-var-name {\n",
       "  grid-column: 1;\n",
       "}\n",
       "\n",
       ".xr-var-dims {\n",
       "  grid-column: 2;\n",
       "}\n",
       "\n",
       ".xr-var-dtype {\n",
       "  grid-column: 3;\n",
       "  text-align: right;\n",
       "  color: var(--xr-font-color2);\n",
       "}\n",
       "\n",
       ".xr-var-preview {\n",
       "  grid-column: 4;\n",
       "}\n",
       "\n",
       ".xr-index-preview {\n",
       "  grid-column: 2 / 5;\n",
       "  color: var(--xr-font-color2);\n",
       "}\n",
       "\n",
       ".xr-var-name,\n",
       ".xr-var-dims,\n",
       ".xr-var-dtype,\n",
       ".xr-preview,\n",
       ".xr-attrs dt {\n",
       "  white-space: nowrap;\n",
       "  overflow: hidden;\n",
       "  text-overflow: ellipsis;\n",
       "  padding-right: 10px;\n",
       "}\n",
       "\n",
       ".xr-var-name:hover,\n",
       ".xr-var-dims:hover,\n",
       ".xr-var-dtype:hover,\n",
       ".xr-attrs dt:hover {\n",
       "  overflow: visible;\n",
       "  width: auto;\n",
       "  z-index: 1;\n",
       "}\n",
       "\n",
       ".xr-var-attrs,\n",
       ".xr-var-data,\n",
       ".xr-index-data {\n",
       "  display: none;\n",
       "  background-color: var(--xr-background-color) !important;\n",
       "  padding-bottom: 5px !important;\n",
       "}\n",
       "\n",
       ".xr-var-attrs-in:checked ~ .xr-var-attrs,\n",
       ".xr-var-data-in:checked ~ .xr-var-data,\n",
       ".xr-index-data-in:checked ~ .xr-index-data {\n",
       "  display: block;\n",
       "}\n",
       "\n",
       ".xr-var-data > table {\n",
       "  float: right;\n",
       "}\n",
       "\n",
       ".xr-var-name span,\n",
       ".xr-var-data,\n",
       ".xr-index-name div,\n",
       ".xr-index-data,\n",
       ".xr-attrs {\n",
       "  padding-left: 25px !important;\n",
       "}\n",
       "\n",
       ".xr-attrs,\n",
       ".xr-var-attrs,\n",
       ".xr-var-data,\n",
       ".xr-index-data {\n",
       "  grid-column: 1 / -1;\n",
       "}\n",
       "\n",
       "dl.xr-attrs {\n",
       "  padding: 0;\n",
       "  margin: 0;\n",
       "  display: grid;\n",
       "  grid-template-columns: 125px auto;\n",
       "}\n",
       "\n",
       ".xr-attrs dt,\n",
       ".xr-attrs dd {\n",
       "  padding: 0;\n",
       "  margin: 0;\n",
       "  float: left;\n",
       "  padding-right: 10px;\n",
       "  width: auto;\n",
       "}\n",
       "\n",
       ".xr-attrs dt {\n",
       "  font-weight: normal;\n",
       "  grid-column: 1;\n",
       "}\n",
       "\n",
       ".xr-attrs dt:hover span {\n",
       "  display: inline-block;\n",
       "  background: var(--xr-background-color);\n",
       "  padding-right: 10px;\n",
       "}\n",
       "\n",
       ".xr-attrs dd {\n",
       "  grid-column: 2;\n",
       "  white-space: pre-wrap;\n",
       "  word-break: break-all;\n",
       "}\n",
       "\n",
       ".xr-icon-database,\n",
       ".xr-icon-file-text2,\n",
       ".xr-no-icon {\n",
       "  display: inline-block;\n",
       "  vertical-align: middle;\n",
       "  width: 1em;\n",
       "  height: 1.5em !important;\n",
       "  stroke-width: 0;\n",
       "  stroke: currentColor;\n",
       "  fill: currentColor;\n",
       "}\n",
       "</style><pre class='xr-text-repr-fallback'>&lt;xarray.Dataset&gt;\n",
       "Dimensions:  (lat: 96, lon: 144, age: 120)\n",
       "Coordinates:\n",
       "  * lat      (lat) float32 -90.0 -88.11 -86.21 -84.32 ... 84.32 86.21 88.11 90.0\n",
       "  * lon      (lon) float32 0.0 2.5 5.0 7.5 10.0 ... 350.0 352.5 355.0 357.5\n",
       "  * age      (age) float32 100.0 300.0 500.0 ... 2.35e+04 2.37e+04 2.39e+04\n",
       "Data variables:\n",
       "    sat      (age, lat, lon) float32 ...\n",
       "    sat_std  (age, lat, lon) float32 ...</pre><div class='xr-wrap' style='display:none'><div class='xr-header'><div class='xr-obj-type'>xarray.Dataset</div></div><ul class='xr-sections'><li class='xr-section-item'><input id='section-615c3700-cc33-442d-8fbb-b1a235f50437' class='xr-section-summary-in' type='checkbox' disabled ><label for='section-615c3700-cc33-442d-8fbb-b1a235f50437' class='xr-section-summary'  title='Expand/collapse section'>Dimensions:</label><div class='xr-section-inline-details'><ul class='xr-dim-list'><li><span class='xr-has-index'>lat</span>: 96</li><li><span class='xr-has-index'>lon</span>: 144</li><li><span class='xr-has-index'>age</span>: 120</li></ul></div><div class='xr-section-details'></div></li><li class='xr-section-item'><input id='section-dfd61ca8-535f-43b4-9a0d-083984d72783' class='xr-section-summary-in' type='checkbox'  checked><label for='section-dfd61ca8-535f-43b4-9a0d-083984d72783' class='xr-section-summary' >Coordinates: <span>(3)</span></label><div class='xr-section-inline-details'></div><div class='xr-section-details'><ul class='xr-var-list'><li class='xr-var-item'><div class='xr-var-name'><span class='xr-has-index'>lat</span></div><div class='xr-var-dims'>(lat)</div><div class='xr-var-dtype'>float32</div><div class='xr-var-preview xr-preview'>-90.0 -88.11 -86.21 ... 88.11 90.0</div><input id='attrs-703d3400-54f6-4db7-a2fd-847e68c53d06' class='xr-var-attrs-in' type='checkbox' ><label for='attrs-703d3400-54f6-4db7-a2fd-847e68c53d06' title='Show/Hide attributes'><svg class='icon xr-icon-file-text2'><use xlink:href='#icon-file-text2'></use></svg></label><input id='data-e8d371b5-d526-4ad0-b25d-f9119eae6cf2' class='xr-var-data-in' type='checkbox'><label for='data-e8d371b5-d526-4ad0-b25d-f9119eae6cf2' title='Show/Hide data repr'><svg class='icon xr-icon-database'><use xlink:href='#icon-database'></use></svg></label><div class='xr-var-attrs'><dl class='xr-attrs'><dt><span>FillValue :</span></dt><dd>9.969209968386869e+36</dd><dt><span>long_name :</span></dt><dd>vector latitudes</dd><dt><span>units :</span></dt><dd>degrees_north</dd></dl></div><div class='xr-var-data'><pre>array([-90.      , -88.10526 , -86.210526, -84.31579 , -82.42105 , -80.52631 ,\n",
       "       -78.63158 , -76.73684 , -74.8421  , -72.947365, -71.052635, -69.1579  ,\n",
       "       -67.26316 , -65.36842 , -63.473682, -61.57895 , -59.68421 , -57.789474,\n",
       "       -55.894737, -54.      , -52.105263, -50.210526, -48.31579 , -46.42105 ,\n",
       "       -44.526318, -42.63158 , -40.736843, -38.842106, -36.94737 , -35.05263 ,\n",
       "       -33.157894, -31.263159, -29.368422, -27.473684, -25.578947, -23.68421 ,\n",
       "       -21.789474, -19.894737, -18.      , -16.105263, -14.210526, -12.315789,\n",
       "       -10.421053,  -8.526316,  -6.631579,  -4.736842,  -2.842105,  -0.947368,\n",
       "         0.947368,   2.842105,   4.736842,   6.631579,   8.526316,  10.421053,\n",
       "        12.315789,  14.210526,  16.105263,  18.      ,  19.894737,  21.789474,\n",
       "        23.68421 ,  25.578947,  27.473684,  29.368422,  31.263159,  33.157894,\n",
       "        35.05263 ,  36.94737 ,  38.842106,  40.736843,  42.63158 ,  44.526318,\n",
       "        46.42105 ,  48.31579 ,  50.210526,  52.105263,  54.      ,  55.894737,\n",
       "        57.789474,  59.68421 ,  61.57895 ,  63.473682,  65.36842 ,  67.26316 ,\n",
       "        69.1579  ,  71.052635,  72.947365,  74.8421  ,  76.73684 ,  78.63158 ,\n",
       "        80.52631 ,  82.42105 ,  84.31579 ,  86.210526,  88.10526 ,  90.      ],\n",
       "      dtype=float32)</pre></div></li><li class='xr-var-item'><div class='xr-var-name'><span class='xr-has-index'>lon</span></div><div class='xr-var-dims'>(lon)</div><div class='xr-var-dtype'>float32</div><div class='xr-var-preview xr-preview'>0.0 2.5 5.0 ... 352.5 355.0 357.5</div><input id='attrs-e2619729-56b1-4d6e-ac56-5f11285875d3' class='xr-var-attrs-in' type='checkbox' ><label for='attrs-e2619729-56b1-4d6e-ac56-5f11285875d3' title='Show/Hide attributes'><svg class='icon xr-icon-file-text2'><use xlink:href='#icon-file-text2'></use></svg></label><input id='data-4d765fee-df46-4ac0-b033-3aff3ac3f596' class='xr-var-data-in' type='checkbox'><label for='data-4d765fee-df46-4ac0-b033-3aff3ac3f596' title='Show/Hide data repr'><svg class='icon xr-icon-database'><use xlink:href='#icon-database'></use></svg></label><div class='xr-var-attrs'><dl class='xr-attrs'><dt><span>FillValue :</span></dt><dd>9.969209968386869e+36</dd><dt><span>long_name :</span></dt><dd>vector of longitudes</dd><dt><span>units :</span></dt><dd>degrees_east</dd></dl></div><div class='xr-var-data'><pre>array([  0. ,   2.5,   5. ,   7.5,  10. ,  12.5,  15. ,  17.5,  20. ,  22.5,\n",
       "        25. ,  27.5,  30. ,  32.5,  35. ,  37.5,  40. ,  42.5,  45. ,  47.5,\n",
       "        50. ,  52.5,  55. ,  57.5,  60. ,  62.5,  65. ,  67.5,  70. ,  72.5,\n",
       "        75. ,  77.5,  80. ,  82.5,  85. ,  87.5,  90. ,  92.5,  95. ,  97.5,\n",
       "       100. , 102.5, 105. , 107.5, 110. , 112.5, 115. , 117.5, 120. , 122.5,\n",
       "       125. , 127.5, 130. , 132.5, 135. , 137.5, 140. , 142.5, 145. , 147.5,\n",
       "       150. , 152.5, 155. , 157.5, 160. , 162.5, 165. , 167.5, 170. , 172.5,\n",
       "       175. , 177.5, 180. , 182.5, 185. , 187.5, 190. , 192.5, 195. , 197.5,\n",
       "       200. , 202.5, 205. , 207.5, 210. , 212.5, 215. , 217.5, 220. , 222.5,\n",
       "       225. , 227.5, 230. , 232.5, 235. , 237.5, 240. , 242.5, 245. , 247.5,\n",
       "       250. , 252.5, 255. , 257.5, 260. , 262.5, 265. , 267.5, 270. , 272.5,\n",
       "       275. , 277.5, 280. , 282.5, 285. , 287.5, 290. , 292.5, 295. , 297.5,\n",
       "       300. , 302.5, 305. , 307.5, 310. , 312.5, 315. , 317.5, 320. , 322.5,\n",
       "       325. , 327.5, 330. , 332.5, 335. , 337.5, 340. , 342.5, 345. , 347.5,\n",
       "       350. , 352.5, 355. , 357.5], dtype=float32)</pre></div></li><li class='xr-var-item'><div class='xr-var-name'><span class='xr-has-index'>age</span></div><div class='xr-var-dims'>(age)</div><div class='xr-var-dtype'>float32</div><div class='xr-var-preview xr-preview'>100.0 300.0 ... 2.37e+04 2.39e+04</div><input id='attrs-01cb868d-911e-4cca-ad35-cd72bd84593a' class='xr-var-attrs-in' type='checkbox' disabled><label for='attrs-01cb868d-911e-4cca-ad35-cd72bd84593a' title='Show/Hide attributes'><svg class='icon xr-icon-file-text2'><use xlink:href='#icon-file-text2'></use></svg></label><input id='data-464d701b-bd3f-40ad-ae6c-83e3426fc996' class='xr-var-data-in' type='checkbox'><label for='data-464d701b-bd3f-40ad-ae6c-83e3426fc996' title='Show/Hide data repr'><svg class='icon xr-icon-database'><use xlink:href='#icon-database'></use></svg></label><div class='xr-var-attrs'><dl class='xr-attrs'></dl></div><div class='xr-var-data'><pre>array([  100.,   300.,   500.,   700.,   900.,  1100.,  1300.,  1500.,  1700.,\n",
       "        1900.,  2100.,  2300.,  2500.,  2700.,  2900.,  3100.,  3300.,  3500.,\n",
       "        3700.,  3900.,  4100.,  4300.,  4500.,  4700.,  4900.,  5100.,  5300.,\n",
       "        5500.,  5700.,  5900.,  6100.,  6300.,  6500.,  6700.,  6900.,  7100.,\n",
       "        7300.,  7500.,  7700.,  7900.,  8100.,  8300.,  8500.,  8700.,  8900.,\n",
       "        9100.,  9300.,  9500.,  9700.,  9900., 10100., 10300., 10500., 10700.,\n",
       "       10900., 11100., 11300., 11500., 11700., 11900., 12100., 12300., 12500.,\n",
       "       12700., 12900., 13100., 13300., 13500., 13700., 13900., 14100., 14300.,\n",
       "       14500., 14700., 14900., 15100., 15300., 15500., 15700., 15900., 16100.,\n",
       "       16300., 16500., 16700., 16900., 17100., 17300., 17500., 17700., 17900.,\n",
       "       18100., 18300., 18500., 18700., 18900., 19100., 19300., 19500., 19700.,\n",
       "       19900., 20100., 20300., 20500., 20700., 20900., 21100., 21300., 21500.,\n",
       "       21700., 21900., 22100., 22300., 22500., 22700., 22900., 23100., 23300.,\n",
       "       23500., 23700., 23900.], dtype=float32)</pre></div></li></ul></div></li><li class='xr-section-item'><input id='section-2fe02ee1-5008-47f8-a5ce-a06a267bbadb' class='xr-section-summary-in' type='checkbox'  checked><label for='section-2fe02ee1-5008-47f8-a5ce-a06a267bbadb' class='xr-section-summary' >Data variables: <span>(2)</span></label><div class='xr-section-inline-details'></div><div class='xr-section-details'><ul class='xr-var-list'><li class='xr-var-item'><div class='xr-var-name'><span>sat</span></div><div class='xr-var-dims'>(age, lat, lon)</div><div class='xr-var-dtype'>float32</div><div class='xr-var-preview xr-preview'>...</div><input id='attrs-760b58c7-c170-4569-81e3-30c5939b84d7' class='xr-var-attrs-in' type='checkbox' ><label for='attrs-760b58c7-c170-4569-81e3-30c5939b84d7' title='Show/Hide attributes'><svg class='icon xr-icon-file-text2'><use xlink:href='#icon-file-text2'></use></svg></label><input id='data-768eb062-1eb4-4cfb-821c-ce09321cf48e' class='xr-var-data-in' type='checkbox'><label for='data-768eb062-1eb4-4cfb-821c-ce09321cf48e' title='Show/Hide data repr'><svg class='icon xr-icon-database'><use xlink:href='#icon-database'></use></svg></label><div class='xr-var-attrs'><dl class='xr-attrs'><dt><span>FillValue :</span></dt><dd>9.969209968386869e+36</dd><dt><span>long_name :</span></dt><dd>ENSEMBLE MEAN (n = 500) mean annual temperature at reference height</dd><dt><span>units :</span></dt><dd>degrees Celsius</dd></dl></div><div class='xr-var-data'><pre>[1658880 values with dtype=float32]</pre></div></li><li class='xr-var-item'><div class='xr-var-name'><span>sat_std</span></div><div class='xr-var-dims'>(age, lat, lon)</div><div class='xr-var-dtype'>float32</div><div class='xr-var-preview xr-preview'>...</div><input id='attrs-ba1cf424-0158-47e7-9ed1-c3e1795a5cb8' class='xr-var-attrs-in' type='checkbox' ><label for='attrs-ba1cf424-0158-47e7-9ed1-c3e1795a5cb8' title='Show/Hide attributes'><svg class='icon xr-icon-file-text2'><use xlink:href='#icon-file-text2'></use></svg></label><input id='data-86d32bff-86ce-4c18-ae4e-e535d8c946a2' class='xr-var-data-in' type='checkbox'><label for='data-86d32bff-86ce-4c18-ae4e-e535d8c946a2' title='Show/Hide data repr'><svg class='icon xr-icon-database'><use xlink:href='#icon-database'></use></svg></label><div class='xr-var-attrs'><dl class='xr-attrs'><dt><span>FillValue :</span></dt><dd>9.969209968386869e+36</dd><dt><span>long_name :</span></dt><dd>ENSEMBLE STANDARD DEVIATION (n = 500) mean annual temperature at reference height</dd><dt><span>units :</span></dt><dd>degrees Celsius</dd></dl></div><div class='xr-var-data'><pre>[1658880 values with dtype=float32]</pre></div></li></ul></div></li><li class='xr-section-item'><input id='section-f08b7e7e-84c2-442d-8d5d-b174d5db7939' class='xr-section-summary-in' type='checkbox'  ><label for='section-f08b7e7e-84c2-442d-8d5d-b174d5db7939' class='xr-section-summary' >Indexes: <span>(3)</span></label><div class='xr-section-inline-details'></div><div class='xr-section-details'><ul class='xr-var-list'><li class='xr-var-item'><div class='xr-index-name'><div>lat</div></div><div class='xr-index-preview'>PandasIndex</div><div></div><input id='index-264040b3-47ab-47fe-b82c-d9bb2ba6ded1' class='xr-index-data-in' type='checkbox'/><label for='index-264040b3-47ab-47fe-b82c-d9bb2ba6ded1' title='Show/Hide index repr'><svg class='icon xr-icon-database'><use xlink:href='#icon-database'></use></svg></label><div class='xr-index-data'><pre>PandasIndex(Float64Index([              -90.0,  -88.10526275634766,  -86.21052551269531,\n",
       "               -84.31578826904297,  -82.42105102539062,  -80.52631378173828,\n",
       "               -78.63157653808594,   -76.7368392944336,  -74.84210205078125,\n",
       "                -72.9473648071289,   -71.0526351928711,  -69.15789794921875,\n",
       "                -67.2631607055664,  -65.36842346191406,  -63.47368240356445,\n",
       "              -61.578948974609375,  -59.68421173095703,  -57.78947448730469,\n",
       "              -55.894737243652344,               -54.0, -52.105262756347656,\n",
       "               -50.21052551269531,  -48.31578826904297, -46.421051025390625,\n",
       "               -44.52631759643555,   -42.6315803527832,  -40.73684310913086,\n",
       "              -38.842105865478516,  -36.94736862182617,  -35.05263137817383,\n",
       "              -33.157894134521484, -31.263158798217773,  -29.36842155456543,\n",
       "              -27.473684310913086, -25.578947067260742,   -23.6842098236084,\n",
       "              -21.789474487304688, -19.894737243652344,               -18.0,\n",
       "              -16.105262756347656, -14.210526466369629, -12.315789222717285,\n",
       "              -10.421052932739258,  -8.526315689086914, -6.6315789222717285,\n",
       "               -4.736842155456543, -2.8421051502227783, -0.9473684430122375,\n",
       "               0.9473684430122375,  2.8421051502227783,   4.736842155456543,\n",
       "               6.6315789222717285,   8.526315689086914,  10.421052932739258,\n",
       "               12.315789222717285,  14.210526466369629,  16.105262756347656,\n",
       "                             18.0,  19.894737243652344,  21.789474487304688,\n",
       "                 23.6842098236084,  25.578947067260742,  27.473684310913086,\n",
       "                29.36842155456543,  31.263158798217773,  33.157894134521484,\n",
       "                35.05263137817383,   36.94736862182617,  38.842105865478516,\n",
       "                40.73684310913086,    42.6315803527832,   44.52631759643555,\n",
       "               46.421051025390625,   48.31578826904297,   50.21052551269531,\n",
       "               52.105262756347656,                54.0,  55.894737243652344,\n",
       "                57.78947448730469,   59.68421173095703,  61.578948974609375,\n",
       "                63.47368240356445,   65.36842346191406,    67.2631607055664,\n",
       "                69.15789794921875,    71.0526351928711,    72.9473648071289,\n",
       "                74.84210205078125,    76.7368392944336,   78.63157653808594,\n",
       "                80.52631378173828,   82.42105102539062,   84.31578826904297,\n",
       "                86.21052551269531,   88.10526275634766,                90.0],\n",
       "             dtype=&#x27;float64&#x27;, name=&#x27;lat&#x27;))</pre></div></li><li class='xr-var-item'><div class='xr-index-name'><div>lon</div></div><div class='xr-index-preview'>PandasIndex</div><div></div><input id='index-359a30d2-8cee-454f-9519-4191c4802417' class='xr-index-data-in' type='checkbox'/><label for='index-359a30d2-8cee-454f-9519-4191c4802417' title='Show/Hide index repr'><svg class='icon xr-icon-database'><use xlink:href='#icon-database'></use></svg></label><div class='xr-index-data'><pre>PandasIndex(Float64Index([  0.0,   2.5,   5.0,   7.5,  10.0,  12.5,  15.0,  17.5,  20.0,\n",
       "               22.5,\n",
       "              ...\n",
       "              335.0, 337.5, 340.0, 342.5, 345.0, 347.5, 350.0, 352.5, 355.0,\n",
       "              357.5],\n",
       "             dtype=&#x27;float64&#x27;, name=&#x27;lon&#x27;, length=144))</pre></div></li><li class='xr-var-item'><div class='xr-index-name'><div>age</div></div><div class='xr-index-preview'>PandasIndex</div><div></div><input id='index-4f12ca35-4b25-4127-9733-26acb5dc21c7' class='xr-index-data-in' type='checkbox'/><label for='index-4f12ca35-4b25-4127-9733-26acb5dc21c7' title='Show/Hide index repr'><svg class='icon xr-icon-database'><use xlink:href='#icon-database'></use></svg></label><div class='xr-index-data'><pre>PandasIndex(Float64Index([  100.0,   300.0,   500.0,   700.0,   900.0,  1100.0,  1300.0,\n",
       "               1500.0,  1700.0,  1900.0,\n",
       "              ...\n",
       "              22100.0, 22300.0, 22500.0, 22700.0, 22900.0, 23100.0, 23300.0,\n",
       "              23500.0, 23700.0, 23900.0],\n",
       "             dtype=&#x27;float64&#x27;, name=&#x27;age&#x27;, length=120))</pre></div></li></ul></div></li><li class='xr-section-item'><input id='section-38956144-571e-486e-b069-b7d720eda012' class='xr-section-summary-in' type='checkbox' disabled ><label for='section-38956144-571e-486e-b069-b7d720eda012' class='xr-section-summary'  title='Expand/collapse section'>Attributes: <span>(0)</span></label><div class='xr-section-inline-details'></div><div class='xr-section-details'><dl class='xr-attrs'></dl></div></li></ul></div></div>"
      ],
      "text/plain": [
       "<xarray.Dataset>\n",
       "Dimensions:  (lat: 96, lon: 144, age: 120)\n",
       "Coordinates:\n",
       "  * lat      (lat) float32 -90.0 -88.11 -86.21 -84.32 ... 84.32 86.21 88.11 90.0\n",
       "  * lon      (lon) float32 0.0 2.5 5.0 7.5 10.0 ... 350.0 352.5 355.0 357.5\n",
       "  * age      (age) float32 100.0 300.0 500.0 ... 2.35e+04 2.37e+04 2.39e+04\n",
       "Data variables:\n",
       "    sat      (age, lat, lon) float32 ...\n",
       "    sat_std  (age, lat, lon) float32 ..."
      ]
     },
     "execution_count": 8,
     "metadata": {},
     "output_type": "execute_result"
    }
   ],
   "source": [
    "\n",
    "import xarray as xr\n",
    "\n",
    "\n",
    "ds_sat = xr.open_dataset('LGMR_data/ds_sat_flipped.nc')\n",
    "\n",
    "import pandas as pd\n",
    "df_pre = pd.read_csv(r\"D:\\VScode\\Inso_LGMR\\inso_data\\pre.csv\")\n",
    "df_obl = pd.read_csv(r\"D:\\VScode\\Inso_LGMR\\inso_data\\obl.csv\")\n",
    "\n",
    "df = pd.DataFrame({\n",
    "    'Time': ds_sat['age'].values,\n",
    "    'X': df_pre['pre'].values,\n",
    "    'Y': ds_sat['sat'].isel(lat=80).isel(lon=0).values\n",
    "})\n",
    "\n",
    "ds_sat"
   ]
  },
  {
   "cell_type": "code",
   "execution_count": 9,
   "metadata": {},
   "outputs": [
    {
     "data": {
      "text/plain": [
       "[<matplotlib.lines.Line2D at 0x20fbb14f430>]"
      ]
     },
     "execution_count": 9,
     "metadata": {},
     "output_type": "execute_result"
    },
    {
     "data": {
      "image/png": "[encoded data removed]",
      "text/plain": [
       "<Figure size 640x480 with 1 Axes>"
      ]
     },
     "metadata": {},
     "output_type": "display_data"
    }
   ],
   "source": [
    "# plot any sat from the ds_sat\n",
    "\n",
    "import matplotlib.pyplot as plt\n",
    "import numpy as np\n",
    "\n",
    "plt.plot(ds_sat['sat'].isel(lat=80).isel(lon=0).values)"
   ]
  },
  {
   "cell_type": "code",
   "execution_count": 10,
   "metadata": {},
   "outputs": [
    {
     "data": {
      "text/plain": [
       "[<matplotlib.lines.Line2D at 0x20fbd39bc40>]"
      ]
     },
     "execution_count": 10,
     "metadata": {},
     "output_type": "execute_result"
    },
    {
     "data": {
      "image/png": "[encoded data removed]",
      "text/plain": [
       "<Figure size 640x480 with 1 Axes>"
      ]
     },
     "metadata": {},
     "output_type": "display_data"
    }
   ],
   "source": [
    "# plot df_pre\n",
    "plt.plot(df_pre['pre'].values)\n",
    "\n",
    "# print(df_pre['pre'].values)"
   ]
  },
  {
   "cell_type": "code",
   "execution_count": 16,
   "metadata": {},
   "outputs": [
    {
     "data": {
      "application/vnd.plotly.v1+json": {
       "config": {
        "plotlyServerURL": "https://plot.ly"
       },
       "data": [
        {
         "cmax": 0.9989299315238551,
         "cmin": 0.5260402898370026,
         "colorbar": {
          "len": 0.3,
          "title": {
           "side": "right",
           "text": "rho"
          },
          "x": 1.02
         },
         "colorscale": [
          [
           0,
           "#440154"
          ],
          [
           0.1111111111111111,
           "#482878"
          ],
          [
           0.2222222222222222,
           "#3e4989"
          ],
          [
           0.3333333333333333,
           "#31688e"
          ],
          [
           0.4444444444444444,
           "#26828e"
          ],
          [
           0.5555555555555556,
           "#1f9e89"
          ],
          [
           0.6666666666666666,
           "#35b779"
          ],
          [
           0.7777777777777778,
           "#6ece58"
          ],
          [
           0.8888888888888888,
           "#b5de2b"
          ],
          [
           1,
           "#fde725"
          ]
         ],
         "scene": "scene",
         "showscale": true,
         "type": "surface",
         "x": [
          [
           1,
           1,
           1,
           1,
           1,
           1,
           1,
           1,
           1,
           1
          ],
          [
           2,
           2,
           2,
           2,
           2,
           2,
           2,
           2,
           2,
           2
          ],
          [
           3,
           3,
           3,
           3,
           3,
           3,
           3,
           3,
           3,
           3
          ],
          [
           4,
           4,
           4,
           4,
           4,
           4,
           4,
           4,
           4,
           4
          ],
          [
           5,
           5,
           5,
           5,
           5,
           5,
           5,
           5,
           5,
           5
          ]
         ],
         "y": [
          [
           1,
           2,
           3,
           4,
           5,
           6,
           7,
           8,
           9,
           10
          ],
          [
           1,
           2,
           3,
           4,
           5,
           6,
           7,
           8,
           9,
           10
          ],
          [
           1,
           2,
           3,
           4,
           5,
           6,
           7,
           8,
           9,
           10
          ],
          [
           1,
           2,
           3,
           4,
           5,
           6,
           7,
           8,
           9,
           10
          ],
          [
           1,
           2,
           3,
           4,
           5,
           6,
           7,
           8,
           9,
           10
          ]
         ],
         "z": [
          [
           0.8123099352347604,
           0.8123099352347604,
           0.8123099352347604,
           0.8123099352347604,
           0.8123099352347604,
           0.8123099352347604,
           0.8123099352347604,
           0.8123099352347604,
           0.8123099352347604,
           0.8123099352347604
          ],
          [
           0.8357116243377595,
           0.9257923477167616,
           0.9695449014224112,
           0.9715259285922616,
           0.9629973369624735,
           0.953568993570005,
           0.9565658353853501,
           0.9756868884146669,
           0.9821347062382648,
           0.9855377969272775
          ],
          [
           0.8817300654431777,
           0.9687670166106277,
           0.9799622811231248,
           0.9834397360392567,
           0.9850069087398392,
           0.9812707600074694,
           0.966933525439432,
           0.9437194683022131,
           0.9258348076528609,
           0.8651768786585469
          ],
          [
           0.9259075762185827,
           0.9798808075376398,
           0.9841692591211036,
           0.9798124572769605,
           0.9561310184182606,
           0.9153107176405416,
           0.8910998297611782,
           0.894752836807045,
           0.9233188685457621,
           0.9551652509349321
          ],
          [
           0.93624979894812,
           0.98331089565029,
           0.9786256748479916,
           0.9424154774487924,
           0.8952572583541086,
           0.8964975164660874,
           0.9333198657452741,
           0.970314073728648,
           0.9785017370854343,
           0.9481047518886642
          ]
         ]
        },
        {
         "cmax": 0.9989299315238551,
         "cmin": 0.5260402898370026,
         "colorscale": [
          [
           0,
           "#440154"
          ],
          [
           0.1111111111111111,
           "#482878"
          ],
          [
           0.2222222222222222,
           "#3e4989"
          ],
          [
           0.3333333333333333,
           "#31688e"
          ],
          [
           0.4444444444444444,
           "#26828e"
          ],
          [
           0.5555555555555556,
           "#1f9e89"
          ],
          [
           0.6666666666666666,
           "#35b779"
          ],
          [
           0.7777777777777778,
           "#6ece58"
          ],
          [
           0.8888888888888888,
           "#b5de2b"
          ],
          [
           1,
           "#fde725"
          ]
         ],
         "scene": "scene2",
         "showscale": false,
         "type": "surface",
         "x": [
          [
           1,
           1,
           1,
           1,
           1,
           1,
           1,
           1,
           1,
           1
          ],
          [
           2,
           2,
           2,
           2,
           2,
           2,
           2,
           2,
           2,
           2
          ],
          [
           3,
           3,
           3,
           3,
           3,
           3,
           3,
           3,
           3,
           3
          ],
          [
           4,
           4,
           4,
           4,
           4,
           4,
           4,
           4,
           4,
           4
          ],
          [
           5,
           5,
           5,
           5,
           5,
           5,
           5,
           5,
           5,
           5
          ]
         ],
         "y": [
          [
           1,
           2,
           3,
           4,
           5,
           6,
           7,
           8,
           9,
           10
          ],
          [
           1,
           2,
           3,
           4,
           5,
           6,
           7,
           8,
           9,
           10
          ],
          [
           1,
           2,
           3,
           4,
           5,
           6,
           7,
           8,
           9,
           10
          ],
          [
           1,
           2,
           3,
           4,
           5,
           6,
           7,
           8,
           9,
           10
          ],
          [
           1,
           2,
           3,
           4,
           5,
           6,
           7,
           8,
           9,
           10
          ]
         ],
         "z": [
          [
           0.8169978563838692,
           0.8169978563838692,
           0.8169978563838692,
           0.8169978563838692,
           0.8169978563838692,
           0.8169978563838692,
           0.8169978563838692,
           0.8169978563838692,
           0.8169978563838692,
           0.8169978563838692
          ],
          [
           0.8725117127707781,
           0.9355020605521235,
           0.9573858765726821,
           0.9620867996568823,
           0.9654644842247907,
           0.9662850666694343,
           0.9738126122079864,
           0.9662870777117778,
           0.9636729008004711,
           0.964438443837628
          ],
          [
           0.9290729809448742,
           0.9643546392227043,
           0.981618723427007,
           0.978517983824077,
           0.9717677972806107,
           0.9442435041137727,
           0.9508216780986826,
           0.9202690353758508,
           0.8852963523879331,
           0.8924603760582233
          ],
          [
           0.9424541923789729,
           0.9763943559471965,
           0.9822727207483667,
           0.9623471419705593,
           0.9344147046212665,
           0.8839659664743409,
           0.9000778768386216,
           0.903902007382802,
           0.9241148423937646,
           0.9534263393359143
          ],
          [
           0.9553321515229729,
           0.979995919740771,
           0.9606793130866381,
           0.9153283816830852,
           0.9006194163154438,
           0.9028843883152722,
           0.9331112844583308,
           0.9694801897251814,
           0.979656106209935,
           0.9435512781888097
          ]
         ]
        },
        {
         "cmax": 0.9989299315238551,
         "cmin": 0.5260402898370026,
         "colorscale": [
          [
           0,
           "#440154"
          ],
          [
           0.1111111111111111,
           "#482878"
          ],
          [
           0.2222222222222222,
           "#3e4989"
          ],
          [
           0.3333333333333333,
           "#31688e"
          ],
          [
           0.4444444444444444,
           "#26828e"
          ],
          [
           0.5555555555555556,
           "#1f9e89"
          ],
          [
           0.6666666666666666,
           "#35b779"
          ],
          [
           0.7777777777777778,
           "#6ece58"
          ],
          [
           0.8888888888888888,
           "#b5de2b"
          ],
          [
           1,
           "#fde725"
          ]
         ],
         "scene": "scene3",
         "showscale": false,
         "type": "surface",
         "x": [
          [
           1,
           1,
           1,
           1,
           1,
           1,
           1,
           1,
           1,
           1
          ],
          [
           2,
           2,
           2,
           2,
           2,
           2,
           2,
           2,
           2,
           2
          ],
          [
           3,
           3,
           3,
           3,
           3,
           3,
           3,
           3,
           3,
           3
          ],
          [
           4,
           4,
           4,
           4,
           4,
           4,
           4,
           4,
           4,
           4
          ],
          [
           5,
           5,
           5,
           5,
           5,
           5,
           5,
           5,
           5,
           5
          ]
         ],
         "y": [
          [
           1,
           2,
           3,
           4,
           5,
           6,
           7,
           8,
           9,
           10
          ],
          [
           1,
           2,
           3,
           4,
           5,
           6,
           7,
           8,
           9,
           10
          ],
          [
           1,
           2,
           3,
           4,
           5,
           6,
           7,
           8,
           9,
           10
          ],
          [
           1,
           2,
           3,
           4,
           5,
           6,
           7,
           8,
           9,
           10
          ],
          [
           1,
           2,
           3,
           4,
           5,
           6,
           7,
           8,
           9,
           10
          ]
         ],
         "z": [
          [
           0.5779773750096886,
           0.5779773750096886,
           0.5779773750096886,
           0.5779773750096886,
           0.5779773750096886,
           0.5779773750096886,
           0.5779773750096886,
           0.5779773750096886,
           0.5779773750096886,
           0.5779773750096886
          ],
          [
           0.8614740878622744,
           0.9842992122074599,
           0.9966145934237208,
           0.9977895993476394,
           0.9977176934854568,
           0.9970204554501743,
           0.9971996655227324,
           0.9956249070956951,
           0.9903056443082211,
           0.9912335007079928
          ],
          [
           0.9552350689956164,
           0.9978742070459546,
           0.9989299315238551,
           0.9971441924385415,
           0.9930333851008841,
           0.9816449920003768,
           0.9698123048014682,
           0.9538760488141071,
           0.9226820238274737,
           0.9134464120263027
          ],
          [
           0.9689497847002501,
           0.998693817395912,
           0.9949022455868451,
           0.9823430314241586,
           0.9593743881059491,
           0.926687352930746,
           0.9038447030403217,
           0.905376185069914,
           0.9241875433801997,
           0.9524926543224908
          ],
          [
           0.9869551799848173,
           0.9970931909877939,
           0.9811929756062686,
           0.9463745850216111,
           0.9061125475416082,
           0.9036481515309529,
           0.9339615241681262,
           0.969674103974143,
           0.9802833377528373,
           0.944550693027877
          ]
         ]
        },
        {
         "cmax": 0.9989299315238551,
         "cmin": 0.5260402898370026,
         "colorscale": [
          [
           0,
           "#440154"
          ],
          [
           0.1111111111111111,
           "#482878"
          ],
          [
           0.2222222222222222,
           "#3e4989"
          ],
          [
           0.3333333333333333,
           "#31688e"
          ],
          [
           0.4444444444444444,
           "#26828e"
          ],
          [
           0.5555555555555556,
           "#1f9e89"
          ],
          [
           0.6666666666666666,
           "#35b779"
          ],
          [
           0.7777777777777778,
           "#6ece58"
          ],
          [
           0.8888888888888888,
           "#b5de2b"
          ],
          [
           1,
           "#fde725"
          ]
         ],
         "scene": "scene4",
         "showscale": false,
         "type": "surface",
         "x": [
          [
           1,
           1,
           1,
           1,
           1,
           1,
           1,
           1,
           1,
           1
          ],
          [
           2,
           2,
           2,
           2,
           2,
           2,
           2,
           2,
           2,
           2
          ],
          [
           3,
           3,
           3,
           3,
           3,
           3,
           3,
           3,
           3,
           3
          ],
          [
           4,
           4,
           4,
           4,
           4,
           4,
           4,
           4,
           4,
           4
          ],
          [
           5,
           5,
           5,
           5,
           5,
           5,
           5,
           5,
           5,
           5
          ]
         ],
         "y": [
          [
           1,
           2,
           3,
           4,
           5,
           6,
           7,
           8,
           9,
           10
          ],
          [
           1,
           2,
           3,
           4,
           5,
           6,
           7,
           8,
           9,
           10
          ],
          [
           1,
           2,
           3,
           4,
           5,
           6,
           7,
           8,
           9,
           10
          ],
          [
           1,
           2,
           3,
           4,
           5,
           6,
           7,
           8,
           9,
           10
          ],
          [
           1,
           2,
           3,
           4,
           5,
           6,
           7,
           8,
           9,
           10
          ]
         ],
         "z": [
          [
           0.6909778712807731,
           0.6909778712807731,
           0.6909778712807731,
           0.6909778712807731,
           0.6909778712807731,
           0.6909778712807731,
           0.6909778712807731,
           0.6909778712807731,
           0.6909778712807731,
           0.6909778712807731
          ],
          [
           0.8018262224893967,
           0.8510451990857366,
           0.9107183461089904,
           0.9299281564336926,
           0.9469490917778539,
           0.9442962762076933,
           0.9395951237652299,
           0.8990387859676031,
           0.9386248349860296,
           0.9153658658371505
          ],
          [
           0.8559723890053696,
           0.9299271998610515,
           0.9592445713985862,
           0.94349161116382,
           0.9525281841087839,
           0.913689573275973,
           0.8991764483750034,
           0.8882646161486927,
           0.8832462328215477,
           0.8932727225834053
          ],
          [
           0.8781459615687945,
           0.9629381417378063,
           0.9595024501887606,
           0.9149555682763427,
           0.8974317291180094,
           0.8732200503681665,
           0.8991982891880212,
           0.9035628313872505,
           0.924061293979703,
           0.9542383320452291
          ],
          [
           0.9089763962133353,
           0.9645892805429498,
           0.9267611996510482,
           0.8870788129083,
           0.8975291709730909,
           0.9023044934062876,
           0.93324641398481,
           0.9696008886962635,
           0.9796044522860082,
           0.9445782696650157
          ]
         ]
        },
        {
         "cmax": 0.9989299315238551,
         "cmin": 0.5260402898370026,
         "colorscale": [
          [
           0,
           "#440154"
          ],
          [
           0.1111111111111111,
           "#482878"
          ],
          [
           0.2222222222222222,
           "#3e4989"
          ],
          [
           0.3333333333333333,
           "#31688e"
          ],
          [
           0.4444444444444444,
           "#26828e"
          ],
          [
           0.5555555555555556,
           "#1f9e89"
          ],
          [
           0.6666666666666666,
           "#35b779"
          ],
          [
           0.7777777777777778,
           "#6ece58"
          ],
          [
           0.8888888888888888,
           "#b5de2b"
          ],
          [
           1,
           "#fde725"
          ]
         ],
         "scene": "scene5",
         "showscale": false,
         "type": "surface",
         "x": [
          [
           1,
           1,
           1,
           1,
           1,
           1,
           1,
           1,
           1,
           1
          ],
          [
           2,
           2,
           2,
           2,
           2,
           2,
           2,
           2,
           2,
           2
          ],
          [
           3,
           3,
           3,
           3,
           3,
           3,
           3,
           3,
           3,
           3
          ],
          [
           4,
           4,
           4,
           4,
           4,
           4,
           4,
           4,
           4,
           4
          ],
          [
           5,
           5,
           5,
           5,
           5,
           5,
           5,
           5,
           5,
           5
          ]
         ],
         "y": [
          [
           1,
           2,
           3,
           4,
           5,
           6,
           7,
           8,
           9,
           10
          ],
          [
           1,
           2,
           3,
           4,
           5,
           6,
           7,
           8,
           9,
           10
          ],
          [
           1,
           2,
           3,
           4,
           5,
           6,
           7,
           8,
           9,
           10
          ],
          [
           1,
           2,
           3,
           4,
           5,
           6,
           7,
           8,
           9,
           10
          ],
          [
           1,
           2,
           3,
           4,
           5,
           6,
           7,
           8,
           9,
           10
          ]
         ],
         "z": [
          [
           0.5260402898370026,
           0.5260402898370026,
           0.5260402898370026,
           0.5260402898370026,
           0.5260402898370026,
           0.5260402898370026,
           0.5260402898370026,
           0.5260402898370026,
           0.5260402898370026,
           0.5260402898370026
          ],
          [
           0.7165546798795583,
           0.7805294031873009,
           0.8290131884694756,
           0.8839066583167179,
           0.9098339907841121,
           0.9116916474770466,
           0.9259341305722815,
           0.9237507778249534,
           0.9360956306773274,
           0.9374658936058204
          ],
          [
           0.812375522267606,
           0.8787343901204426,
           0.9191123993399044,
           0.9297398902965275,
           0.9468843375615722,
           0.9373602439654937,
           0.9323436147493743,
           0.9051848917796436,
           0.9156535486989384,
           0.9112684954852744
          ],
          [
           0.8572302195479172,
           0.9341262928851245,
           0.959708133685284,
           0.9450483133187774,
           0.9126451786498605,
           0.9069316752998032,
           0.9027086136685041,
           0.9055446789680922,
           0.9238983294745252,
           0.9529698982354061
          ],
          [
           0.9051791683062674,
           0.9571686894442755,
           0.9444404548633905,
           0.900786635740357,
           0.8998849459053021,
           0.9036769986822965,
           0.9334477687053556,
           0.9695960393747007,
           0.9799018990394982,
           0.9458184992894828
          ]
         ]
        },
        {
         "cmax": 0.9989299315238551,
         "cmin": 0.5260402898370026,
         "colorscale": [
          [
           0,
           "#440154"
          ],
          [
           0.1111111111111111,
           "#482878"
          ],
          [
           0.2222222222222222,
           "#3e4989"
          ],
          [
           0.3333333333333333,
           "#31688e"
          ],
          [
           0.4444444444444444,
           "#26828e"
          ],
          [
           0.5555555555555556,
           "#1f9e89"
          ],
          [
           0.6666666666666666,
           "#35b779"
          ],
          [
           0.7777777777777778,
           "#6ece58"
          ],
          [
           0.8888888888888888,
           "#b5de2b"
          ],
          [
           1,
           "#fde725"
          ]
         ],
         "scene": "scene6",
         "showscale": false,
         "type": "surface",
         "x": [
          [
           1,
           1,
           1,
           1,
           1,
           1,
           1,
           1,
           1,
           1
          ],
          [
           2,
           2,
           2,
           2,
           2,
           2,
           2,
           2,
           2,
           2
          ],
          [
           3,
           3,
           3,
           3,
           3,
           3,
           3,
           3,
           3,
           3
          ],
          [
           4,
           4,
           4,
           4,
           4,
           4,
           4,
           4,
           4,
           4
          ],
          [
           5,
           5,
           5,
           5,
           5,
           5,
           5,
           5,
           5,
           5
          ]
         ],
         "y": [
          [
           1,
           2,
           3,
           4,
           5,
           6,
           7,
           8,
           9,
           10
          ],
          [
           1,
           2,
           3,
           4,
           5,
           6,
           7,
           8,
           9,
           10
          ],
          [
           1,
           2,
           3,
           4,
           5,
           6,
           7,
           8,
           9,
           10
          ],
          [
           1,
           2,
           3,
           4,
           5,
           6,
           7,
           8,
           9,
           10
          ],
          [
           1,
           2,
           3,
           4,
           5,
           6,
           7,
           8,
           9,
           10
          ]
         ],
         "z": [
          [
           0.7103462963207893,
           0.7103462963207893,
           0.7103462963207893,
           0.7103462963207893,
           0.7103462963207893,
           0.7103462963207893,
           0.7103462963207893,
           0.7103462963207893,
           0.7103462963207893,
           0.7103462963207893
          ],
          [
           0.7471956251545905,
           0.793631390115853,
           0.8416438593592928,
           0.794111256137549,
           0.8302827961109821,
           0.882438479793815,
           0.9082963511037345,
           0.9424729455621745,
           0.9527420532520794,
           0.9544298493481403
          ],
          [
           0.7581394447203135,
           0.8670263142089785,
           0.9188661994681189,
           0.9074460692826926,
           0.9077538608458361,
           0.9052377317982057,
           0.9023087289795014,
           0.9007184535254783,
           0.8918511118282793,
           0.8595392822329736
          ],
          [
           0.8409636323088394,
           0.8922879719740797,
           0.9285587762291468,
           0.9280288122728098,
           0.931891609062311,
           0.8815838538176763,
           0.8775671676654248,
           0.8935880293644248,
           0.9241858096408724,
           0.9512506743571397
          ],
          [
           0.8375581429731702,
           0.9116421208619816,
           0.9400808165554193,
           0.9194570087760985,
           0.868574351383187,
           0.8972310967874075,
           0.9337449573298612,
           0.968766606715859,
           0.9795789284469963,
           0.9451816452528995
          ]
         ]
        },
        {
         "cmax": 0.9989299315238551,
         "cmin": 0.5260402898370026,
         "colorscale": [
          [
           0,
           "#440154"
          ],
          [
           0.1111111111111111,
           "#482878"
          ],
          [
           0.2222222222222222,
           "#3e4989"
          ],
          [
           0.3333333333333333,
           "#31688e"
          ],
          [
           0.4444444444444444,
           "#26828e"
          ],
          [
           0.5555555555555556,
           "#1f9e89"
          ],
          [
           0.6666666666666666,
           "#35b779"
          ],
          [
           0.7777777777777778,
           "#6ece58"
          ],
          [
           0.8888888888888888,
           "#b5de2b"
          ],
          [
           1,
           "#fde725"
          ]
         ],
         "scene": "scene7",
         "showscale": false,
         "type": "surface",
         "x": [
          [
           1,
           1,
           1,
           1,
           1,
           1,
           1,
           1,
           1,
           1
          ],
          [
           2,
           2,
           2,
           2,
           2,
           2,
           2,
           2,
           2,
           2
          ],
          [
           3,
           3,
           3,
           3,
           3,
           3,
           3,
           3,
           3,
           3
          ],
          [
           4,
           4,
           4,
           4,
           4,
           4,
           4,
           4,
           4,
           4
          ],
          [
           5,
           5,
           5,
           5,
           5,
           5,
           5,
           5,
           5,
           5
          ]
         ],
         "y": [
          [
           1,
           2,
           3,
           4,
           5,
           6,
           7,
           8,
           9,
           10
          ],
          [
           1,
           2,
           3,
           4,
           5,
           6,
           7,
           8,
           9,
           10
          ],
          [
           1,
           2,
           3,
           4,
           5,
           6,
           7,
           8,
           9,
           10
          ],
          [
           1,
           2,
           3,
           4,
           5,
           6,
           7,
           8,
           9,
           10
          ],
          [
           1,
           2,
           3,
           4,
           5,
           6,
           7,
           8,
           9,
           10
          ]
         ],
         "z": [
          [
           0.6003033822024997,
           0.6003033822024997,
           0.6003033822024997,
           0.6003033822024997,
           0.6003033822024997,
           0.6003033822024997,
           0.6003033822024997,
           0.6003033822024997,
           0.6003033822024997,
           0.6003033822024997
          ],
          [
           0.7892371172058235,
           0.8092948687269884,
           0.8899794554942171,
           0.9526895338118956,
           0.9773379944601168,
           0.9719409241247063,
           0.9717347124582905,
           0.9532912152064685,
           0.978130325244191,
           0.9755347228011192
          ],
          [
           0.8402995597428062,
           0.9297312577358338,
           0.9819277286207115,
           0.9753384185377223,
           0.9800814650826691,
           0.9706606546730061,
           0.9623856588597023,
           0.9195757610000045,
           0.9263366986234329,
           0.9055693625408657
          ],
          [
           0.8788552954588984,
           0.9754595762392954,
           0.9873067798229603,
           0.972649321901176,
           0.9392193183098491,
           0.9137774273618992,
           0.9035228382414637,
           0.9051480596641092,
           0.9238288060315797,
           0.9537432087767092
          ],
          [
           0.9045520522796398,
           0.9852306436500989,
           0.9662442613985573,
           0.9192031286100609,
           0.9034857128806418,
           0.9036286537319541,
           0.9334342684436517,
           0.9695637619863957,
           0.9799317167320482,
           0.9451200595840422
          ]
         ]
        },
        {
         "cmax": 0.9989299315238551,
         "cmin": 0.5260402898370026,
         "colorscale": [
          [
           0,
           "#440154"
          ],
          [
           0.1111111111111111,
           "#482878"
          ],
          [
           0.2222222222222222,
           "#3e4989"
          ],
          [
           0.3333333333333333,
           "#31688e"
          ],
          [
           0.4444444444444444,
           "#26828e"
          ],
          [
           0.5555555555555556,
           "#1f9e89"
          ],
          [
           0.6666666666666666,
           "#35b779"
          ],
          [
           0.7777777777777778,
           "#6ece58"
          ],
          [
           0.8888888888888888,
           "#b5de2b"
          ],
          [
           1,
           "#fde725"
          ]
         ],
         "scene": "scene8",
         "showscale": false,
         "type": "surface",
         "x": [
          [
           1,
           1,
           1,
           1,
           1,
           1,
           1,
           1,
           1,
           1
          ],
          [
           2,
           2,
           2,
           2,
           2,
           2,
           2,
           2,
           2,
           2
          ],
          [
           3,
           3,
           3,
           3,
           3,
           3,
           3,
           3,
           3,
           3
          ],
          [
           4,
           4,
           4,
           4,
           4,
           4,
           4,
           4,
           4,
           4
          ],
          [
           5,
           5,
           5,
           5,
           5,
           5,
           5,
           5,
           5,
           5
          ]
         ],
         "y": [
          [
           1,
           2,
           3,
           4,
           5,
           6,
           7,
           8,
           9,
           10
          ],
          [
           1,
           2,
           3,
           4,
           5,
           6,
           7,
           8,
           9,
           10
          ],
          [
           1,
           2,
           3,
           4,
           5,
           6,
           7,
           8,
           9,
           10
          ],
          [
           1,
           2,
           3,
           4,
           5,
           6,
           7,
           8,
           9,
           10
          ],
          [
           1,
           2,
           3,
           4,
           5,
           6,
           7,
           8,
           9,
           10
          ]
         ],
         "z": [
          [
           0.8203275183267273,
           0.8203275183267273,
           0.8203275183267273,
           0.8203275183267273,
           0.8203275183267273,
           0.8203275183267273,
           0.8203275183267273,
           0.8203275183267273,
           0.8203275183267273,
           0.8203275183267273
          ],
          [
           0.8952925430830397,
           0.9360271737473282,
           0.9711175509309268,
           0.9872459613494408,
           0.9811594616778346,
           0.9773338302978063,
           0.979703440084325,
           0.9892446148163918,
           0.9934119300449316,
           0.9921515870914558
          ],
          [
           0.9198346659995483,
           0.9807221827276164,
           0.980747956709543,
           0.9837335491130692,
           0.9867672735723659,
           0.9835796588094041,
           0.9632180470772382,
           0.9489619118078974,
           0.9309187663920404,
           0.8967042986399002
          ],
          [
           0.9482360239845107,
           0.9806987638035227,
           0.9857158002177163,
           0.9801027283891195,
           0.9575115838111999,
           0.9272614491069245,
           0.901428510916916,
           0.9018873213647799,
           0.9240302781948164,
           0.9520565173590805
          ],
          [
           0.9592842137256101,
           0.9830999802501758,
           0.9794794940617807,
           0.9418089914964446,
           0.9032773692404269,
           0.9021946898886448,
           0.9358351941055281,
           0.9691870262343493,
           0.9794804334800775,
           0.9442334051666804
          ]
         ]
        },
        {
         "cmax": 0.9989299315238551,
         "cmin": 0.5260402898370026,
         "colorscale": [
          [
           0,
           "#440154"
          ],
          [
           0.1111111111111111,
           "#482878"
          ],
          [
           0.2222222222222222,
           "#3e4989"
          ],
          [
           0.3333333333333333,
           "#31688e"
          ],
          [
           0.4444444444444444,
           "#26828e"
          ],
          [
           0.5555555555555556,
           "#1f9e89"
          ],
          [
           0.6666666666666666,
           "#35b779"
          ],
          [
           0.7777777777777778,
           "#6ece58"
          ],
          [
           0.8888888888888888,
           "#b5de2b"
          ],
          [
           1,
           "#fde725"
          ]
         ],
         "scene": "scene9",
         "showscale": false,
         "type": "surface",
         "x": [
          [
           1,
           1,
           1,
           1,
           1,
           1,
           1,
           1,
           1,
           1
          ],
          [
           2,
           2,
           2,
           2,
           2,
           2,
           2,
           2,
           2,
           2
          ],
          [
           3,
           3,
           3,
           3,
           3,
           3,
           3,
           3,
           3,
           3
          ],
          [
           4,
           4,
           4,
           4,
           4,
           4,
           4,
           4,
           4,
           4
          ],
          [
           5,
           5,
           5,
           5,
           5,
           5,
           5,
           5,
           5,
           5
          ]
         ],
         "y": [
          [
           1,
           2,
           3,
           4,
           5,
           6,
           7,
           8,
           9,
           10
          ],
          [
           1,
           2,
           3,
           4,
           5,
           6,
           7,
           8,
           9,
           10
          ],
          [
           1,
           2,
           3,
           4,
           5,
           6,
           7,
           8,
           9,
           10
          ],
          [
           1,
           2,
           3,
           4,
           5,
           6,
           7,
           8,
           9,
           10
          ],
          [
           1,
           2,
           3,
           4,
           5,
           6,
           7,
           8,
           9,
           10
          ]
         ],
         "z": [
          [
           0.9187824044551045,
           0.9187824044551045,
           0.9187824044551045,
           0.9187824044551045,
           0.9187824044551045,
           0.9187824044551045,
           0.9187824044551045,
           0.9187824044551045,
           0.9187824044551045,
           0.9187824044551045
          ],
          [
           0.9430929797144489,
           0.9729444915820206,
           0.9819188230725355,
           0.9896024569797823,
           0.9907595621257553,
           0.9913298940942376,
           0.9895276085436502,
           0.9893985259893938,
           0.9866272858836027,
           0.9865542862036457
          ],
          [
           0.9629813671141295,
           0.986407649873328,
           0.9931857153804184,
           0.9933488258926378,
           0.9905436629583475,
           0.9796560818524093,
           0.9698913502599685,
           0.9420010545111587,
           0.928317393157465,
           0.9139023188704983
          ],
          [
           0.9747644334525942,
           0.9912198807233349,
           0.9933654985738566,
           0.9806926145093716,
           0.9556781132498751,
           0.9229362250415356,
           0.9055529294909791,
           0.9041350966141475,
           0.9239512631075332,
           0.9517965678714945
          ],
          [
           0.9767244656015847,
           0.992903088148866,
           0.9814016292338248,
           0.9432484098774422,
           0.9066865383109879,
           0.9032828494332579,
           0.9334398069587294,
           0.9692806989814331,
           0.9798456463657332,
           0.9468728993138104
          ]
         ]
        },
        {
         "cmax": 0.9989299315238551,
         "cmin": 0.5260402898370026,
         "colorscale": [
          [
           0,
           "#440154"
          ],
          [
           0.1111111111111111,
           "#482878"
          ],
          [
           0.2222222222222222,
           "#3e4989"
          ],
          [
           0.3333333333333333,
           "#31688e"
          ],
          [
           0.4444444444444444,
           "#26828e"
          ],
          [
           0.5555555555555556,
           "#1f9e89"
          ],
          [
           0.6666666666666666,
           "#35b779"
          ],
          [
           0.7777777777777778,
           "#6ece58"
          ],
          [
           0.8888888888888888,
           "#b5de2b"
          ],
          [
           1,
           "#fde725"
          ]
         ],
         "scene": "scene10",
         "showscale": false,
         "type": "surface",
         "x": [
          [
           1,
           1,
           1,
           1,
           1,
           1,
           1,
           1,
           1,
           1
          ],
          [
           2,
           2,
           2,
           2,
           2,
           2,
           2,
           2,
           2,
           2
          ],
          [
           3,
           3,
           3,
           3,
           3,
           3,
           3,
           3,
           3,
           3
          ],
          [
           4,
           4,
           4,
           4,
           4,
           4,
           4,
           4,
           4,
           4
          ],
          [
           5,
           5,
           5,
           5,
           5,
           5,
           5,
           5,
           5,
           5
          ]
         ],
         "y": [
          [
           1,
           2,
           3,
           4,
           5,
           6,
           7,
           8,
           9,
           10
          ],
          [
           1,
           2,
           3,
           4,
           5,
           6,
           7,
           8,
           9,
           10
          ],
          [
           1,
           2,
           3,
           4,
           5,
           6,
           7,
           8,
           9,
           10
          ],
          [
           1,
           2,
           3,
           4,
           5,
           6,
           7,
           8,
           9,
           10
          ],
          [
           1,
           2,
           3,
           4,
           5,
           6,
           7,
           8,
           9,
           10
          ]
         ],
         "z": [
          [
           0.6515169197223015,
           0.6515169197223015,
           0.6515169197223015,
           0.6515169197223015,
           0.6515169197223015,
           0.6515169197223015,
           0.6515169197223015,
           0.6515169197223015,
           0.6515169197223015,
           0.6515169197223015
          ],
          [
           0.76359141453828,
           0.832214935042438,
           0.9081571473684472,
           0.9031829020552989,
           0.9050972830042041,
           0.9324053354764255,
           0.9450969477872265,
           0.9492696156663499,
           0.9359765797378503,
           0.9261858447287733
          ],
          [
           0.8359946645571126,
           0.9244429430084701,
           0.966442938791965,
           0.949734968843153,
           0.919766941612294,
           0.8640503699925702,
           0.8759417764555133,
           0.8697559782685759,
           0.8713424476937963,
           0.8936765952492155
          ],
          [
           0.8871338564017336,
           0.955684144648278,
           0.8981000659089594,
           0.8662428538023317,
           0.8648000846092229,
           0.8705334485759415,
           0.9030116141547145,
           0.905954347341071,
           0.9239519469154814,
           0.9528485238410909
          ],
          [
           0.9139737883310461,
           0.9432880585252461,
           0.8610695000903676,
           0.8643627410679944,
           0.895242169818413,
           0.904500023084403,
           0.9336216957675393,
           0.9697448375900828,
           0.9793710025540113,
           0.9454530268734637
          ]
         ]
        }
       ],
       "layout": {
        "annotations": [
         {
          "font": {
           "size": 16
          },
          "showarrow": false,
          "text": "lat=-46.42, lon=302.50",
          "x": 0.088,
          "xanchor": "center",
          "xref": "paper",
          "y": 1,
          "yanchor": "bottom",
          "yref": "paper"
         },
         {
          "font": {
           "size": 16
          },
          "showarrow": false,
          "text": "lat=71.05, lon=262.50",
          "x": 0.294,
          "xanchor": "center",
          "xref": "paper",
          "y": 1,
          "yanchor": "bottom",
          "yref": "paper"
         },
         {
          "font": {
           "size": 16
          },
          "showarrow": false,
          "text": "lat=12.32, lon=200.00",
          "x": 0.5,
          "xanchor": "center",
          "xref": "paper",
          "y": 1,
          "yanchor": "bottom",
          "yref": "paper"
         },
         {
          "font": {
           "size": 16
          },
          "showarrow": false,
          "text": "lat=71.05, lon=255.00",
          "x": 0.706,
          "xanchor": "center",
          "xref": "paper",
          "y": 1,
          "yanchor": "bottom",
          "yref": "paper"
         },
         {
          "font": {
           "size": 16
          },
          "showarrow": false,
          "text": "lat=50.21, lon=95.00",
          "x": 0.9119999999999999,
          "xanchor": "center",
          "xref": "paper",
          "y": 1,
          "yanchor": "bottom",
          "yref": "paper"
         },
         {
          "font": {
           "size": 16
          },
          "showarrow": false,
          "text": "lat=-57.79, lon=210.00",
          "x": 0.088,
          "xanchor": "center",
          "xref": "paper",
          "y": 0.45,
          "yanchor": "bottom",
          "yref": "paper"
         },
         {
          "font": {
           "size": 16
          },
          "showarrow": false,
          "text": "lat=50.21, lon=85.00",
          "x": 0.294,
          "xanchor": "center",
          "xref": "paper",
          "y": 0.45,
          "yanchor": "bottom",
          "yref": "paper"
         },
         {
          "font": {
           "size": 16
          },
          "showarrow": false,
          "text": "lat=-57.79, lon=147.50",
          "x": 0.5,
          "xanchor": "center",
          "xref": "paper",
          "y": 0.45,
          "yanchor": "bottom",
          "yref": "paper"
         },
         {
          "font": {
           "size": 16
          },
          "showarrow": false,
          "text": "lat=-18.00, lon=340.00",
          "x": 0.706,
          "xanchor": "center",
          "xref": "paper",
          "y": 0.45,
          "yanchor": "bottom",
          "yref": "paper"
         },
         {
          "font": {
           "size": 16
          },
          "showarrow": false,
          "text": "lat=72.95, lon=142.50",
          "x": 0.9119999999999999,
          "xanchor": "center",
          "xref": "paper",
          "y": 0.45,
          "yanchor": "bottom",
          "yref": "paper"
         }
        ],
        "height": 800,
        "margin": {
         "b": 50,
         "l": 50,
         "r": 50,
         "t": 80
        },
        "scene": {
         "camera": {
          "eye": {
           "x": 1,
           "y": 2,
           "z": 3
          }
         },
         "domain": {
          "x": [
           0,
           0.176
          ],
          "y": [
           0.55,
           1
          ]
         },
         "xaxis": {
          "title": {
           "text": "E"
          }
         },
         "yaxis": {
          "title": {
           "text": "tau"
          }
         },
         "zaxis": {
          "title": {
           "text": "rho"
          }
         }
        },
        "scene10": {
         "camera": {
          "eye": {
           "x": 1,
           "y": 2,
           "z": 3
          }
         },
         "domain": {
          "x": [
           0.824,
           1
          ],
          "y": [
           0,
           0.45
          ]
         },
         "xaxis": {
          "title": {
           "text": "E"
          }
         },
         "yaxis": {
          "title": {
           "text": "tau"
          }
         },
         "zaxis": {
          "title": {
           "text": "rho"
          }
         }
        },
        "scene2": {
         "camera": {
          "eye": {
           "x": 1,
           "y": 2,
           "z": 3
          }
         },
         "domain": {
          "x": [
           0.206,
           0.382
          ],
          "y": [
           0.55,
           1
          ]
         },
         "xaxis": {
          "title": {
           "text": "E"
          }
         },
         "yaxis": {
          "title": {
           "text": "tau"
          }
         },
         "zaxis": {
          "title": {
           "text": "rho"
          }
         }
        },
        "scene3": {
         "camera": {
          "eye": {
           "x": 1,
           "y": 2,
           "z": 3
          }
         },
         "domain": {
          "x": [
           0.412,
           0.588
          ],
          "y": [
           0.55,
           1
          ]
         },
         "xaxis": {
          "title": {
           "text": "E"
          }
         },
         "yaxis": {
          "title": {
           "text": "tau"
          }
         },
         "zaxis": {
          "title": {
           "text": "rho"
          }
         }
        },
        "scene4": {
         "camera": {
          "eye": {
           "x": 1,
           "y": 2,
           "z": 3
          }
         },
         "domain": {
          "x": [
           0.618,
           0.794
          ],
          "y": [
           0.55,
           1
          ]
         },
         "xaxis": {
          "title": {
           "text": "E"
          }
         },
         "yaxis": {
          "title": {
           "text": "tau"
          }
         },
         "zaxis": {
          "title": {
           "text": "rho"
          }
         }
        },
        "scene5": {
         "camera": {
          "eye": {
           "x": 1,
           "y": 2,
           "z": 3
          }
         },
         "domain": {
          "x": [
           0.824,
           1
          ],
          "y": [
           0.55,
           1
          ]
         },
         "xaxis": {
          "title": {
           "text": "E"
          }
         },
         "yaxis": {
          "title": {
           "text": "tau"
          }
         },
         "zaxis": {
          "title": {
           "text": "rho"
          }
         }
        },
        "scene6": {
         "camera": {
          "eye": {
           "x": 1,
           "y": 2,
           "z": 3
          }
         },
         "domain": {
          "x": [
           0,
           0.176
          ],
          "y": [
           0,
           0.45
          ]
         },
         "xaxis": {
          "title": {
           "text": "E"
          }
         },
         "yaxis": {
          "title": {
           "text": "tau"
          }
         },
         "zaxis": {
          "title": {
           "text": "rho"
          }
         }
        },
        "scene7": {
         "camera": {
          "eye": {
           "x": 1,
           "y": 2,
           "z": 3
          }
         },
         "domain": {
          "x": [
           0.206,
           0.382
          ],
          "y": [
           0,
           0.45
          ]
         },
         "xaxis": {
          "title": {
           "text": "E"
          }
         },
         "yaxis": {
          "title": {
           "text": "tau"
          }
         },
         "zaxis": {
          "title": {
           "text": "rho"
          }
         }
        },
        "scene8": {
         "camera": {
          "eye": {
           "x": 1,
           "y": 2,
           "z": 3
          }
         },
         "domain": {
          "x": [
           0.412,
           0.588
          ],
          "y": [
           0,
           0.45
          ]
         },
         "xaxis": {
          "title": {
           "text": "E"
          }
         },
         "yaxis": {
          "title": {
           "text": "tau"
          }
         },
         "zaxis": {
          "title": {
           "text": "rho"
          }
         }
        },
        "scene9": {
         "camera": {
          "eye": {
           "x": 1,
           "y": 2,
           "z": 3
          }
         },
         "domain": {
          "x": [
           0.618,
           0.794
          ],
          "y": [
           0,
           0.45
          ]
         },
         "xaxis": {
          "title": {
           "text": "E"
          }
         },
         "yaxis": {
          "title": {
           "text": "tau"
          }
         },
         "zaxis": {
          "title": {
           "text": "rho"
          }
         }
        },
        "template": {
         "data": {
          "bar": [
           {
            "error_x": {
             "color": "#2a3f5f"
            },
            "error_y": {
             "color": "#2a3f5f"
            },
            "marker": {
             "line": {
              "color": "#E5ECF6",
              "width": 0.5
             },
             "pattern": {
              "fillmode": "overlay",
              "size": 10,
              "solidity": 0.2
             }
            },
            "type": "bar"
           }
          ],
          "barpolar": [
           {
            "marker": {
             "line": {
              "color": "#E5ECF6",
              "width": 0.5
             },
             "pattern": {
              "fillmode": "overlay",
              "size": 10,
              "solidity": 0.2
             }
            },
            "type": "barpolar"
           }
          ],
          "carpet": [
           {
            "aaxis": {
             "endlinecolor": "#2a3f5f",
             "gridcolor": "white",
             "linecolor": "white",
             "minorgridcolor": "white",
             "startlinecolor": "#2a3f5f"
            },
            "baxis": {
             "endlinecolor": "#2a3f5f",
             "gridcolor": "white",
             "linecolor": "white",
             "minorgridcolor": "white",
             "startlinecolor": "#2a3f5f"
            },
            "type": "carpet"
           }
          ],
          "choropleth": [
           {
            "colorbar": {
             "outlinewidth": 0,
             "ticks": ""
            },
            "type": "choropleth"
           }
          ],
          "contour": [
           {
            "colorbar": {
             "outlinewidth": 0,
             "ticks": ""
            },
            "colorscale": [
             [
              0,
              "#0d0887"
             ],
             [
              0.1111111111111111,
              "#46039f"
             ],
             [
              0.2222222222222222,
              "#7201a8"
             ],
             [
              0.3333333333333333,
              "#9c179e"
             ],
             [
              0.4444444444444444,
              "#bd3786"
             ],
             [
              0.5555555555555556,
              "#d8576b"
             ],
             [
              0.6666666666666666,
              "#ed7953"
             ],
             [
              0.7777777777777778,
              "#fb9f3a"
             ],
             [
              0.8888888888888888,
              "#fdca26"
             ],
             [
              1,
              "#f0f921"
             ]
            ],
            "type": "contour"
           }
          ],
          "contourcarpet": [
           {
            "colorbar": {
             "outlinewidth": 0,
             "ticks": ""
            },
            "type": "contourcarpet"
           }
          ],
          "heatmap": [
           {
            "colorbar": {
             "outlinewidth": 0,
             "ticks": ""
            },
            "colorscale": [
             [
              0,
              "#0d0887"
             ],
             [
              0.1111111111111111,
              "#46039f"
             ],
             [
              0.2222222222222222,
              "#7201a8"
             ],
             [
              0.3333333333333333,
              "#9c179e"
             ],
             [
              0.4444444444444444,
              "#bd3786"
             ],
             [
              0.5555555555555556,
              "#d8576b"
             ],
             [
              0.6666666666666666,
              "#ed7953"
             ],
             [
              0.7777777777777778,
              "#fb9f3a"
             ],
             [
              0.8888888888888888,
              "#fdca26"
             ],
             [
              1,
              "#f0f921"
             ]
            ],
            "type": "heatmap"
           }
          ],
          "heatmapgl": [
           {
            "colorbar": {
             "outlinewidth": 0,
             "ticks": ""
            },
            "colorscale": [
             [
              0,
              "#0d0887"
             ],
             [
              0.1111111111111111,
              "#46039f"
             ],
             [
              0.2222222222222222,
              "#7201a8"
             ],
             [
              0.3333333333333333,
              "#9c179e"
             ],
             [
              0.4444444444444444,
              "#bd3786"
             ],
             [
              0.5555555555555556,
              "#d8576b"
             ],
             [
              0.6666666666666666,
              "#ed7953"
             ],
             [
              0.7777777777777778,
              "#fb9f3a"
             ],
             [
              0.8888888888888888,
              "#fdca26"
             ],
             [
              1,
              "#f0f921"
             ]
            ],
            "type": "heatmapgl"
           }
          ],
          "histogram": [
           {
            "marker": {
             "pattern": {
              "fillmode": "overlay",
              "size": 10,
              "solidity": 0.2
             }
            },
            "type": "histogram"
           }
          ],
          "histogram2d": [
           {
            "colorbar": {
             "outlinewidth": 0,
             "ticks": ""
            },
            "colorscale": [
             [
              0,
              "#0d0887"
             ],
             [
              0.1111111111111111,
              "#46039f"
             ],
             [
              0.2222222222222222,
              "#7201a8"
             ],
             [
              0.3333333333333333,
              "#9c179e"
             ],
             [
              0.4444444444444444,
              "#bd3786"
             ],
             [
              0.5555555555555556,
              "#d8576b"
             ],
             [
              0.6666666666666666,
              "#ed7953"
             ],
             [
              0.7777777777777778,
              "#fb9f3a"
             ],
             [
              0.8888888888888888,
              "#fdca26"
             ],
             [
              1,
              "#f0f921"
             ]
            ],
            "type": "histogram2d"
           }
          ],
          "histogram2dcontour": [
           {
            "colorbar": {
             "outlinewidth": 0,
             "ticks": ""
            },
            "colorscale": [
             [
              0,
              "#0d0887"
             ],
             [
              0.1111111111111111,
              "#46039f"
             ],
             [
              0.2222222222222222,
              "#7201a8"
             ],
             [
              0.3333333333333333,
              "#9c179e"
             ],
             [
              0.4444444444444444,
              "#bd3786"
             ],
             [
              0.5555555555555556,
              "#d8576b"
             ],
             [
              0.6666666666666666,
              "#ed7953"
             ],
             [
              0.7777777777777778,
              "#fb9f3a"
             ],
             [
              0.8888888888888888,
              "#fdca26"
             ],
             [
              1,
              "#f0f921"
             ]
            ],
            "type": "histogram2dcontour"
           }
          ],
          "mesh3d": [
           {
            "colorbar": {
             "outlinewidth": 0,
             "ticks": ""
            },
            "type": "mesh3d"
           }
          ],
          "parcoords": [
           {
            "line": {
             "colorbar": {
              "outlinewidth": 0,
              "ticks": ""
             }
            },
            "type": "parcoords"
           }
          ],
          "pie": [
           {
            "automargin": true,
            "type": "pie"
           }
          ],
          "scatter": [
           {
            "fillpattern": {
             "fillmode": "overlay",
             "size": 10,
             "solidity": 0.2
            },
            "type": "scatter"
           }
          ],
          "scatter3d": [
           {
            "line": {
             "colorbar": {
              "outlinewidth": 0,
              "ticks": ""
             }
            },
            "marker": {
             "colorbar": {
              "outlinewidth": 0,
              "ticks": ""
             }
            },
            "type": "scatter3d"
           }
          ],
          "scattercarpet": [
           {
            "marker": {
             "colorbar": {
              "outlinewidth": 0,
              "ticks": ""
             }
            },
            "type": "scattercarpet"
           }
          ],
          "scattergeo": [
           {
            "marker": {
             "colorbar": {
              "outlinewidth": 0,
              "ticks": ""
             }
            },
            "type": "scattergeo"
           }
          ],
          "scattergl": [
           {
            "marker": {
             "colorbar": {
              "outlinewidth": 0,
              "ticks": ""
             }
            },
            "type": "scattergl"
           }
          ],
          "scattermapbox": [
           {
            "marker": {
             "colorbar": {
              "outlinewidth": 0,
              "ticks": ""
             }
            },
            "type": "scattermapbox"
           }
          ],
          "scatterpolar": [
           {
            "marker": {
             "colorbar": {
              "outlinewidth": 0,
              "ticks": ""
             }
            },
            "type": "scatterpolar"
           }
          ],
          "scatterpolargl": [
           {
            "marker": {
             "colorbar": {
              "outlinewidth": 0,
              "ticks": ""
             }
            },
            "type": "scatterpolargl"
           }
          ],
          "scatterternary": [
           {
            "marker": {
             "colorbar": {
              "outlinewidth": 0,
              "ticks": ""
             }
            },
            "type": "scatterternary"
           }
          ],
          "surface": [
           {
            "colorbar": {
             "outlinewidth": 0,
             "ticks": ""
            },
            "colorscale": [
             [
              0,
              "#0d0887"
             ],
             [
              0.1111111111111111,
              "#46039f"
             ],
             [
              0.2222222222222222,
              "#7201a8"
             ],
             [
              0.3333333333333333,
              "#9c179e"
             ],
             [
              0.4444444444444444,
              "#bd3786"
             ],
             [
              0.5555555555555556,
              "#d8576b"
             ],
             [
              0.6666666666666666,
              "#ed7953"
             ],
             [
              0.7777777777777778,
              "#fb9f3a"
             ],
             [
              0.8888888888888888,
              "#fdca26"
             ],
             [
              1,
              "#f0f921"
             ]
            ],
            "type": "surface"
           }
          ],
          "table": [
           {
            "cells": {
             "fill": {
              "color": "#EBF0F8"
             },
             "line": {
              "color": "white"
             }
            },
            "header": {
             "fill": {
              "color": "#C8D4E3"
             },
             "line": {
              "color": "white"
             }
            },
            "type": "table"
           }
          ]
         },
         "layout": {
          "annotationdefaults": {
           "arrowcolor": "#2a3f5f",
           "arrowhead": 0,
           "arrowwidth": 1
          },
          "autotypenumbers": "strict",
          "coloraxis": {
           "colorbar": {
            "outlinewidth": 0,
            "ticks": ""
           }
          },
          "colorscale": {
           "diverging": [
            [
             0,
             "#8e0152"
            ],
            [
             0.1,
             "#c51b7d"
            ],
            [
             0.2,
             "#de77ae"
            ],
            [
             0.3,
             "#f1b6da"
            ],
            [
             0.4,
             "#fde0ef"
            ],
            [
             0.5,
             "#f7f7f7"
            ],
            [
             0.6,
             "#e6f5d0"
            ],
            [
             0.7,
             "#b8e186"
            ],
            [
             0.8,
             "#7fbc41"
            ],
            [
             0.9,
             "#4d9221"
            ],
            [
             1,
             "#276419"
            ]
           ],
           "sequential": [
            [
             0,
             "#0d0887"
            ],
            [
             0.1111111111111111,
             "#46039f"
            ],
            [
             0.2222222222222222,
             "#7201a8"
            ],
            [
             0.3333333333333333,
             "#9c179e"
            ],
            [
             0.4444444444444444,
             "#bd3786"
            ],
            [
             0.5555555555555556,
             "#d8576b"
            ],
            [
             0.6666666666666666,
             "#ed7953"
            ],
            [
             0.7777777777777778,
             "#fb9f3a"
            ],
            [
             0.8888888888888888,
             "#fdca26"
            ],
            [
             1,
             "#f0f921"
            ]
           ],
           "sequentialminus": [
            [
             0,
             "#0d0887"
            ],
            [
             0.1111111111111111,
             "#46039f"
            ],
            [
             0.2222222222222222,
             "#7201a8"
            ],
            [
             0.3333333333333333,
             "#9c179e"
            ],
            [
             0.4444444444444444,
             "#bd3786"
            ],
            [
             0.5555555555555556,
             "#d8576b"
            ],
            [
             0.6666666666666666,
             "#ed7953"
            ],
            [
             0.7777777777777778,
             "#fb9f3a"
            ],
            [
             0.8888888888888888,
             "#fdca26"
            ],
            [
             1,
             "#f0f921"
            ]
           ]
          },
          "colorway": [
           "#636efa",
           "#EF553B",
           "#00cc96",
           "#ab63fa",
           "#FFA15A",
           "#19d3f3",
           "#FF6692",
           "#B6E880",
           "#FF97FF",
           "#FECB52"
          ],
          "font": {
           "color": "#2a3f5f"
          },
          "geo": {
           "bgcolor": "white",
           "lakecolor": "white",
           "landcolor": "#E5ECF6",
           "showlakes": true,
           "showland": true,
           "subunitcolor": "white"
          },
          "hoverlabel": {
           "align": "left"
          },
          "hovermode": "closest",
          "mapbox": {
           "style": "light"
          },
          "paper_bgcolor": "white",
          "plot_bgcolor": "#E5ECF6",
          "polar": {
           "angularaxis": {
            "gridcolor": "white",
            "linecolor": "white",
            "ticks": ""
           },
           "bgcolor": "#E5ECF6",
           "radialaxis": {
            "gridcolor": "white",
            "linecolor": "white",
            "ticks": ""
           }
          },
          "scene": {
           "xaxis": {
            "backgroundcolor": "#E5ECF6",
            "gridcolor": "white",
            "gridwidth": 2,
            "linecolor": "white",
            "showbackground": true,
            "ticks": "",
            "zerolinecolor": "white"
           },
           "yaxis": {
            "backgroundcolor": "#E5ECF6",
            "gridcolor": "white",
            "gridwidth": 2,
            "linecolor": "white",
            "showbackground": true,
            "ticks": "",
            "zerolinecolor": "white"
           },
           "zaxis": {
            "backgroundcolor": "#E5ECF6",
            "gridcolor": "white",
            "gridwidth": 2,
            "linecolor": "white",
            "showbackground": true,
            "ticks": "",
            "zerolinecolor": "white"
           }
          },
          "shapedefaults": {
           "line": {
            "color": "#2a3f5f"
           }
          },
          "ternary": {
           "aaxis": {
            "gridcolor": "white",
            "linecolor": "white",
            "ticks": ""
           },
           "baxis": {
            "gridcolor": "white",
            "linecolor": "white",
            "ticks": ""
           },
           "bgcolor": "#E5ECF6",
           "caxis": {
            "gridcolor": "white",
            "linecolor": "white",
            "ticks": ""
           }
          },
          "title": {
           "x": 0.05
          },
          "xaxis": {
           "automargin": true,
           "gridcolor": "white",
           "linecolor": "white",
           "ticks": "",
           "title": {
            "standoff": 15
           },
           "zerolinecolor": "white",
           "zerolinewidth": 2
          },
          "yaxis": {
           "automargin": true,
           "gridcolor": "white",
           "linecolor": "white",
           "ticks": "",
           "title": {
            "standoff": 15
           },
           "zerolinecolor": "white",
           "zerolinewidth": 2
          }
         }
        },
        "width": 1400
       }
      }
     },
     "metadata": {},
     "output_type": "display_data"
    }
   ],
   "source": [
    "import xarray as xr\n",
    "import pandas as pd\n",
    "import numpy as np\n",
    "import random\n",
    "\n",
    "import plotly.graph_objects as go\n",
    "from plotly.subplots import make_subplots\n",
    "\n",
    "from pyEDM import EmbedDimension\n",
    "\n",
    "\n",
    "nlat = ds_sat.sizes[\"lat\"]\n",
    "nlon = ds_sat.sizes[\"lon\"]\n",
    "ages = ds_sat[\"age\"].values  # keep track of the ages\n",
    "\n",
    "# ---------------------------------------------------------------------\n",
    "# 2. Randomly select 10 (lat, lon) grid points\n",
    "# ---------------------------------------------------------------------\n",
    "all_pairs = [(ilat, ilon) for ilat in range(nlat) for ilon in range(nlon)]\n",
    "random_pairs = random.sample(all_pairs, 10)  # pick 10 unique (ilat, ilon)\n",
    "\n",
    "results_list = []  # will be a list of (ilat, ilon, E_axis, Tau_axis, RhoMatrix)\n",
    "\n",
    "for idx, (ilat, ilon) in enumerate(random_pairs):\n",
    "    # Extract local sat time series\n",
    "    sat_ts = ds_sat[\"sat\"].isel(lat=ilat, lon=ilon).values\n",
    "\n",
    "    df_tmp = pd.DataFrame({\n",
    "        \"Time\": ages*-1,\n",
    "        \"pre\": df_pre[\"pre\"],  # predictor\n",
    "        \"sat\": sat_ts          # target to predict\n",
    "    })\n",
    "\n",
    "    # We'll store a 2D array of shape (5,10) for E=1..5, tau=1..10\n",
    "    RhoMatrix = np.zeros((5, 10))\n",
    "\n",
    "    # For each tau in 1..10, call EmbedDimension once with maxE=5 and Tp=tau\n",
    "    for tau in range(1, 11):\n",
    "        edm_out = EmbedDimension(\n",
    "            dataFrame=df_tmp,\n",
    "            columns=\"sat\",\n",
    "            target=\"pre\",\n",
    "            maxE=5,          # We'll evaluate E=1..5\n",
    "            tau=tau,\n",
    "            Tp=0,\n",
    "            lib=\"1 120\",     # Entire time series, adapt if needed\n",
    "            pred=\"1 120\",\n",
    "            showPlot=False,  # We'll handle plotting ourselves\n",
    "        )\n",
    "\n",
    "        for e_row in edm_out.itertuples():\n",
    "            e_val = e_row.E     # 1..5\n",
    "            rho_val = e_row.rho\n",
    "            RhoMatrix[int(e_val - 1), int(tau - 1)] = rho_val\n",
    "\n",
    "    # Axis values for plotting\n",
    "    E_axis = np.arange(1, 6)     # E = 1..5\n",
    "    Tau_axis = np.arange(1, 11)  # tau = 1..10\n",
    "\n",
    "    # Save the result for this grid point\n",
    "    results_list.append((ilat, ilon, E_axis, Tau_axis, RhoMatrix))\n",
    "\n",
    "# ---------------------------------------------------------------------\n",
    "# Compute global min and max for all RhoMatrix values\n",
    "# ---------------------------------------------------------------------\n",
    "global_min = min(np.min(RhoMatrix) for _, _, _, _, RhoMatrix in results_list)\n",
    "global_max = max(np.max(RhoMatrix) for _, _, _, _, RhoMatrix in results_list)\n",
    "\n",
    "# ---------------------------------------------------------------------\n",
    "# 4. Make a 3D surface plot for each of the 10 results using Plotly subplots\n",
    "# ---------------------------------------------------------------------\n",
    "\n",
    "# Create subplot titles using true latitude and longitude values\n",
    "subplot_titles = [\n",
    "    f\"lat={ds_sat['lat'].values[r[0]]:.2f}, lon={ds_sat['lon'].values[r[1]]:.2f}\"\n",
    "    for r in results_list\n",
    "]\n",
    "\n",
    "# Create a 2x5 grid of 3D subplots with adjusted spacing\n",
    "fig = make_subplots(\n",
    "    rows=2, cols=5,\n",
    "    specs=[[{\"type\": \"surface\"}]*5, [{\"type\": \"surface\"}]*5],\n",
    "    subplot_titles=subplot_titles,\n",
    "    horizontal_spacing=0.03,  # reduce horizontal spacing\n",
    "    vertical_spacing=0.1      # reduce vertical spacing\n",
    ")\n",
    "\n",
    "# Add each surface plot trace to its respective subplot\n",
    "for i, (ilat, ilon, E_axis, Tau_axis, RhoMatrix) in enumerate(results_list):\n",
    "    E_grid, Tau_grid = np.meshgrid(E_axis, Tau_axis, indexing='ij')\n",
    "    row = (i // 5) + 1\n",
    "    col = (i % 5) + 1\n",
    "\n",
    "    # For a common colorbar, all surfaces use the same color range.\n",
    "    # We enable the colorbar (showscale=True) only for the first trace.\n",
    "    surf = go.Surface(\n",
    "        x=E_grid,       # E dimension\n",
    "        y=Tau_grid,     # tau dimension\n",
    "        z=RhoMatrix,    # rho values\n",
    "        colorscale=\"Viridis\",\n",
    "        cmin=global_min,\n",
    "        cmax=global_max,\n",
    "        showscale=True if i == 0 else False,\n",
    "        # Customize the colorbar for the first subplot\n",
    "        colorbar=dict(\n",
    "            title=\"rho\",\n",
    "            titleside=\"right\",\n",
    "            x=1.02,  \n",
    "            # adjust the shrink ratio to make the colorbar shorter\n",
    "            len=0.3\n",
    "        ) if i == 0 else None\n",
    "    )\n",
    "\n",
    "    fig.add_trace(surf, row=row, col=col)\n",
    "\n",
    "# Update overall layout with adjusted margins for better label visibility\n",
    "fig.update_layout(\n",
    "    height=800,\n",
    "    width=1400,\n",
    "    margin=dict(l=50, r=50, t=80, b=50),\n",
    ")\n",
    "\n",
    "# ---------------------------------------------------------------------\n",
    "# 3. Adjust the viewing angle (camera) for each subplot\n",
    "# ---------------------------------------------------------------------\n",
    "# Loop over each subplot scene and set the camera view.\n",
    "# Note: The first scene is named 'scene', and subsequent ones as 'scene2', 'scene3', etc.\n",
    "for i in range(1, len(results_list)+1):\n",
    "    scene_id = f'scene{i}' if i > 1 else 'scene'\n",
    "    fig.layout[scene_id].update(\n",
    "        xaxis_title=\"E\",\n",
    "        yaxis_title=\"tau\",\n",
    "        zaxis_title=\"rho\",\n",
    "        camera=dict(\n",
    "            eye=dict(x=1, y=2, z=3)  \n",
    "        )\n",
    "    )\n",
    "\n",
    "fig.show()\n"
   ]
  },
  {
   "cell_type": "code",
   "execution_count": null,
   "metadata": {},
   "outputs": [],
   "source": [
    "# fig.write_image(\"surface_plots.png\", width=1400, height=800, scale=3)\n",
    "fig.write_image(\"surface_plots.svg\", width=1400, height=800)"
   ]
  },
  {
   "cell_type": "code",
   "execution_count": null,
   "metadata": {},
   "outputs": [],
   "source": []
  },
  {
   "cell_type": "code",
   "execution_count": null,
   "metadata": {},
   "outputs": [],
   "source": []
  },
  {
   "cell_type": "code",
   "execution_count": null,
   "metadata": {},
   "outputs": [],
   "source": []
  }
 ],
 "metadata": {
  "kernelspec": {
   "display_name": "pz_venv_causal",
   "language": "python",
   "name": "python3"
  },
  "language_info": {
   "codemirror_mode": {
    "name": "ipython",
    "version": 3
   },
   "file_extension": ".py",
   "mimetype": "text/x-python",
   "name": "python",
   "nbconvert_exporter": "python",
   "pygments_lexer": "ipython3",
   "version": "3.8.18"
  }
 },
 "nbformat": 4,
 "nbformat_minor": 2
}
