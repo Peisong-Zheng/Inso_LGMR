{
 "cells": [
  {
   "cell_type": "code",
   "execution_count": 3,
   "metadata": {},
   "outputs": [
    {
     "name": "stdout",
     "output_type": "stream",
     "text": [
      "xarray.Dataset {\n",
      "dimensions:\n",
      "\tlat = 96 ;\n",
      "\tlon = 144 ;\n",
      "\tage = 120 ;\n",
      "\n",
      "variables:\n",
      "\tfloat32 lat(lat) ;\n",
      "\t\tlat:FillValue = 9.969209968386869e+36 ;\n",
      "\t\tlat:long_name = vector latitudes ;\n",
      "\t\tlat:units = degrees_north ;\n",
      "\tfloat32 lon(lon) ;\n",
      "\t\tlon:FillValue = 9.969209968386869e+36 ;\n",
      "\t\tlon:long_name = vector of longitudes ;\n",
      "\t\tlon:units = degrees_east ;\n",
      "\tfloat32 age(age) ;\n",
      "\t\tage:long_name = reconstruction bin mid-point (years BP) ;\n",
      "\tfloat32 sat(age, lat, lon) ;\n",
      "\t\tsat:FillValue = 9.969209968386869e+36 ;\n",
      "\t\tsat:long_name = ENSEMBLE MEAN (n = 500) mean annual temperature at reference height ;\n",
      "\t\tsat:units = degrees Celsius ;\n",
      "\tfloat32 sat_std(age, lat, lon) ;\n",
      "\t\tsat_std:FillValue = 9.969209968386869e+36 ;\n",
      "\t\tsat_std:long_name = ENSEMBLE STANDARD DEVIATION (n = 500) mean annual temperature at reference height ;\n",
      "\t\tsat_std:units = degrees Celsius ;\n",
      "\n",
      "// global attributes:\n",
      "}"
     ]
    },
    {
     "name": "stderr",
     "output_type": "stream",
     "text": [
      "d:\\Users\\User\\anaconda3\\envs\\pz_venv_causal\\lib\\site-packages\\xarray\\coding\\variables.py:147: FutureWarning: elementwise comparison failed; returning scalar instead, but in the future will perform elementwise comparison\n",
      "  condition |= data == fv\n",
      "d:\\Users\\User\\anaconda3\\envs\\pz_venv_causal\\lib\\site-packages\\xarray\\coding\\variables.py:147: FutureWarning: elementwise comparison failed; returning scalar instead, but in the future will perform elementwise comparison\n",
      "  condition |= data == fv\n"
     ]
    }
   ],
   "source": [
    "\n",
    "import xarray as xr\n",
    "\n",
    "\n",
    "ds_sat = xr.open_dataset('LGMR_data/LGMR_SAT_climo.nc')\n",
    "\n",
    "import pandas as pd\n",
    "df_pre = pd.read_csv(r\"D:\\VScode\\Inso_LGMR\\inso_data\\pre.csv\")\n",
    "df_obl = pd.read_csv(r\"D:\\VScode\\Inso_LGMR\\inso_data\\obl.csv\")\n",
    "\n",
    "df = pd.DataFrame({\n",
    "    'Time': ds_sat['age'].values,\n",
    "    'X': df_pre['pre'].values,\n",
    "    'Y': ds_sat['sat'].isel(lat=80).isel(lon=0).values\n",
    "})\n",
    "\n",
    "ds_sat.info()"
   ]
  },
  {
   "cell_type": "code",
   "execution_count": 9,
   "metadata": {},
   "outputs": [
    {
     "data": {
      "text/html": [
       "<div><svg style=\"position: absolute; width: 0; height: 0; overflow: hidden\">\n",
       "<defs>\n",
       "<symbol id=\"icon-database\" viewBox=\"0 0 32 32\">\n",
       "<path d=\"M16 0c-8.837 0-16 2.239-16 5v4c0 2.761 7.163 5 16 5s16-2.239 16-5v-4c0-2.761-7.163-5-16-5z\"></path>\n",
       "<path d=\"M16 17c-8.837 0-16-2.239-16-5v6c0 2.761 7.163 5 16 5s16-2.239 16-5v-6c0 2.761-7.163 5-16 5z\"></path>\n",
       "<path d=\"M16 26c-8.837 0-16-2.239-16-5v6c0 2.761 7.163 5 16 5s16-2.239 16-5v-6c0 2.761-7.163 5-16 5z\"></path>\n",
       "</symbol>\n",
       "<symbol id=\"icon-file-text2\" viewBox=\"0 0 32 32\">\n",
       "<path d=\"M28.681 7.159c-0.694-0.947-1.662-2.053-2.724-3.116s-2.169-2.030-3.116-2.724c-1.612-1.182-2.393-1.319-2.841-1.319h-15.5c-1.378 0-2.5 1.121-2.5 2.5v27c0 1.378 1.122 2.5 2.5 2.5h23c1.378 0 2.5-1.122 2.5-2.5v-19.5c0-0.448-0.137-1.23-1.319-2.841zM24.543 5.457c0.959 0.959 1.712 1.825 2.268 2.543h-4.811v-4.811c0.718 0.556 1.584 1.309 2.543 2.268zM28 29.5c0 0.271-0.229 0.5-0.5 0.5h-23c-0.271 0-0.5-0.229-0.5-0.5v-27c0-0.271 0.229-0.5 0.5-0.5 0 0 15.499-0 15.5 0v7c0 0.552 0.448 1 1 1h7v19.5z\"></path>\n",
       "<path d=\"M23 26h-14c-0.552 0-1-0.448-1-1s0.448-1 1-1h14c0.552 0 1 0.448 1 1s-0.448 1-1 1z\"></path>\n",
       "<path d=\"M23 22h-14c-0.552 0-1-0.448-1-1s0.448-1 1-1h14c0.552 0 1 0.448 1 1s-0.448 1-1 1z\"></path>\n",
       "<path d=\"M23 18h-14c-0.552 0-1-0.448-1-1s0.448-1 1-1h14c0.552 0 1 0.448 1 1s-0.448 1-1 1z\"></path>\n",
       "</symbol>\n",
       "</defs>\n",
       "</svg>\n",
       "<style>/* CSS stylesheet for displaying xarray objects in jupyterlab.\n",
       " *\n",
       " */\n",
       "\n",
       ":root {\n",
       "  --xr-font-color0: var(--jp-content-font-color0, rgba(0, 0, 0, 1));\n",
       "  --xr-font-color2: var(--jp-content-font-color2, rgba(0, 0, 0, 0.54));\n",
       "  --xr-font-color3: var(--jp-content-font-color3, rgba(0, 0, 0, 0.38));\n",
       "  --xr-border-color: var(--jp-border-color2, #e0e0e0);\n",
       "  --xr-disabled-color: var(--jp-layout-color3, #bdbdbd);\n",
       "  --xr-background-color: var(--jp-layout-color0, white);\n",
       "  --xr-background-color-row-even: var(--jp-layout-color1, white);\n",
       "  --xr-background-color-row-odd: var(--jp-layout-color2, #eeeeee);\n",
       "}\n",
       "\n",
       "html[theme=dark],\n",
       "body[data-theme=dark],\n",
       "body.vscode-dark {\n",
       "  --xr-font-color0: rgba(255, 255, 255, 1);\n",
       "  --xr-font-color2: rgba(255, 255, 255, 0.54);\n",
       "  --xr-font-color3: rgba(255, 255, 255, 0.38);\n",
       "  --xr-border-color: #1F1F1F;\n",
       "  --xr-disabled-color: #515151;\n",
       "  --xr-background-color: #111111;\n",
       "  --xr-background-color-row-even: #111111;\n",
       "  --xr-background-color-row-odd: #313131;\n",
       "}\n",
       "\n",
       ".xr-wrap {\n",
       "  display: block !important;\n",
       "  min-width: 300px;\n",
       "  max-width: 700px;\n",
       "}\n",
       "\n",
       ".xr-text-repr-fallback {\n",
       "  /* fallback to plain text repr when CSS is not injected (untrusted notebook) */\n",
       "  display: none;\n",
       "}\n",
       "\n",
       ".xr-header {\n",
       "  padding-top: 6px;\n",
       "  padding-bottom: 6px;\n",
       "  margin-bottom: 4px;\n",
       "  border-bottom: solid 1px var(--xr-border-color);\n",
       "}\n",
       "\n",
       ".xr-header > div,\n",
       ".xr-header > ul {\n",
       "  display: inline;\n",
       "  margin-top: 0;\n",
       "  margin-bottom: 0;\n",
       "}\n",
       "\n",
       ".xr-obj-type,\n",
       ".xr-array-name {\n",
       "  margin-left: 2px;\n",
       "  margin-right: 10px;\n",
       "}\n",
       "\n",
       ".xr-obj-type {\n",
       "  color: var(--xr-font-color2);\n",
       "}\n",
       "\n",
       ".xr-sections {\n",
       "  padding-left: 0 !important;\n",
       "  display: grid;\n",
       "  grid-template-columns: 150px auto auto 1fr 20px 20px;\n",
       "}\n",
       "\n",
       ".xr-section-item {\n",
       "  display: contents;\n",
       "}\n",
       "\n",
       ".xr-section-item input {\n",
       "  display: none;\n",
       "}\n",
       "\n",
       ".xr-section-item input + label {\n",
       "  color: var(--xr-disabled-color);\n",
       "}\n",
       "\n",
       ".xr-section-item input:enabled + label {\n",
       "  cursor: pointer;\n",
       "  color: var(--xr-font-color2);\n",
       "}\n",
       "\n",
       ".xr-section-item input:enabled + label:hover {\n",
       "  color: var(--xr-font-color0);\n",
       "}\n",
       "\n",
       ".xr-section-summary {\n",
       "  grid-column: 1;\n",
       "  color: var(--xr-font-color2);\n",
       "  font-weight: 500;\n",
       "}\n",
       "\n",
       ".xr-section-summary > span {\n",
       "  display: inline-block;\n",
       "  padding-left: 0.5em;\n",
       "}\n",
       "\n",
       ".xr-section-summary-in:disabled + label {\n",
       "  color: var(--xr-font-color2);\n",
       "}\n",
       "\n",
       ".xr-section-summary-in + label:before {\n",
       "  display: inline-block;\n",
       "  content: '►';\n",
       "  font-size: 11px;\n",
       "  width: 15px;\n",
       "  text-align: center;\n",
       "}\n",
       "\n",
       ".xr-section-summary-in:disabled + label:before {\n",
       "  color: var(--xr-disabled-color);\n",
       "}\n",
       "\n",
       ".xr-section-summary-in:checked + label:before {\n",
       "  content: '▼';\n",
       "}\n",
       "\n",
       ".xr-section-summary-in:checked + label > span {\n",
       "  display: none;\n",
       "}\n",
       "\n",
       ".xr-section-summary,\n",
       ".xr-section-inline-details {\n",
       "  padding-top: 4px;\n",
       "  padding-bottom: 4px;\n",
       "}\n",
       "\n",
       ".xr-section-inline-details {\n",
       "  grid-column: 2 / -1;\n",
       "}\n",
       "\n",
       ".xr-section-details {\n",
       "  display: none;\n",
       "  grid-column: 1 / -1;\n",
       "  margin-bottom: 5px;\n",
       "}\n",
       "\n",
       ".xr-section-summary-in:checked ~ .xr-section-details {\n",
       "  display: contents;\n",
       "}\n",
       "\n",
       ".xr-array-wrap {\n",
       "  grid-column: 1 / -1;\n",
       "  display: grid;\n",
       "  grid-template-columns: 20px auto;\n",
       "}\n",
       "\n",
       ".xr-array-wrap > label {\n",
       "  grid-column: 1;\n",
       "  vertical-align: top;\n",
       "}\n",
       "\n",
       ".xr-preview {\n",
       "  color: var(--xr-font-color3);\n",
       "}\n",
       "\n",
       ".xr-array-preview,\n",
       ".xr-array-data {\n",
       "  padding: 0 5px !important;\n",
       "  grid-column: 2;\n",
       "}\n",
       "\n",
       ".xr-array-data,\n",
       ".xr-array-in:checked ~ .xr-array-preview {\n",
       "  display: none;\n",
       "}\n",
       "\n",
       ".xr-array-in:checked ~ .xr-array-data,\n",
       ".xr-array-preview {\n",
       "  display: inline-block;\n",
       "}\n",
       "\n",
       ".xr-dim-list {\n",
       "  display: inline-block !important;\n",
       "  list-style: none;\n",
       "  padding: 0 !important;\n",
       "  margin: 0;\n",
       "}\n",
       "\n",
       ".xr-dim-list li {\n",
       "  display: inline-block;\n",
       "  padding: 0;\n",
       "  margin: 0;\n",
       "}\n",
       "\n",
       ".xr-dim-list:before {\n",
       "  content: '(';\n",
       "}\n",
       "\n",
       ".xr-dim-list:after {\n",
       "  content: ')';\n",
       "}\n",
       "\n",
       ".xr-dim-list li:not(:last-child):after {\n",
       "  content: ',';\n",
       "  padding-right: 5px;\n",
       "}\n",
       "\n",
       ".xr-has-index {\n",
       "  font-weight: bold;\n",
       "}\n",
       "\n",
       ".xr-var-list,\n",
       ".xr-var-item {\n",
       "  display: contents;\n",
       "}\n",
       "\n",
       ".xr-var-item > div,\n",
       ".xr-var-item label,\n",
       ".xr-var-item > .xr-var-name span {\n",
       "  background-color: var(--xr-background-color-row-even);\n",
       "  margin-bottom: 0;\n",
       "}\n",
       "\n",
       ".xr-var-item > .xr-var-name:hover span {\n",
       "  padding-right: 5px;\n",
       "}\n",
       "\n",
       ".xr-var-list > li:nth-child(odd) > div,\n",
       ".xr-var-list > li:nth-child(odd) > label,\n",
       ".xr-var-list > li:nth-child(odd) > .xr-var-name span {\n",
       "  background-color: var(--xr-background-color-row-odd);\n",
       "}\n",
       "\n",
       ".xr-var-name {\n",
       "  grid-column: 1;\n",
       "}\n",
       "\n",
       ".xr-var-dims {\n",
       "  grid-column: 2;\n",
       "}\n",
       "\n",
       ".xr-var-dtype {\n",
       "  grid-column: 3;\n",
       "  text-align: right;\n",
       "  color: var(--xr-font-color2);\n",
       "}\n",
       "\n",
       ".xr-var-preview {\n",
       "  grid-column: 4;\n",
       "}\n",
       "\n",
       ".xr-index-preview {\n",
       "  grid-column: 2 / 5;\n",
       "  color: var(--xr-font-color2);\n",
       "}\n",
       "\n",
       ".xr-var-name,\n",
       ".xr-var-dims,\n",
       ".xr-var-dtype,\n",
       ".xr-preview,\n",
       ".xr-attrs dt {\n",
       "  white-space: nowrap;\n",
       "  overflow: hidden;\n",
       "  text-overflow: ellipsis;\n",
       "  padding-right: 10px;\n",
       "}\n",
       "\n",
       ".xr-var-name:hover,\n",
       ".xr-var-dims:hover,\n",
       ".xr-var-dtype:hover,\n",
       ".xr-attrs dt:hover {\n",
       "  overflow: visible;\n",
       "  width: auto;\n",
       "  z-index: 1;\n",
       "}\n",
       "\n",
       ".xr-var-attrs,\n",
       ".xr-var-data,\n",
       ".xr-index-data {\n",
       "  display: none;\n",
       "  background-color: var(--xr-background-color) !important;\n",
       "  padding-bottom: 5px !important;\n",
       "}\n",
       "\n",
       ".xr-var-attrs-in:checked ~ .xr-var-attrs,\n",
       ".xr-var-data-in:checked ~ .xr-var-data,\n",
       ".xr-index-data-in:checked ~ .xr-index-data {\n",
       "  display: block;\n",
       "}\n",
       "\n",
       ".xr-var-data > table {\n",
       "  float: right;\n",
       "}\n",
       "\n",
       ".xr-var-name span,\n",
       ".xr-var-data,\n",
       ".xr-index-name div,\n",
       ".xr-index-data,\n",
       ".xr-attrs {\n",
       "  padding-left: 25px !important;\n",
       "}\n",
       "\n",
       ".xr-attrs,\n",
       ".xr-var-attrs,\n",
       ".xr-var-data,\n",
       ".xr-index-data {\n",
       "  grid-column: 1 / -1;\n",
       "}\n",
       "\n",
       "dl.xr-attrs {\n",
       "  padding: 0;\n",
       "  margin: 0;\n",
       "  display: grid;\n",
       "  grid-template-columns: 125px auto;\n",
       "}\n",
       "\n",
       ".xr-attrs dt,\n",
       ".xr-attrs dd {\n",
       "  padding: 0;\n",
       "  margin: 0;\n",
       "  float: left;\n",
       "  padding-right: 10px;\n",
       "  width: auto;\n",
       "}\n",
       "\n",
       ".xr-attrs dt {\n",
       "  font-weight: normal;\n",
       "  grid-column: 1;\n",
       "}\n",
       "\n",
       ".xr-attrs dt:hover span {\n",
       "  display: inline-block;\n",
       "  background: var(--xr-background-color);\n",
       "  padding-right: 10px;\n",
       "}\n",
       "\n",
       ".xr-attrs dd {\n",
       "  grid-column: 2;\n",
       "  white-space: pre-wrap;\n",
       "  word-break: break-all;\n",
       "}\n",
       "\n",
       ".xr-icon-database,\n",
       ".xr-icon-file-text2,\n",
       ".xr-no-icon {\n",
       "  display: inline-block;\n",
       "  vertical-align: middle;\n",
       "  width: 1em;\n",
       "  height: 1.5em !important;\n",
       "  stroke-width: 0;\n",
       "  stroke: currentColor;\n",
       "  fill: currentColor;\n",
       "}\n",
       "</style><pre class='xr-text-repr-fallback'>&lt;xarray.Dataset&gt;\n",
       "Dimensions:  (lat: 96, lon: 144, age: 120)\n",
       "Coordinates:\n",
       "  * lat      (lat) float32 -90.0 -88.11 -86.21 -84.32 ... 84.32 86.21 88.11 90.0\n",
       "  * lon      (lon) float32 0.0 2.5 5.0 7.5 10.0 ... 350.0 352.5 355.0 357.5\n",
       "  * age      (age) float32 100.0 300.0 500.0 ... 2.35e+04 2.37e+04 2.39e+04\n",
       "Data variables:\n",
       "    sat      (age, lat, lon) float32 ...\n",
       "    sat_std  (age, lat, lon) float32 ...</pre><div class='xr-wrap' style='display:none'><div class='xr-header'><div class='xr-obj-type'>xarray.Dataset</div></div><ul class='xr-sections'><li class='xr-section-item'><input id='section-64a72a9a-7fa3-44d2-831b-5cd79199d50e' class='xr-section-summary-in' type='checkbox' disabled ><label for='section-64a72a9a-7fa3-44d2-831b-5cd79199d50e' class='xr-section-summary'  title='Expand/collapse section'>Dimensions:</label><div class='xr-section-inline-details'><ul class='xr-dim-list'><li><span class='xr-has-index'>lat</span>: 96</li><li><span class='xr-has-index'>lon</span>: 144</li><li><span class='xr-has-index'>age</span>: 120</li></ul></div><div class='xr-section-details'></div></li><li class='xr-section-item'><input id='section-e5a1211d-116a-4c03-9699-75c1eca8e845' class='xr-section-summary-in' type='checkbox'  checked><label for='section-e5a1211d-116a-4c03-9699-75c1eca8e845' class='xr-section-summary' >Coordinates: <span>(3)</span></label><div class='xr-section-inline-details'></div><div class='xr-section-details'><ul class='xr-var-list'><li class='xr-var-item'><div class='xr-var-name'><span class='xr-has-index'>lat</span></div><div class='xr-var-dims'>(lat)</div><div class='xr-var-dtype'>float32</div><div class='xr-var-preview xr-preview'>-90.0 -88.11 -86.21 ... 88.11 90.0</div><input id='attrs-205b7699-d0ba-4b0b-a24a-f0e6530d953d' class='xr-var-attrs-in' type='checkbox' ><label for='attrs-205b7699-d0ba-4b0b-a24a-f0e6530d953d' title='Show/Hide attributes'><svg class='icon xr-icon-file-text2'><use xlink:href='#icon-file-text2'></use></svg></label><input id='data-4b46be90-feae-45dc-b27e-618c3f1f6eae' class='xr-var-data-in' type='checkbox'><label for='data-4b46be90-feae-45dc-b27e-618c3f1f6eae' title='Show/Hide data repr'><svg class='icon xr-icon-database'><use xlink:href='#icon-database'></use></svg></label><div class='xr-var-attrs'><dl class='xr-attrs'><dt><span>FillValue :</span></dt><dd>9.969209968386869e+36</dd><dt><span>long_name :</span></dt><dd>vector latitudes</dd><dt><span>units :</span></dt><dd>degrees_north</dd></dl></div><div class='xr-var-data'><pre>array([-90.      , -88.10526 , -86.210526, -84.31579 , -82.42105 , -80.52631 ,\n",
       "       -78.63158 , -76.73684 , -74.8421  , -72.947365, -71.052635, -69.1579  ,\n",
       "       -67.26316 , -65.36842 , -63.473682, -61.57895 , -59.68421 , -57.789474,\n",
       "       -55.894737, -54.      , -52.105263, -50.210526, -48.31579 , -46.42105 ,\n",
       "       -44.526318, -42.63158 , -40.736843, -38.842106, -36.94737 , -35.05263 ,\n",
       "       -33.157894, -31.263159, -29.368422, -27.473684, -25.578947, -23.68421 ,\n",
       "       -21.789474, -19.894737, -18.      , -16.105263, -14.210526, -12.315789,\n",
       "       -10.421053,  -8.526316,  -6.631579,  -4.736842,  -2.842105,  -0.947368,\n",
       "         0.947368,   2.842105,   4.736842,   6.631579,   8.526316,  10.421053,\n",
       "        12.315789,  14.210526,  16.105263,  18.      ,  19.894737,  21.789474,\n",
       "        23.68421 ,  25.578947,  27.473684,  29.368422,  31.263159,  33.157894,\n",
       "        35.05263 ,  36.94737 ,  38.842106,  40.736843,  42.63158 ,  44.526318,\n",
       "        46.42105 ,  48.31579 ,  50.210526,  52.105263,  54.      ,  55.894737,\n",
       "        57.789474,  59.68421 ,  61.57895 ,  63.473682,  65.36842 ,  67.26316 ,\n",
       "        69.1579  ,  71.052635,  72.947365,  74.8421  ,  76.73684 ,  78.63158 ,\n",
       "        80.52631 ,  82.42105 ,  84.31579 ,  86.210526,  88.10526 ,  90.      ],\n",
       "      dtype=float32)</pre></div></li><li class='xr-var-item'><div class='xr-var-name'><span class='xr-has-index'>lon</span></div><div class='xr-var-dims'>(lon)</div><div class='xr-var-dtype'>float32</div><div class='xr-var-preview xr-preview'>0.0 2.5 5.0 ... 352.5 355.0 357.5</div><input id='attrs-4b4f6313-23b1-4f99-b8be-57fb0462a951' class='xr-var-attrs-in' type='checkbox' ><label for='attrs-4b4f6313-23b1-4f99-b8be-57fb0462a951' title='Show/Hide attributes'><svg class='icon xr-icon-file-text2'><use xlink:href='#icon-file-text2'></use></svg></label><input id='data-95efd39a-4f90-453f-afb7-d9fe14ea794e' class='xr-var-data-in' type='checkbox'><label for='data-95efd39a-4f90-453f-afb7-d9fe14ea794e' title='Show/Hide data repr'><svg class='icon xr-icon-database'><use xlink:href='#icon-database'></use></svg></label><div class='xr-var-attrs'><dl class='xr-attrs'><dt><span>FillValue :</span></dt><dd>9.969209968386869e+36</dd><dt><span>long_name :</span></dt><dd>vector of longitudes</dd><dt><span>units :</span></dt><dd>degrees_east</dd></dl></div><div class='xr-var-data'><pre>array([  0. ,   2.5,   5. ,   7.5,  10. ,  12.5,  15. ,  17.5,  20. ,  22.5,\n",
       "        25. ,  27.5,  30. ,  32.5,  35. ,  37.5,  40. ,  42.5,  45. ,  47.5,\n",
       "        50. ,  52.5,  55. ,  57.5,  60. ,  62.5,  65. ,  67.5,  70. ,  72.5,\n",
       "        75. ,  77.5,  80. ,  82.5,  85. ,  87.5,  90. ,  92.5,  95. ,  97.5,\n",
       "       100. , 102.5, 105. , 107.5, 110. , 112.5, 115. , 117.5, 120. , 122.5,\n",
       "       125. , 127.5, 130. , 132.5, 135. , 137.5, 140. , 142.5, 145. , 147.5,\n",
       "       150. , 152.5, 155. , 157.5, 160. , 162.5, 165. , 167.5, 170. , 172.5,\n",
       "       175. , 177.5, 180. , 182.5, 185. , 187.5, 190. , 192.5, 195. , 197.5,\n",
       "       200. , 202.5, 205. , 207.5, 210. , 212.5, 215. , 217.5, 220. , 222.5,\n",
       "       225. , 227.5, 230. , 232.5, 235. , 237.5, 240. , 242.5, 245. , 247.5,\n",
       "       250. , 252.5, 255. , 257.5, 260. , 262.5, 265. , 267.5, 270. , 272.5,\n",
       "       275. , 277.5, 280. , 282.5, 285. , 287.5, 290. , 292.5, 295. , 297.5,\n",
       "       300. , 302.5, 305. , 307.5, 310. , 312.5, 315. , 317.5, 320. , 322.5,\n",
       "       325. , 327.5, 330. , 332.5, 335. , 337.5, 340. , 342.5, 345. , 347.5,\n",
       "       350. , 352.5, 355. , 357.5], dtype=float32)</pre></div></li><li class='xr-var-item'><div class='xr-var-name'><span class='xr-has-index'>age</span></div><div class='xr-var-dims'>(age)</div><div class='xr-var-dtype'>float32</div><div class='xr-var-preview xr-preview'>100.0 300.0 ... 2.37e+04 2.39e+04</div><input id='attrs-875720e8-6c9f-4c0e-acf4-49d0e189f4c9' class='xr-var-attrs-in' type='checkbox' ><label for='attrs-875720e8-6c9f-4c0e-acf4-49d0e189f4c9' title='Show/Hide attributes'><svg class='icon xr-icon-file-text2'><use xlink:href='#icon-file-text2'></use></svg></label><input id='data-30791022-1491-4837-b2e9-9983f64dc9c6' class='xr-var-data-in' type='checkbox'><label for='data-30791022-1491-4837-b2e9-9983f64dc9c6' title='Show/Hide data repr'><svg class='icon xr-icon-database'><use xlink:href='#icon-database'></use></svg></label><div class='xr-var-attrs'><dl class='xr-attrs'><dt><span>long_name :</span></dt><dd>reconstruction bin mid-point (years BP)</dd></dl></div><div class='xr-var-data'><pre>array([  100.,   300.,   500.,   700.,   900.,  1100.,  1300.,  1500.,  1700.,\n",
       "        1900.,  2100.,  2300.,  2500.,  2700.,  2900.,  3100.,  3300.,  3500.,\n",
       "        3700.,  3900.,  4100.,  4300.,  4500.,  4700.,  4900.,  5100.,  5300.,\n",
       "        5500.,  5700.,  5900.,  6100.,  6300.,  6500.,  6700.,  6900.,  7100.,\n",
       "        7300.,  7500.,  7700.,  7900.,  8100.,  8300.,  8500.,  8700.,  8900.,\n",
       "        9100.,  9300.,  9500.,  9700.,  9900., 10100., 10300., 10500., 10700.,\n",
       "       10900., 11100., 11300., 11500., 11700., 11900., 12100., 12300., 12500.,\n",
       "       12700., 12900., 13100., 13300., 13500., 13700., 13900., 14100., 14300.,\n",
       "       14500., 14700., 14900., 15100., 15300., 15500., 15700., 15900., 16100.,\n",
       "       16300., 16500., 16700., 16900., 17100., 17300., 17500., 17700., 17900.,\n",
       "       18100., 18300., 18500., 18700., 18900., 19100., 19300., 19500., 19700.,\n",
       "       19900., 20100., 20300., 20500., 20700., 20900., 21100., 21300., 21500.,\n",
       "       21700., 21900., 22100., 22300., 22500., 22700., 22900., 23100., 23300.,\n",
       "       23500., 23700., 23900.], dtype=float32)</pre></div></li></ul></div></li><li class='xr-section-item'><input id='section-7e3b2420-e7d4-40e0-87dc-90b50d42789a' class='xr-section-summary-in' type='checkbox'  checked><label for='section-7e3b2420-e7d4-40e0-87dc-90b50d42789a' class='xr-section-summary' >Data variables: <span>(2)</span></label><div class='xr-section-inline-details'></div><div class='xr-section-details'><ul class='xr-var-list'><li class='xr-var-item'><div class='xr-var-name'><span>sat</span></div><div class='xr-var-dims'>(age, lat, lon)</div><div class='xr-var-dtype'>float32</div><div class='xr-var-preview xr-preview'>...</div><input id='attrs-3855c84e-3a37-4340-92e0-990e4d50043c' class='xr-var-attrs-in' type='checkbox' ><label for='attrs-3855c84e-3a37-4340-92e0-990e4d50043c' title='Show/Hide attributes'><svg class='icon xr-icon-file-text2'><use xlink:href='#icon-file-text2'></use></svg></label><input id='data-dca0ed54-d27b-4d8b-9c1b-9920490028fd' class='xr-var-data-in' type='checkbox'><label for='data-dca0ed54-d27b-4d8b-9c1b-9920490028fd' title='Show/Hide data repr'><svg class='icon xr-icon-database'><use xlink:href='#icon-database'></use></svg></label><div class='xr-var-attrs'><dl class='xr-attrs'><dt><span>FillValue :</span></dt><dd>9.969209968386869e+36</dd><dt><span>long_name :</span></dt><dd>ENSEMBLE MEAN (n = 500) mean annual temperature at reference height</dd><dt><span>units :</span></dt><dd>degrees Celsius</dd></dl></div><div class='xr-var-data'><pre>[1658880 values with dtype=float32]</pre></div></li><li class='xr-var-item'><div class='xr-var-name'><span>sat_std</span></div><div class='xr-var-dims'>(age, lat, lon)</div><div class='xr-var-dtype'>float32</div><div class='xr-var-preview xr-preview'>...</div><input id='attrs-c69a61ca-ca4d-46c6-9c3c-f4796d0d297d' class='xr-var-attrs-in' type='checkbox' ><label for='attrs-c69a61ca-ca4d-46c6-9c3c-f4796d0d297d' title='Show/Hide attributes'><svg class='icon xr-icon-file-text2'><use xlink:href='#icon-file-text2'></use></svg></label><input id='data-272b37f9-9257-4121-a233-57808d56272c' class='xr-var-data-in' type='checkbox'><label for='data-272b37f9-9257-4121-a233-57808d56272c' title='Show/Hide data repr'><svg class='icon xr-icon-database'><use xlink:href='#icon-database'></use></svg></label><div class='xr-var-attrs'><dl class='xr-attrs'><dt><span>FillValue :</span></dt><dd>9.969209968386869e+36</dd><dt><span>long_name :</span></dt><dd>ENSEMBLE STANDARD DEVIATION (n = 500) mean annual temperature at reference height</dd><dt><span>units :</span></dt><dd>degrees Celsius</dd></dl></div><div class='xr-var-data'><pre>[1658880 values with dtype=float32]</pre></div></li></ul></div></li><li class='xr-section-item'><input id='section-1b815fa3-237f-4f07-bdf7-813e81aaba58' class='xr-section-summary-in' type='checkbox'  ><label for='section-1b815fa3-237f-4f07-bdf7-813e81aaba58' class='xr-section-summary' >Indexes: <span>(3)</span></label><div class='xr-section-inline-details'></div><div class='xr-section-details'><ul class='xr-var-list'><li class='xr-var-item'><div class='xr-index-name'><div>lat</div></div><div class='xr-index-preview'>PandasIndex</div><div></div><input id='index-4253f45f-d042-47f4-9bff-8447eb3d84ba' class='xr-index-data-in' type='checkbox'/><label for='index-4253f45f-d042-47f4-9bff-8447eb3d84ba' title='Show/Hide index repr'><svg class='icon xr-icon-database'><use xlink:href='#icon-database'></use></svg></label><div class='xr-index-data'><pre>PandasIndex(Float64Index([              -90.0,  -88.10526275634766,  -86.21052551269531,\n",
       "               -84.31578826904297,  -82.42105102539062,  -80.52631378173828,\n",
       "               -78.63157653808594,   -76.7368392944336,  -74.84210205078125,\n",
       "                -72.9473648071289,   -71.0526351928711,  -69.15789794921875,\n",
       "                -67.2631607055664,  -65.36842346191406,  -63.47368240356445,\n",
       "              -61.578948974609375,  -59.68421173095703,  -57.78947448730469,\n",
       "              -55.894737243652344,               -54.0, -52.105262756347656,\n",
       "               -50.21052551269531,  -48.31578826904297, -46.421051025390625,\n",
       "               -44.52631759643555,   -42.6315803527832,  -40.73684310913086,\n",
       "              -38.842105865478516,  -36.94736862182617,  -35.05263137817383,\n",
       "              -33.157894134521484, -31.263158798217773,  -29.36842155456543,\n",
       "              -27.473684310913086, -25.578947067260742,   -23.6842098236084,\n",
       "              -21.789474487304688, -19.894737243652344,               -18.0,\n",
       "              -16.105262756347656, -14.210526466369629, -12.315789222717285,\n",
       "              -10.421052932739258,  -8.526315689086914, -6.6315789222717285,\n",
       "               -4.736842155456543, -2.8421051502227783, -0.9473684430122375,\n",
       "               0.9473684430122375,  2.8421051502227783,   4.736842155456543,\n",
       "               6.6315789222717285,   8.526315689086914,  10.421052932739258,\n",
       "               12.315789222717285,  14.210526466369629,  16.105262756347656,\n",
       "                             18.0,  19.894737243652344,  21.789474487304688,\n",
       "                 23.6842098236084,  25.578947067260742,  27.473684310913086,\n",
       "                29.36842155456543,  31.263158798217773,  33.157894134521484,\n",
       "                35.05263137817383,   36.94736862182617,  38.842105865478516,\n",
       "                40.73684310913086,    42.6315803527832,   44.52631759643555,\n",
       "               46.421051025390625,   48.31578826904297,   50.21052551269531,\n",
       "               52.105262756347656,                54.0,  55.894737243652344,\n",
       "                57.78947448730469,   59.68421173095703,  61.578948974609375,\n",
       "                63.47368240356445,   65.36842346191406,    67.2631607055664,\n",
       "                69.15789794921875,    71.0526351928711,    72.9473648071289,\n",
       "                74.84210205078125,    76.7368392944336,   78.63157653808594,\n",
       "                80.52631378173828,   82.42105102539062,   84.31578826904297,\n",
       "                86.21052551269531,   88.10526275634766,                90.0],\n",
       "             dtype=&#x27;float64&#x27;, name=&#x27;lat&#x27;))</pre></div></li><li class='xr-var-item'><div class='xr-index-name'><div>lon</div></div><div class='xr-index-preview'>PandasIndex</div><div></div><input id='index-7f96b591-8d34-4586-9b3f-64ca294e7621' class='xr-index-data-in' type='checkbox'/><label for='index-7f96b591-8d34-4586-9b3f-64ca294e7621' title='Show/Hide index repr'><svg class='icon xr-icon-database'><use xlink:href='#icon-database'></use></svg></label><div class='xr-index-data'><pre>PandasIndex(Float64Index([  0.0,   2.5,   5.0,   7.5,  10.0,  12.5,  15.0,  17.5,  20.0,\n",
       "               22.5,\n",
       "              ...\n",
       "              335.0, 337.5, 340.0, 342.5, 345.0, 347.5, 350.0, 352.5, 355.0,\n",
       "              357.5],\n",
       "             dtype=&#x27;float64&#x27;, name=&#x27;lon&#x27;, length=144))</pre></div></li><li class='xr-var-item'><div class='xr-index-name'><div>age</div></div><div class='xr-index-preview'>PandasIndex</div><div></div><input id='index-f518ed05-1fc3-43c7-9bbb-d1d5651d332c' class='xr-index-data-in' type='checkbox'/><label for='index-f518ed05-1fc3-43c7-9bbb-d1d5651d332c' title='Show/Hide index repr'><svg class='icon xr-icon-database'><use xlink:href='#icon-database'></use></svg></label><div class='xr-index-data'><pre>PandasIndex(Float64Index([  100.0,   300.0,   500.0,   700.0,   900.0,  1100.0,  1300.0,\n",
       "               1500.0,  1700.0,  1900.0,\n",
       "              ...\n",
       "              22100.0, 22300.0, 22500.0, 22700.0, 22900.0, 23100.0, 23300.0,\n",
       "              23500.0, 23700.0, 23900.0],\n",
       "             dtype=&#x27;float64&#x27;, name=&#x27;age&#x27;, length=120))</pre></div></li></ul></div></li><li class='xr-section-item'><input id='section-559b8d2e-7be2-4403-8105-b37524f558f2' class='xr-section-summary-in' type='checkbox' disabled ><label for='section-559b8d2e-7be2-4403-8105-b37524f558f2' class='xr-section-summary'  title='Expand/collapse section'>Attributes: <span>(0)</span></label><div class='xr-section-inline-details'></div><div class='xr-section-details'><dl class='xr-attrs'></dl></div></li></ul></div></div>"
      ],
      "text/plain": [
       "<xarray.Dataset>\n",
       "Dimensions:  (lat: 96, lon: 144, age: 120)\n",
       "Coordinates:\n",
       "  * lat      (lat) float32 -90.0 -88.11 -86.21 -84.32 ... 84.32 86.21 88.11 90.0\n",
       "  * lon      (lon) float32 0.0 2.5 5.0 7.5 10.0 ... 350.0 352.5 355.0 357.5\n",
       "  * age      (age) float32 100.0 300.0 500.0 ... 2.35e+04 2.37e+04 2.39e+04\n",
       "Data variables:\n",
       "    sat      (age, lat, lon) float32 ...\n",
       "    sat_std  (age, lat, lon) float32 ..."
      ]
     },
     "execution_count": 9,
     "metadata": {},
     "output_type": "execute_result"
    }
   ],
   "source": [
    "ds_sat"
   ]
  },
  {
   "cell_type": "code",
   "execution_count": 10,
   "metadata": {},
   "outputs": [
    {
     "name": "stderr",
     "output_type": "stream",
     "text": [
      "d:\\Users\\User\\anaconda3\\envs\\pz_venv_causal\\lib\\site-packages\\xarray\\coding\\variables.py:147: FutureWarning:\n",
      "\n",
      "elementwise comparison failed; returning scalar instead, but in the future will perform elementwise comparison\n",
      "\n"
     ]
    },
    {
     "data": {
      "text/plain": [
       "[<matplotlib.lines.Line2D at 0x2cdd3417340>]"
      ]
     },
     "execution_count": 10,
     "metadata": {},
     "output_type": "execute_result"
    },
    {
     "data": {
      "image/png": "[encoded data removed]",
      "text/plain": [
       "<Figure size 640x480 with 1 Axes>"
      ]
     },
     "metadata": {},
     "output_type": "display_data"
    }
   ],
   "source": [
    "# plot any sat from the ds_sat\n",
    "\n",
    "import matplotlib.pyplot as plt\n",
    "import numpy as np\n",
    "\n",
    "plt.plot(ds_sat['sat'].isel(lat=80).isel(lon=0).values)"
   ]
  },
  {
   "cell_type": "code",
   "execution_count": 12,
   "metadata": {},
   "outputs": [
    {
     "data": {
      "text/plain": [
       "[<matplotlib.lines.Line2D at 0x2cdd3491d60>]"
      ]
     },
     "execution_count": 12,
     "metadata": {},
     "output_type": "execute_result"
    },
    {
     "data": {
      "image/png": "[encoded data removed]",
      "text/plain": [
       "<Figure size 640x480 with 1 Axes>"
      ]
     },
     "metadata": {},
     "output_type": "display_data"
    }
   ],
   "source": [
    "# plot df_pre\n",
    "plt.plot(df_pre['pre'].values)\n",
    "\n",
    "# print(df_pre['pre'].values)"
   ]
  },
  {
   "cell_type": "code",
   "execution_count": 14,
   "metadata": {},
   "outputs": [
    {
     "name": "stderr",
     "output_type": "stream",
     "text": [
      "d:\\Users\\User\\anaconda3\\envs\\pz_venv_causal\\lib\\site-packages\\xarray\\coding\\variables.py:147: FutureWarning:\n",
      "\n",
      "elementwise comparison failed; returning scalar instead, but in the future will perform elementwise comparison\n",
      "\n",
      "d:\\Users\\User\\anaconda3\\envs\\pz_venv_causal\\lib\\site-packages\\xarray\\coding\\variables.py:147: FutureWarning:\n",
      "\n",
      "elementwise comparison failed; returning scalar instead, but in the future will perform elementwise comparison\n",
      "\n",
      "d:\\Users\\User\\anaconda3\\envs\\pz_venv_causal\\lib\\site-packages\\xarray\\coding\\variables.py:147: FutureWarning:\n",
      "\n",
      "elementwise comparison failed; returning scalar instead, but in the future will perform elementwise comparison\n",
      "\n",
      "d:\\Users\\User\\anaconda3\\envs\\pz_venv_causal\\lib\\site-packages\\xarray\\coding\\variables.py:147: FutureWarning:\n",
      "\n",
      "elementwise comparison failed; returning scalar instead, but in the future will perform elementwise comparison\n",
      "\n",
      "d:\\Users\\User\\anaconda3\\envs\\pz_venv_causal\\lib\\site-packages\\xarray\\coding\\variables.py:147: FutureWarning:\n",
      "\n",
      "elementwise comparison failed; returning scalar instead, but in the future will perform elementwise comparison\n",
      "\n",
      "d:\\Users\\User\\anaconda3\\envs\\pz_venv_causal\\lib\\site-packages\\xarray\\coding\\variables.py:147: FutureWarning:\n",
      "\n",
      "elementwise comparison failed; returning scalar instead, but in the future will perform elementwise comparison\n",
      "\n",
      "d:\\Users\\User\\anaconda3\\envs\\pz_venv_causal\\lib\\site-packages\\xarray\\coding\\variables.py:147: FutureWarning:\n",
      "\n",
      "elementwise comparison failed; returning scalar instead, but in the future will perform elementwise comparison\n",
      "\n",
      "d:\\Users\\User\\anaconda3\\envs\\pz_venv_causal\\lib\\site-packages\\xarray\\coding\\variables.py:147: FutureWarning:\n",
      "\n",
      "elementwise comparison failed; returning scalar instead, but in the future will perform elementwise comparison\n",
      "\n",
      "d:\\Users\\User\\anaconda3\\envs\\pz_venv_causal\\lib\\site-packages\\xarray\\coding\\variables.py:147: FutureWarning:\n",
      "\n",
      "elementwise comparison failed; returning scalar instead, but in the future will perform elementwise comparison\n",
      "\n",
      "d:\\Users\\User\\anaconda3\\envs\\pz_venv_causal\\lib\\site-packages\\xarray\\coding\\variables.py:147: FutureWarning:\n",
      "\n",
      "elementwise comparison failed; returning scalar instead, but in the future will perform elementwise comparison\n",
      "\n"
     ]
    },
    {
     "data": {
      "application/vnd.plotly.v1+json": {
       "config": {
        "plotlyServerURL": "https://plot.ly"
       },
       "data": [
        {
         "colorscale": [
          [
           0,
           "#440154"
          ],
          [
           0.1111111111111111,
           "#482878"
          ],
          [
           0.2222222222222222,
           "#3e4989"
          ],
          [
           0.3333333333333333,
           "#31688e"
          ],
          [
           0.4444444444444444,
           "#26828e"
          ],
          [
           0.5555555555555556,
           "#1f9e89"
          ],
          [
           0.6666666666666666,
           "#35b779"
          ],
          [
           0.7777777777777778,
           "#6ece58"
          ],
          [
           0.8888888888888888,
           "#b5de2b"
          ],
          [
           1,
           "#fde725"
          ]
         ],
         "scene": "scene",
         "showscale": false,
         "type": "surface",
         "x": [
          [
           1,
           1,
           1,
           1,
           1,
           1,
           1,
           1,
           1,
           1
          ],
          [
           2,
           2,
           2,
           2,
           2,
           2,
           2,
           2,
           2,
           2
          ],
          [
           3,
           3,
           3,
           3,
           3,
           3,
           3,
           3,
           3,
           3
          ],
          [
           4,
           4,
           4,
           4,
           4,
           4,
           4,
           4,
           4,
           4
          ],
          [
           5,
           5,
           5,
           5,
           5,
           5,
           5,
           5,
           5,
           5
          ]
         ],
         "y": [
          [
           1,
           2,
           3,
           4,
           5,
           6,
           7,
           8,
           9,
           10
          ],
          [
           1,
           2,
           3,
           4,
           5,
           6,
           7,
           8,
           9,
           10
          ],
          [
           1,
           2,
           3,
           4,
           5,
           6,
           7,
           8,
           9,
           10
          ],
          [
           1,
           2,
           3,
           4,
           5,
           6,
           7,
           8,
           9,
           10
          ],
          [
           1,
           2,
           3,
           4,
           5,
           6,
           7,
           8,
           9,
           10
          ]
         ],
         "z": [
          [
           0.6102943526814973,
           0.6102943526814973,
           0.6102943526814973,
           0.6102943526814973,
           0.6102943526814973,
           0.6102943526814973,
           0.6102943526814973,
           0.6102943526814973,
           0.6102943526814973,
           0.6102943526814973
          ],
          [
           0.6546563420533635,
           0.5801112197994969,
           0.7013714702215929,
           0.7544169145535833,
           0.8597409219361223,
           0.8350352765155763,
           0.8634800302493875,
           0.8839801239619888,
           0.8308834976746947,
           0.86118427588393
          ],
          [
           0.6407561571528064,
           0.7722278098465364,
           0.8888159868019582,
           0.9163104800928207,
           0.9222243271540024,
           0.9299567945106982,
           0.8917972217160552,
           0.7622733059682959,
           0.7089952964292007,
           0.6559762031424416
          ],
          [
           0.6774257462022767,
           0.8758506316724248,
           0.9271782195551019,
           0.8878090982614262,
           0.8655017927384583,
           0.7645037614994167,
           0.6625924620244042,
           0.591142645002905,
           0.6153927930738132,
           0.6916879075571415
          ],
          [
           0.7403722040374107,
           0.8914877269275508,
           0.901774230925868,
           0.8011827294045173,
           0.6829996706909572,
           0.6223422189764831,
           0.6494829650406923,
           0.7441653434328787,
           0.8422137694810451,
           0.9103699581892774
          ]
         ]
        },
        {
         "colorscale": [
          [
           0,
           "#440154"
          ],
          [
           0.1111111111111111,
           "#482878"
          ],
          [
           0.2222222222222222,
           "#3e4989"
          ],
          [
           0.3333333333333333,
           "#31688e"
          ],
          [
           0.4444444444444444,
           "#26828e"
          ],
          [
           0.5555555555555556,
           "#1f9e89"
          ],
          [
           0.6666666666666666,
           "#35b779"
          ],
          [
           0.7777777777777778,
           "#6ece58"
          ],
          [
           0.8888888888888888,
           "#b5de2b"
          ],
          [
           1,
           "#fde725"
          ]
         ],
         "scene": "scene2",
         "showscale": false,
         "type": "surface",
         "x": [
          [
           1,
           1,
           1,
           1,
           1,
           1,
           1,
           1,
           1,
           1
          ],
          [
           2,
           2,
           2,
           2,
           2,
           2,
           2,
           2,
           2,
           2
          ],
          [
           3,
           3,
           3,
           3,
           3,
           3,
           3,
           3,
           3,
           3
          ],
          [
           4,
           4,
           4,
           4,
           4,
           4,
           4,
           4,
           4,
           4
          ],
          [
           5,
           5,
           5,
           5,
           5,
           5,
           5,
           5,
           5,
           5
          ]
         ],
         "y": [
          [
           1,
           2,
           3,
           4,
           5,
           6,
           7,
           8,
           9,
           10
          ],
          [
           1,
           2,
           3,
           4,
           5,
           6,
           7,
           8,
           9,
           10
          ],
          [
           1,
           2,
           3,
           4,
           5,
           6,
           7,
           8,
           9,
           10
          ],
          [
           1,
           2,
           3,
           4,
           5,
           6,
           7,
           8,
           9,
           10
          ],
          [
           1,
           2,
           3,
           4,
           5,
           6,
           7,
           8,
           9,
           10
          ]
         ],
         "z": [
          [
           0.8485812549295468,
           0.8485812549295468,
           0.8485812549295468,
           0.8485812549295468,
           0.8485812549295468,
           0.8485812549295468,
           0.8485812549295468,
           0.8485812549295468,
           0.8485812549295468,
           0.8485812549295468
          ],
          [
           0.8279785440439853,
           0.8546882689505974,
           0.9163635411406604,
           0.9280395097772985,
           0.9483093433367846,
           0.9709566773225615,
           0.988891161844338,
           0.9926039292768362,
           0.9862634412251424,
           0.9865895026057494
          ],
          [
           0.843908780574039,
           0.9217425961812693,
           0.972130365850061,
           0.9925868111608092,
           0.9890607181222836,
           0.9677851385526814,
           0.9533632589366197,
           0.9129739459980152,
           0.8527222434319655,
           0.7852996800114648
          ],
          [
           0.8811038373967448,
           0.9652235053560613,
           0.9908726946217339,
           0.9761523939451702,
           0.931257623673719,
           0.8430144963456616,
           0.7422344988667111,
           0.6744069377013425,
           0.6760561522915582,
           0.7263073958436224
          ],
          [
           0.9107312004414213,
           0.9831796068926797,
           0.9735930043498847,
           0.9010974912622884,
           0.7645664031202084,
           0.6684690331667315,
           0.6866340497915604,
           0.7753837582061411,
           0.8711213418025308,
           0.9085145879635149
          ]
         ]
        },
        {
         "colorscale": [
          [
           0,
           "#440154"
          ],
          [
           0.1111111111111111,
           "#482878"
          ],
          [
           0.2222222222222222,
           "#3e4989"
          ],
          [
           0.3333333333333333,
           "#31688e"
          ],
          [
           0.4444444444444444,
           "#26828e"
          ],
          [
           0.5555555555555556,
           "#1f9e89"
          ],
          [
           0.6666666666666666,
           "#35b779"
          ],
          [
           0.7777777777777778,
           "#6ece58"
          ],
          [
           0.8888888888888888,
           "#b5de2b"
          ],
          [
           1,
           "#fde725"
          ]
         ],
         "scene": "scene3",
         "showscale": false,
         "type": "surface",
         "x": [
          [
           1,
           1,
           1,
           1,
           1,
           1,
           1,
           1,
           1,
           1
          ],
          [
           2,
           2,
           2,
           2,
           2,
           2,
           2,
           2,
           2,
           2
          ],
          [
           3,
           3,
           3,
           3,
           3,
           3,
           3,
           3,
           3,
           3
          ],
          [
           4,
           4,
           4,
           4,
           4,
           4,
           4,
           4,
           4,
           4
          ],
          [
           5,
           5,
           5,
           5,
           5,
           5,
           5,
           5,
           5,
           5
          ]
         ],
         "y": [
          [
           1,
           2,
           3,
           4,
           5,
           6,
           7,
           8,
           9,
           10
          ],
          [
           1,
           2,
           3,
           4,
           5,
           6,
           7,
           8,
           9,
           10
          ],
          [
           1,
           2,
           3,
           4,
           5,
           6,
           7,
           8,
           9,
           10
          ],
          [
           1,
           2,
           3,
           4,
           5,
           6,
           7,
           8,
           9,
           10
          ],
          [
           1,
           2,
           3,
           4,
           5,
           6,
           7,
           8,
           9,
           10
          ]
         ],
         "z": [
          [
           0.7896801797070372,
           0.7896801797070372,
           0.7896801797070372,
           0.7896801797070372,
           0.7896801797070372,
           0.7896801797070372,
           0.7896801797070372,
           0.7896801797070372,
           0.7896801797070372,
           0.7896801797070372
          ],
          [
           0.8450147077382099,
           0.8835240696606822,
           0.8695974512122195,
           0.8514585186667891,
           0.8826019513309231,
           0.8673492583339057,
           0.8842377530042479,
           0.909862204221257,
           0.9232103596626365,
           0.9139472317282957
          ],
          [
           0.8526719230379693,
           0.9000622189947712,
           0.9583478623091425,
           0.9560615579398006,
           0.9651680981323596,
           0.9320417768332081,
           0.8984397534138969,
           0.8293102755980668,
           0.7887584951225795,
           0.715599752866067
          ],
          [
           0.8752927609138832,
           0.9489991452400075,
           0.9785153311801805,
           0.9491879016268535,
           0.8900742117574629,
           0.7804895015974843,
           0.6700841175136457,
           0.6056664876871914,
           0.6391919417844214,
           0.6928179354066424
          ],
          [
           0.8922257517202479,
           0.9560717999463484,
           0.9576344427723689,
           0.8467030508169722,
           0.6846186032097454,
           0.6146224361756117,
           0.6344537079429841,
           0.7448845559076178,
           0.8557123246168924,
           0.9080154200661485
          ]
         ]
        },
        {
         "colorscale": [
          [
           0,
           "#440154"
          ],
          [
           0.1111111111111111,
           "#482878"
          ],
          [
           0.2222222222222222,
           "#3e4989"
          ],
          [
           0.3333333333333333,
           "#31688e"
          ],
          [
           0.4444444444444444,
           "#26828e"
          ],
          [
           0.5555555555555556,
           "#1f9e89"
          ],
          [
           0.6666666666666666,
           "#35b779"
          ],
          [
           0.7777777777777778,
           "#6ece58"
          ],
          [
           0.8888888888888888,
           "#b5de2b"
          ],
          [
           1,
           "#fde725"
          ]
         ],
         "scene": "scene4",
         "showscale": false,
         "type": "surface",
         "x": [
          [
           1,
           1,
           1,
           1,
           1,
           1,
           1,
           1,
           1,
           1
          ],
          [
           2,
           2,
           2,
           2,
           2,
           2,
           2,
           2,
           2,
           2
          ],
          [
           3,
           3,
           3,
           3,
           3,
           3,
           3,
           3,
           3,
           3
          ],
          [
           4,
           4,
           4,
           4,
           4,
           4,
           4,
           4,
           4,
           4
          ],
          [
           5,
           5,
           5,
           5,
           5,
           5,
           5,
           5,
           5,
           5
          ]
         ],
         "y": [
          [
           1,
           2,
           3,
           4,
           5,
           6,
           7,
           8,
           9,
           10
          ],
          [
           1,
           2,
           3,
           4,
           5,
           6,
           7,
           8,
           9,
           10
          ],
          [
           1,
           2,
           3,
           4,
           5,
           6,
           7,
           8,
           9,
           10
          ],
          [
           1,
           2,
           3,
           4,
           5,
           6,
           7,
           8,
           9,
           10
          ],
          [
           1,
           2,
           3,
           4,
           5,
           6,
           7,
           8,
           9,
           10
          ]
         ],
         "z": [
          [
           0.7150534874393983,
           0.7150534874393983,
           0.7150534874393983,
           0.7150534874393983,
           0.7150534874393983,
           0.7150534874393983,
           0.7150534874393983,
           0.7150534874393983,
           0.7150534874393983,
           0.7150534874393983
          ],
          [
           0.7675615689275811,
           0.851526341799014,
           0.8401076555526262,
           0.8746415961759892,
           0.8699789662633344,
           0.8951959537522808,
           0.921843982364768,
           0.9263843811046261,
           0.9175909938722968,
           0.9062722282452013
          ],
          [
           0.8428569590043814,
           0.9267529760382984,
           0.9451492403054477,
           0.9582262107651376,
           0.9297074146705184,
           0.9095131960513558,
           0.910687221139625,
           0.859659121782068,
           0.8185418322119979,
           0.7489556909339926
          ],
          [
           0.8808964733438703,
           0.9655181301870303,
           0.9711071103964904,
           0.9618722872833698,
           0.9147753210005528,
           0.8161699548271875,
           0.7087490125440555,
           0.6677438848160929,
           0.6700296337902406,
           0.7115719704825804
          ],
          [
           0.9040060513468094,
           0.979701933918672,
           0.9645136677140075,
           0.909106339728462,
           0.7420666182044342,
           0.6586731551851371,
           0.6778597042192199,
           0.7730465887872283,
           0.8650885364028832,
           0.9059495705522698
          ]
         ]
        },
        {
         "colorscale": [
          [
           0,
           "#440154"
          ],
          [
           0.1111111111111111,
           "#482878"
          ],
          [
           0.2222222222222222,
           "#3e4989"
          ],
          [
           0.3333333333333333,
           "#31688e"
          ],
          [
           0.4444444444444444,
           "#26828e"
          ],
          [
           0.5555555555555556,
           "#1f9e89"
          ],
          [
           0.6666666666666666,
           "#35b779"
          ],
          [
           0.7777777777777778,
           "#6ece58"
          ],
          [
           0.8888888888888888,
           "#b5de2b"
          ],
          [
           1,
           "#fde725"
          ]
         ],
         "scene": "scene5",
         "showscale": false,
         "type": "surface",
         "x": [
          [
           1,
           1,
           1,
           1,
           1,
           1,
           1,
           1,
           1,
           1
          ],
          [
           2,
           2,
           2,
           2,
           2,
           2,
           2,
           2,
           2,
           2
          ],
          [
           3,
           3,
           3,
           3,
           3,
           3,
           3,
           3,
           3,
           3
          ],
          [
           4,
           4,
           4,
           4,
           4,
           4,
           4,
           4,
           4,
           4
          ],
          [
           5,
           5,
           5,
           5,
           5,
           5,
           5,
           5,
           5,
           5
          ]
         ],
         "y": [
          [
           1,
           2,
           3,
           4,
           5,
           6,
           7,
           8,
           9,
           10
          ],
          [
           1,
           2,
           3,
           4,
           5,
           6,
           7,
           8,
           9,
           10
          ],
          [
           1,
           2,
           3,
           4,
           5,
           6,
           7,
           8,
           9,
           10
          ],
          [
           1,
           2,
           3,
           4,
           5,
           6,
           7,
           8,
           9,
           10
          ],
          [
           1,
           2,
           3,
           4,
           5,
           6,
           7,
           8,
           9,
           10
          ]
         ],
         "z": [
          [
           0.8397168388846434,
           0.8397168388846434,
           0.8397168388846434,
           0.8397168388846434,
           0.8397168388846434,
           0.8397168388846434,
           0.8397168388846434,
           0.8397168388846434,
           0.8397168388846434,
           0.8397168388846434
          ],
          [
           0.8839660072225274,
           0.8968476084545984,
           0.9053833423558725,
           0.9264638989615217,
           0.9448012635924312,
           0.9325382924601737,
           0.9618035726616975,
           0.9471072658312965,
           0.9707734661500383,
           0.9618107152045949
          ],
          [
           0.8918156216301903,
           0.9250396627585636,
           0.9393540442444505,
           0.9569555274436686,
           0.9665120198082882,
           0.9520870040196111,
           0.9330206757284505,
           0.8964493243078767,
           0.8404350606659551,
           0.7552615727883686
          ],
          [
           0.8966135843167782,
           0.9384378059945679,
           0.969200852261124,
           0.9487417131452965,
           0.9150630213743229,
           0.8305675003693627,
           0.7106766518085578,
           0.6651904687424695,
           0.6649989020644756,
           0.7159001414613692
          ],
          [
           0.9001623843879084,
           0.9593795837241699,
           0.9579093697656557,
           0.8898331191768936,
           0.7465577556379825,
           0.662550093308994,
           0.6817143997028312,
           0.7722128513559163,
           0.8657513600376325,
           0.9034020836708807
          ]
         ]
        },
        {
         "colorscale": [
          [
           0,
           "#440154"
          ],
          [
           0.1111111111111111,
           "#482878"
          ],
          [
           0.2222222222222222,
           "#3e4989"
          ],
          [
           0.3333333333333333,
           "#31688e"
          ],
          [
           0.4444444444444444,
           "#26828e"
          ],
          [
           0.5555555555555556,
           "#1f9e89"
          ],
          [
           0.6666666666666666,
           "#35b779"
          ],
          [
           0.7777777777777778,
           "#6ece58"
          ],
          [
           0.8888888888888888,
           "#b5de2b"
          ],
          [
           1,
           "#fde725"
          ]
         ],
         "scene": "scene6",
         "showscale": false,
         "type": "surface",
         "x": [
          [
           1,
           1,
           1,
           1,
           1,
           1,
           1,
           1,
           1,
           1
          ],
          [
           2,
           2,
           2,
           2,
           2,
           2,
           2,
           2,
           2,
           2
          ],
          [
           3,
           3,
           3,
           3,
           3,
           3,
           3,
           3,
           3,
           3
          ],
          [
           4,
           4,
           4,
           4,
           4,
           4,
           4,
           4,
           4,
           4
          ],
          [
           5,
           5,
           5,
           5,
           5,
           5,
           5,
           5,
           5,
           5
          ]
         ],
         "y": [
          [
           1,
           2,
           3,
           4,
           5,
           6,
           7,
           8,
           9,
           10
          ],
          [
           1,
           2,
           3,
           4,
           5,
           6,
           7,
           8,
           9,
           10
          ],
          [
           1,
           2,
           3,
           4,
           5,
           6,
           7,
           8,
           9,
           10
          ],
          [
           1,
           2,
           3,
           4,
           5,
           6,
           7,
           8,
           9,
           10
          ],
          [
           1,
           2,
           3,
           4,
           5,
           6,
           7,
           8,
           9,
           10
          ]
         ],
         "z": [
          [
           0.5415031774321745,
           0.5415031774321745,
           0.5415031774321745,
           0.5415031774321745,
           0.5415031774321745,
           0.5415031774321745,
           0.5415031774321745,
           0.5415031774321745,
           0.5415031774321745,
           0.5415031774321745
          ],
          [
           0.7034013111178643,
           0.7678094403730537,
           0.7647254057839924,
           0.7252006642926937,
           0.7570191315139134,
           0.739700623518106,
           0.6849080198480847,
           0.6638708001313823,
           0.6574091924531968,
           0.6419669340070335
          ],
          [
           0.7287139416495972,
           0.7543166192883684,
           0.7613186264205344,
           0.7018759519564223,
           0.6846154225333804,
           0.6348895761730681,
           0.633386997149017,
           0.6080419830617203,
           0.6527793868236929,
           0.6006925955510095
          ],
          [
           0.743685310922331,
           0.7454274046040302,
           0.7054205128000182,
           0.6453098197400322,
           0.6025629186331509,
           0.6071137347773266,
           0.591418863483858,
           0.6299935286927331,
           0.6746098872478227,
           0.7349460801385955
          ],
          [
           0.7467825264023403,
           0.7022245294171486,
           0.6418636087239825,
           0.5947320499473405,
           0.5736117650532784,
           0.6205765080936098,
           0.690558217088777,
           0.7868244499274228,
           0.8638056108622428,
           0.8672658499026067
          ]
         ]
        },
        {
         "colorscale": [
          [
           0,
           "#440154"
          ],
          [
           0.1111111111111111,
           "#482878"
          ],
          [
           0.2222222222222222,
           "#3e4989"
          ],
          [
           0.3333333333333333,
           "#31688e"
          ],
          [
           0.4444444444444444,
           "#26828e"
          ],
          [
           0.5555555555555556,
           "#1f9e89"
          ],
          [
           0.6666666666666666,
           "#35b779"
          ],
          [
           0.7777777777777778,
           "#6ece58"
          ],
          [
           0.8888888888888888,
           "#b5de2b"
          ],
          [
           1,
           "#fde725"
          ]
         ],
         "scene": "scene7",
         "showscale": false,
         "type": "surface",
         "x": [
          [
           1,
           1,
           1,
           1,
           1,
           1,
           1,
           1,
           1,
           1
          ],
          [
           2,
           2,
           2,
           2,
           2,
           2,
           2,
           2,
           2,
           2
          ],
          [
           3,
           3,
           3,
           3,
           3,
           3,
           3,
           3,
           3,
           3
          ],
          [
           4,
           4,
           4,
           4,
           4,
           4,
           4,
           4,
           4,
           4
          ],
          [
           5,
           5,
           5,
           5,
           5,
           5,
           5,
           5,
           5,
           5
          ]
         ],
         "y": [
          [
           1,
           2,
           3,
           4,
           5,
           6,
           7,
           8,
           9,
           10
          ],
          [
           1,
           2,
           3,
           4,
           5,
           6,
           7,
           8,
           9,
           10
          ],
          [
           1,
           2,
           3,
           4,
           5,
           6,
           7,
           8,
           9,
           10
          ],
          [
           1,
           2,
           3,
           4,
           5,
           6,
           7,
           8,
           9,
           10
          ],
          [
           1,
           2,
           3,
           4,
           5,
           6,
           7,
           8,
           9,
           10
          ]
         ],
         "z": [
          [
           0.7996787819714071,
           0.7996787819714071,
           0.7996787819714071,
           0.7996787819714071,
           0.7996787819714071,
           0.7996787819714071,
           0.7996787819714071,
           0.7996787819714071,
           0.7996787819714071,
           0.7996787819714071
          ],
          [
           0.8560741430003206,
           0.9154207823150894,
           0.9036329177550855,
           0.9391272830917596,
           0.9395918183515664,
           0.9607369079746009,
           0.9691592189399065,
           0.9653313553935108,
           0.9658500603310529,
           0.9565816534155269
          ],
          [
           0.8840222985201008,
           0.9414850742371953,
           0.9587609689152973,
           0.9654466869424648,
           0.9745714669871407,
           0.9440264883048523,
           0.933111493796107,
           0.902014498753432,
           0.8409236216869916,
           0.7582993451829602
          ],
          [
           0.8985278681959873,
           0.9646677145257746,
           0.9864414932106432,
           0.9667182294322173,
           0.9219949262398831,
           0.833154065334032,
           0.7107542115023836,
           0.6708071765049312,
           0.6678725786192999,
           0.7135644367996372
          ],
          [
           0.9185001685070867,
           0.981816990672008,
           0.970586428207789,
           0.901196009284962,
           0.7529765699806157,
           0.6598517832593882,
           0.6801312136688819,
           0.7716921715786591,
           0.8646955541574864,
           0.9038696171617484
          ]
         ]
        },
        {
         "colorscale": [
          [
           0,
           "#440154"
          ],
          [
           0.1111111111111111,
           "#482878"
          ],
          [
           0.2222222222222222,
           "#3e4989"
          ],
          [
           0.3333333333333333,
           "#31688e"
          ],
          [
           0.4444444444444444,
           "#26828e"
          ],
          [
           0.5555555555555556,
           "#1f9e89"
          ],
          [
           0.6666666666666666,
           "#35b779"
          ],
          [
           0.7777777777777778,
           "#6ece58"
          ],
          [
           0.8888888888888888,
           "#b5de2b"
          ],
          [
           1,
           "#fde725"
          ]
         ],
         "scene": "scene8",
         "showscale": false,
         "type": "surface",
         "x": [
          [
           1,
           1,
           1,
           1,
           1,
           1,
           1,
           1,
           1,
           1
          ],
          [
           2,
           2,
           2,
           2,
           2,
           2,
           2,
           2,
           2,
           2
          ],
          [
           3,
           3,
           3,
           3,
           3,
           3,
           3,
           3,
           3,
           3
          ],
          [
           4,
           4,
           4,
           4,
           4,
           4,
           4,
           4,
           4,
           4
          ],
          [
           5,
           5,
           5,
           5,
           5,
           5,
           5,
           5,
           5,
           5
          ]
         ],
         "y": [
          [
           1,
           2,
           3,
           4,
           5,
           6,
           7,
           8,
           9,
           10
          ],
          [
           1,
           2,
           3,
           4,
           5,
           6,
           7,
           8,
           9,
           10
          ],
          [
           1,
           2,
           3,
           4,
           5,
           6,
           7,
           8,
           9,
           10
          ],
          [
           1,
           2,
           3,
           4,
           5,
           6,
           7,
           8,
           9,
           10
          ],
          [
           1,
           2,
           3,
           4,
           5,
           6,
           7,
           8,
           9,
           10
          ]
         ],
         "z": [
          [
           0.7965583485410186,
           0.7965583485410186,
           0.7965583485410186,
           0.7965583485410186,
           0.7965583485410186,
           0.7965583485410186,
           0.7965583485410186,
           0.7965583485410186,
           0.7965583485410186,
           0.7965583485410186
          ],
          [
           0.8648517957514683,
           0.870826617493231,
           0.9225326517335413,
           0.942142418168678,
           0.9450913664615819,
           0.9577989701147802,
           0.9579210150028146,
           0.9583438387992996,
           0.9586477028837064,
           0.9495671442373113
          ],
          [
           0.8660099702214691,
           0.9257313295585708,
           0.9569629513316122,
           0.9670106715096259,
           0.9543444263168084,
           0.9555832342583854,
           0.9469206407625106,
           0.9125797349789142,
           0.8507386588839023,
           0.7841964118985242
          ],
          [
           0.8912578530494345,
           0.9530029741956579,
           0.9650426827878973,
           0.9571745263486219,
           0.9327914007020556,
           0.8513937314190286,
           0.7411462180390932,
           0.6768356250671503,
           0.6756794710495523,
           0.7269979404635011
          ],
          [
           0.8967861155511178,
           0.9632248215493164,
           0.9590592389694549,
           0.9048232041280009,
           0.7643489528083762,
           0.6700075655234743,
           0.6877767366770091,
           0.7757247399919195,
           0.8695503102031039,
           0.9086699069967462
          ]
         ]
        },
        {
         "colorscale": [
          [
           0,
           "#440154"
          ],
          [
           0.1111111111111111,
           "#482878"
          ],
          [
           0.2222222222222222,
           "#3e4989"
          ],
          [
           0.3333333333333333,
           "#31688e"
          ],
          [
           0.4444444444444444,
           "#26828e"
          ],
          [
           0.5555555555555556,
           "#1f9e89"
          ],
          [
           0.6666666666666666,
           "#35b779"
          ],
          [
           0.7777777777777778,
           "#6ece58"
          ],
          [
           0.8888888888888888,
           "#b5de2b"
          ],
          [
           1,
           "#fde725"
          ]
         ],
         "scene": "scene9",
         "showscale": false,
         "type": "surface",
         "x": [
          [
           1,
           1,
           1,
           1,
           1,
           1,
           1,
           1,
           1,
           1
          ],
          [
           2,
           2,
           2,
           2,
           2,
           2,
           2,
           2,
           2,
           2
          ],
          [
           3,
           3,
           3,
           3,
           3,
           3,
           3,
           3,
           3,
           3
          ],
          [
           4,
           4,
           4,
           4,
           4,
           4,
           4,
           4,
           4,
           4
          ],
          [
           5,
           5,
           5,
           5,
           5,
           5,
           5,
           5,
           5,
           5
          ]
         ],
         "y": [
          [
           1,
           2,
           3,
           4,
           5,
           6,
           7,
           8,
           9,
           10
          ],
          [
           1,
           2,
           3,
           4,
           5,
           6,
           7,
           8,
           9,
           10
          ],
          [
           1,
           2,
           3,
           4,
           5,
           6,
           7,
           8,
           9,
           10
          ],
          [
           1,
           2,
           3,
           4,
           5,
           6,
           7,
           8,
           9,
           10
          ],
          [
           1,
           2,
           3,
           4,
           5,
           6,
           7,
           8,
           9,
           10
          ]
         ],
         "z": [
          [
           0.5681322841335077,
           0.5681322841335077,
           0.5681322841335077,
           0.5681322841335077,
           0.5681322841335077,
           0.5681322841335077,
           0.5681322841335077,
           0.5681322841335077,
           0.5681322841335077,
           0.5681322841335077
          ],
          [
           0.6856621979703534,
           0.7522217621905025,
           0.7334573351274012,
           0.7913251724298545,
           0.7902628744135843,
           0.834794611410553,
           0.7865903646206523,
           0.8025748286938638,
           0.8811762715746334,
           0.8365508640518302
          ],
          [
           0.7529507412359094,
           0.7792251838032598,
           0.8645814034839706,
           0.8424563977127931,
           0.9051607730082898,
           0.911289300306117,
           0.8914357537946542,
           0.7626256620987156,
           0.7139248445732003,
           0.6347772666121992
          ],
          [
           0.7420031950195614,
           0.8596095560907994,
           0.9285321969419588,
           0.9335924069433348,
           0.8723818419630804,
           0.759881474894219,
           0.6586681309154866,
           0.589848085521015,
           0.6324175998744668,
           0.6887100616051323
          ],
          [
           0.7611133460187527,
           0.8815608399482029,
           0.9451050229018743,
           0.8325291694742569,
           0.6754913175450136,
           0.6036876123571394,
           0.6319807411685642,
           0.7388066071309445,
           0.8465486396131162,
           0.9106817293022086
          ]
         ]
        },
        {
         "colorscale": [
          [
           0,
           "#440154"
          ],
          [
           0.1111111111111111,
           "#482878"
          ],
          [
           0.2222222222222222,
           "#3e4989"
          ],
          [
           0.3333333333333333,
           "#31688e"
          ],
          [
           0.4444444444444444,
           "#26828e"
          ],
          [
           0.5555555555555556,
           "#1f9e89"
          ],
          [
           0.6666666666666666,
           "#35b779"
          ],
          [
           0.7777777777777778,
           "#6ece58"
          ],
          [
           0.8888888888888888,
           "#b5de2b"
          ],
          [
           1,
           "#fde725"
          ]
         ],
         "scene": "scene10",
         "showscale": false,
         "type": "surface",
         "x": [
          [
           1,
           1,
           1,
           1,
           1,
           1,
           1,
           1,
           1,
           1
          ],
          [
           2,
           2,
           2,
           2,
           2,
           2,
           2,
           2,
           2,
           2
          ],
          [
           3,
           3,
           3,
           3,
           3,
           3,
           3,
           3,
           3,
           3
          ],
          [
           4,
           4,
           4,
           4,
           4,
           4,
           4,
           4,
           4,
           4
          ],
          [
           5,
           5,
           5,
           5,
           5,
           5,
           5,
           5,
           5,
           5
          ]
         ],
         "y": [
          [
           1,
           2,
           3,
           4,
           5,
           6,
           7,
           8,
           9,
           10
          ],
          [
           1,
           2,
           3,
           4,
           5,
           6,
           7,
           8,
           9,
           10
          ],
          [
           1,
           2,
           3,
           4,
           5,
           6,
           7,
           8,
           9,
           10
          ],
          [
           1,
           2,
           3,
           4,
           5,
           6,
           7,
           8,
           9,
           10
          ],
          [
           1,
           2,
           3,
           4,
           5,
           6,
           7,
           8,
           9,
           10
          ]
         ],
         "z": [
          [
           0.8690391666400934,
           0.8690391666400934,
           0.8690391666400934,
           0.8690391666400934,
           0.8690391666400934,
           0.8690391666400934,
           0.8690391666400934,
           0.8690391666400934,
           0.8690391666400934,
           0.8690391666400934
          ],
          [
           0.9193107219925926,
           0.9577305368852844,
           0.9647721122763223,
           0.9666987605124191,
           0.9617028844642048,
           0.9670962012902851,
           0.9523464093351398,
           0.9725981222390057,
           0.9893866835597197,
           0.9896483267298427
          ],
          [
           0.947225394231282,
           0.9588808533947907,
           0.9427818626009056,
           0.9359002608540982,
           0.9293623347793811,
           0.9531554596150557,
           0.9471304410388937,
           0.915400899926332,
           0.8566013469001079,
           0.7883865555191895
          ],
          [
           0.9479398993653214,
           0.9258635332045311,
           0.9094805552963161,
           0.9270312728132899,
           0.9218434822125803,
           0.8460086066015983,
           0.7446246618058282,
           0.6768717510713395,
           0.677742770141514,
           0.7269458834800329
          ],
          [
           0.9496758782426081,
           0.9062402185385602,
           0.9055579477493099,
           0.8991777652596644,
           0.7670843196596336,
           0.6706076307812976,
           0.6874748096240136,
           0.7762440505617746,
           0.8710768672512529,
           0.9098703390096816
          ]
         ]
        }
       ],
       "layout": {
        "annotations": [
         {
          "font": {
           "size": 16
          },
          "showarrow": false,
          "text": "Point 1: (lat=5, lon=130)",
          "x": 0.08399999999999999,
          "xanchor": "center",
          "xref": "paper",
          "y": 1,
          "yanchor": "bottom",
          "yref": "paper"
         },
         {
          "font": {
           "size": 16
          },
          "showarrow": false,
          "text": "Point 2: (lat=30, lon=52)",
          "x": 0.292,
          "xanchor": "center",
          "xref": "paper",
          "y": 1,
          "yanchor": "bottom",
          "yref": "paper"
         },
         {
          "font": {
           "size": 16
          },
          "showarrow": false,
          "text": "Point 3: (lat=12, lon=53)",
          "x": 0.5,
          "xanchor": "center",
          "xref": "paper",
          "y": 1,
          "yanchor": "bottom",
          "yref": "paper"
         },
         {
          "font": {
           "size": 16
          },
          "showarrow": false,
          "text": "Point 4: (lat=95, lon=6)",
          "x": 0.708,
          "xanchor": "center",
          "xref": "paper",
          "y": 1,
          "yanchor": "bottom",
          "yref": "paper"
         },
         {
          "font": {
           "size": 16
          },
          "showarrow": false,
          "text": "Point 5: (lat=88, lon=109)",
          "x": 0.9159999999999999,
          "xanchor": "center",
          "xref": "paper",
          "y": 1,
          "yanchor": "bottom",
          "yref": "paper"
         },
         {
          "font": {
           "size": 16
          },
          "showarrow": false,
          "text": "Point 6: (lat=76, lon=82)",
          "x": 0.08399999999999999,
          "xanchor": "center",
          "xref": "paper",
          "y": 0.375,
          "yanchor": "bottom",
          "yref": "paper"
         },
         {
          "font": {
           "size": 16
          },
          "showarrow": false,
          "text": "Point 7: (lat=91, lon=112)",
          "x": 0.292,
          "xanchor": "center",
          "xref": "paper",
          "y": 0.375,
          "yanchor": "bottom",
          "yref": "paper"
         },
         {
          "font": {
           "size": 16
          },
          "showarrow": false,
          "text": "Point 8: (lat=80, lon=19)",
          "x": 0.5,
          "xanchor": "center",
          "xref": "paper",
          "y": 0.375,
          "yanchor": "bottom",
          "yref": "paper"
         },
         {
          "font": {
           "size": 16
          },
          "showarrow": false,
          "text": "Point 9: (lat=2, lon=127)",
          "x": 0.708,
          "xanchor": "center",
          "xref": "paper",
          "y": 0.375,
          "yanchor": "bottom",
          "yref": "paper"
         },
         {
          "font": {
           "size": 16
          },
          "showarrow": false,
          "text": "Point 10: (lat=49, lon=70)",
          "x": 0.9159999999999999,
          "xanchor": "center",
          "xref": "paper",
          "y": 0.375,
          "yanchor": "bottom",
          "yref": "paper"
         }
        ],
        "height": 800,
        "scene": {
         "domain": {
          "x": [
           0,
           0.16799999999999998
          ],
          "y": [
           0.625,
           1
          ]
         },
         "xaxis": {
          "title": {
           "text": "E"
          }
         },
         "yaxis": {
          "title": {
           "text": "tau"
          }
         },
         "zaxis": {
          "title": {
           "text": "rho"
          }
         }
        },
        "scene10": {
         "domain": {
          "x": [
           0.832,
           1
          ],
          "y": [
           0,
           0.375
          ]
         }
        },
        "scene2": {
         "domain": {
          "x": [
           0.208,
           0.376
          ],
          "y": [
           0.625,
           1
          ]
         }
        },
        "scene3": {
         "domain": {
          "x": [
           0.416,
           0.584
          ],
          "y": [
           0.625,
           1
          ]
         }
        },
        "scene4": {
         "domain": {
          "x": [
           0.624,
           0.792
          ],
          "y": [
           0.625,
           1
          ]
         }
        },
        "scene5": {
         "domain": {
          "x": [
           0.832,
           1
          ],
          "y": [
           0.625,
           1
          ]
         }
        },
        "scene6": {
         "domain": {
          "x": [
           0,
           0.16799999999999998
          ],
          "y": [
           0,
           0.375
          ]
         }
        },
        "scene7": {
         "domain": {
          "x": [
           0.208,
           0.376
          ],
          "y": [
           0,
           0.375
          ]
         }
        },
        "scene8": {
         "domain": {
          "x": [
           0.416,
           0.584
          ],
          "y": [
           0,
           0.375
          ]
         }
        },
        "scene9": {
         "domain": {
          "x": [
           0.624,
           0.792
          ],
          "y": [
           0,
           0.375
          ]
         }
        },
        "template": {
         "data": {
          "bar": [
           {
            "error_x": {
             "color": "#2a3f5f"
            },
            "error_y": {
             "color": "#2a3f5f"
            },
            "marker": {
             "line": {
              "color": "#E5ECF6",
              "width": 0.5
             },
             "pattern": {
              "fillmode": "overlay",
              "size": 10,
              "solidity": 0.2
             }
            },
            "type": "bar"
           }
          ],
          "barpolar": [
           {
            "marker": {
             "line": {
              "color": "#E5ECF6",
              "width": 0.5
             },
             "pattern": {
              "fillmode": "overlay",
              "size": 10,
              "solidity": 0.2
             }
            },
            "type": "barpolar"
           }
          ],
          "carpet": [
           {
            "aaxis": {
             "endlinecolor": "#2a3f5f",
             "gridcolor": "white",
             "linecolor": "white",
             "minorgridcolor": "white",
             "startlinecolor": "#2a3f5f"
            },
            "baxis": {
             "endlinecolor": "#2a3f5f",
             "gridcolor": "white",
             "linecolor": "white",
             "minorgridcolor": "white",
             "startlinecolor": "#2a3f5f"
            },
            "type": "carpet"
           }
          ],
          "choropleth": [
           {
            "colorbar": {
             "outlinewidth": 0,
             "ticks": ""
            },
            "type": "choropleth"
           }
          ],
          "contour": [
           {
            "colorbar": {
             "outlinewidth": 0,
             "ticks": ""
            },
            "colorscale": [
             [
              0,
              "#0d0887"
             ],
             [
              0.1111111111111111,
              "#46039f"
             ],
             [
              0.2222222222222222,
              "#7201a8"
             ],
             [
              0.3333333333333333,
              "#9c179e"
             ],
             [
              0.4444444444444444,
              "#bd3786"
             ],
             [
              0.5555555555555556,
              "#d8576b"
             ],
             [
              0.6666666666666666,
              "#ed7953"
             ],
             [
              0.7777777777777778,
              "#fb9f3a"
             ],
             [
              0.8888888888888888,
              "#fdca26"
             ],
             [
              1,
              "#f0f921"
             ]
            ],
            "type": "contour"
           }
          ],
          "contourcarpet": [
           {
            "colorbar": {
             "outlinewidth": 0,
             "ticks": ""
            },
            "type": "contourcarpet"
           }
          ],
          "heatmap": [
           {
            "colorbar": {
             "outlinewidth": 0,
             "ticks": ""
            },
            "colorscale": [
             [
              0,
              "#0d0887"
             ],
             [
              0.1111111111111111,
              "#46039f"
             ],
             [
              0.2222222222222222,
              "#7201a8"
             ],
             [
              0.3333333333333333,
              "#9c179e"
             ],
             [
              0.4444444444444444,
              "#bd3786"
             ],
             [
              0.5555555555555556,
              "#d8576b"
             ],
             [
              0.6666666666666666,
              "#ed7953"
             ],
             [
              0.7777777777777778,
              "#fb9f3a"
             ],
             [
              0.8888888888888888,
              "#fdca26"
             ],
             [
              1,
              "#f0f921"
             ]
            ],
            "type": "heatmap"
           }
          ],
          "heatmapgl": [
           {
            "colorbar": {
             "outlinewidth": 0,
             "ticks": ""
            },
            "colorscale": [
             [
              0,
              "#0d0887"
             ],
             [
              0.1111111111111111,
              "#46039f"
             ],
             [
              0.2222222222222222,
              "#7201a8"
             ],
             [
              0.3333333333333333,
              "#9c179e"
             ],
             [
              0.4444444444444444,
              "#bd3786"
             ],
             [
              0.5555555555555556,
              "#d8576b"
             ],
             [
              0.6666666666666666,
              "#ed7953"
             ],
             [
              0.7777777777777778,
              "#fb9f3a"
             ],
             [
              0.8888888888888888,
              "#fdca26"
             ],
             [
              1,
              "#f0f921"
             ]
            ],
            "type": "heatmapgl"
           }
          ],
          "histogram": [
           {
            "marker": {
             "pattern": {
              "fillmode": "overlay",
              "size": 10,
              "solidity": 0.2
             }
            },
            "type": "histogram"
           }
          ],
          "histogram2d": [
           {
            "colorbar": {
             "outlinewidth": 0,
             "ticks": ""
            },
            "colorscale": [
             [
              0,
              "#0d0887"
             ],
             [
              0.1111111111111111,
              "#46039f"
             ],
             [
              0.2222222222222222,
              "#7201a8"
             ],
             [
              0.3333333333333333,
              "#9c179e"
             ],
             [
              0.4444444444444444,
              "#bd3786"
             ],
             [
              0.5555555555555556,
              "#d8576b"
             ],
             [
              0.6666666666666666,
              "#ed7953"
             ],
             [
              0.7777777777777778,
              "#fb9f3a"
             ],
             [
              0.8888888888888888,
              "#fdca26"
             ],
             [
              1,
              "#f0f921"
             ]
            ],
            "type": "histogram2d"
           }
          ],
          "histogram2dcontour": [
           {
            "colorbar": {
             "outlinewidth": 0,
             "ticks": ""
            },
            "colorscale": [
             [
              0,
              "#0d0887"
             ],
             [
              0.1111111111111111,
              "#46039f"
             ],
             [
              0.2222222222222222,
              "#7201a8"
             ],
             [
              0.3333333333333333,
              "#9c179e"
             ],
             [
              0.4444444444444444,
              "#bd3786"
             ],
             [
              0.5555555555555556,
              "#d8576b"
             ],
             [
              0.6666666666666666,
              "#ed7953"
             ],
             [
              0.7777777777777778,
              "#fb9f3a"
             ],
             [
              0.8888888888888888,
              "#fdca26"
             ],
             [
              1,
              "#f0f921"
             ]
            ],
            "type": "histogram2dcontour"
           }
          ],
          "mesh3d": [
           {
            "colorbar": {
             "outlinewidth": 0,
             "ticks": ""
            },
            "type": "mesh3d"
           }
          ],
          "parcoords": [
           {
            "line": {
             "colorbar": {
              "outlinewidth": 0,
              "ticks": ""
             }
            },
            "type": "parcoords"
           }
          ],
          "pie": [
           {
            "automargin": true,
            "type": "pie"
           }
          ],
          "scatter": [
           {
            "fillpattern": {
             "fillmode": "overlay",
             "size": 10,
             "solidity": 0.2
            },
            "type": "scatter"
           }
          ],
          "scatter3d": [
           {
            "line": {
             "colorbar": {
              "outlinewidth": 0,
              "ticks": ""
             }
            },
            "marker": {
             "colorbar": {
              "outlinewidth": 0,
              "ticks": ""
             }
            },
            "type": "scatter3d"
           }
          ],
          "scattercarpet": [
           {
            "marker": {
             "colorbar": {
              "outlinewidth": 0,
              "ticks": ""
             }
            },
            "type": "scattercarpet"
           }
          ],
          "scattergeo": [
           {
            "marker": {
             "colorbar": {
              "outlinewidth": 0,
              "ticks": ""
             }
            },
            "type": "scattergeo"
           }
          ],
          "scattergl": [
           {
            "marker": {
             "colorbar": {
              "outlinewidth": 0,
              "ticks": ""
             }
            },
            "type": "scattergl"
           }
          ],
          "scattermapbox": [
           {
            "marker": {
             "colorbar": {
              "outlinewidth": 0,
              "ticks": ""
             }
            },
            "type": "scattermapbox"
           }
          ],
          "scatterpolar": [
           {
            "marker": {
             "colorbar": {
              "outlinewidth": 0,
              "ticks": ""
             }
            },
            "type": "scatterpolar"
           }
          ],
          "scatterpolargl": [
           {
            "marker": {
             "colorbar": {
              "outlinewidth": 0,
              "ticks": ""
             }
            },
            "type": "scatterpolargl"
           }
          ],
          "scatterternary": [
           {
            "marker": {
             "colorbar": {
              "outlinewidth": 0,
              "ticks": ""
             }
            },
            "type": "scatterternary"
           }
          ],
          "surface": [
           {
            "colorbar": {
             "outlinewidth": 0,
             "ticks": ""
            },
            "colorscale": [
             [
              0,
              "#0d0887"
             ],
             [
              0.1111111111111111,
              "#46039f"
             ],
             [
              0.2222222222222222,
              "#7201a8"
             ],
             [
              0.3333333333333333,
              "#9c179e"
             ],
             [
              0.4444444444444444,
              "#bd3786"
             ],
             [
              0.5555555555555556,
              "#d8576b"
             ],
             [
              0.6666666666666666,
              "#ed7953"
             ],
             [
              0.7777777777777778,
              "#fb9f3a"
             ],
             [
              0.8888888888888888,
              "#fdca26"
             ],
             [
              1,
              "#f0f921"
             ]
            ],
            "type": "surface"
           }
          ],
          "table": [
           {
            "cells": {
             "fill": {
              "color": "#EBF0F8"
             },
             "line": {
              "color": "white"
             }
            },
            "header": {
             "fill": {
              "color": "#C8D4E3"
             },
             "line": {
              "color": "white"
             }
            },
            "type": "table"
           }
          ]
         },
         "layout": {
          "annotationdefaults": {
           "arrowcolor": "#2a3f5f",
           "arrowhead": 0,
           "arrowwidth": 1
          },
          "autotypenumbers": "strict",
          "coloraxis": {
           "colorbar": {
            "outlinewidth": 0,
            "ticks": ""
           }
          },
          "colorscale": {
           "diverging": [
            [
             0,
             "#8e0152"
            ],
            [
             0.1,
             "#c51b7d"
            ],
            [
             0.2,
             "#de77ae"
            ],
            [
             0.3,
             "#f1b6da"
            ],
            [
             0.4,
             "#fde0ef"
            ],
            [
             0.5,
             "#f7f7f7"
            ],
            [
             0.6,
             "#e6f5d0"
            ],
            [
             0.7,
             "#b8e186"
            ],
            [
             0.8,
             "#7fbc41"
            ],
            [
             0.9,
             "#4d9221"
            ],
            [
             1,
             "#276419"
            ]
           ],
           "sequential": [
            [
             0,
             "#0d0887"
            ],
            [
             0.1111111111111111,
             "#46039f"
            ],
            [
             0.2222222222222222,
             "#7201a8"
            ],
            [
             0.3333333333333333,
             "#9c179e"
            ],
            [
             0.4444444444444444,
             "#bd3786"
            ],
            [
             0.5555555555555556,
             "#d8576b"
            ],
            [
             0.6666666666666666,
             "#ed7953"
            ],
            [
             0.7777777777777778,
             "#fb9f3a"
            ],
            [
             0.8888888888888888,
             "#fdca26"
            ],
            [
             1,
             "#f0f921"
            ]
           ],
           "sequentialminus": [
            [
             0,
             "#0d0887"
            ],
            [
             0.1111111111111111,
             "#46039f"
            ],
            [
             0.2222222222222222,
             "#7201a8"
            ],
            [
             0.3333333333333333,
             "#9c179e"
            ],
            [
             0.4444444444444444,
             "#bd3786"
            ],
            [
             0.5555555555555556,
             "#d8576b"
            ],
            [
             0.6666666666666666,
             "#ed7953"
            ],
            [
             0.7777777777777778,
             "#fb9f3a"
            ],
            [
             0.8888888888888888,
             "#fdca26"
            ],
            [
             1,
             "#f0f921"
            ]
           ]
          },
          "colorway": [
           "#636efa",
           "#EF553B",
           "#00cc96",
           "#ab63fa",
           "#FFA15A",
           "#19d3f3",
           "#FF6692",
           "#B6E880",
           "#FF97FF",
           "#FECB52"
          ],
          "font": {
           "color": "#2a3f5f"
          },
          "geo": {
           "bgcolor": "white",
           "lakecolor": "white",
           "landcolor": "#E5ECF6",
           "showlakes": true,
           "showland": true,
           "subunitcolor": "white"
          },
          "hoverlabel": {
           "align": "left"
          },
          "hovermode": "closest",
          "mapbox": {
           "style": "light"
          },
          "paper_bgcolor": "white",
          "plot_bgcolor": "#E5ECF6",
          "polar": {
           "angularaxis": {
            "gridcolor": "white",
            "linecolor": "white",
            "ticks": ""
           },
           "bgcolor": "#E5ECF6",
           "radialaxis": {
            "gridcolor": "white",
            "linecolor": "white",
            "ticks": ""
           }
          },
          "scene": {
           "xaxis": {
            "backgroundcolor": "#E5ECF6",
            "gridcolor": "white",
            "gridwidth": 2,
            "linecolor": "white",
            "showbackground": true,
            "ticks": "",
            "zerolinecolor": "white"
           },
           "yaxis": {
            "backgroundcolor": "#E5ECF6",
            "gridcolor": "white",
            "gridwidth": 2,
            "linecolor": "white",
            "showbackground": true,
            "ticks": "",
            "zerolinecolor": "white"
           },
           "zaxis": {
            "backgroundcolor": "#E5ECF6",
            "gridcolor": "white",
            "gridwidth": 2,
            "linecolor": "white",
            "showbackground": true,
            "ticks": "",
            "zerolinecolor": "white"
           }
          },
          "shapedefaults": {
           "line": {
            "color": "#2a3f5f"
           }
          },
          "ternary": {
           "aaxis": {
            "gridcolor": "white",
            "linecolor": "white",
            "ticks": ""
           },
           "baxis": {
            "gridcolor": "white",
            "linecolor": "white",
            "ticks": ""
           },
           "bgcolor": "#E5ECF6",
           "caxis": {
            "gridcolor": "white",
            "linecolor": "white",
            "ticks": ""
           }
          },
          "title": {
           "x": 0.05
          },
          "xaxis": {
           "automargin": true,
           "gridcolor": "white",
           "linecolor": "white",
           "ticks": "",
           "title": {
            "standoff": 15
           },
           "zerolinecolor": "white",
           "zerolinewidth": 2
          },
          "yaxis": {
           "automargin": true,
           "gridcolor": "white",
           "linecolor": "white",
           "ticks": "",
           "title": {
            "standoff": 15
           },
           "zerolinecolor": "white",
           "zerolinewidth": 2
          }
         }
        },
        "title": {
         "text": "EmbedDimension scan of E in [1..5], tau in [1..10] (Tp = tau)"
        },
        "width": 1400
       }
      }
     },
     "metadata": {},
     "output_type": "display_data"
    }
   ],
   "source": [
    "import xarray as xr\n",
    "import pandas as pd\n",
    "import numpy as np\n",
    "import random\n",
    "\n",
    "import plotly.graph_objects as go\n",
    "from plotly.subplots import make_subplots\n",
    "\n",
    "from pyEDM import EmbedDimension\n",
    "\n",
    "\n",
    "# assert ds_sat.sizes[\"age\"] == len(df_pre), (\n",
    "#     \"ds_sat age dimension must match length of precession time series.\"\n",
    "# )\n",
    "\n",
    "\n",
    "# Grab coordinate sizes\n",
    "nlat = ds_sat.sizes[\"lat\"]\n",
    "nlon = ds_sat.sizes[\"lon\"]\n",
    "ages = ds_sat[\"age\"].values  # not strictly needed but good to keep track\n",
    "\n",
    "# ---------------------------------------------------------------------\n",
    "# 2. Randomly select 10 (lat, lon) grid points\n",
    "# ---------------------------------------------------------------------\n",
    "all_pairs = [(ilat, ilon) for ilat in range(nlat) for ilon in range(nlon)]\n",
    "random_pairs = random.sample(all_pairs, 10)  # pick 10 unique (ilat, ilon)\n",
    "\n",
    "\n",
    "\n",
    "results_list = []  # will be a list of (ilat, ilon, Evals, Tauvals, RhoMatrix)\n",
    "\n",
    "for idx, (ilat, ilon) in enumerate(random_pairs):\n",
    "    # Extract local sat time series\n",
    "    sat_ts = ds_sat[\"sat\"].isel(lat=ilat, lon=ilon).values\n",
    "\n",
    "    df_tmp = pd.DataFrame({\n",
    "        \"Time\": ages,\n",
    "        \"pre\": df_pre[\"pre\"],  # predictor\n",
    "        \"sat\": sat_ts          # target to predict\n",
    "    })\n",
    "\n",
    "    # We'll store a 2D array of shape (5,10) for E=1..5, tau=1..10\n",
    "    # Accessed as RhoMatrix[E-1, tau-1].\n",
    "    RhoMatrix = np.zeros((5, 10))\n",
    "\n",
    "    # For each tau in 1..10, call EmbedDimension once with maxE=5 and Tp=tau\n",
    "    for tau in range(1, 11):\n",
    "        edm_out = EmbedDimension(\n",
    "            dataFrame=df_tmp,\n",
    "            columns=\"sat\",\n",
    "            target=\"pre\",\n",
    "            maxE=5,          # We'll evaluate E=1..5\n",
    "            tau=tau,\n",
    "            Tp=7,\n",
    "            lib=\"1 120\",     # Entire time series, adapt if needed\n",
    "            pred=\"1 120\",\n",
    "            showPlot=False,  # We'll handle plotting ourselves\n",
    "            # If you want to speed up or parallelize, you can set numThreads or numProcess\n",
    "        )\n",
    "\n",
    "        for e_row in edm_out.itertuples():\n",
    "            e_val = e_row.E     # 1..5\n",
    "            # print(e_val)\n",
    "            rho_val = e_row.rho\n",
    "            RhoMatrix[int(e_val - 1), int(tau - 1)] = rho_val\n",
    "\n",
    "    # We'll store the axis values for plotting (note: we want these in 2D for a surface plot).\n",
    "    E_axis = np.arange(1, 6)     # 1..5\n",
    "    Tau_axis = np.arange(1, 11)  # 1..10\n",
    "\n",
    "    # Save the result for this grid point\n",
    "    results_list.append((ilat, ilon, E_axis, Tau_axis, RhoMatrix))\n",
    "\n",
    "# ---------------------------------------------------------------------\n",
    "# 4. Make a 3D surface plot for each of the 10 results\n",
    "#    using Plotly subplots\n",
    "# ---------------------------------------------------------------------\n",
    "\n",
    "# We'll do 2 rows, 5 columns of 3D subplots\n",
    "fig = make_subplots(\n",
    "    rows=2, cols=5,\n",
    "    specs=[\n",
    "        [{\"type\": \"surface\"}]*5,\n",
    "        [{\"type\": \"surface\"}]*5\n",
    "    ],\n",
    "    subplot_titles=[f\"Point {i+1}: (lat={r[0]}, lon={r[1]})\" for i, r in enumerate(results_list)]\n",
    ")\n",
    "\n",
    "for i, (ilat, ilon, E_axis, Tau_axis, RhoMatrix) in enumerate(results_list):\n",
    "\n",
    "    E_grid, Tau_grid = np.meshgrid(E_axis, Tau_axis, indexing='ij')\n",
    "\n",
    "    row = (i // 5) + 1\n",
    "    col = (i % 5) + 1\n",
    "\n",
    "    # Create the surface trace\n",
    "    surf = go.Surface(\n",
    "        x=E_grid,       # E dimension\n",
    "        y=Tau_grid,     # tau dimension\n",
    "        z=RhoMatrix,    # rho\n",
    "        colorscale=\"Viridis\",   # or any Plotly colormap you like\n",
    "        showscale=False         # hide colorbar in subplots for neatness\n",
    "    )\n",
    "    fig.add_trace(surf, row=row, col=col)\n",
    "\n",
    "# Update overall layout\n",
    "fig.update_layout(\n",
    "    height=800, width=1400,\n",
    "    title=\"EmbedDimension scan of E in [1..5], tau in [1..10] (Tp = tau)\",\n",
    "    scene=dict(\n",
    "        xaxis_title=\"E\",\n",
    "        yaxis_title=\"tau\",\n",
    "        zaxis_title=\"rho\"\n",
    "    ),\n",
    "    # If you prefer separate axis labels per subplot, you can set them individually\n",
    "    # with fig.update_xaxes(..., row=?, col=?)\n",
    ")\n",
    "\n",
    "fig.show()\n"
   ]
  },
  {
   "cell_type": "code",
   "execution_count": 15,
   "metadata": {},
   "outputs": [
    {
     "name": "stderr",
     "output_type": "stream",
     "text": [
      "d:\\Users\\User\\anaconda3\\envs\\pz_venv_causal\\lib\\site-packages\\xarray\\coding\\variables.py:147: FutureWarning:\n",
      "\n",
      "elementwise comparison failed; returning scalar instead, but in the future will perform elementwise comparison\n",
      "\n",
      "d:\\Users\\User\\anaconda3\\envs\\pz_venv_causal\\lib\\site-packages\\xarray\\coding\\variables.py:147: FutureWarning:\n",
      "\n",
      "elementwise comparison failed; returning scalar instead, but in the future will perform elementwise comparison\n",
      "\n",
      "d:\\Users\\User\\anaconda3\\envs\\pz_venv_causal\\lib\\site-packages\\xarray\\coding\\variables.py:147: FutureWarning:\n",
      "\n",
      "elementwise comparison failed; returning scalar instead, but in the future will perform elementwise comparison\n",
      "\n",
      "d:\\Users\\User\\anaconda3\\envs\\pz_venv_causal\\lib\\site-packages\\xarray\\coding\\variables.py:147: FutureWarning:\n",
      "\n",
      "elementwise comparison failed; returning scalar instead, but in the future will perform elementwise comparison\n",
      "\n",
      "d:\\Users\\User\\anaconda3\\envs\\pz_venv_causal\\lib\\site-packages\\xarray\\coding\\variables.py:147: FutureWarning:\n",
      "\n",
      "elementwise comparison failed; returning scalar instead, but in the future will perform elementwise comparison\n",
      "\n",
      "d:\\Users\\User\\anaconda3\\envs\\pz_venv_causal\\lib\\site-packages\\xarray\\coding\\variables.py:147: FutureWarning:\n",
      "\n",
      "elementwise comparison failed; returning scalar instead, but in the future will perform elementwise comparison\n",
      "\n",
      "d:\\Users\\User\\anaconda3\\envs\\pz_venv_causal\\lib\\site-packages\\xarray\\coding\\variables.py:147: FutureWarning:\n",
      "\n",
      "elementwise comparison failed; returning scalar instead, but in the future will perform elementwise comparison\n",
      "\n",
      "d:\\Users\\User\\anaconda3\\envs\\pz_venv_causal\\lib\\site-packages\\xarray\\coding\\variables.py:147: FutureWarning:\n",
      "\n",
      "elementwise comparison failed; returning scalar instead, but in the future will perform elementwise comparison\n",
      "\n",
      "d:\\Users\\User\\anaconda3\\envs\\pz_venv_causal\\lib\\site-packages\\xarray\\coding\\variables.py:147: FutureWarning:\n",
      "\n",
      "elementwise comparison failed; returning scalar instead, but in the future will perform elementwise comparison\n",
      "\n",
      "d:\\Users\\User\\anaconda3\\envs\\pz_venv_causal\\lib\\site-packages\\xarray\\coding\\variables.py:147: FutureWarning:\n",
      "\n",
      "elementwise comparison failed; returning scalar instead, but in the future will perform elementwise comparison\n",
      "\n"
     ]
    },
    {
     "data": {
      "application/vnd.plotly.v1+json": {
       "config": {
        "plotlyServerURL": "https://plot.ly"
       },
       "data": [
        {
         "colorscale": [
          [
           0,
           "#440154"
          ],
          [
           0.1111111111111111,
           "#482878"
          ],
          [
           0.2222222222222222,
           "#3e4989"
          ],
          [
           0.3333333333333333,
           "#31688e"
          ],
          [
           0.4444444444444444,
           "#26828e"
          ],
          [
           0.5555555555555556,
           "#1f9e89"
          ],
          [
           0.6666666666666666,
           "#35b779"
          ],
          [
           0.7777777777777778,
           "#6ece58"
          ],
          [
           0.8888888888888888,
           "#b5de2b"
          ],
          [
           1,
           "#fde725"
          ]
         ],
         "scene": "scene",
         "showscale": false,
         "type": "surface",
         "x": [
          [
           1,
           1,
           1,
           1,
           1,
           1,
           1,
           1,
           1,
           1
          ],
          [
           2,
           2,
           2,
           2,
           2,
           2,
           2,
           2,
           2,
           2
          ],
          [
           3,
           3,
           3,
           3,
           3,
           3,
           3,
           3,
           3,
           3
          ],
          [
           4,
           4,
           4,
           4,
           4,
           4,
           4,
           4,
           4,
           4
          ],
          [
           5,
           5,
           5,
           5,
           5,
           5,
           5,
           5,
           5,
           5
          ]
         ],
         "y": [
          [
           1,
           2,
           3,
           4,
           5,
           6,
           7,
           8,
           9,
           10
          ],
          [
           1,
           2,
           3,
           4,
           5,
           6,
           7,
           8,
           9,
           10
          ],
          [
           1,
           2,
           3,
           4,
           5,
           6,
           7,
           8,
           9,
           10
          ],
          [
           1,
           2,
           3,
           4,
           5,
           6,
           7,
           8,
           9,
           10
          ],
          [
           1,
           2,
           3,
           4,
           5,
           6,
           7,
           8,
           9,
           10
          ]
         ],
         "z": [
          [
           0.48059103843205264,
           0.48059103843205264,
           0.48059103843205264,
           0.48059103843205264,
           0.48059103843205264,
           0.48059103843205264,
           0.48059103843205264,
           0.48059103843205264,
           0.48059103843205264,
           0.48059103843205264
          ],
          [
           0.5900212026906682,
           0.7482288787041345,
           0.7955976117183889,
           0.7750862992843925,
           0.7923688683762687,
           0.7934237690956097,
           0.8051039284025066,
           0.7332520418377827,
           0.8174169193481752,
           0.8239766177856738
          ],
          [
           0.692744918469668,
           0.7799774151491251,
           0.8221309497968013,
           0.8605804319080818,
           0.9034139617242618,
           0.9012419487439686,
           0.9439959687689756,
           0.8861967054016046,
           0.9060340566733096,
           0.8916461261769739
          ],
          [
           0.7709870217574967,
           0.8249995926252237,
           0.8960378914144487,
           0.9269218630735304,
           0.9455538992783022,
           0.910185413050653,
           0.8701551606867328,
           0.848652330346261,
           0.8583546329501136,
           0.8905467360424164
          ],
          [
           0.8061370045356856,
           0.8558168065037345,
           0.9362266333199938,
           0.9269319871729564,
           0.8827639609976639,
           0.843029788084448,
           0.8669227418951092,
           0.920462856828597,
           0.9626925476530044,
           0.9625464996440471
          ]
         ]
        },
        {
         "colorscale": [
          [
           0,
           "#440154"
          ],
          [
           0.1111111111111111,
           "#482878"
          ],
          [
           0.2222222222222222,
           "#3e4989"
          ],
          [
           0.3333333333333333,
           "#31688e"
          ],
          [
           0.4444444444444444,
           "#26828e"
          ],
          [
           0.5555555555555556,
           "#1f9e89"
          ],
          [
           0.6666666666666666,
           "#35b779"
          ],
          [
           0.7777777777777778,
           "#6ece58"
          ],
          [
           0.8888888888888888,
           "#b5de2b"
          ],
          [
           1,
           "#fde725"
          ]
         ],
         "scene": "scene2",
         "showscale": false,
         "type": "surface",
         "x": [
          [
           1,
           1,
           1,
           1,
           1,
           1,
           1,
           1,
           1,
           1
          ],
          [
           2,
           2,
           2,
           2,
           2,
           2,
           2,
           2,
           2,
           2
          ],
          [
           3,
           3,
           3,
           3,
           3,
           3,
           3,
           3,
           3,
           3
          ],
          [
           4,
           4,
           4,
           4,
           4,
           4,
           4,
           4,
           4,
           4
          ],
          [
           5,
           5,
           5,
           5,
           5,
           5,
           5,
           5,
           5,
           5
          ]
         ],
         "y": [
          [
           1,
           2,
           3,
           4,
           5,
           6,
           7,
           8,
           9,
           10
          ],
          [
           1,
           2,
           3,
           4,
           5,
           6,
           7,
           8,
           9,
           10
          ],
          [
           1,
           2,
           3,
           4,
           5,
           6,
           7,
           8,
           9,
           10
          ],
          [
           1,
           2,
           3,
           4,
           5,
           6,
           7,
           8,
           9,
           10
          ],
          [
           1,
           2,
           3,
           4,
           5,
           6,
           7,
           8,
           9,
           10
          ]
         ],
         "z": [
          [
           0.7517801795041609,
           0.7517801795041609,
           0.7517801795041609,
           0.7517801795041609,
           0.7517801795041609,
           0.7517801795041609,
           0.7517801795041609,
           0.7517801795041609,
           0.7517801795041609,
           0.7517801795041609
          ],
          [
           0.8982273240971517,
           0.9814738966968601,
           0.9950101817060619,
           0.9981935817193907,
           0.9978846502459802,
           0.9970595404046194,
           0.9955684246990091,
           0.995285873837572,
           0.9943510789106542,
           0.9929218545752903
          ],
          [
           0.9586491833398701,
           0.9968585242550979,
           0.999003860853299,
           0.9979179079694502,
           0.9954759879676658,
           0.9888209331406624,
           0.9759943326590765,
           0.9533817180766712,
           0.9257875971538372,
           0.8954833159636938
          ],
          [
           0.9716352843909187,
           0.998854617567321,
           0.9969779169704678,
           0.9883546337874675,
           0.9641089989258036,
           0.9201973589999187,
           0.8751659333629098,
           0.8491749061478657,
           0.8584537485149334,
           0.8920771321752948
          ],
          [
           0.9824110142715371,
           0.9977092422220102,
           0.9871816889273914,
           0.9473342425174491,
           0.8852351064474627,
           0.8466647558482453,
           0.8668194595611826,
           0.920494774073808,
           0.9634210203207713,
           0.9619345290564436
          ]
         ]
        },
        {
         "colorscale": [
          [
           0,
           "#440154"
          ],
          [
           0.1111111111111111,
           "#482878"
          ],
          [
           0.2222222222222222,
           "#3e4989"
          ],
          [
           0.3333333333333333,
           "#31688e"
          ],
          [
           0.4444444444444444,
           "#26828e"
          ],
          [
           0.5555555555555556,
           "#1f9e89"
          ],
          [
           0.6666666666666666,
           "#35b779"
          ],
          [
           0.7777777777777778,
           "#6ece58"
          ],
          [
           0.8888888888888888,
           "#b5de2b"
          ],
          [
           1,
           "#fde725"
          ]
         ],
         "scene": "scene3",
         "showscale": false,
         "type": "surface",
         "x": [
          [
           1,
           1,
           1,
           1,
           1,
           1,
           1,
           1,
           1,
           1
          ],
          [
           2,
           2,
           2,
           2,
           2,
           2,
           2,
           2,
           2,
           2
          ],
          [
           3,
           3,
           3,
           3,
           3,
           3,
           3,
           3,
           3,
           3
          ],
          [
           4,
           4,
           4,
           4,
           4,
           4,
           4,
           4,
           4,
           4
          ],
          [
           5,
           5,
           5,
           5,
           5,
           5,
           5,
           5,
           5,
           5
          ]
         ],
         "y": [
          [
           1,
           2,
           3,
           4,
           5,
           6,
           7,
           8,
           9,
           10
          ],
          [
           1,
           2,
           3,
           4,
           5,
           6,
           7,
           8,
           9,
           10
          ],
          [
           1,
           2,
           3,
           4,
           5,
           6,
           7,
           8,
           9,
           10
          ],
          [
           1,
           2,
           3,
           4,
           5,
           6,
           7,
           8,
           9,
           10
          ],
          [
           1,
           2,
           3,
           4,
           5,
           6,
           7,
           8,
           9,
           10
          ]
         ],
         "z": [
          [
           0.8162061203024915,
           0.8162061203024915,
           0.8162061203024915,
           0.8162061203024915,
           0.8162061203024915,
           0.8162061203024915,
           0.8162061203024915,
           0.8162061203024915,
           0.8162061203024915,
           0.8162061203024915
          ],
          [
           0.904242214443731,
           0.9677382148078619,
           0.9907089750540741,
           0.9975408455624158,
           0.9985927680585426,
           0.9982002589682734,
           0.9970879303981902,
           0.9964780902174697,
           0.9956039622213301,
           0.9947573919304662
          ],
          [
           0.950044520664936,
           0.9941141291059306,
           0.9992957172505923,
           0.9984243002013246,
           0.9956343791517918,
           0.9884964022537197,
           0.9713712493289052,
           0.9463382231108085,
           0.924791821675516,
           0.8922693375164658
          ],
          [
           0.968115486518145,
           0.9986158464809745,
           0.9971477817948449,
           0.988560004453054,
           0.9632484744326288,
           0.9181855637857425,
           0.8758832245439373,
           0.8413369569735962,
           0.858467666189001,
           0.8955313691214875
          ],
          [
           0.9800233571054793,
           0.9982231511795813,
           0.9879573426361762,
           0.9447096793413574,
           0.8841235102983194,
           0.8413218150958248,
           0.866105670521942,
           0.9212516904587675,
           0.9635375423149964,
           0.9611675297228887
          ]
         ]
        },
        {
         "colorscale": [
          [
           0,
           "#440154"
          ],
          [
           0.1111111111111111,
           "#482878"
          ],
          [
           0.2222222222222222,
           "#3e4989"
          ],
          [
           0.3333333333333333,
           "#31688e"
          ],
          [
           0.4444444444444444,
           "#26828e"
          ],
          [
           0.5555555555555556,
           "#1f9e89"
          ],
          [
           0.6666666666666666,
           "#35b779"
          ],
          [
           0.7777777777777778,
           "#6ece58"
          ],
          [
           0.8888888888888888,
           "#b5de2b"
          ],
          [
           1,
           "#fde725"
          ]
         ],
         "scene": "scene4",
         "showscale": false,
         "type": "surface",
         "x": [
          [
           1,
           1,
           1,
           1,
           1,
           1,
           1,
           1,
           1,
           1
          ],
          [
           2,
           2,
           2,
           2,
           2,
           2,
           2,
           2,
           2,
           2
          ],
          [
           3,
           3,
           3,
           3,
           3,
           3,
           3,
           3,
           3,
           3
          ],
          [
           4,
           4,
           4,
           4,
           4,
           4,
           4,
           4,
           4,
           4
          ],
          [
           5,
           5,
           5,
           5,
           5,
           5,
           5,
           5,
           5,
           5
          ]
         ],
         "y": [
          [
           1,
           2,
           3,
           4,
           5,
           6,
           7,
           8,
           9,
           10
          ],
          [
           1,
           2,
           3,
           4,
           5,
           6,
           7,
           8,
           9,
           10
          ],
          [
           1,
           2,
           3,
           4,
           5,
           6,
           7,
           8,
           9,
           10
          ],
          [
           1,
           2,
           3,
           4,
           5,
           6,
           7,
           8,
           9,
           10
          ],
          [
           1,
           2,
           3,
           4,
           5,
           6,
           7,
           8,
           9,
           10
          ]
         ],
         "z": [
          [
           0.44996232341637876,
           0.44996232341637876,
           0.44996232341637876,
           0.44996232341637876,
           0.44996232341637876,
           0.44996232341637876,
           0.44996232341637876,
           0.44996232341637876,
           0.44996232341637876,
           0.44996232341637876
          ],
          [
           0.7381981832389362,
           0.8568562015914502,
           0.9468375175031926,
           0.964368253359657,
           0.9647006456558542,
           0.9898324579616128,
           0.9911690100556888,
           0.9930786585165879,
           0.9923236161387635,
           0.987297601701621
          ],
          [
           0.8117621670837374,
           0.9601051447337292,
           0.992017182584882,
           0.9925910125158577,
           0.9903892225097689,
           0.9866485038768779,
           0.9746997492360922,
           0.9548818564431566,
           0.9259846173741185,
           0.8965255619418242
          ],
          [
           0.9176418594561669,
           0.9841424694098488,
           0.9927036917942034,
           0.9850883266148824,
           0.9636385424294179,
           0.921273126770384,
           0.8761683055639792,
           0.8499007996887438,
           0.8589920304954021,
           0.8924009263989091
          ],
          [
           0.9298992732133677,
           0.990119962986035,
           0.9845905552783853,
           0.9488656948285937,
           0.8869304789837925,
           0.8454762865445956,
           0.8665096520231577,
           0.9204171525902178,
           0.963446545391788,
           0.961807291220839
          ]
         ]
        },
        {
         "colorscale": [
          [
           0,
           "#440154"
          ],
          [
           0.1111111111111111,
           "#482878"
          ],
          [
           0.2222222222222222,
           "#3e4989"
          ],
          [
           0.3333333333333333,
           "#31688e"
          ],
          [
           0.4444444444444444,
           "#26828e"
          ],
          [
           0.5555555555555556,
           "#1f9e89"
          ],
          [
           0.6666666666666666,
           "#35b779"
          ],
          [
           0.7777777777777778,
           "#6ece58"
          ],
          [
           0.8888888888888888,
           "#b5de2b"
          ],
          [
           1,
           "#fde725"
          ]
         ],
         "scene": "scene5",
         "showscale": false,
         "type": "surface",
         "x": [
          [
           1,
           1,
           1,
           1,
           1,
           1,
           1,
           1,
           1,
           1
          ],
          [
           2,
           2,
           2,
           2,
           2,
           2,
           2,
           2,
           2,
           2
          ],
          [
           3,
           3,
           3,
           3,
           3,
           3,
           3,
           3,
           3,
           3
          ],
          [
           4,
           4,
           4,
           4,
           4,
           4,
           4,
           4,
           4,
           4
          ],
          [
           5,
           5,
           5,
           5,
           5,
           5,
           5,
           5,
           5,
           5
          ]
         ],
         "y": [
          [
           1,
           2,
           3,
           4,
           5,
           6,
           7,
           8,
           9,
           10
          ],
          [
           1,
           2,
           3,
           4,
           5,
           6,
           7,
           8,
           9,
           10
          ],
          [
           1,
           2,
           3,
           4,
           5,
           6,
           7,
           8,
           9,
           10
          ],
          [
           1,
           2,
           3,
           4,
           5,
           6,
           7,
           8,
           9,
           10
          ],
          [
           1,
           2,
           3,
           4,
           5,
           6,
           7,
           8,
           9,
           10
          ]
         ],
         "z": [
          [
           0.8134847738255304,
           0.8134847738255304,
           0.8134847738255304,
           0.8134847738255304,
           0.8134847738255304,
           0.8134847738255304,
           0.8134847738255304,
           0.8134847738255304,
           0.8134847738255304,
           0.8134847738255304
          ],
          [
           0.9070048692342554,
           0.9722424723827033,
           0.9843897353983615,
           0.9913801194177136,
           0.9937280961106552,
           0.9923603850962183,
           0.9925576024196405,
           0.9926257673367525,
           0.9913645593715872,
           0.9860413365923901
          ],
          [
           0.943824873493499,
           0.9908553038187251,
           0.9910607346431654,
           0.9969741743428445,
           0.9937174142755183,
           0.9851741330657235,
           0.9692697329210284,
           0.9526650603392163,
           0.9202909317259362,
           0.8883250519724254
          ],
          [
           0.9657395006429788,
           0.9869475606324364,
           0.9966607682138313,
           0.9871607856952224,
           0.9606336803958981,
           0.9164875853432838,
           0.8730234903241946,
           0.8470966201946964,
           0.856356110675364,
           0.8906528061962593
          ],
          [
           0.9731295768107967,
           0.9925694715948805,
           0.9865943635007701,
           0.9450874599524781,
           0.8848648557969013,
           0.8425788984210817,
           0.864013764195007,
           0.9184998870051063,
           0.9619641066645093,
           0.9546424470310823
          ]
         ]
        },
        {
         "colorscale": [
          [
           0,
           "#440154"
          ],
          [
           0.1111111111111111,
           "#482878"
          ],
          [
           0.2222222222222222,
           "#3e4989"
          ],
          [
           0.3333333333333333,
           "#31688e"
          ],
          [
           0.4444444444444444,
           "#26828e"
          ],
          [
           0.5555555555555556,
           "#1f9e89"
          ],
          [
           0.6666666666666666,
           "#35b779"
          ],
          [
           0.7777777777777778,
           "#6ece58"
          ],
          [
           0.8888888888888888,
           "#b5de2b"
          ],
          [
           1,
           "#fde725"
          ]
         ],
         "scene": "scene6",
         "showscale": false,
         "type": "surface",
         "x": [
          [
           1,
           1,
           1,
           1,
           1,
           1,
           1,
           1,
           1,
           1
          ],
          [
           2,
           2,
           2,
           2,
           2,
           2,
           2,
           2,
           2,
           2
          ],
          [
           3,
           3,
           3,
           3,
           3,
           3,
           3,
           3,
           3,
           3
          ],
          [
           4,
           4,
           4,
           4,
           4,
           4,
           4,
           4,
           4,
           4
          ],
          [
           5,
           5,
           5,
           5,
           5,
           5,
           5,
           5,
           5,
           5
          ]
         ],
         "y": [
          [
           1,
           2,
           3,
           4,
           5,
           6,
           7,
           8,
           9,
           10
          ],
          [
           1,
           2,
           3,
           4,
           5,
           6,
           7,
           8,
           9,
           10
          ],
          [
           1,
           2,
           3,
           4,
           5,
           6,
           7,
           8,
           9,
           10
          ],
          [
           1,
           2,
           3,
           4,
           5,
           6,
           7,
           8,
           9,
           10
          ],
          [
           1,
           2,
           3,
           4,
           5,
           6,
           7,
           8,
           9,
           10
          ]
         ],
         "z": [
          [
           0.5429122083441532,
           0.5429122083441532,
           0.5429122083441532,
           0.5429122083441532,
           0.5429122083441532,
           0.5429122083441532,
           0.5429122083441532,
           0.5429122083441532,
           0.5429122083441532,
           0.5429122083441532
          ],
          [
           0.6487196927978788,
           0.7039409197411034,
           0.6862306896079501,
           0.7302962018420639,
           0.7695309424605258,
           0.7487319098209824,
           0.8044262287680214,
           0.7464366874885802,
           0.7862187480624776,
           0.7911410817378288
          ],
          [
           0.6697181741259504,
           0.8290718518616859,
           0.8499673322082467,
           0.8932228882887178,
           0.9028340207048123,
           0.9606004716078402,
           0.9131996946146173,
           0.8525604156179345,
           0.856377069141989,
           0.7602798648827463
          ],
          [
           0.7580444925768525,
           0.8789958246537902,
           0.9202546325741066,
           0.9323716012555491,
           0.9319006887330085,
           0.9021100413809899,
           0.8368496393231868,
           0.8142092761281964,
           0.8435361800207973,
           0.8720206824881443
          ],
          [
           0.7945974919858106,
           0.8845813991136408,
           0.9381322181008336,
           0.9164547518564431,
           0.8590012071397753,
           0.8261072630889643,
           0.8495938721015747,
           0.9078169083960476,
           0.9597814035351467,
           0.9614143027601255
          ]
         ]
        },
        {
         "colorscale": [
          [
           0,
           "#440154"
          ],
          [
           0.1111111111111111,
           "#482878"
          ],
          [
           0.2222222222222222,
           "#3e4989"
          ],
          [
           0.3333333333333333,
           "#31688e"
          ],
          [
           0.4444444444444444,
           "#26828e"
          ],
          [
           0.5555555555555556,
           "#1f9e89"
          ],
          [
           0.6666666666666666,
           "#35b779"
          ],
          [
           0.7777777777777778,
           "#6ece58"
          ],
          [
           0.8888888888888888,
           "#b5de2b"
          ],
          [
           1,
           "#fde725"
          ]
         ],
         "scene": "scene7",
         "showscale": false,
         "type": "surface",
         "x": [
          [
           1,
           1,
           1,
           1,
           1,
           1,
           1,
           1,
           1,
           1
          ],
          [
           2,
           2,
           2,
           2,
           2,
           2,
           2,
           2,
           2,
           2
          ],
          [
           3,
           3,
           3,
           3,
           3,
           3,
           3,
           3,
           3,
           3
          ],
          [
           4,
           4,
           4,
           4,
           4,
           4,
           4,
           4,
           4,
           4
          ],
          [
           5,
           5,
           5,
           5,
           5,
           5,
           5,
           5,
           5,
           5
          ]
         ],
         "y": [
          [
           1,
           2,
           3,
           4,
           5,
           6,
           7,
           8,
           9,
           10
          ],
          [
           1,
           2,
           3,
           4,
           5,
           6,
           7,
           8,
           9,
           10
          ],
          [
           1,
           2,
           3,
           4,
           5,
           6,
           7,
           8,
           9,
           10
          ],
          [
           1,
           2,
           3,
           4,
           5,
           6,
           7,
           8,
           9,
           10
          ],
          [
           1,
           2,
           3,
           4,
           5,
           6,
           7,
           8,
           9,
           10
          ]
         ],
         "z": [
          [
           0.8891667941965341,
           0.8891667941965341,
           0.8891667941965341,
           0.8891667941965341,
           0.8891667941965341,
           0.8891667941965341,
           0.8891667941965341,
           0.8891667941965341,
           0.8891667941965341,
           0.8891667941965341
          ],
          [
           0.9272037318722844,
           0.945557792888378,
           0.9220582853783124,
           0.9028427780863791,
           0.9261463493455045,
           0.9403140374948528,
           0.9257851845127612,
           0.9506604136869969,
           0.9597310554494585,
           0.9494384859852887
          ],
          [
           0.9533731003636375,
           0.9629736165310474,
           0.9356081775898537,
           0.9428487428314178,
           0.9633541687011752,
           0.9487716264726124,
           0.9376675388321031,
           0.9178219387568409,
           0.9220654235556189,
           0.9000856361195457
          ],
          [
           0.9650139047945588,
           0.960205811541235,
           0.9620552998205985,
           0.9390777961516116,
           0.9349139140013589,
           0.9236790926635795,
           0.87688367181409,
           0.8508649453346034,
           0.8590913031748925,
           0.8929820893882299
          ],
          [
           0.9617221129616789,
           0.9520036915805772,
           0.9503728994995034,
           0.9230806111497166,
           0.8871855768661105,
           0.8474492700278276,
           0.867816964949553,
           0.9210118204205687,
           0.9637445906403962,
           0.9613831353264505
          ]
         ]
        },
        {
         "colorscale": [
          [
           0,
           "#440154"
          ],
          [
           0.1111111111111111,
           "#482878"
          ],
          [
           0.2222222222222222,
           "#3e4989"
          ],
          [
           0.3333333333333333,
           "#31688e"
          ],
          [
           0.4444444444444444,
           "#26828e"
          ],
          [
           0.5555555555555556,
           "#1f9e89"
          ],
          [
           0.6666666666666666,
           "#35b779"
          ],
          [
           0.7777777777777778,
           "#6ece58"
          ],
          [
           0.8888888888888888,
           "#b5de2b"
          ],
          [
           1,
           "#fde725"
          ]
         ],
         "scene": "scene8",
         "showscale": false,
         "type": "surface",
         "x": [
          [
           1,
           1,
           1,
           1,
           1,
           1,
           1,
           1,
           1,
           1
          ],
          [
           2,
           2,
           2,
           2,
           2,
           2,
           2,
           2,
           2,
           2
          ],
          [
           3,
           3,
           3,
           3,
           3,
           3,
           3,
           3,
           3,
           3
          ],
          [
           4,
           4,
           4,
           4,
           4,
           4,
           4,
           4,
           4,
           4
          ],
          [
           5,
           5,
           5,
           5,
           5,
           5,
           5,
           5,
           5,
           5
          ]
         ],
         "y": [
          [
           1,
           2,
           3,
           4,
           5,
           6,
           7,
           8,
           9,
           10
          ],
          [
           1,
           2,
           3,
           4,
           5,
           6,
           7,
           8,
           9,
           10
          ],
          [
           1,
           2,
           3,
           4,
           5,
           6,
           7,
           8,
           9,
           10
          ],
          [
           1,
           2,
           3,
           4,
           5,
           6,
           7,
           8,
           9,
           10
          ],
          [
           1,
           2,
           3,
           4,
           5,
           6,
           7,
           8,
           9,
           10
          ]
         ],
         "z": [
          [
           0.86924980998367,
           0.86924980998367,
           0.86924980998367,
           0.86924980998367,
           0.86924980998367,
           0.86924980998367,
           0.86924980998367,
           0.86924980998367,
           0.86924980998367,
           0.86924980998367
          ],
          [
           0.9039474053896266,
           0.9214701982266378,
           0.9402106651108014,
           0.9752974838248657,
           0.984574952638176,
           0.9967673749423611,
           0.996814223870798,
           0.9964858719091679,
           0.9954882824511523,
           0.9946410275084362
          ],
          [
           0.9274940760845897,
           0.9770473026773441,
           0.9918339181358864,
           0.9981397697955691,
           0.9957695145759312,
           0.9885233268576937,
           0.9570148711497845,
           0.9430900717049763,
           0.9186317361088542,
           0.8863720610535722
          ],
          [
           0.9538312236045301,
           0.9883892368426532,
           0.9969406127725662,
           0.9887359176763739,
           0.956046463864582,
           0.9170248235775822,
           0.8761097161995449,
           0.8452442246208532,
           0.8597453998769812,
           0.8939796903049329
          ],
          [
           0.9600232015735847,
           0.9954455361435072,
           0.9875642378499961,
           0.9335739719476933,
           0.8835823955077864,
           0.8452741169385303,
           0.866299406813376,
           0.9208186322451123,
           0.9637124558850808,
           0.9617180322893217
          ]
         ]
        },
        {
         "colorscale": [
          [
           0,
           "#440154"
          ],
          [
           0.1111111111111111,
           "#482878"
          ],
          [
           0.2222222222222222,
           "#3e4989"
          ],
          [
           0.3333333333333333,
           "#31688e"
          ],
          [
           0.4444444444444444,
           "#26828e"
          ],
          [
           0.5555555555555556,
           "#1f9e89"
          ],
          [
           0.6666666666666666,
           "#35b779"
          ],
          [
           0.7777777777777778,
           "#6ece58"
          ],
          [
           0.8888888888888888,
           "#b5de2b"
          ],
          [
           1,
           "#fde725"
          ]
         ],
         "scene": "scene9",
         "showscale": false,
         "type": "surface",
         "x": [
          [
           1,
           1,
           1,
           1,
           1,
           1,
           1,
           1,
           1,
           1
          ],
          [
           2,
           2,
           2,
           2,
           2,
           2,
           2,
           2,
           2,
           2
          ],
          [
           3,
           3,
           3,
           3,
           3,
           3,
           3,
           3,
           3,
           3
          ],
          [
           4,
           4,
           4,
           4,
           4,
           4,
           4,
           4,
           4,
           4
          ],
          [
           5,
           5,
           5,
           5,
           5,
           5,
           5,
           5,
           5,
           5
          ]
         ],
         "y": [
          [
           1,
           2,
           3,
           4,
           5,
           6,
           7,
           8,
           9,
           10
          ],
          [
           1,
           2,
           3,
           4,
           5,
           6,
           7,
           8,
           9,
           10
          ],
          [
           1,
           2,
           3,
           4,
           5,
           6,
           7,
           8,
           9,
           10
          ],
          [
           1,
           2,
           3,
           4,
           5,
           6,
           7,
           8,
           9,
           10
          ],
          [
           1,
           2,
           3,
           4,
           5,
           6,
           7,
           8,
           9,
           10
          ]
         ],
         "z": [
          [
           0.7049640027061698,
           0.7049640027061698,
           0.7049640027061698,
           0.7049640027061698,
           0.7049640027061698,
           0.7049640027061698,
           0.7049640027061698,
           0.7049640027061698,
           0.7049640027061698,
           0.7049640027061698
          ],
          [
           0.8693013087995056,
           0.9623224296871452,
           0.9939013260308958,
           0.9948429902895276,
           0.9937061113211391,
           0.9963127501195376,
           0.9973725827290224,
           0.9969101560780276,
           0.996273848304637,
           0.9943723587042528
          ],
          [
           0.9455333586255459,
           0.990650984034755,
           0.9885037216210257,
           0.9906792743002288,
           0.9939208608845056,
           0.9883943182358625,
           0.9750433565697084,
           0.9554223921189788,
           0.9234160833758974,
           0.8961140173364602
          ],
          [
           0.9614159232479064,
           0.9747597794376017,
           0.9855192473226415,
           0.984878726437809,
           0.9636983786441098,
           0.9200341487982826,
           0.8743374248299829,
           0.850633958799465,
           0.8595224027386058,
           0.8930928250102609
          ],
          [
           0.974975569593678,
           0.9737431578833643,
           0.9791249150125289,
           0.9434631889122722,
           0.8832110494301973,
           0.8463898987081567,
           0.8681252886259906,
           0.9213431428384332,
           0.9635277541222315,
           0.962323306783478
          ]
         ]
        },
        {
         "colorscale": [
          [
           0,
           "#440154"
          ],
          [
           0.1111111111111111,
           "#482878"
          ],
          [
           0.2222222222222222,
           "#3e4989"
          ],
          [
           0.3333333333333333,
           "#31688e"
          ],
          [
           0.4444444444444444,
           "#26828e"
          ],
          [
           0.5555555555555556,
           "#1f9e89"
          ],
          [
           0.6666666666666666,
           "#35b779"
          ],
          [
           0.7777777777777778,
           "#6ece58"
          ],
          [
           0.8888888888888888,
           "#b5de2b"
          ],
          [
           1,
           "#fde725"
          ]
         ],
         "scene": "scene10",
         "showscale": false,
         "type": "surface",
         "x": [
          [
           1,
           1,
           1,
           1,
           1,
           1,
           1,
           1,
           1,
           1
          ],
          [
           2,
           2,
           2,
           2,
           2,
           2,
           2,
           2,
           2,
           2
          ],
          [
           3,
           3,
           3,
           3,
           3,
           3,
           3,
           3,
           3,
           3
          ],
          [
           4,
           4,
           4,
           4,
           4,
           4,
           4,
           4,
           4,
           4
          ],
          [
           5,
           5,
           5,
           5,
           5,
           5,
           5,
           5,
           5,
           5
          ]
         ],
         "y": [
          [
           1,
           2,
           3,
           4,
           5,
           6,
           7,
           8,
           9,
           10
          ],
          [
           1,
           2,
           3,
           4,
           5,
           6,
           7,
           8,
           9,
           10
          ],
          [
           1,
           2,
           3,
           4,
           5,
           6,
           7,
           8,
           9,
           10
          ],
          [
           1,
           2,
           3,
           4,
           5,
           6,
           7,
           8,
           9,
           10
          ],
          [
           1,
           2,
           3,
           4,
           5,
           6,
           7,
           8,
           9,
           10
          ]
         ],
         "z": [
          [
           0.611488545235042,
           0.611488545235042,
           0.611488545235042,
           0.611488545235042,
           0.611488545235042,
           0.611488545235042,
           0.611488545235042,
           0.611488545235042,
           0.611488545235042,
           0.611488545235042
          ],
          [
           0.693224365049504,
           0.7989634927978299,
           0.850921646940446,
           0.8556455480421225,
           0.8856367351224985,
           0.877909035307596,
           0.8591428284953145,
           0.8276742997227354,
           0.8128117252153934,
           0.8397017570170066
          ],
          [
           0.8025758465223863,
           0.8841895650600394,
           0.9421155285797258,
           0.9449783189342765,
           0.9096941109388992,
           0.896302420783804,
           0.905562148959553,
           0.9065990284867973,
           0.8951032979856249,
           0.8790109701106472
          ],
          [
           0.8300555802660883,
           0.915886093003527,
           0.9291937949079817,
           0.9101521993966464,
           0.9035654180768948,
           0.9055987665247138,
           0.8666257927319526,
           0.8433001758022372,
           0.8548325544414349,
           0.8904327432978643
          ],
          [
           0.8589262289784552,
           0.9258627542482859,
           0.905519568944625,
           0.904461936964435,
           0.8813872257602284,
           0.8413799748717229,
           0.8657402695508332,
           0.9197912756675674,
           0.9630686329124418,
           0.9619423456946037
          ]
         ]
        }
       ],
       "layout": {
        "annotations": [
         {
          "font": {
           "size": 16
          },
          "showarrow": false,
          "text": "Point 1: (lat=86, lon=130)",
          "x": 0.08399999999999999,
          "xanchor": "center",
          "xref": "paper",
          "y": 1,
          "yanchor": "bottom",
          "yref": "paper"
         },
         {
          "font": {
           "size": 16
          },
          "showarrow": false,
          "text": "Point 2: (lat=39, lon=84)",
          "x": 0.292,
          "xanchor": "center",
          "xref": "paper",
          "y": 1,
          "yanchor": "bottom",
          "yref": "paper"
         },
         {
          "font": {
           "size": 16
          },
          "showarrow": false,
          "text": "Point 3: (lat=45, lon=105)",
          "x": 0.5,
          "xanchor": "center",
          "xref": "paper",
          "y": 1,
          "yanchor": "bottom",
          "yref": "paper"
         },
         {
          "font": {
           "size": 16
          },
          "showarrow": false,
          "text": "Point 4: (lat=37, lon=58)",
          "x": 0.708,
          "xanchor": "center",
          "xref": "paper",
          "y": 1,
          "yanchor": "bottom",
          "yref": "paper"
         },
         {
          "font": {
           "size": 16
          },
          "showarrow": false,
          "text": "Point 5: (lat=65, lon=106)",
          "x": 0.9159999999999999,
          "xanchor": "center",
          "xref": "paper",
          "y": 1,
          "yanchor": "bottom",
          "yref": "paper"
         },
         {
          "font": {
           "size": 16
          },
          "showarrow": false,
          "text": "Point 6: (lat=4, lon=136)",
          "x": 0.08399999999999999,
          "xanchor": "center",
          "xref": "paper",
          "y": 0.375,
          "yanchor": "bottom",
          "yref": "paper"
         },
         {
          "font": {
           "size": 16
          },
          "showarrow": false,
          "text": "Point 7: (lat=64, lon=18)",
          "x": 0.292,
          "xanchor": "center",
          "xref": "paper",
          "y": 0.375,
          "yanchor": "bottom",
          "yref": "paper"
         },
         {
          "font": {
           "size": 16
          },
          "showarrow": false,
          "text": "Point 8: (lat=41, lon=108)",
          "x": 0.5,
          "xanchor": "center",
          "xref": "paper",
          "y": 0.375,
          "yanchor": "bottom",
          "yref": "paper"
         },
         {
          "font": {
           "size": 16
          },
          "showarrow": false,
          "text": "Point 9: (lat=61, lon=67)",
          "x": 0.708,
          "xanchor": "center",
          "xref": "paper",
          "y": 0.375,
          "yanchor": "bottom",
          "yref": "paper"
         },
         {
          "font": {
           "size": 16
          },
          "showarrow": false,
          "text": "Point 10: (lat=71, lon=136)",
          "x": 0.9159999999999999,
          "xanchor": "center",
          "xref": "paper",
          "y": 0.375,
          "yanchor": "bottom",
          "yref": "paper"
         }
        ],
        "height": 800,
        "scene": {
         "domain": {
          "x": [
           0,
           0.16799999999999998
          ],
          "y": [
           0.625,
           1
          ]
         },
         "xaxis": {
          "title": {
           "text": "E"
          }
         },
         "yaxis": {
          "title": {
           "text": "tau"
          }
         },
         "zaxis": {
          "title": {
           "text": "rho"
          }
         }
        },
        "scene10": {
         "domain": {
          "x": [
           0.832,
           1
          ],
          "y": [
           0,
           0.375
          ]
         }
        },
        "scene2": {
         "domain": {
          "x": [
           0.208,
           0.376
          ],
          "y": [
           0.625,
           1
          ]
         }
        },
        "scene3": {
         "domain": {
          "x": [
           0.416,
           0.584
          ],
          "y": [
           0.625,
           1
          ]
         }
        },
        "scene4": {
         "domain": {
          "x": [
           0.624,
           0.792
          ],
          "y": [
           0.625,
           1
          ]
         }
        },
        "scene5": {
         "domain": {
          "x": [
           0.832,
           1
          ],
          "y": [
           0.625,
           1
          ]
         }
        },
        "scene6": {
         "domain": {
          "x": [
           0,
           0.16799999999999998
          ],
          "y": [
           0,
           0.375
          ]
         }
        },
        "scene7": {
         "domain": {
          "x": [
           0.208,
           0.376
          ],
          "y": [
           0,
           0.375
          ]
         }
        },
        "scene8": {
         "domain": {
          "x": [
           0.416,
           0.584
          ],
          "y": [
           0,
           0.375
          ]
         }
        },
        "scene9": {
         "domain": {
          "x": [
           0.624,
           0.792
          ],
          "y": [
           0,
           0.375
          ]
         }
        },
        "template": {
         "data": {
          "bar": [
           {
            "error_x": {
             "color": "#2a3f5f"
            },
            "error_y": {
             "color": "#2a3f5f"
            },
            "marker": {
             "line": {
              "color": "#E5ECF6",
              "width": 0.5
             },
             "pattern": {
              "fillmode": "overlay",
              "size": 10,
              "solidity": 0.2
             }
            },
            "type": "bar"
           }
          ],
          "barpolar": [
           {
            "marker": {
             "line": {
              "color": "#E5ECF6",
              "width": 0.5
             },
             "pattern": {
              "fillmode": "overlay",
              "size": 10,
              "solidity": 0.2
             }
            },
            "type": "barpolar"
           }
          ],
          "carpet": [
           {
            "aaxis": {
             "endlinecolor": "#2a3f5f",
             "gridcolor": "white",
             "linecolor": "white",
             "minorgridcolor": "white",
             "startlinecolor": "#2a3f5f"
            },
            "baxis": {
             "endlinecolor": "#2a3f5f",
             "gridcolor": "white",
             "linecolor": "white",
             "minorgridcolor": "white",
             "startlinecolor": "#2a3f5f"
            },
            "type": "carpet"
           }
          ],
          "choropleth": [
           {
            "colorbar": {
             "outlinewidth": 0,
             "ticks": ""
            },
            "type": "choropleth"
           }
          ],
          "contour": [
           {
            "colorbar": {
             "outlinewidth": 0,
             "ticks": ""
            },
            "colorscale": [
             [
              0,
              "#0d0887"
             ],
             [
              0.1111111111111111,
              "#46039f"
             ],
             [
              0.2222222222222222,
              "#7201a8"
             ],
             [
              0.3333333333333333,
              "#9c179e"
             ],
             [
              0.4444444444444444,
              "#bd3786"
             ],
             [
              0.5555555555555556,
              "#d8576b"
             ],
             [
              0.6666666666666666,
              "#ed7953"
             ],
             [
              0.7777777777777778,
              "#fb9f3a"
             ],
             [
              0.8888888888888888,
              "#fdca26"
             ],
             [
              1,
              "#f0f921"
             ]
            ],
            "type": "contour"
           }
          ],
          "contourcarpet": [
           {
            "colorbar": {
             "outlinewidth": 0,
             "ticks": ""
            },
            "type": "contourcarpet"
           }
          ],
          "heatmap": [
           {
            "colorbar": {
             "outlinewidth": 0,
             "ticks": ""
            },
            "colorscale": [
             [
              0,
              "#0d0887"
             ],
             [
              0.1111111111111111,
              "#46039f"
             ],
             [
              0.2222222222222222,
              "#7201a8"
             ],
             [
              0.3333333333333333,
              "#9c179e"
             ],
             [
              0.4444444444444444,
              "#bd3786"
             ],
             [
              0.5555555555555556,
              "#d8576b"
             ],
             [
              0.6666666666666666,
              "#ed7953"
             ],
             [
              0.7777777777777778,
              "#fb9f3a"
             ],
             [
              0.8888888888888888,
              "#fdca26"
             ],
             [
              1,
              "#f0f921"
             ]
            ],
            "type": "heatmap"
           }
          ],
          "heatmapgl": [
           {
            "colorbar": {
             "outlinewidth": 0,
             "ticks": ""
            },
            "colorscale": [
             [
              0,
              "#0d0887"
             ],
             [
              0.1111111111111111,
              "#46039f"
             ],
             [
              0.2222222222222222,
              "#7201a8"
             ],
             [
              0.3333333333333333,
              "#9c179e"
             ],
             [
              0.4444444444444444,
              "#bd3786"
             ],
             [
              0.5555555555555556,
              "#d8576b"
             ],
             [
              0.6666666666666666,
              "#ed7953"
             ],
             [
              0.7777777777777778,
              "#fb9f3a"
             ],
             [
              0.8888888888888888,
              "#fdca26"
             ],
             [
              1,
              "#f0f921"
             ]
            ],
            "type": "heatmapgl"
           }
          ],
          "histogram": [
           {
            "marker": {
             "pattern": {
              "fillmode": "overlay",
              "size": 10,
              "solidity": 0.2
             }
            },
            "type": "histogram"
           }
          ],
          "histogram2d": [
           {
            "colorbar": {
             "outlinewidth": 0,
             "ticks": ""
            },
            "colorscale": [
             [
              0,
              "#0d0887"
             ],
             [
              0.1111111111111111,
              "#46039f"
             ],
             [
              0.2222222222222222,
              "#7201a8"
             ],
             [
              0.3333333333333333,
              "#9c179e"
             ],
             [
              0.4444444444444444,
              "#bd3786"
             ],
             [
              0.5555555555555556,
              "#d8576b"
             ],
             [
              0.6666666666666666,
              "#ed7953"
             ],
             [
              0.7777777777777778,
              "#fb9f3a"
             ],
             [
              0.8888888888888888,
              "#fdca26"
             ],
             [
              1,
              "#f0f921"
             ]
            ],
            "type": "histogram2d"
           }
          ],
          "histogram2dcontour": [
           {
            "colorbar": {
             "outlinewidth": 0,
             "ticks": ""
            },
            "colorscale": [
             [
              0,
              "#0d0887"
             ],
             [
              0.1111111111111111,
              "#46039f"
             ],
             [
              0.2222222222222222,
              "#7201a8"
             ],
             [
              0.3333333333333333,
              "#9c179e"
             ],
             [
              0.4444444444444444,
              "#bd3786"
             ],
             [
              0.5555555555555556,
              "#d8576b"
             ],
             [
              0.6666666666666666,
              "#ed7953"
             ],
             [
              0.7777777777777778,
              "#fb9f3a"
             ],
             [
              0.8888888888888888,
              "#fdca26"
             ],
             [
              1,
              "#f0f921"
             ]
            ],
            "type": "histogram2dcontour"
           }
          ],
          "mesh3d": [
           {
            "colorbar": {
             "outlinewidth": 0,
             "ticks": ""
            },
            "type": "mesh3d"
           }
          ],
          "parcoords": [
           {
            "line": {
             "colorbar": {
              "outlinewidth": 0,
              "ticks": ""
             }
            },
            "type": "parcoords"
           }
          ],
          "pie": [
           {
            "automargin": true,
            "type": "pie"
           }
          ],
          "scatter": [
           {
            "fillpattern": {
             "fillmode": "overlay",
             "size": 10,
             "solidity": 0.2
            },
            "type": "scatter"
           }
          ],
          "scatter3d": [
           {
            "line": {
             "colorbar": {
              "outlinewidth": 0,
              "ticks": ""
             }
            },
            "marker": {
             "colorbar": {
              "outlinewidth": 0,
              "ticks": ""
             }
            },
            "type": "scatter3d"
           }
          ],
          "scattercarpet": [
           {
            "marker": {
             "colorbar": {
              "outlinewidth": 0,
              "ticks": ""
             }
            },
            "type": "scattercarpet"
           }
          ],
          "scattergeo": [
           {
            "marker": {
             "colorbar": {
              "outlinewidth": 0,
              "ticks": ""
             }
            },
            "type": "scattergeo"
           }
          ],
          "scattergl": [
           {
            "marker": {
             "colorbar": {
              "outlinewidth": 0,
              "ticks": ""
             }
            },
            "type": "scattergl"
           }
          ],
          "scattermapbox": [
           {
            "marker": {
             "colorbar": {
              "outlinewidth": 0,
              "ticks": ""
             }
            },
            "type": "scattermapbox"
           }
          ],
          "scatterpolar": [
           {
            "marker": {
             "colorbar": {
              "outlinewidth": 0,
              "ticks": ""
             }
            },
            "type": "scatterpolar"
           }
          ],
          "scatterpolargl": [
           {
            "marker": {
             "colorbar": {
              "outlinewidth": 0,
              "ticks": ""
             }
            },
            "type": "scatterpolargl"
           }
          ],
          "scatterternary": [
           {
            "marker": {
             "colorbar": {
              "outlinewidth": 0,
              "ticks": ""
             }
            },
            "type": "scatterternary"
           }
          ],
          "surface": [
           {
            "colorbar": {
             "outlinewidth": 0,
             "ticks": ""
            },
            "colorscale": [
             [
              0,
              "#0d0887"
             ],
             [
              0.1111111111111111,
              "#46039f"
             ],
             [
              0.2222222222222222,
              "#7201a8"
             ],
             [
              0.3333333333333333,
              "#9c179e"
             ],
             [
              0.4444444444444444,
              "#bd3786"
             ],
             [
              0.5555555555555556,
              "#d8576b"
             ],
             [
              0.6666666666666666,
              "#ed7953"
             ],
             [
              0.7777777777777778,
              "#fb9f3a"
             ],
             [
              0.8888888888888888,
              "#fdca26"
             ],
             [
              1,
              "#f0f921"
             ]
            ],
            "type": "surface"
           }
          ],
          "table": [
           {
            "cells": {
             "fill": {
              "color": "#EBF0F8"
             },
             "line": {
              "color": "white"
             }
            },
            "header": {
             "fill": {
              "color": "#C8D4E3"
             },
             "line": {
              "color": "white"
             }
            },
            "type": "table"
           }
          ]
         },
         "layout": {
          "annotationdefaults": {
           "arrowcolor": "#2a3f5f",
           "arrowhead": 0,
           "arrowwidth": 1
          },
          "autotypenumbers": "strict",
          "coloraxis": {
           "colorbar": {
            "outlinewidth": 0,
            "ticks": ""
           }
          },
          "colorscale": {
           "diverging": [
            [
             0,
             "#8e0152"
            ],
            [
             0.1,
             "#c51b7d"
            ],
            [
             0.2,
             "#de77ae"
            ],
            [
             0.3,
             "#f1b6da"
            ],
            [
             0.4,
             "#fde0ef"
            ],
            [
             0.5,
             "#f7f7f7"
            ],
            [
             0.6,
             "#e6f5d0"
            ],
            [
             0.7,
             "#b8e186"
            ],
            [
             0.8,
             "#7fbc41"
            ],
            [
             0.9,
             "#4d9221"
            ],
            [
             1,
             "#276419"
            ]
           ],
           "sequential": [
            [
             0,
             "#0d0887"
            ],
            [
             0.1111111111111111,
             "#46039f"
            ],
            [
             0.2222222222222222,
             "#7201a8"
            ],
            [
             0.3333333333333333,
             "#9c179e"
            ],
            [
             0.4444444444444444,
             "#bd3786"
            ],
            [
             0.5555555555555556,
             "#d8576b"
            ],
            [
             0.6666666666666666,
             "#ed7953"
            ],
            [
             0.7777777777777778,
             "#fb9f3a"
            ],
            [
             0.8888888888888888,
             "#fdca26"
            ],
            [
             1,
             "#f0f921"
            ]
           ],
           "sequentialminus": [
            [
             0,
             "#0d0887"
            ],
            [
             0.1111111111111111,
             "#46039f"
            ],
            [
             0.2222222222222222,
             "#7201a8"
            ],
            [
             0.3333333333333333,
             "#9c179e"
            ],
            [
             0.4444444444444444,
             "#bd3786"
            ],
            [
             0.5555555555555556,
             "#d8576b"
            ],
            [
             0.6666666666666666,
             "#ed7953"
            ],
            [
             0.7777777777777778,
             "#fb9f3a"
            ],
            [
             0.8888888888888888,
             "#fdca26"
            ],
            [
             1,
             "#f0f921"
            ]
           ]
          },
          "colorway": [
           "#636efa",
           "#EF553B",
           "#00cc96",
           "#ab63fa",
           "#FFA15A",
           "#19d3f3",
           "#FF6692",
           "#B6E880",
           "#FF97FF",
           "#FECB52"
          ],
          "font": {
           "color": "#2a3f5f"
          },
          "geo": {
           "bgcolor": "white",
           "lakecolor": "white",
           "landcolor": "#E5ECF6",
           "showlakes": true,
           "showland": true,
           "subunitcolor": "white"
          },
          "hoverlabel": {
           "align": "left"
          },
          "hovermode": "closest",
          "mapbox": {
           "style": "light"
          },
          "paper_bgcolor": "white",
          "plot_bgcolor": "#E5ECF6",
          "polar": {
           "angularaxis": {
            "gridcolor": "white",
            "linecolor": "white",
            "ticks": ""
           },
           "bgcolor": "#E5ECF6",
           "radialaxis": {
            "gridcolor": "white",
            "linecolor": "white",
            "ticks": ""
           }
          },
          "scene": {
           "xaxis": {
            "backgroundcolor": "#E5ECF6",
            "gridcolor": "white",
            "gridwidth": 2,
            "linecolor": "white",
            "showbackground": true,
            "ticks": "",
            "zerolinecolor": "white"
           },
           "yaxis": {
            "backgroundcolor": "#E5ECF6",
            "gridcolor": "white",
            "gridwidth": 2,
            "linecolor": "white",
            "showbackground": true,
            "ticks": "",
            "zerolinecolor": "white"
           },
           "zaxis": {
            "backgroundcolor": "#E5ECF6",
            "gridcolor": "white",
            "gridwidth": 2,
            "linecolor": "white",
            "showbackground": true,
            "ticks": "",
            "zerolinecolor": "white"
           }
          },
          "shapedefaults": {
           "line": {
            "color": "#2a3f5f"
           }
          },
          "ternary": {
           "aaxis": {
            "gridcolor": "white",
            "linecolor": "white",
            "ticks": ""
           },
           "baxis": {
            "gridcolor": "white",
            "linecolor": "white",
            "ticks": ""
           },
           "bgcolor": "#E5ECF6",
           "caxis": {
            "gridcolor": "white",
            "linecolor": "white",
            "ticks": ""
           }
          },
          "title": {
           "x": 0.05
          },
          "xaxis": {
           "automargin": true,
           "gridcolor": "white",
           "linecolor": "white",
           "ticks": "",
           "title": {
            "standoff": 15
           },
           "zerolinecolor": "white",
           "zerolinewidth": 2
          },
          "yaxis": {
           "automargin": true,
           "gridcolor": "white",
           "linecolor": "white",
           "ticks": "",
           "title": {
            "standoff": 15
           },
           "zerolinecolor": "white",
           "zerolinewidth": 2
          }
         }
        },
        "title": {
         "text": "EmbedDimension scan of E in [1..5], tau in [1..10] (Tp = tau)"
        },
        "width": 1400
       }
      }
     },
     "metadata": {},
     "output_type": "display_data"
    }
   ],
   "source": [
    "import xarray as xr\n",
    "import pandas as pd\n",
    "import numpy as np\n",
    "import random\n",
    "\n",
    "import plotly.graph_objects as go\n",
    "from plotly.subplots import make_subplots\n",
    "\n",
    "from pyEDM import EmbedDimension\n",
    "\n",
    "\n",
    "# assert ds_sat.sizes[\"age\"] == len(df_pre), (\n",
    "#     \"ds_sat age dimension must match length of precession time series.\"\n",
    "# )\n",
    "\n",
    "\n",
    "# Grab coordinate sizes\n",
    "nlat = ds_sat.sizes[\"lat\"]\n",
    "nlon = ds_sat.sizes[\"lon\"]\n",
    "ages = ds_sat[\"age\"].values  # not strictly needed but good to keep track\n",
    "\n",
    "# ---------------------------------------------------------------------\n",
    "# 2. Randomly select 10 (lat, lon) grid points\n",
    "# ---------------------------------------------------------------------\n",
    "all_pairs = [(ilat, ilon) for ilat in range(nlat) for ilon in range(nlon)]\n",
    "random_pairs = random.sample(all_pairs, 10)  # pick 10 unique (ilat, ilon)\n",
    "\n",
    "\n",
    "\n",
    "results_list = []  # will be a list of (ilat, ilon, Evals, Tauvals, RhoMatrix)\n",
    "\n",
    "for idx, (ilat, ilon) in enumerate(random_pairs):\n",
    "    # Extract local sat time series\n",
    "    sat_ts = ds_sat[\"sat\"].isel(lat=ilat, lon=ilon).values\n",
    "\n",
    "    df_tmp = pd.DataFrame({\n",
    "        \"Time\": ages,\n",
    "        \"pre\": df_pre[\"pre\"],  # predictor\n",
    "        \"sat\": sat_ts          # target to predict\n",
    "    })\n",
    "\n",
    "    # We'll store a 2D array of shape (5,10) for E=1..5, tau=1..10\n",
    "    # Accessed as RhoMatrix[E-1, tau-1].\n",
    "    RhoMatrix = np.zeros((5, 10))\n",
    "\n",
    "    # For each tau in 1..10, call EmbedDimension once with maxE=5 and Tp=tau\n",
    "    for tau in range(1, 11):\n",
    "        edm_out = EmbedDimension(\n",
    "            dataFrame=df_tmp,\n",
    "            columns=\"sat\",\n",
    "            target=\"pre\",\n",
    "            maxE=5,          # We'll evaluate E=1..5\n",
    "            tau=tau,\n",
    "            Tp=0,\n",
    "            lib=\"1 120\",     # Entire time series, adapt if needed\n",
    "            pred=\"1 120\",\n",
    "            showPlot=False,  # We'll handle plotting ourselves\n",
    "            # If you want to speed up or parallelize, you can set numThreads or numProcess\n",
    "        )\n",
    "\n",
    "        for e_row in edm_out.itertuples():\n",
    "            e_val = e_row.E     # 1..5\n",
    "            # print(e_val)\n",
    "            rho_val = e_row.rho\n",
    "            RhoMatrix[int(e_val - 1), int(tau - 1)] = rho_val\n",
    "\n",
    "    # We'll store the axis values for plotting (note: we want these in 2D for a surface plot).\n",
    "    E_axis = np.arange(1, 6)     # 1..5\n",
    "    Tau_axis = np.arange(1, 11)  # 1..10\n",
    "\n",
    "    # Save the result for this grid point\n",
    "    results_list.append((ilat, ilon, E_axis, Tau_axis, RhoMatrix))\n",
    "\n",
    "# ---------------------------------------------------------------------\n",
    "# 4. Make a 3D surface plot for each of the 10 results\n",
    "#    using Plotly subplots\n",
    "# ---------------------------------------------------------------------\n",
    "\n",
    "# We'll do 2 rows, 5 columns of 3D subplots\n",
    "fig = make_subplots(\n",
    "    rows=2, cols=5,\n",
    "    specs=[\n",
    "        [{\"type\": \"surface\"}]*5,\n",
    "        [{\"type\": \"surface\"}]*5\n",
    "    ],\n",
    "    subplot_titles=[f\"Point {i+1}: (lat={r[0]}, lon={r[1]})\" for i, r in enumerate(results_list)]\n",
    ")\n",
    "\n",
    "for i, (ilat, ilon, E_axis, Tau_axis, RhoMatrix) in enumerate(results_list):\n",
    "\n",
    "    E_grid, Tau_grid = np.meshgrid(E_axis, Tau_axis, indexing='ij')\n",
    "\n",
    "    row = (i // 5) + 1\n",
    "    col = (i % 5) + 1\n",
    "\n",
    "    # Create the surface trace\n",
    "    surf = go.Surface(\n",
    "        x=E_grid,       # E dimension\n",
    "        y=Tau_grid,     # tau dimension\n",
    "        z=RhoMatrix,    # rho\n",
    "        colorscale=\"Viridis\",   # or any Plotly colormap you like\n",
    "        showscale=False         # hide colorbar in subplots for neatness\n",
    "    )\n",
    "    fig.add_trace(surf, row=row, col=col)\n",
    "\n",
    "# Update overall layout\n",
    "fig.update_layout(\n",
    "    height=800, width=1400,\n",
    "    title=\"EmbedDimension scan of E in [1..5], tau in [1..10] (Tp = tau)\",\n",
    "    scene=dict(\n",
    "        xaxis_title=\"E\",\n",
    "        yaxis_title=\"tau\",\n",
    "        zaxis_title=\"rho\"\n",
    "    ),\n",
    "    # If you prefer separate axis labels per subplot, you can set them individually\n",
    "    # with fig.update_xaxes(..., row=?, col=?)\n",
    ")\n",
    "\n",
    "fig.show()\n"
   ]
  },
  {
   "cell_type": "code",
   "execution_count": 16,
   "metadata": {},
   "outputs": [
    {
     "name": "stderr",
     "output_type": "stream",
     "text": [
      "d:\\Users\\User\\anaconda3\\envs\\pz_venv_causal\\lib\\site-packages\\xarray\\coding\\variables.py:147: FutureWarning:\n",
      "\n",
      "elementwise comparison failed; returning scalar instead, but in the future will perform elementwise comparison\n",
      "\n",
      "d:\\Users\\User\\anaconda3\\envs\\pz_venv_causal\\lib\\site-packages\\xarray\\coding\\variables.py:147: FutureWarning:\n",
      "\n",
      "elementwise comparison failed; returning scalar instead, but in the future will perform elementwise comparison\n",
      "\n",
      "d:\\Users\\User\\anaconda3\\envs\\pz_venv_causal\\lib\\site-packages\\xarray\\coding\\variables.py:147: FutureWarning:\n",
      "\n",
      "elementwise comparison failed; returning scalar instead, but in the future will perform elementwise comparison\n",
      "\n",
      "d:\\Users\\User\\anaconda3\\envs\\pz_venv_causal\\lib\\site-packages\\xarray\\coding\\variables.py:147: FutureWarning:\n",
      "\n",
      "elementwise comparison failed; returning scalar instead, but in the future will perform elementwise comparison\n",
      "\n",
      "d:\\Users\\User\\anaconda3\\envs\\pz_venv_causal\\lib\\site-packages\\xarray\\coding\\variables.py:147: FutureWarning:\n",
      "\n",
      "elementwise comparison failed; returning scalar instead, but in the future will perform elementwise comparison\n",
      "\n",
      "d:\\Users\\User\\anaconda3\\envs\\pz_venv_causal\\lib\\site-packages\\xarray\\coding\\variables.py:147: FutureWarning:\n",
      "\n",
      "elementwise comparison failed; returning scalar instead, but in the future will perform elementwise comparison\n",
      "\n",
      "d:\\Users\\User\\anaconda3\\envs\\pz_venv_causal\\lib\\site-packages\\xarray\\coding\\variables.py:147: FutureWarning:\n",
      "\n",
      "elementwise comparison failed; returning scalar instead, but in the future will perform elementwise comparison\n",
      "\n",
      "d:\\Users\\User\\anaconda3\\envs\\pz_venv_causal\\lib\\site-packages\\xarray\\coding\\variables.py:147: FutureWarning:\n",
      "\n",
      "elementwise comparison failed; returning scalar instead, but in the future will perform elementwise comparison\n",
      "\n",
      "d:\\Users\\User\\anaconda3\\envs\\pz_venv_causal\\lib\\site-packages\\xarray\\coding\\variables.py:147: FutureWarning:\n",
      "\n",
      "elementwise comparison failed; returning scalar instead, but in the future will perform elementwise comparison\n",
      "\n",
      "d:\\Users\\User\\anaconda3\\envs\\pz_venv_causal\\lib\\site-packages\\xarray\\coding\\variables.py:147: FutureWarning:\n",
      "\n",
      "elementwise comparison failed; returning scalar instead, but in the future will perform elementwise comparison\n",
      "\n"
     ]
    },
    {
     "data": {
      "application/vnd.plotly.v1+json": {
       "config": {
        "plotlyServerURL": "https://plot.ly"
       },
       "data": [
        {
         "colorscale": [
          [
           0,
           "#440154"
          ],
          [
           0.1111111111111111,
           "#482878"
          ],
          [
           0.2222222222222222,
           "#3e4989"
          ],
          [
           0.3333333333333333,
           "#31688e"
          ],
          [
           0.4444444444444444,
           "#26828e"
          ],
          [
           0.5555555555555556,
           "#1f9e89"
          ],
          [
           0.6666666666666666,
           "#35b779"
          ],
          [
           0.7777777777777778,
           "#6ece58"
          ],
          [
           0.8888888888888888,
           "#b5de2b"
          ],
          [
           1,
           "#fde725"
          ]
         ],
         "scene": "scene",
         "showscale": false,
         "type": "surface",
         "x": [
          [
           1,
           1,
           1,
           1,
           1,
           1,
           1,
           1,
           1,
           1
          ],
          [
           2,
           2,
           2,
           2,
           2,
           2,
           2,
           2,
           2,
           2
          ],
          [
           3,
           3,
           3,
           3,
           3,
           3,
           3,
           3,
           3,
           3
          ],
          [
           4,
           4,
           4,
           4,
           4,
           4,
           4,
           4,
           4,
           4
          ],
          [
           5,
           5,
           5,
           5,
           5,
           5,
           5,
           5,
           5,
           5
          ]
         ],
         "y": [
          [
           1,
           2,
           3,
           4,
           5,
           6,
           7,
           8,
           9,
           10
          ],
          [
           1,
           2,
           3,
           4,
           5,
           6,
           7,
           8,
           9,
           10
          ],
          [
           1,
           2,
           3,
           4,
           5,
           6,
           7,
           8,
           9,
           10
          ],
          [
           1,
           2,
           3,
           4,
           5,
           6,
           7,
           8,
           9,
           10
          ],
          [
           1,
           2,
           3,
           4,
           5,
           6,
           7,
           8,
           9,
           10
          ]
         ],
         "z": [
          [
           0.8503076437192594,
           0.8503076437192594,
           0.8503076437192594,
           0.8503076437192594,
           0.8503076437192594,
           0.8503076437192594,
           0.8503076437192594,
           0.8503076437192594,
           0.8503076437192594,
           0.8503076437192594
          ],
          [
           0.9019775868654003,
           0.8957979354848804,
           0.9267395400144247,
           0.9299601496534379,
           0.9353686293863794,
           0.9574742585133262,
           0.9681146908135303,
           0.9857407086934773,
           0.9830771855244942,
           0.9849821652891666
          ],
          [
           0.9028511413882856,
           0.9374698618716796,
           0.9758589707241759,
           0.9893540262007583,
           0.9883473855837015,
           0.9708787602602832,
           0.9660074833379233,
           0.9391442970336609,
           0.8940374763534278,
           0.8519232959791004
          ],
          [
           0.910929558238047,
           0.9589244041209337,
           0.9879061009010555,
           0.9785445449491784,
           0.9545348660654531,
           0.8894245300061925,
           0.8186624049267022,
           0.7824341293368572,
           0.7897048272086657,
           0.8338345614744228
          ],
          [
           0.9184505618110518,
           0.972251397722188,
           0.9777185572160708,
           0.9319109410339929,
           0.8350929127898723,
           0.7761988205116458,
           0.8005774827978608,
           0.8714849227236842,
           0.9331616519377673,
           0.9492367017965988
          ]
         ]
        },
        {
         "colorscale": [
          [
           0,
           "#440154"
          ],
          [
           0.1111111111111111,
           "#482878"
          ],
          [
           0.2222222222222222,
           "#3e4989"
          ],
          [
           0.3333333333333333,
           "#31688e"
          ],
          [
           0.4444444444444444,
           "#26828e"
          ],
          [
           0.5555555555555556,
           "#1f9e89"
          ],
          [
           0.6666666666666666,
           "#35b779"
          ],
          [
           0.7777777777777778,
           "#6ece58"
          ],
          [
           0.8888888888888888,
           "#b5de2b"
          ],
          [
           1,
           "#fde725"
          ]
         ],
         "scene": "scene2",
         "showscale": false,
         "type": "surface",
         "x": [
          [
           1,
           1,
           1,
           1,
           1,
           1,
           1,
           1,
           1,
           1
          ],
          [
           2,
           2,
           2,
           2,
           2,
           2,
           2,
           2,
           2,
           2
          ],
          [
           3,
           3,
           3,
           3,
           3,
           3,
           3,
           3,
           3,
           3
          ],
          [
           4,
           4,
           4,
           4,
           4,
           4,
           4,
           4,
           4,
           4
          ],
          [
           5,
           5,
           5,
           5,
           5,
           5,
           5,
           5,
           5,
           5
          ]
         ],
         "y": [
          [
           1,
           2,
           3,
           4,
           5,
           6,
           7,
           8,
           9,
           10
          ],
          [
           1,
           2,
           3,
           4,
           5,
           6,
           7,
           8,
           9,
           10
          ],
          [
           1,
           2,
           3,
           4,
           5,
           6,
           7,
           8,
           9,
           10
          ],
          [
           1,
           2,
           3,
           4,
           5,
           6,
           7,
           8,
           9,
           10
          ],
          [
           1,
           2,
           3,
           4,
           5,
           6,
           7,
           8,
           9,
           10
          ]
         ],
         "z": [
          [
           0.7688045625589803,
           0.7688045625589803,
           0.7688045625589803,
           0.7688045625589803,
           0.7688045625589803,
           0.7688045625589803,
           0.7688045625589803,
           0.7688045625589803,
           0.7688045625589803,
           0.7688045625589803
          ],
          [
           0.8786493761996279,
           0.9356598830599975,
           0.9349369049495345,
           0.9406194473087758,
           0.9418336921208147,
           0.9612748350009388,
           0.9626845541266608,
           0.9636687414890212,
           0.9599623434406952,
           0.94503647680182
          ],
          [
           0.9210916764512797,
           0.9495551491335763,
           0.9726324026057486,
           0.9759293637478317,
           0.9686112764170406,
           0.9652357952098934,
           0.9228609800847251,
           0.9174173190942371,
           0.8901114921966152,
           0.8412793504231139
          ],
          [
           0.9363888952275737,
           0.9651158061046633,
           0.9776010563192318,
           0.9712025884326565,
           0.9276075544810398,
           0.8832953637940054,
           0.8173707478855925,
           0.7769364538876328,
           0.7907268276550361,
           0.8317535153931398
          ],
          [
           0.9402259301917713,
           0.9745447465669883,
           0.9664728366032961,
           0.920878382322285,
           0.8341586597815164,
           0.7761567113518618,
           0.8022237927235594,
           0.8721187718199134,
           0.9344107063172216,
           0.9468555685859933
          ]
         ]
        },
        {
         "colorscale": [
          [
           0,
           "#440154"
          ],
          [
           0.1111111111111111,
           "#482878"
          ],
          [
           0.2222222222222222,
           "#3e4989"
          ],
          [
           0.3333333333333333,
           "#31688e"
          ],
          [
           0.4444444444444444,
           "#26828e"
          ],
          [
           0.5555555555555556,
           "#1f9e89"
          ],
          [
           0.6666666666666666,
           "#35b779"
          ],
          [
           0.7777777777777778,
           "#6ece58"
          ],
          [
           0.8888888888888888,
           "#b5de2b"
          ],
          [
           1,
           "#fde725"
          ]
         ],
         "scene": "scene3",
         "showscale": false,
         "type": "surface",
         "x": [
          [
           1,
           1,
           1,
           1,
           1,
           1,
           1,
           1,
           1,
           1
          ],
          [
           2,
           2,
           2,
           2,
           2,
           2,
           2,
           2,
           2,
           2
          ],
          [
           3,
           3,
           3,
           3,
           3,
           3,
           3,
           3,
           3,
           3
          ],
          [
           4,
           4,
           4,
           4,
           4,
           4,
           4,
           4,
           4,
           4
          ],
          [
           5,
           5,
           5,
           5,
           5,
           5,
           5,
           5,
           5,
           5
          ]
         ],
         "y": [
          [
           1,
           2,
           3,
           4,
           5,
           6,
           7,
           8,
           9,
           10
          ],
          [
           1,
           2,
           3,
           4,
           5,
           6,
           7,
           8,
           9,
           10
          ],
          [
           1,
           2,
           3,
           4,
           5,
           6,
           7,
           8,
           9,
           10
          ],
          [
           1,
           2,
           3,
           4,
           5,
           6,
           7,
           8,
           9,
           10
          ],
          [
           1,
           2,
           3,
           4,
           5,
           6,
           7,
           8,
           9,
           10
          ]
         ],
         "z": [
          [
           0.8177806455951967,
           0.8177806455951967,
           0.8177806455951967,
           0.8177806455951967,
           0.8177806455951967,
           0.8177806455951967,
           0.8177806455951967,
           0.8177806455951967,
           0.8177806455951967,
           0.8177806455951967
          ],
          [
           0.8684559360925901,
           0.9102413790404386,
           0.9231081475251488,
           0.9357318057828293,
           0.9604020692195561,
           0.963203304603596,
           0.930170435146092,
           0.9269161283168675,
           0.9272551666882364,
           0.9257189858122324
          ],
          [
           0.8965974424872315,
           0.9347600948539205,
           0.949465883711064,
           0.9393058016610806,
           0.938372626762497,
           0.9325366333696655,
           0.9403478613900852,
           0.9277801243064528,
           0.8961073175482946,
           0.8527298481641564
          ],
          [
           0.9060419696287016,
           0.949490072851993,
           0.9383098070745659,
           0.9318778273285232,
           0.9272940837736963,
           0.8912970704714698,
           0.8228404344714547,
           0.781115442870812,
           0.7897959725189884,
           0.8335656703314647
          ],
          [
           0.913967460112437,
           0.9470469607084671,
           0.9250382058672875,
           0.9202158042776574,
           0.8418550879573341,
           0.7767940884313931,
           0.8011396449789016,
           0.8713405911550843,
           0.9344746622775625,
           0.9456142704009235
          ]
         ]
        },
        {
         "colorscale": [
          [
           0,
           "#440154"
          ],
          [
           0.1111111111111111,
           "#482878"
          ],
          [
           0.2222222222222222,
           "#3e4989"
          ],
          [
           0.3333333333333333,
           "#31688e"
          ],
          [
           0.4444444444444444,
           "#26828e"
          ],
          [
           0.5555555555555556,
           "#1f9e89"
          ],
          [
           0.6666666666666666,
           "#35b779"
          ],
          [
           0.7777777777777778,
           "#6ece58"
          ],
          [
           0.8888888888888888,
           "#b5de2b"
          ],
          [
           1,
           "#fde725"
          ]
         ],
         "scene": "scene4",
         "showscale": false,
         "type": "surface",
         "x": [
          [
           1,
           1,
           1,
           1,
           1,
           1,
           1,
           1,
           1,
           1
          ],
          [
           2,
           2,
           2,
           2,
           2,
           2,
           2,
           2,
           2,
           2
          ],
          [
           3,
           3,
           3,
           3,
           3,
           3,
           3,
           3,
           3,
           3
          ],
          [
           4,
           4,
           4,
           4,
           4,
           4,
           4,
           4,
           4,
           4
          ],
          [
           5,
           5,
           5,
           5,
           5,
           5,
           5,
           5,
           5,
           5
          ]
         ],
         "y": [
          [
           1,
           2,
           3,
           4,
           5,
           6,
           7,
           8,
           9,
           10
          ],
          [
           1,
           2,
           3,
           4,
           5,
           6,
           7,
           8,
           9,
           10
          ],
          [
           1,
           2,
           3,
           4,
           5,
           6,
           7,
           8,
           9,
           10
          ],
          [
           1,
           2,
           3,
           4,
           5,
           6,
           7,
           8,
           9,
           10
          ],
          [
           1,
           2,
           3,
           4,
           5,
           6,
           7,
           8,
           9,
           10
          ]
         ],
         "z": [
          [
           0.7494604271167951,
           0.7494604271167951,
           0.7494604271167951,
           0.7494604271167951,
           0.7494604271167951,
           0.7494604271167951,
           0.7494604271167951,
           0.7494604271167951,
           0.7494604271167951,
           0.7494604271167951
          ],
          [
           0.8234569379968749,
           0.8690859089458706,
           0.9001151920730096,
           0.9077954447686937,
           0.9216336491273874,
           0.9271538392309059,
           0.9107809543206291,
           0.8950627064202452,
           0.8774605044135606,
           0.8791288870069023
          ],
          [
           0.8488710089312768,
           0.9033212475687871,
           0.9554708109525998,
           0.9432730832135717,
           0.9318779802756614,
           0.9421824874751691,
           0.8842409965495089,
           0.891016294495336,
           0.8616717069648366,
           0.8323076324061446
          ],
          [
           0.8803671964115966,
           0.9246906362963239,
           0.9535173319141969,
           0.9553186815816443,
           0.8930653879241343,
           0.8728137736251477,
           0.8076824377946633,
           0.7756847371316928,
           0.7898604021626082,
           0.8338207447098223
          ],
          [
           0.8874273261519583,
           0.9376673668435848,
           0.947074749396535,
           0.8982584504716348,
           0.8194311359896644,
           0.7719026757558423,
           0.8008292305071162,
           0.872646527206973,
           0.9343062086407288,
           0.9483663725608633
          ]
         ]
        },
        {
         "colorscale": [
          [
           0,
           "#440154"
          ],
          [
           0.1111111111111111,
           "#482878"
          ],
          [
           0.2222222222222222,
           "#3e4989"
          ],
          [
           0.3333333333333333,
           "#31688e"
          ],
          [
           0.4444444444444444,
           "#26828e"
          ],
          [
           0.5555555555555556,
           "#1f9e89"
          ],
          [
           0.6666666666666666,
           "#35b779"
          ],
          [
           0.7777777777777778,
           "#6ece58"
          ],
          [
           0.8888888888888888,
           "#b5de2b"
          ],
          [
           1,
           "#fde725"
          ]
         ],
         "scene": "scene5",
         "showscale": false,
         "type": "surface",
         "x": [
          [
           1,
           1,
           1,
           1,
           1,
           1,
           1,
           1,
           1,
           1
          ],
          [
           2,
           2,
           2,
           2,
           2,
           2,
           2,
           2,
           2,
           2
          ],
          [
           3,
           3,
           3,
           3,
           3,
           3,
           3,
           3,
           3,
           3
          ],
          [
           4,
           4,
           4,
           4,
           4,
           4,
           4,
           4,
           4,
           4
          ],
          [
           5,
           5,
           5,
           5,
           5,
           5,
           5,
           5,
           5,
           5
          ]
         ],
         "y": [
          [
           1,
           2,
           3,
           4,
           5,
           6,
           7,
           8,
           9,
           10
          ],
          [
           1,
           2,
           3,
           4,
           5,
           6,
           7,
           8,
           9,
           10
          ],
          [
           1,
           2,
           3,
           4,
           5,
           6,
           7,
           8,
           9,
           10
          ],
          [
           1,
           2,
           3,
           4,
           5,
           6,
           7,
           8,
           9,
           10
          ],
          [
           1,
           2,
           3,
           4,
           5,
           6,
           7,
           8,
           9,
           10
          ]
         ],
         "z": [
          [
           0.796664841639699,
           0.796664841639699,
           0.796664841639699,
           0.796664841639699,
           0.796664841639699,
           0.796664841639699,
           0.796664841639699,
           0.796664841639699,
           0.796664841639699,
           0.796664841639699
          ],
          [
           0.8606731747454877,
           0.9067831126224,
           0.9340543286454711,
           0.9340537669512183,
           0.9302705807286987,
           0.8820937867611018,
           0.8750888078572967,
           0.9143094751579058,
           0.9543897054587437,
           0.9595389908513633
          ],
          [
           0.8910536133787955,
           0.940600287107076,
           0.939425108951933,
           0.9575170704030556,
           0.9501360291400679,
           0.920606540861683,
           0.9527228119725069,
           0.9426659956532546,
           0.8836440797291519,
           0.843717695386641
          ],
          [
           0.9114285727138508,
           0.9366328918095393,
           0.942077232085398,
           0.9608442269241488,
           0.9478668516619132,
           0.8730378411163372,
           0.811254082221265,
           0.7845018593187688,
           0.7875939543575697,
           0.8295636509226022
          ],
          [
           0.9161587561863951,
           0.9318021343077709,
           0.9448383100483476,
           0.9320820901474808,
           0.8326841320223277,
           0.772646277590768,
           0.7983353363679988,
           0.8709488372354987,
           0.9314314801852074,
           0.950839681925215
          ]
         ]
        },
        {
         "colorscale": [
          [
           0,
           "#440154"
          ],
          [
           0.1111111111111111,
           "#482878"
          ],
          [
           0.2222222222222222,
           "#3e4989"
          ],
          [
           0.3333333333333333,
           "#31688e"
          ],
          [
           0.4444444444444444,
           "#26828e"
          ],
          [
           0.5555555555555556,
           "#1f9e89"
          ],
          [
           0.6666666666666666,
           "#35b779"
          ],
          [
           0.7777777777777778,
           "#6ece58"
          ],
          [
           0.8888888888888888,
           "#b5de2b"
          ],
          [
           1,
           "#fde725"
          ]
         ],
         "scene": "scene6",
         "showscale": false,
         "type": "surface",
         "x": [
          [
           1,
           1,
           1,
           1,
           1,
           1,
           1,
           1,
           1,
           1
          ],
          [
           2,
           2,
           2,
           2,
           2,
           2,
           2,
           2,
           2,
           2
          ],
          [
           3,
           3,
           3,
           3,
           3,
           3,
           3,
           3,
           3,
           3
          ],
          [
           4,
           4,
           4,
           4,
           4,
           4,
           4,
           4,
           4,
           4
          ],
          [
           5,
           5,
           5,
           5,
           5,
           5,
           5,
           5,
           5,
           5
          ]
         ],
         "y": [
          [
           1,
           2,
           3,
           4,
           5,
           6,
           7,
           8,
           9,
           10
          ],
          [
           1,
           2,
           3,
           4,
           5,
           6,
           7,
           8,
           9,
           10
          ],
          [
           1,
           2,
           3,
           4,
           5,
           6,
           7,
           8,
           9,
           10
          ],
          [
           1,
           2,
           3,
           4,
           5,
           6,
           7,
           8,
           9,
           10
          ],
          [
           1,
           2,
           3,
           4,
           5,
           6,
           7,
           8,
           9,
           10
          ]
         ],
         "z": [
          [
           0.6847519754934719,
           0.6847519754934719,
           0.6847519754934719,
           0.6847519754934719,
           0.6847519754934719,
           0.6847519754934719,
           0.6847519754934719,
           0.6847519754934719,
           0.6847519754934719,
           0.6847519754934719
          ],
          [
           0.7603534855117081,
           0.858947524184619,
           0.8450496638272423,
           0.8692269884629635,
           0.8775945951707464,
           0.9151580624140693,
           0.9296824140350264,
           0.9335697960669262,
           0.9193939106792135,
           0.9196554318113064
          ],
          [
           0.8494635186365718,
           0.9232786157655367,
           0.9362751198901356,
           0.9513332297945406,
           0.9298647192079047,
           0.9197058854453398,
           0.9199344449062247,
           0.886177057523177,
           0.8700386208762841,
           0.8261554039185715
          ],
          [
           0.8659174727758414,
           0.9592666881436314,
           0.9702634029543032,
           0.9627845029087386,
           0.9227846610598969,
           0.8670727993310405,
           0.8036463725463989,
           0.7786560097522147,
           0.7886111297656648,
           0.8272477203683141
          ],
          [
           0.89141927826621,
           0.9774682988279721,
           0.9653720222867984,
           0.9218237492332986,
           0.821320008662619,
           0.7715766846865452,
           0.7986245666396621,
           0.8710869872060852,
           0.933062859437399,
           0.945015477162908
          ]
         ]
        },
        {
         "colorscale": [
          [
           0,
           "#440154"
          ],
          [
           0.1111111111111111,
           "#482878"
          ],
          [
           0.2222222222222222,
           "#3e4989"
          ],
          [
           0.3333333333333333,
           "#31688e"
          ],
          [
           0.4444444444444444,
           "#26828e"
          ],
          [
           0.5555555555555556,
           "#1f9e89"
          ],
          [
           0.6666666666666666,
           "#35b779"
          ],
          [
           0.7777777777777778,
           "#6ece58"
          ],
          [
           0.8888888888888888,
           "#b5de2b"
          ],
          [
           1,
           "#fde725"
          ]
         ],
         "scene": "scene7",
         "showscale": false,
         "type": "surface",
         "x": [
          [
           1,
           1,
           1,
           1,
           1,
           1,
           1,
           1,
           1,
           1
          ],
          [
           2,
           2,
           2,
           2,
           2,
           2,
           2,
           2,
           2,
           2
          ],
          [
           3,
           3,
           3,
           3,
           3,
           3,
           3,
           3,
           3,
           3
          ],
          [
           4,
           4,
           4,
           4,
           4,
           4,
           4,
           4,
           4,
           4
          ],
          [
           5,
           5,
           5,
           5,
           5,
           5,
           5,
           5,
           5,
           5
          ]
         ],
         "y": [
          [
           1,
           2,
           3,
           4,
           5,
           6,
           7,
           8,
           9,
           10
          ],
          [
           1,
           2,
           3,
           4,
           5,
           6,
           7,
           8,
           9,
           10
          ],
          [
           1,
           2,
           3,
           4,
           5,
           6,
           7,
           8,
           9,
           10
          ],
          [
           1,
           2,
           3,
           4,
           5,
           6,
           7,
           8,
           9,
           10
          ],
          [
           1,
           2,
           3,
           4,
           5,
           6,
           7,
           8,
           9,
           10
          ]
         ],
         "z": [
          [
           0.8761325895061399,
           0.8761325895061399,
           0.8761325895061399,
           0.8761325895061399,
           0.8761325895061399,
           0.8761325895061399,
           0.8761325895061399,
           0.8761325895061399,
           0.8761325895061399,
           0.8761325895061399
          ],
          [
           0.9108681799269175,
           0.9420806624198327,
           0.9564618342684477,
           0.9665142473511441,
           0.9712829761033825,
           0.9747716486593186,
           0.9844178293881416,
           0.981329805866594,
           0.9780851449450334,
           0.9788718013262165
          ],
          [
           0.9236647675727254,
           0.9762555255849055,
           0.9913963876067475,
           0.9865156021825967,
           0.9784787461430564,
           0.9797872347170876,
           0.960287579388745,
           0.9370754816032837,
           0.8985356188136508,
           0.8532039817908145
          ],
          [
           0.9488611902625133,
           0.9894397019939318,
           0.9914860317694029,
           0.9825610649978992,
           0.946737943282699,
           0.889880417212662,
           0.8229034922135944,
           0.7838194981108796,
           0.791952547840372,
           0.8348105934313368
          ],
          [
           0.9678353955258517,
           0.993953161124988,
           0.9813819062161354,
           0.9293775596364232,
           0.837946794446837,
           0.7794120537213224,
           0.8029909959442392,
           0.8720904882244824,
           0.9335574634615954,
           0.9485401816184991
          ]
         ]
        },
        {
         "colorscale": [
          [
           0,
           "#440154"
          ],
          [
           0.1111111111111111,
           "#482878"
          ],
          [
           0.2222222222222222,
           "#3e4989"
          ],
          [
           0.3333333333333333,
           "#31688e"
          ],
          [
           0.4444444444444444,
           "#26828e"
          ],
          [
           0.5555555555555556,
           "#1f9e89"
          ],
          [
           0.6666666666666666,
           "#35b779"
          ],
          [
           0.7777777777777778,
           "#6ece58"
          ],
          [
           0.8888888888888888,
           "#b5de2b"
          ],
          [
           1,
           "#fde725"
          ]
         ],
         "scene": "scene8",
         "showscale": false,
         "type": "surface",
         "x": [
          [
           1,
           1,
           1,
           1,
           1,
           1,
           1,
           1,
           1,
           1
          ],
          [
           2,
           2,
           2,
           2,
           2,
           2,
           2,
           2,
           2,
           2
          ],
          [
           3,
           3,
           3,
           3,
           3,
           3,
           3,
           3,
           3,
           3
          ],
          [
           4,
           4,
           4,
           4,
           4,
           4,
           4,
           4,
           4,
           4
          ],
          [
           5,
           5,
           5,
           5,
           5,
           5,
           5,
           5,
           5,
           5
          ]
         ],
         "y": [
          [
           1,
           2,
           3,
           4,
           5,
           6,
           7,
           8,
           9,
           10
          ],
          [
           1,
           2,
           3,
           4,
           5,
           6,
           7,
           8,
           9,
           10
          ],
          [
           1,
           2,
           3,
           4,
           5,
           6,
           7,
           8,
           9,
           10
          ],
          [
           1,
           2,
           3,
           4,
           5,
           6,
           7,
           8,
           9,
           10
          ],
          [
           1,
           2,
           3,
           4,
           5,
           6,
           7,
           8,
           9,
           10
          ]
         ],
         "z": [
          [
           0.6987179316562041,
           0.6987179316562041,
           0.6987179316562041,
           0.6987179316562041,
           0.6987179316562041,
           0.6987179316562041,
           0.6987179316562041,
           0.6987179316562041,
           0.6987179316562041,
           0.6987179316562041
          ],
          [
           0.7341266686177943,
           0.8124600174869325,
           0.7935779680767145,
           0.8357355258861874,
           0.8273272226305423,
           0.8286451298539829,
           0.811037531502469,
           0.8097193530367247,
           0.8594763106631412,
           0.8769737763526303
          ],
          [
           0.7592881165748517,
           0.8647644887543777,
           0.8913546245485007,
           0.9144812741285095,
           0.9438224090786346,
           0.9316587164785928,
           0.8873722617218693,
           0.8910755215522125,
           0.8818787396400769,
           0.842333494627909
          ],
          [
           0.8205531407128772,
           0.9134638977317588,
           0.941777203476419,
           0.9476006508560605,
           0.9457947120634342,
           0.8853281725056477,
           0.811525613465552,
           0.7834563747453308,
           0.7917062944704193,
           0.8343001288880136
          ],
          [
           0.8413080072543917,
           0.9273824690608666,
           0.950576772462992,
           0.9210077843060375,
           0.8342720968435341,
           0.7770370366915396,
           0.801207918606876,
           0.872102909980175,
           0.9346003218221088,
           0.9474088934740791
          ]
         ]
        },
        {
         "colorscale": [
          [
           0,
           "#440154"
          ],
          [
           0.1111111111111111,
           "#482878"
          ],
          [
           0.2222222222222222,
           "#3e4989"
          ],
          [
           0.3333333333333333,
           "#31688e"
          ],
          [
           0.4444444444444444,
           "#26828e"
          ],
          [
           0.5555555555555556,
           "#1f9e89"
          ],
          [
           0.6666666666666666,
           "#35b779"
          ],
          [
           0.7777777777777778,
           "#6ece58"
          ],
          [
           0.8888888888888888,
           "#b5de2b"
          ],
          [
           1,
           "#fde725"
          ]
         ],
         "scene": "scene9",
         "showscale": false,
         "type": "surface",
         "x": [
          [
           1,
           1,
           1,
           1,
           1,
           1,
           1,
           1,
           1,
           1
          ],
          [
           2,
           2,
           2,
           2,
           2,
           2,
           2,
           2,
           2,
           2
          ],
          [
           3,
           3,
           3,
           3,
           3,
           3,
           3,
           3,
           3,
           3
          ],
          [
           4,
           4,
           4,
           4,
           4,
           4,
           4,
           4,
           4,
           4
          ],
          [
           5,
           5,
           5,
           5,
           5,
           5,
           5,
           5,
           5,
           5
          ]
         ],
         "y": [
          [
           1,
           2,
           3,
           4,
           5,
           6,
           7,
           8,
           9,
           10
          ],
          [
           1,
           2,
           3,
           4,
           5,
           6,
           7,
           8,
           9,
           10
          ],
          [
           1,
           2,
           3,
           4,
           5,
           6,
           7,
           8,
           9,
           10
          ],
          [
           1,
           2,
           3,
           4,
           5,
           6,
           7,
           8,
           9,
           10
          ],
          [
           1,
           2,
           3,
           4,
           5,
           6,
           7,
           8,
           9,
           10
          ]
         ],
         "z": [
          [
           0.6541703382495874,
           0.6541703382495874,
           0.6541703382495874,
           0.6541703382495874,
           0.6541703382495874,
           0.6541703382495874,
           0.6541703382495874,
           0.6541703382495874,
           0.6541703382495874,
           0.6541703382495874
          ],
          [
           0.7699980827089901,
           0.8987538282531907,
           0.8562150068809972,
           0.8763890322086437,
           0.8898166629833479,
           0.946958899667189,
           0.9474543008700447,
           0.9317024409214753,
           0.9398243229590302,
           0.9375647950984678
          ],
          [
           0.8446726749963296,
           0.9297640894959963,
           0.9512813743931219,
           0.9518892300075564,
           0.9475307513241061,
           0.943461057476818,
           0.9257013181588655,
           0.9001390210055161,
           0.8779179793351525,
           0.8276390674854207
          ],
          [
           0.87565023523018,
           0.9572644953756697,
           0.976127490754232,
           0.9667180898703029,
           0.9297010765105028,
           0.8748369153353788,
           0.8040549826854858,
           0.7768633434278394,
           0.7875771590034284,
           0.8262725263126274
          ],
          [
           0.8908513288417171,
           0.9785345170405296,
           0.9695505262288316,
           0.9233369107063799,
           0.8265813198812655,
           0.7708057211750154,
           0.797882116580344,
           0.8709871470423585,
           0.9328705977788357,
           0.9447058391916117
          ]
         ]
        },
        {
         "colorscale": [
          [
           0,
           "#440154"
          ],
          [
           0.1111111111111111,
           "#482878"
          ],
          [
           0.2222222222222222,
           "#3e4989"
          ],
          [
           0.3333333333333333,
           "#31688e"
          ],
          [
           0.4444444444444444,
           "#26828e"
          ],
          [
           0.5555555555555556,
           "#1f9e89"
          ],
          [
           0.6666666666666666,
           "#35b779"
          ],
          [
           0.7777777777777778,
           "#6ece58"
          ],
          [
           0.8888888888888888,
           "#b5de2b"
          ],
          [
           1,
           "#fde725"
          ]
         ],
         "scene": "scene10",
         "showscale": false,
         "type": "surface",
         "x": [
          [
           1,
           1,
           1,
           1,
           1,
           1,
           1,
           1,
           1,
           1
          ],
          [
           2,
           2,
           2,
           2,
           2,
           2,
           2,
           2,
           2,
           2
          ],
          [
           3,
           3,
           3,
           3,
           3,
           3,
           3,
           3,
           3,
           3
          ],
          [
           4,
           4,
           4,
           4,
           4,
           4,
           4,
           4,
           4,
           4
          ],
          [
           5,
           5,
           5,
           5,
           5,
           5,
           5,
           5,
           5,
           5
          ]
         ],
         "y": [
          [
           1,
           2,
           3,
           4,
           5,
           6,
           7,
           8,
           9,
           10
          ],
          [
           1,
           2,
           3,
           4,
           5,
           6,
           7,
           8,
           9,
           10
          ],
          [
           1,
           2,
           3,
           4,
           5,
           6,
           7,
           8,
           9,
           10
          ],
          [
           1,
           2,
           3,
           4,
           5,
           6,
           7,
           8,
           9,
           10
          ],
          [
           1,
           2,
           3,
           4,
           5,
           6,
           7,
           8,
           9,
           10
          ]
         ],
         "z": [
          [
           0.6883792085758789,
           0.6883792085758789,
           0.6883792085758789,
           0.6883792085758789,
           0.6883792085758789,
           0.6883792085758789,
           0.6883792085758789,
           0.6883792085758789,
           0.6883792085758789,
           0.6883792085758789
          ],
          [
           0.7872968970342996,
           0.9092246400278117,
           0.8638002089860854,
           0.889798968968885,
           0.8919619852145825,
           0.94965812918007,
           0.9510836547448253,
           0.932441904346306,
           0.9357217191229555,
           0.927455496247643
          ],
          [
           0.8551105777253089,
           0.9295286123684438,
           0.9481513782161257,
           0.9506061327390855,
           0.9452569600564376,
           0.944923043461092,
           0.925668552423763,
           0.9005560457372328,
           0.8734760002497923,
           0.8273027651016216
          ],
          [
           0.8800986268364901,
           0.9609781202797264,
           0.9782722361338846,
           0.9670938289565724,
           0.9294526498306328,
           0.8730772205911428,
           0.800792967260066,
           0.7757951839472002,
           0.7865760704482819,
           0.8260714188790642
          ],
          [
           0.8916891273109788,
           0.9791583401235503,
           0.9698549939027469,
           0.9233065499683871,
           0.824749131558423,
           0.7701275263852619,
           0.7966733401815355,
           0.8708246971156763,
           0.9326031761082759,
           0.944655385160271
          ]
         ]
        }
       ],
       "layout": {
        "annotations": [
         {
          "font": {
           "size": 16
          },
          "showarrow": false,
          "text": "Point 1: (lat=15, lon=66)",
          "x": 0.08399999999999999,
          "xanchor": "center",
          "xref": "paper",
          "y": 1,
          "yanchor": "bottom",
          "yref": "paper"
         },
         {
          "font": {
           "size": 16
          },
          "showarrow": false,
          "text": "Point 2: (lat=87, lon=143)",
          "x": 0.292,
          "xanchor": "center",
          "xref": "paper",
          "y": 1,
          "yanchor": "bottom",
          "yref": "paper"
         },
         {
          "font": {
           "size": 16
          },
          "showarrow": false,
          "text": "Point 3: (lat=72, lon=131)",
          "x": 0.5,
          "xanchor": "center",
          "xref": "paper",
          "y": 1,
          "yanchor": "bottom",
          "yref": "paper"
         },
         {
          "font": {
           "size": 16
          },
          "showarrow": false,
          "text": "Point 4: (lat=86, lon=6)",
          "x": 0.708,
          "xanchor": "center",
          "xref": "paper",
          "y": 1,
          "yanchor": "bottom",
          "yref": "paper"
         },
         {
          "font": {
           "size": 16
          },
          "showarrow": false,
          "text": "Point 5: (lat=14, lon=103)",
          "x": 0.9159999999999999,
          "xanchor": "center",
          "xref": "paper",
          "y": 1,
          "yanchor": "bottom",
          "yref": "paper"
         },
         {
          "font": {
           "size": 16
          },
          "showarrow": false,
          "text": "Point 6: (lat=95, lon=37)",
          "x": 0.08399999999999999,
          "xanchor": "center",
          "xref": "paper",
          "y": 0.375,
          "yanchor": "bottom",
          "yref": "paper"
         },
         {
          "font": {
           "size": 16
          },
          "showarrow": false,
          "text": "Point 7: (lat=46, lon=128)",
          "x": 0.292,
          "xanchor": "center",
          "xref": "paper",
          "y": 0.375,
          "yanchor": "bottom",
          "yref": "paper"
         },
         {
          "font": {
           "size": 16
          },
          "showarrow": false,
          "text": "Point 8: (lat=30, lon=44)",
          "x": 0.5,
          "xanchor": "center",
          "xref": "paper",
          "y": 0.375,
          "yanchor": "bottom",
          "yref": "paper"
         },
         {
          "font": {
           "size": 16
          },
          "showarrow": false,
          "text": "Point 9: (lat=94, lon=83)",
          "x": 0.708,
          "xanchor": "center",
          "xref": "paper",
          "y": 0.375,
          "yanchor": "bottom",
          "yref": "paper"
         },
         {
          "font": {
           "size": 16
          },
          "showarrow": false,
          "text": "Point 10: (lat=94, lon=97)",
          "x": 0.9159999999999999,
          "xanchor": "center",
          "xref": "paper",
          "y": 0.375,
          "yanchor": "bottom",
          "yref": "paper"
         }
        ],
        "height": 800,
        "scene": {
         "domain": {
          "x": [
           0,
           0.16799999999999998
          ],
          "y": [
           0.625,
           1
          ]
         },
         "xaxis": {
          "title": {
           "text": "E"
          }
         },
         "yaxis": {
          "title": {
           "text": "tau"
          }
         },
         "zaxis": {
          "title": {
           "text": "rho"
          }
         }
        },
        "scene10": {
         "domain": {
          "x": [
           0.832,
           1
          ],
          "y": [
           0,
           0.375
          ]
         }
        },
        "scene2": {
         "domain": {
          "x": [
           0.208,
           0.376
          ],
          "y": [
           0.625,
           1
          ]
         }
        },
        "scene3": {
         "domain": {
          "x": [
           0.416,
           0.584
          ],
          "y": [
           0.625,
           1
          ]
         }
        },
        "scene4": {
         "domain": {
          "x": [
           0.624,
           0.792
          ],
          "y": [
           0.625,
           1
          ]
         }
        },
        "scene5": {
         "domain": {
          "x": [
           0.832,
           1
          ],
          "y": [
           0.625,
           1
          ]
         }
        },
        "scene6": {
         "domain": {
          "x": [
           0,
           0.16799999999999998
          ],
          "y": [
           0,
           0.375
          ]
         }
        },
        "scene7": {
         "domain": {
          "x": [
           0.208,
           0.376
          ],
          "y": [
           0,
           0.375
          ]
         }
        },
        "scene8": {
         "domain": {
          "x": [
           0.416,
           0.584
          ],
          "y": [
           0,
           0.375
          ]
         }
        },
        "scene9": {
         "domain": {
          "x": [
           0.624,
           0.792
          ],
          "y": [
           0,
           0.375
          ]
         }
        },
        "template": {
         "data": {
          "bar": [
           {
            "error_x": {
             "color": "#2a3f5f"
            },
            "error_y": {
             "color": "#2a3f5f"
            },
            "marker": {
             "line": {
              "color": "#E5ECF6",
              "width": 0.5
             },
             "pattern": {
              "fillmode": "overlay",
              "size": 10,
              "solidity": 0.2
             }
            },
            "type": "bar"
           }
          ],
          "barpolar": [
           {
            "marker": {
             "line": {
              "color": "#E5ECF6",
              "width": 0.5
             },
             "pattern": {
              "fillmode": "overlay",
              "size": 10,
              "solidity": 0.2
             }
            },
            "type": "barpolar"
           }
          ],
          "carpet": [
           {
            "aaxis": {
             "endlinecolor": "#2a3f5f",
             "gridcolor": "white",
             "linecolor": "white",
             "minorgridcolor": "white",
             "startlinecolor": "#2a3f5f"
            },
            "baxis": {
             "endlinecolor": "#2a3f5f",
             "gridcolor": "white",
             "linecolor": "white",
             "minorgridcolor": "white",
             "startlinecolor": "#2a3f5f"
            },
            "type": "carpet"
           }
          ],
          "choropleth": [
           {
            "colorbar": {
             "outlinewidth": 0,
             "ticks": ""
            },
            "type": "choropleth"
           }
          ],
          "contour": [
           {
            "colorbar": {
             "outlinewidth": 0,
             "ticks": ""
            },
            "colorscale": [
             [
              0,
              "#0d0887"
             ],
             [
              0.1111111111111111,
              "#46039f"
             ],
             [
              0.2222222222222222,
              "#7201a8"
             ],
             [
              0.3333333333333333,
              "#9c179e"
             ],
             [
              0.4444444444444444,
              "#bd3786"
             ],
             [
              0.5555555555555556,
              "#d8576b"
             ],
             [
              0.6666666666666666,
              "#ed7953"
             ],
             [
              0.7777777777777778,
              "#fb9f3a"
             ],
             [
              0.8888888888888888,
              "#fdca26"
             ],
             [
              1,
              "#f0f921"
             ]
            ],
            "type": "contour"
           }
          ],
          "contourcarpet": [
           {
            "colorbar": {
             "outlinewidth": 0,
             "ticks": ""
            },
            "type": "contourcarpet"
           }
          ],
          "heatmap": [
           {
            "colorbar": {
             "outlinewidth": 0,
             "ticks": ""
            },
            "colorscale": [
             [
              0,
              "#0d0887"
             ],
             [
              0.1111111111111111,
              "#46039f"
             ],
             [
              0.2222222222222222,
              "#7201a8"
             ],
             [
              0.3333333333333333,
              "#9c179e"
             ],
             [
              0.4444444444444444,
              "#bd3786"
             ],
             [
              0.5555555555555556,
              "#d8576b"
             ],
             [
              0.6666666666666666,
              "#ed7953"
             ],
             [
              0.7777777777777778,
              "#fb9f3a"
             ],
             [
              0.8888888888888888,
              "#fdca26"
             ],
             [
              1,
              "#f0f921"
             ]
            ],
            "type": "heatmap"
           }
          ],
          "heatmapgl": [
           {
            "colorbar": {
             "outlinewidth": 0,
             "ticks": ""
            },
            "colorscale": [
             [
              0,
              "#0d0887"
             ],
             [
              0.1111111111111111,
              "#46039f"
             ],
             [
              0.2222222222222222,
              "#7201a8"
             ],
             [
              0.3333333333333333,
              "#9c179e"
             ],
             [
              0.4444444444444444,
              "#bd3786"
             ],
             [
              0.5555555555555556,
              "#d8576b"
             ],
             [
              0.6666666666666666,
              "#ed7953"
             ],
             [
              0.7777777777777778,
              "#fb9f3a"
             ],
             [
              0.8888888888888888,
              "#fdca26"
             ],
             [
              1,
              "#f0f921"
             ]
            ],
            "type": "heatmapgl"
           }
          ],
          "histogram": [
           {
            "marker": {
             "pattern": {
              "fillmode": "overlay",
              "size": 10,
              "solidity": 0.2
             }
            },
            "type": "histogram"
           }
          ],
          "histogram2d": [
           {
            "colorbar": {
             "outlinewidth": 0,
             "ticks": ""
            },
            "colorscale": [
             [
              0,
              "#0d0887"
             ],
             [
              0.1111111111111111,
              "#46039f"
             ],
             [
              0.2222222222222222,
              "#7201a8"
             ],
             [
              0.3333333333333333,
              "#9c179e"
             ],
             [
              0.4444444444444444,
              "#bd3786"
             ],
             [
              0.5555555555555556,
              "#d8576b"
             ],
             [
              0.6666666666666666,
              "#ed7953"
             ],
             [
              0.7777777777777778,
              "#fb9f3a"
             ],
             [
              0.8888888888888888,
              "#fdca26"
             ],
             [
              1,
              "#f0f921"
             ]
            ],
            "type": "histogram2d"
           }
          ],
          "histogram2dcontour": [
           {
            "colorbar": {
             "outlinewidth": 0,
             "ticks": ""
            },
            "colorscale": [
             [
              0,
              "#0d0887"
             ],
             [
              0.1111111111111111,
              "#46039f"
             ],
             [
              0.2222222222222222,
              "#7201a8"
             ],
             [
              0.3333333333333333,
              "#9c179e"
             ],
             [
              0.4444444444444444,
              "#bd3786"
             ],
             [
              0.5555555555555556,
              "#d8576b"
             ],
             [
              0.6666666666666666,
              "#ed7953"
             ],
             [
              0.7777777777777778,
              "#fb9f3a"
             ],
             [
              0.8888888888888888,
              "#fdca26"
             ],
             [
              1,
              "#f0f921"
             ]
            ],
            "type": "histogram2dcontour"
           }
          ],
          "mesh3d": [
           {
            "colorbar": {
             "outlinewidth": 0,
             "ticks": ""
            },
            "type": "mesh3d"
           }
          ],
          "parcoords": [
           {
            "line": {
             "colorbar": {
              "outlinewidth": 0,
              "ticks": ""
             }
            },
            "type": "parcoords"
           }
          ],
          "pie": [
           {
            "automargin": true,
            "type": "pie"
           }
          ],
          "scatter": [
           {
            "fillpattern": {
             "fillmode": "overlay",
             "size": 10,
             "solidity": 0.2
            },
            "type": "scatter"
           }
          ],
          "scatter3d": [
           {
            "line": {
             "colorbar": {
              "outlinewidth": 0,
              "ticks": ""
             }
            },
            "marker": {
             "colorbar": {
              "outlinewidth": 0,
              "ticks": ""
             }
            },
            "type": "scatter3d"
           }
          ],
          "scattercarpet": [
           {
            "marker": {
             "colorbar": {
              "outlinewidth": 0,
              "ticks": ""
             }
            },
            "type": "scattercarpet"
           }
          ],
          "scattergeo": [
           {
            "marker": {
             "colorbar": {
              "outlinewidth": 0,
              "ticks": ""
             }
            },
            "type": "scattergeo"
           }
          ],
          "scattergl": [
           {
            "marker": {
             "colorbar": {
              "outlinewidth": 0,
              "ticks": ""
             }
            },
            "type": "scattergl"
           }
          ],
          "scattermapbox": [
           {
            "marker": {
             "colorbar": {
              "outlinewidth": 0,
              "ticks": ""
             }
            },
            "type": "scattermapbox"
           }
          ],
          "scatterpolar": [
           {
            "marker": {
             "colorbar": {
              "outlinewidth": 0,
              "ticks": ""
             }
            },
            "type": "scatterpolar"
           }
          ],
          "scatterpolargl": [
           {
            "marker": {
             "colorbar": {
              "outlinewidth": 0,
              "ticks": ""
             }
            },
            "type": "scatterpolargl"
           }
          ],
          "scatterternary": [
           {
            "marker": {
             "colorbar": {
              "outlinewidth": 0,
              "ticks": ""
             }
            },
            "type": "scatterternary"
           }
          ],
          "surface": [
           {
            "colorbar": {
             "outlinewidth": 0,
             "ticks": ""
            },
            "colorscale": [
             [
              0,
              "#0d0887"
             ],
             [
              0.1111111111111111,
              "#46039f"
             ],
             [
              0.2222222222222222,
              "#7201a8"
             ],
             [
              0.3333333333333333,
              "#9c179e"
             ],
             [
              0.4444444444444444,
              "#bd3786"
             ],
             [
              0.5555555555555556,
              "#d8576b"
             ],
             [
              0.6666666666666666,
              "#ed7953"
             ],
             [
              0.7777777777777778,
              "#fb9f3a"
             ],
             [
              0.8888888888888888,
              "#fdca26"
             ],
             [
              1,
              "#f0f921"
             ]
            ],
            "type": "surface"
           }
          ],
          "table": [
           {
            "cells": {
             "fill": {
              "color": "#EBF0F8"
             },
             "line": {
              "color": "white"
             }
            },
            "header": {
             "fill": {
              "color": "#C8D4E3"
             },
             "line": {
              "color": "white"
             }
            },
            "type": "table"
           }
          ]
         },
         "layout": {
          "annotationdefaults": {
           "arrowcolor": "#2a3f5f",
           "arrowhead": 0,
           "arrowwidth": 1
          },
          "autotypenumbers": "strict",
          "coloraxis": {
           "colorbar": {
            "outlinewidth": 0,
            "ticks": ""
           }
          },
          "colorscale": {
           "diverging": [
            [
             0,
             "#8e0152"
            ],
            [
             0.1,
             "#c51b7d"
            ],
            [
             0.2,
             "#de77ae"
            ],
            [
             0.3,
             "#f1b6da"
            ],
            [
             0.4,
             "#fde0ef"
            ],
            [
             0.5,
             "#f7f7f7"
            ],
            [
             0.6,
             "#e6f5d0"
            ],
            [
             0.7,
             "#b8e186"
            ],
            [
             0.8,
             "#7fbc41"
            ],
            [
             0.9,
             "#4d9221"
            ],
            [
             1,
             "#276419"
            ]
           ],
           "sequential": [
            [
             0,
             "#0d0887"
            ],
            [
             0.1111111111111111,
             "#46039f"
            ],
            [
             0.2222222222222222,
             "#7201a8"
            ],
            [
             0.3333333333333333,
             "#9c179e"
            ],
            [
             0.4444444444444444,
             "#bd3786"
            ],
            [
             0.5555555555555556,
             "#d8576b"
            ],
            [
             0.6666666666666666,
             "#ed7953"
            ],
            [
             0.7777777777777778,
             "#fb9f3a"
            ],
            [
             0.8888888888888888,
             "#fdca26"
            ],
            [
             1,
             "#f0f921"
            ]
           ],
           "sequentialminus": [
            [
             0,
             "#0d0887"
            ],
            [
             0.1111111111111111,
             "#46039f"
            ],
            [
             0.2222222222222222,
             "#7201a8"
            ],
            [
             0.3333333333333333,
             "#9c179e"
            ],
            [
             0.4444444444444444,
             "#bd3786"
            ],
            [
             0.5555555555555556,
             "#d8576b"
            ],
            [
             0.6666666666666666,
             "#ed7953"
            ],
            [
             0.7777777777777778,
             "#fb9f3a"
            ],
            [
             0.8888888888888888,
             "#fdca26"
            ],
            [
             1,
             "#f0f921"
            ]
           ]
          },
          "colorway": [
           "#636efa",
           "#EF553B",
           "#00cc96",
           "#ab63fa",
           "#FFA15A",
           "#19d3f3",
           "#FF6692",
           "#B6E880",
           "#FF97FF",
           "#FECB52"
          ],
          "font": {
           "color": "#2a3f5f"
          },
          "geo": {
           "bgcolor": "white",
           "lakecolor": "white",
           "landcolor": "#E5ECF6",
           "showlakes": true,
           "showland": true,
           "subunitcolor": "white"
          },
          "hoverlabel": {
           "align": "left"
          },
          "hovermode": "closest",
          "mapbox": {
           "style": "light"
          },
          "paper_bgcolor": "white",
          "plot_bgcolor": "#E5ECF6",
          "polar": {
           "angularaxis": {
            "gridcolor": "white",
            "linecolor": "white",
            "ticks": ""
           },
           "bgcolor": "#E5ECF6",
           "radialaxis": {
            "gridcolor": "white",
            "linecolor": "white",
            "ticks": ""
           }
          },
          "scene": {
           "xaxis": {
            "backgroundcolor": "#E5ECF6",
            "gridcolor": "white",
            "gridwidth": 2,
            "linecolor": "white",
            "showbackground": true,
            "ticks": "",
            "zerolinecolor": "white"
           },
           "yaxis": {
            "backgroundcolor": "#E5ECF6",
            "gridcolor": "white",
            "gridwidth": 2,
            "linecolor": "white",
            "showbackground": true,
            "ticks": "",
            "zerolinecolor": "white"
           },
           "zaxis": {
            "backgroundcolor": "#E5ECF6",
            "gridcolor": "white",
            "gridwidth": 2,
            "linecolor": "white",
            "showbackground": true,
            "ticks": "",
            "zerolinecolor": "white"
           }
          },
          "shapedefaults": {
           "line": {
            "color": "#2a3f5f"
           }
          },
          "ternary": {
           "aaxis": {
            "gridcolor": "white",
            "linecolor": "white",
            "ticks": ""
           },
           "baxis": {
            "gridcolor": "white",
            "linecolor": "white",
            "ticks": ""
           },
           "bgcolor": "#E5ECF6",
           "caxis": {
            "gridcolor": "white",
            "linecolor": "white",
            "ticks": ""
           }
          },
          "title": {
           "x": 0.05
          },
          "xaxis": {
           "automargin": true,
           "gridcolor": "white",
           "linecolor": "white",
           "ticks": "",
           "title": {
            "standoff": 15
           },
           "zerolinecolor": "white",
           "zerolinewidth": 2
          },
          "yaxis": {
           "automargin": true,
           "gridcolor": "white",
           "linecolor": "white",
           "ticks": "",
           "title": {
            "standoff": 15
           },
           "zerolinecolor": "white",
           "zerolinewidth": 2
          }
         }
        },
        "title": {
         "text": "EmbedDimension scan of E in [1..5], tau in [1..10] (Tp = tau)"
        },
        "width": 1400
       }
      }
     },
     "metadata": {},
     "output_type": "display_data"
    }
   ],
   "source": [
    "import xarray as xr\n",
    "import pandas as pd\n",
    "import numpy as np\n",
    "import random\n",
    "\n",
    "import plotly.graph_objects as go\n",
    "from plotly.subplots import make_subplots\n",
    "\n",
    "from pyEDM import EmbedDimension\n",
    "\n",
    "\n",
    "# assert ds_sat.sizes[\"age\"] == len(df_pre), (\n",
    "#     \"ds_sat age dimension must match length of precession time series.\"\n",
    "# )\n",
    "\n",
    "\n",
    "# Grab coordinate sizes\n",
    "nlat = ds_sat.sizes[\"lat\"]\n",
    "nlon = ds_sat.sizes[\"lon\"]\n",
    "ages = ds_sat[\"age\"].values  # not strictly needed but good to keep track\n",
    "\n",
    "# ---------------------------------------------------------------------\n",
    "# 2. Randomly select 10 (lat, lon) grid points\n",
    "# ---------------------------------------------------------------------\n",
    "all_pairs = [(ilat, ilon) for ilat in range(nlat) for ilon in range(nlon)]\n",
    "random_pairs = random.sample(all_pairs, 10)  # pick 10 unique (ilat, ilon)\n",
    "\n",
    "\n",
    "\n",
    "results_list = []  # will be a list of (ilat, ilon, Evals, Tauvals, RhoMatrix)\n",
    "\n",
    "for idx, (ilat, ilon) in enumerate(random_pairs):\n",
    "    # Extract local sat time series\n",
    "    sat_ts = ds_sat[\"sat\"].isel(lat=ilat, lon=ilon).values\n",
    "\n",
    "    df_tmp = pd.DataFrame({\n",
    "        \"Time\": ages,\n",
    "        \"pre\": df_pre[\"pre\"],  # predictor\n",
    "        \"sat\": sat_ts          # target to predict\n",
    "    })\n",
    "\n",
    "    # We'll store a 2D array of shape (5,10) for E=1..5, tau=1..10\n",
    "    # Accessed as RhoMatrix[E-1, tau-1].\n",
    "    RhoMatrix = np.zeros((5, 10))\n",
    "\n",
    "    # For each tau in 1..10, call EmbedDimension once with maxE=5 and Tp=tau\n",
    "    for tau in range(1, 11):\n",
    "        edm_out = EmbedDimension(\n",
    "            dataFrame=df_tmp,\n",
    "            columns=\"sat\",\n",
    "            target=\"pre\",\n",
    "            maxE=5,          # We'll evaluate E=1..5\n",
    "            tau=tau,\n",
    "            Tp=3,\n",
    "            lib=\"1 120\",     # Entire time series, adapt if needed\n",
    "            pred=\"1 120\",\n",
    "            showPlot=False,  # We'll handle plotting ourselves\n",
    "            # If you want to speed up or parallelize, you can set numThreads or numProcess\n",
    "        )\n",
    "\n",
    "        for e_row in edm_out.itertuples():\n",
    "            e_val = e_row.E     # 1..5\n",
    "            # print(e_val)\n",
    "            rho_val = e_row.rho\n",
    "            RhoMatrix[int(e_val - 1), int(tau - 1)] = rho_val\n",
    "\n",
    "    # We'll store the axis values for plotting (note: we want these in 2D for a surface plot).\n",
    "    E_axis = np.arange(1, 6)     # 1..5\n",
    "    Tau_axis = np.arange(1, 11)  # 1..10\n",
    "\n",
    "    # Save the result for this grid point\n",
    "    results_list.append((ilat, ilon, E_axis, Tau_axis, RhoMatrix))\n",
    "\n",
    "# ---------------------------------------------------------------------\n",
    "# 4. Make a 3D surface plot for each of the 10 results\n",
    "#    using Plotly subplots\n",
    "# ---------------------------------------------------------------------\n",
    "\n",
    "# We'll do 2 rows, 5 columns of 3D subplots\n",
    "fig = make_subplots(\n",
    "    rows=2, cols=5,\n",
    "    specs=[\n",
    "        [{\"type\": \"surface\"}]*5,\n",
    "        [{\"type\": \"surface\"}]*5\n",
    "    ],\n",
    "    subplot_titles=[f\"Point {i+1}: (lat={r[0]}, lon={r[1]})\" for i, r in enumerate(results_list)]\n",
    ")\n",
    "\n",
    "for i, (ilat, ilon, E_axis, Tau_axis, RhoMatrix) in enumerate(results_list):\n",
    "\n",
    "    E_grid, Tau_grid = np.meshgrid(E_axis, Tau_axis, indexing='ij')\n",
    "\n",
    "    row = (i // 5) + 1\n",
    "    col = (i % 5) + 1\n",
    "\n",
    "    # Create the surface trace\n",
    "    surf = go.Surface(\n",
    "        x=E_grid,       # E dimension\n",
    "        y=Tau_grid,     # tau dimension\n",
    "        z=RhoMatrix,    # rho\n",
    "        colorscale=\"Viridis\",   # or any Plotly colormap you like\n",
    "        showscale=False         # hide colorbar in subplots for neatness\n",
    "    )\n",
    "    fig.add_trace(surf, row=row, col=col)\n",
    "\n",
    "# Update overall layout\n",
    "fig.update_layout(\n",
    "    height=800, width=1400,\n",
    "    title=\"EmbedDimension scan of E in [1..5], tau in [1..10] (Tp = tau)\",\n",
    "    scene=dict(\n",
    "        xaxis_title=\"E\",\n",
    "        yaxis_title=\"tau\",\n",
    "        zaxis_title=\"rho\"\n",
    "    ),\n",
    "    # If you prefer separate axis labels per subplot, you can set them individually\n",
    "    # with fig.update_xaxes(..., row=?, col=?)\n",
    ")\n",
    "\n",
    "fig.show()\n"
   ]
  },
  {
   "cell_type": "code",
   "execution_count": 18,
   "metadata": {},
   "outputs": [
    {
     "name": "stderr",
     "output_type": "stream",
     "text": [
      "d:\\Users\\User\\anaconda3\\envs\\pz_venv_causal\\lib\\site-packages\\xarray\\coding\\variables.py:147: FutureWarning:\n",
      "\n",
      "elementwise comparison failed; returning scalar instead, but in the future will perform elementwise comparison\n",
      "\n",
      "d:\\Users\\User\\anaconda3\\envs\\pz_venv_causal\\lib\\site-packages\\xarray\\coding\\variables.py:147: FutureWarning:\n",
      "\n",
      "elementwise comparison failed; returning scalar instead, but in the future will perform elementwise comparison\n",
      "\n",
      "d:\\Users\\User\\anaconda3\\envs\\pz_venv_causal\\lib\\site-packages\\xarray\\coding\\variables.py:147: FutureWarning:\n",
      "\n",
      "elementwise comparison failed; returning scalar instead, but in the future will perform elementwise comparison\n",
      "\n",
      "d:\\Users\\User\\anaconda3\\envs\\pz_venv_causal\\lib\\site-packages\\xarray\\coding\\variables.py:147: FutureWarning:\n",
      "\n",
      "elementwise comparison failed; returning scalar instead, but in the future will perform elementwise comparison\n",
      "\n",
      "d:\\Users\\User\\anaconda3\\envs\\pz_venv_causal\\lib\\site-packages\\xarray\\coding\\variables.py:147: FutureWarning:\n",
      "\n",
      "elementwise comparison failed; returning scalar instead, but in the future will perform elementwise comparison\n",
      "\n",
      "d:\\Users\\User\\anaconda3\\envs\\pz_venv_causal\\lib\\site-packages\\xarray\\coding\\variables.py:147: FutureWarning:\n",
      "\n",
      "elementwise comparison failed; returning scalar instead, but in the future will perform elementwise comparison\n",
      "\n",
      "d:\\Users\\User\\anaconda3\\envs\\pz_venv_causal\\lib\\site-packages\\xarray\\coding\\variables.py:147: FutureWarning:\n",
      "\n",
      "elementwise comparison failed; returning scalar instead, but in the future will perform elementwise comparison\n",
      "\n",
      "d:\\Users\\User\\anaconda3\\envs\\pz_venv_causal\\lib\\site-packages\\xarray\\coding\\variables.py:147: FutureWarning:\n",
      "\n",
      "elementwise comparison failed; returning scalar instead, but in the future will perform elementwise comparison\n",
      "\n",
      "d:\\Users\\User\\anaconda3\\envs\\pz_venv_causal\\lib\\site-packages\\xarray\\coding\\variables.py:147: FutureWarning:\n",
      "\n",
      "elementwise comparison failed; returning scalar instead, but in the future will perform elementwise comparison\n",
      "\n",
      "d:\\Users\\User\\anaconda3\\envs\\pz_venv_causal\\lib\\site-packages\\xarray\\coding\\variables.py:147: FutureWarning:\n",
      "\n",
      "elementwise comparison failed; returning scalar instead, but in the future will perform elementwise comparison\n",
      "\n"
     ]
    },
    {
     "data": {
      "application/vnd.plotly.v1+json": {
       "config": {
        "plotlyServerURL": "https://plot.ly"
       },
       "data": [
        {
         "colorscale": [
          [
           0,
           "#440154"
          ],
          [
           0.1111111111111111,
           "#482878"
          ],
          [
           0.2222222222222222,
           "#3e4989"
          ],
          [
           0.3333333333333333,
           "#31688e"
          ],
          [
           0.4444444444444444,
           "#26828e"
          ],
          [
           0.5555555555555556,
           "#1f9e89"
          ],
          [
           0.6666666666666666,
           "#35b779"
          ],
          [
           0.7777777777777778,
           "#6ece58"
          ],
          [
           0.8888888888888888,
           "#b5de2b"
          ],
          [
           1,
           "#fde725"
          ]
         ],
         "scene": "scene",
         "showscale": false,
         "type": "surface",
         "x": [
          [
           1,
           1,
           1,
           1,
           1,
           1,
           1,
           1,
           1,
           1
          ],
          [
           2,
           2,
           2,
           2,
           2,
           2,
           2,
           2,
           2,
           2
          ],
          [
           3,
           3,
           3,
           3,
           3,
           3,
           3,
           3,
           3,
           3
          ],
          [
           4,
           4,
           4,
           4,
           4,
           4,
           4,
           4,
           4,
           4
          ],
          [
           5,
           5,
           5,
           5,
           5,
           5,
           5,
           5,
           5,
           5
          ]
         ],
         "y": [
          [
           1,
           2,
           3,
           4,
           5,
           6,
           7,
           8,
           9,
           10
          ],
          [
           1,
           2,
           3,
           4,
           5,
           6,
           7,
           8,
           9,
           10
          ],
          [
           1,
           2,
           3,
           4,
           5,
           6,
           7,
           8,
           9,
           10
          ],
          [
           1,
           2,
           3,
           4,
           5,
           6,
           7,
           8,
           9,
           10
          ],
          [
           1,
           2,
           3,
           4,
           5,
           6,
           7,
           8,
           9,
           10
          ]
         ],
         "z": [
          [
           0.827589358635769,
           0.827589358635769,
           0.827589358635769,
           0.827589358635769,
           0.827589358635769,
           0.827589358635769,
           0.827589358635769,
           0.827589358635769,
           0.827589358635769,
           0.827589358635769
          ],
          [
           0.8903628484529338,
           0.925506938364333,
           0.9315253622110734,
           0.9570921950648628,
           0.9537921714936015,
           0.9713228501892787,
           0.9624523457879585,
           0.9714235860241335,
           0.9758031473617951,
           0.9775500422184914
          ],
          [
           0.9203184047194821,
           0.9530076546551134,
           0.9800456148273389,
           0.9822693986431439,
           0.9908649350069642,
           0.9775887455718133,
           0.95342965343953,
           0.9205452103511218,
           0.8644177546566572,
           0.7494973225831653
          ],
          [
           0.9428638318900986,
           0.9793508525407304,
           0.989105928225948,
           0.9773700356200286,
           0.9466164279864591,
           0.8569536678681271,
           0.6026418399032305,
           0.18362034170738192,
           0.1869097390286329,
           0.7386727413739588
          ],
          [
           0.9514815896748939,
           0.9862165829476772,
           0.9765064501551124,
           0.9164027912226042,
           0.7042822743618171,
           0.38801922071883577,
           0.7167628375090929,
           0.8458469260890825,
           0.7068760394110473,
           0.8712675266473897
          ]
         ]
        },
        {
         "colorscale": [
          [
           0,
           "#440154"
          ],
          [
           0.1111111111111111,
           "#482878"
          ],
          [
           0.2222222222222222,
           "#3e4989"
          ],
          [
           0.3333333333333333,
           "#31688e"
          ],
          [
           0.4444444444444444,
           "#26828e"
          ],
          [
           0.5555555555555556,
           "#1f9e89"
          ],
          [
           0.6666666666666666,
           "#35b779"
          ],
          [
           0.7777777777777778,
           "#6ece58"
          ],
          [
           0.8888888888888888,
           "#b5de2b"
          ],
          [
           1,
           "#fde725"
          ]
         ],
         "scene": "scene2",
         "showscale": false,
         "type": "surface",
         "x": [
          [
           1,
           1,
           1,
           1,
           1,
           1,
           1,
           1,
           1,
           1
          ],
          [
           2,
           2,
           2,
           2,
           2,
           2,
           2,
           2,
           2,
           2
          ],
          [
           3,
           3,
           3,
           3,
           3,
           3,
           3,
           3,
           3,
           3
          ],
          [
           4,
           4,
           4,
           4,
           4,
           4,
           4,
           4,
           4,
           4
          ],
          [
           5,
           5,
           5,
           5,
           5,
           5,
           5,
           5,
           5,
           5
          ]
         ],
         "y": [
          [
           1,
           2,
           3,
           4,
           5,
           6,
           7,
           8,
           9,
           10
          ],
          [
           1,
           2,
           3,
           4,
           5,
           6,
           7,
           8,
           9,
           10
          ],
          [
           1,
           2,
           3,
           4,
           5,
           6,
           7,
           8,
           9,
           10
          ],
          [
           1,
           2,
           3,
           4,
           5,
           6,
           7,
           8,
           9,
           10
          ],
          [
           1,
           2,
           3,
           4,
           5,
           6,
           7,
           8,
           9,
           10
          ]
         ],
         "z": [
          [
           0.8543026012859376,
           0.8543026012859376,
           0.8543026012859376,
           0.8543026012859376,
           0.8543026012859376,
           0.8543026012859376,
           0.8543026012859376,
           0.8543026012859376,
           0.8543026012859376,
           0.8543026012859376
          ],
          [
           0.9106809744034515,
           0.9174530866489605,
           0.9480765589575323,
           0.9544707123653264,
           0.9653573440196769,
           0.97085892299756,
           0.970752639678497,
           0.9548718483907548,
           0.9546816986786063,
           0.944820955374515
          ],
          [
           0.913600461784339,
           0.9572307471817131,
           0.973611035028494,
           0.9737847269418923,
           0.9699610584535443,
           0.9745108577112827,
           0.9556261328632902,
           0.9081581079661198,
           0.8440411728272527,
           0.6970495896473602
          ],
          [
           0.9369983831176267,
           0.9683303776389328,
           0.9787433552862256,
           0.9677959017351604,
           0.941280989220141,
           0.864105339967896,
           0.595770385419972,
           0.257937674995486,
           0.450518866403586,
           0.24339319831029305
          ],
          [
           0.9510393087518663,
           0.9715865938712407,
           0.9692485942126409,
           0.9150832825628952,
           0.6696812227688957,
           0.3903329103346306,
           0.5641780278423247,
           0.44609680560022663,
           0.2824178967134763,
           -0.06836139456045298
          ]
         ]
        },
        {
         "colorscale": [
          [
           0,
           "#440154"
          ],
          [
           0.1111111111111111,
           "#482878"
          ],
          [
           0.2222222222222222,
           "#3e4989"
          ],
          [
           0.3333333333333333,
           "#31688e"
          ],
          [
           0.4444444444444444,
           "#26828e"
          ],
          [
           0.5555555555555556,
           "#1f9e89"
          ],
          [
           0.6666666666666666,
           "#35b779"
          ],
          [
           0.7777777777777778,
           "#6ece58"
          ],
          [
           0.8888888888888888,
           "#b5de2b"
          ],
          [
           1,
           "#fde725"
          ]
         ],
         "scene": "scene3",
         "showscale": false,
         "type": "surface",
         "x": [
          [
           1,
           1,
           1,
           1,
           1,
           1,
           1,
           1,
           1,
           1
          ],
          [
           2,
           2,
           2,
           2,
           2,
           2,
           2,
           2,
           2,
           2
          ],
          [
           3,
           3,
           3,
           3,
           3,
           3,
           3,
           3,
           3,
           3
          ],
          [
           4,
           4,
           4,
           4,
           4,
           4,
           4,
           4,
           4,
           4
          ],
          [
           5,
           5,
           5,
           5,
           5,
           5,
           5,
           5,
           5,
           5
          ]
         ],
         "y": [
          [
           1,
           2,
           3,
           4,
           5,
           6,
           7,
           8,
           9,
           10
          ],
          [
           1,
           2,
           3,
           4,
           5,
           6,
           7,
           8,
           9,
           10
          ],
          [
           1,
           2,
           3,
           4,
           5,
           6,
           7,
           8,
           9,
           10
          ],
          [
           1,
           2,
           3,
           4,
           5,
           6,
           7,
           8,
           9,
           10
          ],
          [
           1,
           2,
           3,
           4,
           5,
           6,
           7,
           8,
           9,
           10
          ]
         ],
         "z": [
          [
           0.7341819810173874,
           0.7341819810173874,
           0.7341819810173874,
           0.7341819810173874,
           0.7341819810173874,
           0.7341819810173874,
           0.7341819810173874,
           0.7341819810173874,
           0.7341819810173874,
           0.7341819810173874
          ],
          [
           0.8484654341220111,
           0.9254759550575459,
           0.9549806533773721,
           0.971952396843389,
           0.9728179469053366,
           0.9633884408624235,
           0.9726348731314091,
           0.9763874271555472,
           0.9829324648427279,
           0.9840503523709696
          ],
          [
           0.901096805070205,
           0.9668276579292074,
           0.9842619829478253,
           0.9850802996102608,
           0.9882317315706289,
           0.9816586635856733,
           0.964605182375145,
           0.9333542306208022,
           0.8714713290726228,
           0.8505923609907071
          ],
          [
           0.9417731466159088,
           0.980559511285402,
           0.9879317658326718,
           0.9795476026985528,
           0.9471493803309018,
           0.8921055702671729,
           0.9077541911247985,
           0.9276227150816925,
           0.912068735143631,
           0.8942586599201925
          ],
          [
           0.9534252735020811,
           0.9854900696575243,
           0.9776168726510042,
           0.9178747252908828,
           0.9059134167518209,
           0.9220009081623141,
           0.8711904757866326,
           0.8469139032951561,
           0.873782853032414,
           0.8776576566270101
          ]
         ]
        },
        {
         "colorscale": [
          [
           0,
           "#440154"
          ],
          [
           0.1111111111111111,
           "#482878"
          ],
          [
           0.2222222222222222,
           "#3e4989"
          ],
          [
           0.3333333333333333,
           "#31688e"
          ],
          [
           0.4444444444444444,
           "#26828e"
          ],
          [
           0.5555555555555556,
           "#1f9e89"
          ],
          [
           0.6666666666666666,
           "#35b779"
          ],
          [
           0.7777777777777778,
           "#6ece58"
          ],
          [
           0.8888888888888888,
           "#b5de2b"
          ],
          [
           1,
           "#fde725"
          ]
         ],
         "scene": "scene4",
         "showscale": false,
         "type": "surface",
         "x": [
          [
           1,
           1,
           1,
           1,
           1,
           1,
           1,
           1,
           1,
           1
          ],
          [
           2,
           2,
           2,
           2,
           2,
           2,
           2,
           2,
           2,
           2
          ],
          [
           3,
           3,
           3,
           3,
           3,
           3,
           3,
           3,
           3,
           3
          ],
          [
           4,
           4,
           4,
           4,
           4,
           4,
           4,
           4,
           4,
           4
          ],
          [
           5,
           5,
           5,
           5,
           5,
           5,
           5,
           5,
           5,
           5
          ]
         ],
         "y": [
          [
           1,
           2,
           3,
           4,
           5,
           6,
           7,
           8,
           9,
           10
          ],
          [
           1,
           2,
           3,
           4,
           5,
           6,
           7,
           8,
           9,
           10
          ],
          [
           1,
           2,
           3,
           4,
           5,
           6,
           7,
           8,
           9,
           10
          ],
          [
           1,
           2,
           3,
           4,
           5,
           6,
           7,
           8,
           9,
           10
          ],
          [
           1,
           2,
           3,
           4,
           5,
           6,
           7,
           8,
           9,
           10
          ]
         ],
         "z": [
          [
           0.9404821148336396,
           0.9404821148336396,
           0.9404821148336396,
           0.9404821148336396,
           0.9404821148336396,
           0.9404821148336396,
           0.9404821148336396,
           0.9404821148336396,
           0.9404821148336396,
           0.9404821148336396
          ],
          [
           0.9338455862598947,
           0.94493736893541,
           0.9594377851617202,
           0.9548710957790563,
           0.9465124288144457,
           0.9449904409843963,
           0.9681228530877024,
           0.9583772213239511,
           0.9703880766490203,
           0.9487650786915075
          ],
          [
           0.9402356860742623,
           0.9567511618122087,
           0.9589135359819387,
           0.9595585367155963,
           0.9680719444558203,
           0.9641145701575716,
           0.9544335219088643,
           0.933807555841353,
           0.883032572889787,
           0.7753197789120829
          ],
          [
           0.9542917269220299,
           0.9636149902900379,
           0.9705189366725474,
           0.9654594507877335,
           0.9430984160660127,
           0.8798562420953542,
           0.6252649608000611,
           0.13475585018380135,
           -0.13139811723178713,
           -0.18548989639412142
          ],
          [
           0.9574880401301533,
           0.9710582409742362,
           0.9680320372511466,
           0.9273379391051538,
           0.748524865754417,
           0.11566230070313878,
           -0.17469125834754992,
           -0.1284308542264227,
           -0.036324682370673204,
           0.5821795350281562
          ]
         ]
        },
        {
         "colorscale": [
          [
           0,
           "#440154"
          ],
          [
           0.1111111111111111,
           "#482878"
          ],
          [
           0.2222222222222222,
           "#3e4989"
          ],
          [
           0.3333333333333333,
           "#31688e"
          ],
          [
           0.4444444444444444,
           "#26828e"
          ],
          [
           0.5555555555555556,
           "#1f9e89"
          ],
          [
           0.6666666666666666,
           "#35b779"
          ],
          [
           0.7777777777777778,
           "#6ece58"
          ],
          [
           0.8888888888888888,
           "#b5de2b"
          ],
          [
           1,
           "#fde725"
          ]
         ],
         "scene": "scene5",
         "showscale": false,
         "type": "surface",
         "x": [
          [
           1,
           1,
           1,
           1,
           1,
           1,
           1,
           1,
           1,
           1
          ],
          [
           2,
           2,
           2,
           2,
           2,
           2,
           2,
           2,
           2,
           2
          ],
          [
           3,
           3,
           3,
           3,
           3,
           3,
           3,
           3,
           3,
           3
          ],
          [
           4,
           4,
           4,
           4,
           4,
           4,
           4,
           4,
           4,
           4
          ],
          [
           5,
           5,
           5,
           5,
           5,
           5,
           5,
           5,
           5,
           5
          ]
         ],
         "y": [
          [
           1,
           2,
           3,
           4,
           5,
           6,
           7,
           8,
           9,
           10
          ],
          [
           1,
           2,
           3,
           4,
           5,
           6,
           7,
           8,
           9,
           10
          ],
          [
           1,
           2,
           3,
           4,
           5,
           6,
           7,
           8,
           9,
           10
          ],
          [
           1,
           2,
           3,
           4,
           5,
           6,
           7,
           8,
           9,
           10
          ],
          [
           1,
           2,
           3,
           4,
           5,
           6,
           7,
           8,
           9,
           10
          ]
         ],
         "z": [
          [
           0.9833510305585843,
           0.9833510305585843,
           0.9833510305585843,
           0.9833510305585843,
           0.9833510305585843,
           0.9833510305585843,
           0.9833510305585843,
           0.9833510305585843,
           0.9833510305585843,
           0.9833510305585843
          ],
          [
           0.9805362332854869,
           0.9871349677800203,
           0.9894237512992914,
           0.9940461337149726,
           0.9930224765332735,
           0.9920082331008198,
           0.9924416614649806,
           0.9910662273055549,
           0.9921482924162961,
           0.9900067562985483
          ],
          [
           0.9869635581605772,
           0.9924301954323858,
           0.9939654809064297,
           0.9953592110142274,
           0.9919574315219424,
           0.9827610321068849,
           0.9651184750487729,
           0.9295877151883839,
           0.8798409281721113,
           0.7522453295925533
          ],
          [
           0.988835322460727,
           0.9953671923894714,
           0.993742264202969,
           0.9822022158344547,
           0.9506089483449428,
           0.8655128223070279,
           0.61975108850661,
           0.15480667020000677,
           -0.11984084811610474,
           -0.1690459734441382
          ],
          [
           0.9911504649870881,
           0.9946700436841245,
           0.9804645764587613,
           0.9224230062145443,
           0.7219491332664808,
           0.11120332903823581,
           -0.1660278556868002,
           -0.13284585444939512,
           -0.021295771069569383,
           0.15554545433704342
          ]
         ]
        },
        {
         "colorscale": [
          [
           0,
           "#440154"
          ],
          [
           0.1111111111111111,
           "#482878"
          ],
          [
           0.2222222222222222,
           "#3e4989"
          ],
          [
           0.3333333333333333,
           "#31688e"
          ],
          [
           0.4444444444444444,
           "#26828e"
          ],
          [
           0.5555555555555556,
           "#1f9e89"
          ],
          [
           0.6666666666666666,
           "#35b779"
          ],
          [
           0.7777777777777778,
           "#6ece58"
          ],
          [
           0.8888888888888888,
           "#b5de2b"
          ],
          [
           1,
           "#fde725"
          ]
         ],
         "scene": "scene6",
         "showscale": false,
         "type": "surface",
         "x": [
          [
           1,
           1,
           1,
           1,
           1,
           1,
           1,
           1,
           1,
           1
          ],
          [
           2,
           2,
           2,
           2,
           2,
           2,
           2,
           2,
           2,
           2
          ],
          [
           3,
           3,
           3,
           3,
           3,
           3,
           3,
           3,
           3,
           3
          ],
          [
           4,
           4,
           4,
           4,
           4,
           4,
           4,
           4,
           4,
           4
          ],
          [
           5,
           5,
           5,
           5,
           5,
           5,
           5,
           5,
           5,
           5
          ]
         ],
         "y": [
          [
           1,
           2,
           3,
           4,
           5,
           6,
           7,
           8,
           9,
           10
          ],
          [
           1,
           2,
           3,
           4,
           5,
           6,
           7,
           8,
           9,
           10
          ],
          [
           1,
           2,
           3,
           4,
           5,
           6,
           7,
           8,
           9,
           10
          ],
          [
           1,
           2,
           3,
           4,
           5,
           6,
           7,
           8,
           9,
           10
          ],
          [
           1,
           2,
           3,
           4,
           5,
           6,
           7,
           8,
           9,
           10
          ]
         ],
         "z": [
          [
           0.8677200198406572,
           0.8677200198406572,
           0.8677200198406572,
           0.8677200198406572,
           0.8677200198406572,
           0.8677200198406572,
           0.8677200198406572,
           0.8677200198406572,
           0.8677200198406572,
           0.8677200198406572
          ],
          [
           0.90059528970857,
           0.9025211069228539,
           0.9507094638516171,
           0.9398853237584799,
           0.9468708374993654,
           0.93354410868133,
           0.933350349661575,
           0.9535677525416205,
           0.9577828278800603,
           0.9580885985546543
          ],
          [
           0.9182199886044313,
           0.9465262429535317,
           0.9583637657900058,
           0.9621323655403415,
           0.9783777196456735,
           0.9725726033342853,
           0.9503177756242176,
           0.9004679625719991,
           0.7978750639898115,
           0.693991474879691
          ],
          [
           0.9310885709262101,
           0.960290065412601,
           0.9724582296130382,
           0.9685640471310694,
           0.9279495936315905,
           0.8532751974038334,
           0.6033223318155078,
           -0.04394812603758007,
           -0.24497279624703985,
           -0.20537512718592107
          ],
          [
           0.9410103202819301,
           0.9683208777302292,
           0.9720911769090115,
           0.8889335104160782,
           0.6591145403673245,
           0.04685709193113559,
           -0.0898285522718795,
           0.006312204310509049,
           -0.14675887029391815,
           0.2392338734299624
          ]
         ]
        },
        {
         "colorscale": [
          [
           0,
           "#440154"
          ],
          [
           0.1111111111111111,
           "#482878"
          ],
          [
           0.2222222222222222,
           "#3e4989"
          ],
          [
           0.3333333333333333,
           "#31688e"
          ],
          [
           0.4444444444444444,
           "#26828e"
          ],
          [
           0.5555555555555556,
           "#1f9e89"
          ],
          [
           0.6666666666666666,
           "#35b779"
          ],
          [
           0.7777777777777778,
           "#6ece58"
          ],
          [
           0.8888888888888888,
           "#b5de2b"
          ],
          [
           1,
           "#fde725"
          ]
         ],
         "scene": "scene7",
         "showscale": false,
         "type": "surface",
         "x": [
          [
           1,
           1,
           1,
           1,
           1,
           1,
           1,
           1,
           1,
           1
          ],
          [
           2,
           2,
           2,
           2,
           2,
           2,
           2,
           2,
           2,
           2
          ],
          [
           3,
           3,
           3,
           3,
           3,
           3,
           3,
           3,
           3,
           3
          ],
          [
           4,
           4,
           4,
           4,
           4,
           4,
           4,
           4,
           4,
           4
          ],
          [
           5,
           5,
           5,
           5,
           5,
           5,
           5,
           5,
           5,
           5
          ]
         ],
         "y": [
          [
           1,
           2,
           3,
           4,
           5,
           6,
           7,
           8,
           9,
           10
          ],
          [
           1,
           2,
           3,
           4,
           5,
           6,
           7,
           8,
           9,
           10
          ],
          [
           1,
           2,
           3,
           4,
           5,
           6,
           7,
           8,
           9,
           10
          ],
          [
           1,
           2,
           3,
           4,
           5,
           6,
           7,
           8,
           9,
           10
          ],
          [
           1,
           2,
           3,
           4,
           5,
           6,
           7,
           8,
           9,
           10
          ]
         ],
         "z": [
          [
           0.9531231796678326,
           0.9531231796678326,
           0.9531231796678326,
           0.9531231796678326,
           0.9531231796678326,
           0.9531231796678326,
           0.9531231796678326,
           0.9531231796678326,
           0.9531231796678326,
           0.9531231796678326
          ],
          [
           0.949796670043495,
           0.9582593846080318,
           0.9667418570003017,
           0.9523185323153786,
           0.9583501541425797,
           0.9635336066624803,
           0.9658116602612605,
           0.9611781393591485,
           0.954483003620267,
           0.96769897117766
          ],
          [
           0.9549928827397748,
           0.9521904974512989,
           0.9650327075962887,
           0.9633709284350458,
           0.9690022360387788,
           0.9730230078352576,
           0.9624693012053316,
           0.9175200026559808,
           0.8617597261677685,
           0.761679712739826
          ],
          [
           0.9595337694164754,
           0.9670285984067756,
           0.969145691934875,
           0.9672656756656048,
           0.9496483126661165,
           0.8672071251420186,
           0.6323129572257693,
           0.12716781138524688,
           -0.15343452338983465,
           -0.19827813430042382
          ],
          [
           0.962682045815075,
           0.969266026912602,
           0.96372025327241,
           0.9268130730100034,
           0.724816427553424,
           0.10034427112786642,
           -0.19662881107176447,
           -0.14297189960287168,
           0.03265574435126169,
           0.40621266234119846
          ]
         ]
        },
        {
         "colorscale": [
          [
           0,
           "#440154"
          ],
          [
           0.1111111111111111,
           "#482878"
          ],
          [
           0.2222222222222222,
           "#3e4989"
          ],
          [
           0.3333333333333333,
           "#31688e"
          ],
          [
           0.4444444444444444,
           "#26828e"
          ],
          [
           0.5555555555555556,
           "#1f9e89"
          ],
          [
           0.6666666666666666,
           "#35b779"
          ],
          [
           0.7777777777777778,
           "#6ece58"
          ],
          [
           0.8888888888888888,
           "#b5de2b"
          ],
          [
           1,
           "#fde725"
          ]
         ],
         "scene": "scene8",
         "showscale": false,
         "type": "surface",
         "x": [
          [
           1,
           1,
           1,
           1,
           1,
           1,
           1,
           1,
           1,
           1
          ],
          [
           2,
           2,
           2,
           2,
           2,
           2,
           2,
           2,
           2,
           2
          ],
          [
           3,
           3,
           3,
           3,
           3,
           3,
           3,
           3,
           3,
           3
          ],
          [
           4,
           4,
           4,
           4,
           4,
           4,
           4,
           4,
           4,
           4
          ],
          [
           5,
           5,
           5,
           5,
           5,
           5,
           5,
           5,
           5,
           5
          ]
         ],
         "y": [
          [
           1,
           2,
           3,
           4,
           5,
           6,
           7,
           8,
           9,
           10
          ],
          [
           1,
           2,
           3,
           4,
           5,
           6,
           7,
           8,
           9,
           10
          ],
          [
           1,
           2,
           3,
           4,
           5,
           6,
           7,
           8,
           9,
           10
          ],
          [
           1,
           2,
           3,
           4,
           5,
           6,
           7,
           8,
           9,
           10
          ],
          [
           1,
           2,
           3,
           4,
           5,
           6,
           7,
           8,
           9,
           10
          ]
         ],
         "z": [
          [
           0.9836214954981537,
           0.9836214954981537,
           0.9836214954981537,
           0.9836214954981537,
           0.9836214954981537,
           0.9836214954981537,
           0.9836214954981537,
           0.9836214954981537,
           0.9836214954981537,
           0.9836214954981537
          ],
          [
           0.9855518227913979,
           0.9894147401474732,
           0.9929755233655531,
           0.9949118404998885,
           0.9968235334667798,
           0.9964545490166457,
           0.9954591255519621,
           0.9935084924895173,
           0.989497996851603,
           0.986791260823473
          ],
          [
           0.98957108409598,
           0.9954923657339168,
           0.9976313029007767,
           0.996876572832538,
           0.9924814880607276,
           0.9838119519234924,
           0.9658966442938933,
           0.9369396771779555,
           0.8774012839421853,
           0.7509241494976021
          ],
          [
           0.9916159458138174,
           0.9977523739246253,
           0.9954945951628843,
           0.9821799036079142,
           0.9480765231065841,
           0.8705835339590762,
           0.6269876664950284,
           0.1538305539427322,
           -0.12054709423137179,
           -0.17272506498588905
          ],
          [
           0.9938352796427897,
           0.9971536928503398,
           0.9811406250493536,
           0.9184287613798164,
           0.7115427039245341,
           0.12373461779807336,
           -0.1654767481199054,
           -0.1295592936877976,
           -0.025549139945910165,
           0.19404918017173436
          ]
         ]
        },
        {
         "colorscale": [
          [
           0,
           "#440154"
          ],
          [
           0.1111111111111111,
           "#482878"
          ],
          [
           0.2222222222222222,
           "#3e4989"
          ],
          [
           0.3333333333333333,
           "#31688e"
          ],
          [
           0.4444444444444444,
           "#26828e"
          ],
          [
           0.5555555555555556,
           "#1f9e89"
          ],
          [
           0.6666666666666666,
           "#35b779"
          ],
          [
           0.7777777777777778,
           "#6ece58"
          ],
          [
           0.8888888888888888,
           "#b5de2b"
          ],
          [
           1,
           "#fde725"
          ]
         ],
         "scene": "scene9",
         "showscale": false,
         "type": "surface",
         "x": [
          [
           1,
           1,
           1,
           1,
           1,
           1,
           1,
           1,
           1,
           1
          ],
          [
           2,
           2,
           2,
           2,
           2,
           2,
           2,
           2,
           2,
           2
          ],
          [
           3,
           3,
           3,
           3,
           3,
           3,
           3,
           3,
           3,
           3
          ],
          [
           4,
           4,
           4,
           4,
           4,
           4,
           4,
           4,
           4,
           4
          ],
          [
           5,
           5,
           5,
           5,
           5,
           5,
           5,
           5,
           5,
           5
          ]
         ],
         "y": [
          [
           1,
           2,
           3,
           4,
           5,
           6,
           7,
           8,
           9,
           10
          ],
          [
           1,
           2,
           3,
           4,
           5,
           6,
           7,
           8,
           9,
           10
          ],
          [
           1,
           2,
           3,
           4,
           5,
           6,
           7,
           8,
           9,
           10
          ],
          [
           1,
           2,
           3,
           4,
           5,
           6,
           7,
           8,
           9,
           10
          ],
          [
           1,
           2,
           3,
           4,
           5,
           6,
           7,
           8,
           9,
           10
          ]
         ],
         "z": [
          [
           0.9899479005250166,
           0.9899479005250166,
           0.9899479005250166,
           0.9899479005250166,
           0.9899479005250166,
           0.9899479005250166,
           0.9899479005250166,
           0.9899479005250166,
           0.9899479005250166,
           0.9899479005250166
          ],
          [
           0.98872269207952,
           0.9958755881666194,
           0.9968547876258741,
           0.9965727461939674,
           0.9970958540826184,
           0.997095278372491,
           0.9974941427644074,
           0.9970605900543539,
           0.9961210516492857,
           0.9934391496356828
          ],
          [
           0.9942232276977234,
           0.9973873847189317,
           0.9982505932692844,
           0.9973145895954872,
           0.9938849093237024,
           0.9852540174591443,
           0.9663897934210801,
           0.9326876839809441,
           0.8698310061203898,
           0.7540864871255346
          ],
          [
           0.9960364883613073,
           0.9982152562078815,
           0.9962244261227177,
           0.9839032697835356,
           0.9494268185275677,
           0.8582029975011115,
           0.6095014469365684,
           0.15590191566067538,
           -0.11617637765296589,
           -0.1676889643659034
          ],
          [
           0.997266462616657,
           0.9971265212673305,
           0.9825021253241875,
           0.9229974735410604,
           0.7068135617950517,
           0.11728431635635368,
           -0.15516707465072055,
           -0.11952854663611046,
           0.011542689344114645,
           0.06035796187627637
          ]
         ]
        },
        {
         "colorscale": [
          [
           0,
           "#440154"
          ],
          [
           0.1111111111111111,
           "#482878"
          ],
          [
           0.2222222222222222,
           "#3e4989"
          ],
          [
           0.3333333333333333,
           "#31688e"
          ],
          [
           0.4444444444444444,
           "#26828e"
          ],
          [
           0.5555555555555556,
           "#1f9e89"
          ],
          [
           0.6666666666666666,
           "#35b779"
          ],
          [
           0.7777777777777778,
           "#6ece58"
          ],
          [
           0.8888888888888888,
           "#b5de2b"
          ],
          [
           1,
           "#fde725"
          ]
         ],
         "scene": "scene10",
         "showscale": false,
         "type": "surface",
         "x": [
          [
           1,
           1,
           1,
           1,
           1,
           1,
           1,
           1,
           1,
           1
          ],
          [
           2,
           2,
           2,
           2,
           2,
           2,
           2,
           2,
           2,
           2
          ],
          [
           3,
           3,
           3,
           3,
           3,
           3,
           3,
           3,
           3,
           3
          ],
          [
           4,
           4,
           4,
           4,
           4,
           4,
           4,
           4,
           4,
           4
          ],
          [
           5,
           5,
           5,
           5,
           5,
           5,
           5,
           5,
           5,
           5
          ]
         ],
         "y": [
          [
           1,
           2,
           3,
           4,
           5,
           6,
           7,
           8,
           9,
           10
          ],
          [
           1,
           2,
           3,
           4,
           5,
           6,
           7,
           8,
           9,
           10
          ],
          [
           1,
           2,
           3,
           4,
           5,
           6,
           7,
           8,
           9,
           10
          ],
          [
           1,
           2,
           3,
           4,
           5,
           6,
           7,
           8,
           9,
           10
          ],
          [
           1,
           2,
           3,
           4,
           5,
           6,
           7,
           8,
           9,
           10
          ]
         ],
         "z": [
          [
           0.8921361057173158,
           0.8921361057173158,
           0.8921361057173158,
           0.8921361057173158,
           0.8921361057173158,
           0.8921361057173158,
           0.8921361057173158,
           0.8921361057173158,
           0.8921361057173158,
           0.8921361057173158
          ],
          [
           0.9045753993619357,
           0.9340123730795753,
           0.9484399553646824,
           0.956472132286508,
           0.9676404441474824,
           0.9732869624008241,
           0.9680044060958823,
           0.9544498353828599,
           0.9610463400677571,
           0.9454670087090756
          ],
          [
           0.909188078548347,
           0.9485431309177016,
           0.972702611505323,
           0.9768073183399092,
           0.9792073972521436,
           0.9778326393394373,
           0.9564579097353476,
           0.9265358861457624,
           0.867640437315544,
           0.7062155903689512
          ],
          [
           0.9289070573391247,
           0.9647678067005726,
           0.9797077276779413,
           0.9711581955991418,
           0.94266686978202,
           0.8621048765490213,
           0.6109093498257728,
           0.3976867289511887,
           0.5397397488406198,
           0.28257304527231825
          ],
          [
           0.941907243618156,
           0.9718193925656831,
           0.9717638622511275,
           0.9176693227666017,
           0.6626436686199662,
           0.4565017055465501,
           0.601887205633515,
           0.4154622532583662,
           0.45024562474764634,
           -0.17919941470972636
          ]
         ]
        }
       ],
       "layout": {
        "annotations": [
         {
          "font": {
           "size": 16
          },
          "showarrow": false,
          "text": "Point 1: (lat=30, lon=44)",
          "x": 0.08399999999999999,
          "xanchor": "center",
          "xref": "paper",
          "y": 1,
          "yanchor": "bottom",
          "yref": "paper"
         },
         {
          "font": {
           "size": 16
          },
          "showarrow": false,
          "text": "Point 2: (lat=2, lon=8)",
          "x": 0.292,
          "xanchor": "center",
          "xref": "paper",
          "y": 1,
          "yanchor": "bottom",
          "yref": "paper"
         },
         {
          "font": {
           "size": 16
          },
          "showarrow": false,
          "text": "Point 3: (lat=25, lon=46)",
          "x": 0.5,
          "xanchor": "center",
          "xref": "paper",
          "y": 1,
          "yanchor": "bottom",
          "yref": "paper"
         },
         {
          "font": {
           "size": 16
          },
          "showarrow": false,
          "text": "Point 4: (lat=48, lon=7)",
          "x": 0.708,
          "xanchor": "center",
          "xref": "paper",
          "y": 1,
          "yanchor": "bottom",
          "yref": "paper"
         },
         {
          "font": {
           "size": 16
          },
          "showarrow": false,
          "text": "Point 5: (lat=39, lon=21)",
          "x": 0.9159999999999999,
          "xanchor": "center",
          "xref": "paper",
          "y": 1,
          "yanchor": "bottom",
          "yref": "paper"
         },
         {
          "font": {
           "size": 16
          },
          "showarrow": false,
          "text": "Point 6: (lat=18, lon=0)",
          "x": 0.08399999999999999,
          "xanchor": "center",
          "xref": "paper",
          "y": 0.375,
          "yanchor": "bottom",
          "yref": "paper"
         },
         {
          "font": {
           "size": 16
          },
          "showarrow": false,
          "text": "Point 7: (lat=86, lon=28)",
          "x": 0.292,
          "xanchor": "center",
          "xref": "paper",
          "y": 0.375,
          "yanchor": "bottom",
          "yref": "paper"
         },
         {
          "font": {
           "size": 16
          },
          "showarrow": false,
          "text": "Point 8: (lat=30, lon=10)",
          "x": 0.5,
          "xanchor": "center",
          "xref": "paper",
          "y": 0.375,
          "yanchor": "bottom",
          "yref": "paper"
         },
         {
          "font": {
           "size": 16
          },
          "showarrow": false,
          "text": "Point 9: (lat=44, lon=73)",
          "x": 0.708,
          "xanchor": "center",
          "xref": "paper",
          "y": 0.375,
          "yanchor": "bottom",
          "yref": "paper"
         },
         {
          "font": {
           "size": 16
          },
          "showarrow": false,
          "text": "Point 10: (lat=7, lon=72)",
          "x": 0.9159999999999999,
          "xanchor": "center",
          "xref": "paper",
          "y": 0.375,
          "yanchor": "bottom",
          "yref": "paper"
         }
        ],
        "height": 800,
        "scene": {
         "domain": {
          "x": [
           0,
           0.16799999999999998
          ],
          "y": [
           0.625,
           1
          ]
         },
         "xaxis": {
          "title": {
           "text": "E"
          }
         },
         "yaxis": {
          "title": {
           "text": "tau"
          }
         },
         "zaxis": {
          "title": {
           "text": "rho"
          }
         }
        },
        "scene10": {
         "domain": {
          "x": [
           0.832,
           1
          ],
          "y": [
           0,
           0.375
          ]
         }
        },
        "scene2": {
         "domain": {
          "x": [
           0.208,
           0.376
          ],
          "y": [
           0.625,
           1
          ]
         }
        },
        "scene3": {
         "domain": {
          "x": [
           0.416,
           0.584
          ],
          "y": [
           0.625,
           1
          ]
         }
        },
        "scene4": {
         "domain": {
          "x": [
           0.624,
           0.792
          ],
          "y": [
           0.625,
           1
          ]
         }
        },
        "scene5": {
         "domain": {
          "x": [
           0.832,
           1
          ],
          "y": [
           0.625,
           1
          ]
         }
        },
        "scene6": {
         "domain": {
          "x": [
           0,
           0.16799999999999998
          ],
          "y": [
           0,
           0.375
          ]
         }
        },
        "scene7": {
         "domain": {
          "x": [
           0.208,
           0.376
          ],
          "y": [
           0,
           0.375
          ]
         }
        },
        "scene8": {
         "domain": {
          "x": [
           0.416,
           0.584
          ],
          "y": [
           0,
           0.375
          ]
         }
        },
        "scene9": {
         "domain": {
          "x": [
           0.624,
           0.792
          ],
          "y": [
           0,
           0.375
          ]
         }
        },
        "template": {
         "data": {
          "bar": [
           {
            "error_x": {
             "color": "#2a3f5f"
            },
            "error_y": {
             "color": "#2a3f5f"
            },
            "marker": {
             "line": {
              "color": "#E5ECF6",
              "width": 0.5
             },
             "pattern": {
              "fillmode": "overlay",
              "size": 10,
              "solidity": 0.2
             }
            },
            "type": "bar"
           }
          ],
          "barpolar": [
           {
            "marker": {
             "line": {
              "color": "#E5ECF6",
              "width": 0.5
             },
             "pattern": {
              "fillmode": "overlay",
              "size": 10,
              "solidity": 0.2
             }
            },
            "type": "barpolar"
           }
          ],
          "carpet": [
           {
            "aaxis": {
             "endlinecolor": "#2a3f5f",
             "gridcolor": "white",
             "linecolor": "white",
             "minorgridcolor": "white",
             "startlinecolor": "#2a3f5f"
            },
            "baxis": {
             "endlinecolor": "#2a3f5f",
             "gridcolor": "white",
             "linecolor": "white",
             "minorgridcolor": "white",
             "startlinecolor": "#2a3f5f"
            },
            "type": "carpet"
           }
          ],
          "choropleth": [
           {
            "colorbar": {
             "outlinewidth": 0,
             "ticks": ""
            },
            "type": "choropleth"
           }
          ],
          "contour": [
           {
            "colorbar": {
             "outlinewidth": 0,
             "ticks": ""
            },
            "colorscale": [
             [
              0,
              "#0d0887"
             ],
             [
              0.1111111111111111,
              "#46039f"
             ],
             [
              0.2222222222222222,
              "#7201a8"
             ],
             [
              0.3333333333333333,
              "#9c179e"
             ],
             [
              0.4444444444444444,
              "#bd3786"
             ],
             [
              0.5555555555555556,
              "#d8576b"
             ],
             [
              0.6666666666666666,
              "#ed7953"
             ],
             [
              0.7777777777777778,
              "#fb9f3a"
             ],
             [
              0.8888888888888888,
              "#fdca26"
             ],
             [
              1,
              "#f0f921"
             ]
            ],
            "type": "contour"
           }
          ],
          "contourcarpet": [
           {
            "colorbar": {
             "outlinewidth": 0,
             "ticks": ""
            },
            "type": "contourcarpet"
           }
          ],
          "heatmap": [
           {
            "colorbar": {
             "outlinewidth": 0,
             "ticks": ""
            },
            "colorscale": [
             [
              0,
              "#0d0887"
             ],
             [
              0.1111111111111111,
              "#46039f"
             ],
             [
              0.2222222222222222,
              "#7201a8"
             ],
             [
              0.3333333333333333,
              "#9c179e"
             ],
             [
              0.4444444444444444,
              "#bd3786"
             ],
             [
              0.5555555555555556,
              "#d8576b"
             ],
             [
              0.6666666666666666,
              "#ed7953"
             ],
             [
              0.7777777777777778,
              "#fb9f3a"
             ],
             [
              0.8888888888888888,
              "#fdca26"
             ],
             [
              1,
              "#f0f921"
             ]
            ],
            "type": "heatmap"
           }
          ],
          "heatmapgl": [
           {
            "colorbar": {
             "outlinewidth": 0,
             "ticks": ""
            },
            "colorscale": [
             [
              0,
              "#0d0887"
             ],
             [
              0.1111111111111111,
              "#46039f"
             ],
             [
              0.2222222222222222,
              "#7201a8"
             ],
             [
              0.3333333333333333,
              "#9c179e"
             ],
             [
              0.4444444444444444,
              "#bd3786"
             ],
             [
              0.5555555555555556,
              "#d8576b"
             ],
             [
              0.6666666666666666,
              "#ed7953"
             ],
             [
              0.7777777777777778,
              "#fb9f3a"
             ],
             [
              0.8888888888888888,
              "#fdca26"
             ],
             [
              1,
              "#f0f921"
             ]
            ],
            "type": "heatmapgl"
           }
          ],
          "histogram": [
           {
            "marker": {
             "pattern": {
              "fillmode": "overlay",
              "size": 10,
              "solidity": 0.2
             }
            },
            "type": "histogram"
           }
          ],
          "histogram2d": [
           {
            "colorbar": {
             "outlinewidth": 0,
             "ticks": ""
            },
            "colorscale": [
             [
              0,
              "#0d0887"
             ],
             [
              0.1111111111111111,
              "#46039f"
             ],
             [
              0.2222222222222222,
              "#7201a8"
             ],
             [
              0.3333333333333333,
              "#9c179e"
             ],
             [
              0.4444444444444444,
              "#bd3786"
             ],
             [
              0.5555555555555556,
              "#d8576b"
             ],
             [
              0.6666666666666666,
              "#ed7953"
             ],
             [
              0.7777777777777778,
              "#fb9f3a"
             ],
             [
              0.8888888888888888,
              "#fdca26"
             ],
             [
              1,
              "#f0f921"
             ]
            ],
            "type": "histogram2d"
           }
          ],
          "histogram2dcontour": [
           {
            "colorbar": {
             "outlinewidth": 0,
             "ticks": ""
            },
            "colorscale": [
             [
              0,
              "#0d0887"
             ],
             [
              0.1111111111111111,
              "#46039f"
             ],
             [
              0.2222222222222222,
              "#7201a8"
             ],
             [
              0.3333333333333333,
              "#9c179e"
             ],
             [
              0.4444444444444444,
              "#bd3786"
             ],
             [
              0.5555555555555556,
              "#d8576b"
             ],
             [
              0.6666666666666666,
              "#ed7953"
             ],
             [
              0.7777777777777778,
              "#fb9f3a"
             ],
             [
              0.8888888888888888,
              "#fdca26"
             ],
             [
              1,
              "#f0f921"
             ]
            ],
            "type": "histogram2dcontour"
           }
          ],
          "mesh3d": [
           {
            "colorbar": {
             "outlinewidth": 0,
             "ticks": ""
            },
            "type": "mesh3d"
           }
          ],
          "parcoords": [
           {
            "line": {
             "colorbar": {
              "outlinewidth": 0,
              "ticks": ""
             }
            },
            "type": "parcoords"
           }
          ],
          "pie": [
           {
            "automargin": true,
            "type": "pie"
           }
          ],
          "scatter": [
           {
            "fillpattern": {
             "fillmode": "overlay",
             "size": 10,
             "solidity": 0.2
            },
            "type": "scatter"
           }
          ],
          "scatter3d": [
           {
            "line": {
             "colorbar": {
              "outlinewidth": 0,
              "ticks": ""
             }
            },
            "marker": {
             "colorbar": {
              "outlinewidth": 0,
              "ticks": ""
             }
            },
            "type": "scatter3d"
           }
          ],
          "scattercarpet": [
           {
            "marker": {
             "colorbar": {
              "outlinewidth": 0,
              "ticks": ""
             }
            },
            "type": "scattercarpet"
           }
          ],
          "scattergeo": [
           {
            "marker": {
             "colorbar": {
              "outlinewidth": 0,
              "ticks": ""
             }
            },
            "type": "scattergeo"
           }
          ],
          "scattergl": [
           {
            "marker": {
             "colorbar": {
              "outlinewidth": 0,
              "ticks": ""
             }
            },
            "type": "scattergl"
           }
          ],
          "scattermapbox": [
           {
            "marker": {
             "colorbar": {
              "outlinewidth": 0,
              "ticks": ""
             }
            },
            "type": "scattermapbox"
           }
          ],
          "scatterpolar": [
           {
            "marker": {
             "colorbar": {
              "outlinewidth": 0,
              "ticks": ""
             }
            },
            "type": "scatterpolar"
           }
          ],
          "scatterpolargl": [
           {
            "marker": {
             "colorbar": {
              "outlinewidth": 0,
              "ticks": ""
             }
            },
            "type": "scatterpolargl"
           }
          ],
          "scatterternary": [
           {
            "marker": {
             "colorbar": {
              "outlinewidth": 0,
              "ticks": ""
             }
            },
            "type": "scatterternary"
           }
          ],
          "surface": [
           {
            "colorbar": {
             "outlinewidth": 0,
             "ticks": ""
            },
            "colorscale": [
             [
              0,
              "#0d0887"
             ],
             [
              0.1111111111111111,
              "#46039f"
             ],
             [
              0.2222222222222222,
              "#7201a8"
             ],
             [
              0.3333333333333333,
              "#9c179e"
             ],
             [
              0.4444444444444444,
              "#bd3786"
             ],
             [
              0.5555555555555556,
              "#d8576b"
             ],
             [
              0.6666666666666666,
              "#ed7953"
             ],
             [
              0.7777777777777778,
              "#fb9f3a"
             ],
             [
              0.8888888888888888,
              "#fdca26"
             ],
             [
              1,
              "#f0f921"
             ]
            ],
            "type": "surface"
           }
          ],
          "table": [
           {
            "cells": {
             "fill": {
              "color": "#EBF0F8"
             },
             "line": {
              "color": "white"
             }
            },
            "header": {
             "fill": {
              "color": "#C8D4E3"
             },
             "line": {
              "color": "white"
             }
            },
            "type": "table"
           }
          ]
         },
         "layout": {
          "annotationdefaults": {
           "arrowcolor": "#2a3f5f",
           "arrowhead": 0,
           "arrowwidth": 1
          },
          "autotypenumbers": "strict",
          "coloraxis": {
           "colorbar": {
            "outlinewidth": 0,
            "ticks": ""
           }
          },
          "colorscale": {
           "diverging": [
            [
             0,
             "#8e0152"
            ],
            [
             0.1,
             "#c51b7d"
            ],
            [
             0.2,
             "#de77ae"
            ],
            [
             0.3,
             "#f1b6da"
            ],
            [
             0.4,
             "#fde0ef"
            ],
            [
             0.5,
             "#f7f7f7"
            ],
            [
             0.6,
             "#e6f5d0"
            ],
            [
             0.7,
             "#b8e186"
            ],
            [
             0.8,
             "#7fbc41"
            ],
            [
             0.9,
             "#4d9221"
            ],
            [
             1,
             "#276419"
            ]
           ],
           "sequential": [
            [
             0,
             "#0d0887"
            ],
            [
             0.1111111111111111,
             "#46039f"
            ],
            [
             0.2222222222222222,
             "#7201a8"
            ],
            [
             0.3333333333333333,
             "#9c179e"
            ],
            [
             0.4444444444444444,
             "#bd3786"
            ],
            [
             0.5555555555555556,
             "#d8576b"
            ],
            [
             0.6666666666666666,
             "#ed7953"
            ],
            [
             0.7777777777777778,
             "#fb9f3a"
            ],
            [
             0.8888888888888888,
             "#fdca26"
            ],
            [
             1,
             "#f0f921"
            ]
           ],
           "sequentialminus": [
            [
             0,
             "#0d0887"
            ],
            [
             0.1111111111111111,
             "#46039f"
            ],
            [
             0.2222222222222222,
             "#7201a8"
            ],
            [
             0.3333333333333333,
             "#9c179e"
            ],
            [
             0.4444444444444444,
             "#bd3786"
            ],
            [
             0.5555555555555556,
             "#d8576b"
            ],
            [
             0.6666666666666666,
             "#ed7953"
            ],
            [
             0.7777777777777778,
             "#fb9f3a"
            ],
            [
             0.8888888888888888,
             "#fdca26"
            ],
            [
             1,
             "#f0f921"
            ]
           ]
          },
          "colorway": [
           "#636efa",
           "#EF553B",
           "#00cc96",
           "#ab63fa",
           "#FFA15A",
           "#19d3f3",
           "#FF6692",
           "#B6E880",
           "#FF97FF",
           "#FECB52"
          ],
          "font": {
           "color": "#2a3f5f"
          },
          "geo": {
           "bgcolor": "white",
           "lakecolor": "white",
           "landcolor": "#E5ECF6",
           "showlakes": true,
           "showland": true,
           "subunitcolor": "white"
          },
          "hoverlabel": {
           "align": "left"
          },
          "hovermode": "closest",
          "mapbox": {
           "style": "light"
          },
          "paper_bgcolor": "white",
          "plot_bgcolor": "#E5ECF6",
          "polar": {
           "angularaxis": {
            "gridcolor": "white",
            "linecolor": "white",
            "ticks": ""
           },
           "bgcolor": "#E5ECF6",
           "radialaxis": {
            "gridcolor": "white",
            "linecolor": "white",
            "ticks": ""
           }
          },
          "scene": {
           "xaxis": {
            "backgroundcolor": "#E5ECF6",
            "gridcolor": "white",
            "gridwidth": 2,
            "linecolor": "white",
            "showbackground": true,
            "ticks": "",
            "zerolinecolor": "white"
           },
           "yaxis": {
            "backgroundcolor": "#E5ECF6",
            "gridcolor": "white",
            "gridwidth": 2,
            "linecolor": "white",
            "showbackground": true,
            "ticks": "",
            "zerolinecolor": "white"
           },
           "zaxis": {
            "backgroundcolor": "#E5ECF6",
            "gridcolor": "white",
            "gridwidth": 2,
            "linecolor": "white",
            "showbackground": true,
            "ticks": "",
            "zerolinecolor": "white"
           }
          },
          "shapedefaults": {
           "line": {
            "color": "#2a3f5f"
           }
          },
          "ternary": {
           "aaxis": {
            "gridcolor": "white",
            "linecolor": "white",
            "ticks": ""
           },
           "baxis": {
            "gridcolor": "white",
            "linecolor": "white",
            "ticks": ""
           },
           "bgcolor": "#E5ECF6",
           "caxis": {
            "gridcolor": "white",
            "linecolor": "white",
            "ticks": ""
           }
          },
          "title": {
           "x": 0.05
          },
          "xaxis": {
           "automargin": true,
           "gridcolor": "white",
           "linecolor": "white",
           "ticks": "",
           "title": {
            "standoff": 15
           },
           "zerolinecolor": "white",
           "zerolinewidth": 2
          },
          "yaxis": {
           "automargin": true,
           "gridcolor": "white",
           "linecolor": "white",
           "ticks": "",
           "title": {
            "standoff": 15
           },
           "zerolinecolor": "white",
           "zerolinewidth": 2
          }
         }
        },
        "title": {
         "text": "EmbedDimension scan of E in [1..5], tau in [1..10] (Tp = tau)"
        },
        "width": 1400
       }
      }
     },
     "metadata": {},
     "output_type": "display_data"
    }
   ],
   "source": [
    "import xarray as xr\n",
    "import pandas as pd\n",
    "import numpy as np\n",
    "import random\n",
    "\n",
    "import plotly.graph_objects as go\n",
    "from plotly.subplots import make_subplots\n",
    "\n",
    "from pyEDM import EmbedDimension\n",
    "\n",
    "\n",
    "# assert ds_sat.sizes[\"age\"] == len(df_pre), (\n",
    "#     \"ds_sat age dimension must match length of precession time series.\"\n",
    "# )\n",
    "\n",
    "\n",
    "# Grab coordinate sizes\n",
    "nlat = ds_sat.sizes[\"lat\"]\n",
    "nlon = ds_sat.sizes[\"lon\"]\n",
    "ages = ds_sat[\"age\"].values  # not strictly needed but good to keep track\n",
    "\n",
    "# ---------------------------------------------------------------------\n",
    "# 2. Randomly select 10 (lat, lon) grid points\n",
    "# ---------------------------------------------------------------------\n",
    "all_pairs = [(ilat, ilon) for ilat in range(nlat) for ilon in range(nlon)]\n",
    "random_pairs = random.sample(all_pairs, 10)  # pick 10 unique (ilat, ilon)\n",
    "\n",
    "\n",
    "\n",
    "results_list = []  # will be a list of (ilat, ilon, Evals, Tauvals, RhoMatrix)\n",
    "\n",
    "for idx, (ilat, ilon) in enumerate(random_pairs):\n",
    "    # Extract local sat time series\n",
    "    sat_ts = ds_sat[\"sat\"].isel(lat=ilat, lon=ilon).values\n",
    "\n",
    "    df_tmp = pd.DataFrame({\n",
    "        \"Time\": ages,\n",
    "        \"pre\": df_pre[\"pre\"],  # predictor\n",
    "        \"sat\": sat_ts          # target to predict\n",
    "    })\n",
    "\n",
    "    # We'll store a 2D array of shape (5,10) for E=1..5, tau=1..10\n",
    "    # Accessed as RhoMatrix[E-1, tau-1].\n",
    "    RhoMatrix = np.zeros((5, 10))\n",
    "\n",
    "    # For each tau in 1..10, call EmbedDimension once with maxE=5 and Tp=tau\n",
    "    for tau in range(1, 11):\n",
    "        edm_out = EmbedDimension(\n",
    "            dataFrame=df_tmp,\n",
    "            columns=\"sat\",\n",
    "            target=\"pre\",\n",
    "            maxE=5,          # We'll evaluate E=1..5\n",
    "            tau=tau,\n",
    "            Tp=30,\n",
    "            lib=\"1 120\",     # Entire time series, adapt if needed\n",
    "            pred=\"1 120\",\n",
    "            showPlot=False,  # We'll handle plotting ourselves\n",
    "            # If you want to speed up or parallelize, you can set numThreads or numProcess\n",
    "        )\n",
    "\n",
    "        for e_row in edm_out.itertuples():\n",
    "            e_val = e_row.E     # 1..5\n",
    "            # print(e_val)\n",
    "            rho_val = e_row.rho\n",
    "            RhoMatrix[int(e_val - 1), int(tau - 1)] = rho_val\n",
    "\n",
    "    # We'll store the axis values for plotting (note: we want these in 2D for a surface plot).\n",
    "    E_axis = np.arange(1, 6)     # 1..5\n",
    "    Tau_axis = np.arange(1, 11)  # 1..10\n",
    "\n",
    "    # Save the result for this grid point\n",
    "    results_list.append((ilat, ilon, E_axis, Tau_axis, RhoMatrix))\n",
    "\n",
    "# ---------------------------------------------------------------------\n",
    "# 4. Make a 3D surface plot for each of the 10 results\n",
    "#    using Plotly subplots\n",
    "# ---------------------------------------------------------------------\n",
    "\n",
    "# We'll do 2 rows, 5 columns of 3D subplots\n",
    "fig = make_subplots(\n",
    "    rows=2, cols=5,\n",
    "    specs=[\n",
    "        [{\"type\": \"surface\"}]*5,\n",
    "        [{\"type\": \"surface\"}]*5\n",
    "    ],\n",
    "    subplot_titles=[f\"Point {i+1}: (lat={r[0]}, lon={r[1]})\" for i, r in enumerate(results_list)]\n",
    ")\n",
    "\n",
    "for i, (ilat, ilon, E_axis, Tau_axis, RhoMatrix) in enumerate(results_list):\n",
    "\n",
    "    E_grid, Tau_grid = np.meshgrid(E_axis, Tau_axis, indexing='ij')\n",
    "\n",
    "    row = (i // 5) + 1\n",
    "    col = (i % 5) + 1\n",
    "\n",
    "    # Create the surface trace\n",
    "    surf = go.Surface(\n",
    "        x=E_grid,       # E dimension\n",
    "        y=Tau_grid,     # tau dimension\n",
    "        z=RhoMatrix,    # rho\n",
    "        colorscale=\"Viridis\",   # or any Plotly colormap you like\n",
    "        showscale=False         # hide colorbar in subplots for neatness\n",
    "    )\n",
    "    fig.add_trace(surf, row=row, col=col)\n",
    "\n",
    "# Update overall layout\n",
    "fig.update_layout(\n",
    "    height=800, width=1400,\n",
    "    title=\"EmbedDimension scan of E in [1..5], tau in [1..10] (Tp = tau)\",\n",
    "    scene=dict(\n",
    "        xaxis_title=\"E\",\n",
    "        yaxis_title=\"tau\",\n",
    "        zaxis_title=\"rho\"\n",
    "    ),\n",
    "    # If you prefer separate axis labels per subplot, you can set them individually\n",
    "    # with fig.update_xaxes(..., row=?, col=?)\n",
    ")\n",
    "\n",
    "fig.show()\n"
   ]
  },
  {
   "cell_type": "code",
   "execution_count": null,
   "metadata": {},
   "outputs": [],
   "source": []
  },
  {
   "cell_type": "code",
   "execution_count": 1,
   "metadata": {},
   "outputs": [],
   "source": [
    "import pandas as pd\n",
    "import numpy as np\n",
    "\n",
    "\n",
    "\n",
    "import pyEDM\n",
    "import matplotlib.pyplot as plt\n",
    "\n",
    "def find_best_E(df, E_values, data_column='d18O', \n",
    "                lib=None, pred=None, tau=-1, Tp=1, noTime=False):\n",
    "    \"\"\"\n",
    "    df          : DataFrame with columns [Time, data_column]\n",
    "    E_values    : iterable of embedding dimensions to test\n",
    "    data_column : name of the column to forecast\n",
    "    lib         : string specifying the library rows, e.g. '1 900'\n",
    "    pred        : string specifying the prediction rows, e.g. '901 1851'\n",
    "    tau         : embedding time-lag (default -1 = let pyEDM guess or use default)\n",
    "    Tp          : prediction horizon (default 1)\n",
    "    noTime      : if True, pyEDM will assume there's no separate time column\n",
    "    \"\"\"\n",
    "    N = len(df)\n",
    "    if lib is None or pred is None:\n",
    "        # Example: first half for library, second half for prediction\n",
    "        mid = N // 2\n",
    "        lib  = f\"1 {mid}\"\n",
    "        pred = f\"{mid+1} {N}\"\n",
    "    \n",
    "    results = {}\n",
    "    for E in E_values:\n",
    "        # Run Simplex\n",
    "        simplex_out = pyEDM.Simplex(\n",
    "            dataFrame = df,\n",
    "            columns   = data_column,  # library columns\n",
    "            target    = data_column,  # predict the same variable\n",
    "            lib       = lib,\n",
    "            pred      = pred,\n",
    "            E         = E,\n",
    "            Tp        = Tp,\n",
    "            tau       = tau,\n",
    "            knn       = 0,        # 0 => use E+1 neighbors\n",
    "            embedded  = False,    # let pyEDM embed for us\n",
    "            noTime    = noTime,   # if the first column is Time, set noTime=False\n",
    "            showPlot  = False\n",
    "        )\n",
    "        \n",
    "        # simplex_out is a DataFrame with columns [\"Time\",\"Observations\",\"Predictions\"]\n",
    "        obs = simplex_out[\"Observations\"].values\n",
    "        pred_ = simplex_out[\"Predictions\"].values\n",
    "        \n",
    "        # Compute correlation, ignoring NaNs\n",
    "        valid_idx = ~np.isnan(obs) & ~np.isnan(pred_)\n",
    "        if np.sum(valid_idx) > 1:\n",
    "            rho_val = np.corrcoef(obs[valid_idx], pred_[valid_idx])[0,1]\n",
    "        else:\n",
    "            rho_val = np.nan\n",
    "        \n",
    "        results[E] = rho_val\n",
    "    \n",
    "    return results\n"
   ]
  },
  {
   "cell_type": "code",
   "execution_count": null,
   "metadata": {},
   "outputs": [],
   "source": [
    "import numpy as np\n",
    "import plotly.graph_objects as go\n",
    "from plotly.subplots import make_subplots\n",
    "\n",
    "tau_values   = range(1, 10, 1)  # 10,20,30,...,100\n",
    "E_candidates = range(1, 5)        # 1..8\n",
    "\n",
    "# 2) We'll store results in 2D arrays:\n",
    "#    rows = different tau, cols = different E\n",
    "ant_results_3d   = np.zeros((len(tau_values), len(E_candidates)))\n",
    "ngrip_results_3d = np.zeros((len(tau_values), len(E_candidates)))\n",
    "\n",
    "# 3) Loop over all tau and E values to fill in the 2D arrays\n",
    "for i, tau in enumerate(tau_values):\n",
    "    ant_results = find_best_E(\n",
    "        df, \n",
    "        E_values = E_candidates, \n",
    "        data_column = 'd18O',\n",
    "        tau = tau,\n",
    "        Tp = tau,           # forecast tau steps ahead\n",
    "        lib='1 60',        # e.g. rows 1..900 as library\n",
    "        pred='61 121',    # rows 901..1851 as prediction\n",
    "        noTime=False\n",
    "    )\n",
    "\n",
    "    \n",
    "    for j, E in enumerate(E_candidates):\n",
    "        ant_results_3d[i,j]   = ant_results[E]\n",
    "        ngrip_results_3d[i,j] = ngrip_results[E]\n",
    "\n",
    "# e.g. to create mesh for x=E, y=tau:\n",
    "E_grid, Tau_grid = np.meshgrid(E_candidates, tau_values)  # each shape: (len(tau_values), len(E_candidates))\n",
    "\n",
    "\n",
    "# Create a 1x2 grid of 3D subplots\n",
    "fig = make_subplots(\n",
    "    rows=1, cols=2, \n",
    "    specs=[[{'type': 'surface'}, {'type': 'surface'}]],\n",
    "    subplot_titles=[\"Antarctic\", \"NGRIP\"]\n",
    ")\n",
    "\n",
    "# -- Add the Antarctic surface (left subplot, row=1,col=1)\n",
    "fig.add_trace(\n",
    "    go.Surface(\n",
    "        x=E_grid,          # embedding dimension\n",
    "        y=Tau_grid,        # tau\n",
    "        z=ant_results_3d,  # correlation skill\n",
    "        colorscale='Viridis',\n",
    "        name='Antarctic'\n",
    "    ),\n",
    "    row=1, col=1\n",
    ")\n",
    "\n",
    "# -- Add the NGRIP surface (right subplot, row=1,col=2)\n",
    "fig.add_trace(\n",
    "    go.Surface(\n",
    "        x=E_grid,\n",
    "        y=Tau_grid,\n",
    "        z=ngrip_results_3d,\n",
    "        colorscale='Viridis',\n",
    "        name='NGRIP'\n",
    "    ),\n",
    "    row=1, col=2\n",
    ")\n",
    "\n",
    "# Update layout for each subplot’s axes and overall figure\n",
    "fig.update_layout(\n",
    "    title=\"Forecast Skill vs. E and tau (Tp = tau)\",\n",
    "    width=1200, height=600\n",
    ")\n",
    "\n",
    "# Customize the axis titles on each 3D subplot\n",
    "fig.update_scenes(\n",
    "    dict(\n",
    "        xaxis_title=\"E (Embedding Dimension)\",\n",
    "        yaxis_title=\"tau (Lag & Forecast Steps)\",\n",
    "        zaxis_title=\"Forecast Skill (rho)\"\n",
    "    ),  # scene1 settings\n",
    "    row=1, col=1\n",
    ")\n",
    "fig.update_scenes(\n",
    "    dict(\n",
    "        xaxis_title=\"E (Embedding Dimension)\",\n",
    "        yaxis_title=\"tau (Lag & Forecast Steps)\",\n",
    "        zaxis_title=\"Forecast Skill (rho)\"\n",
    "    ),  # scene2 settings\n",
    "    row=1, col=2\n",
    ")\n",
    "\n",
    "fig.show()\n"
   ]
  }
 ],
 "metadata": {
  "kernelspec": {
   "display_name": "pz_venv_causal",
   "language": "python",
   "name": "python3"
  },
  "language_info": {
   "codemirror_mode": {
    "name": "ipython",
    "version": 3
   },
   "file_extension": ".py",
   "mimetype": "text/x-python",
   "name": "python",
   "nbconvert_exporter": "python",
   "pygments_lexer": "ipython3",
   "version": "3.8.18"
  }
 },
 "nbformat": 4,
 "nbformat_minor": 2
}
