{
 "cells": [
  {
   "cell_type": "code",
   "execution_count": 2,
   "metadata": {},
   "outputs": [
    {
     "data": {
      "text/html": [
       "<div><svg style=\"position: absolute; width: 0; height: 0; overflow: hidden\">\n",
       "<defs>\n",
       "<symbol id=\"icon-database\" viewBox=\"0 0 32 32\">\n",
       "<path d=\"M16 0c-8.837 0-16 2.239-16 5v4c0 2.761 7.163 5 16 5s16-2.239 16-5v-4c0-2.761-7.163-5-16-5z\"></path>\n",
       "<path d=\"M16 17c-8.837 0-16-2.239-16-5v6c0 2.761 7.163 5 16 5s16-2.239 16-5v-6c0 2.761-7.163 5-16 5z\"></path>\n",
       "<path d=\"M16 26c-8.837 0-16-2.239-16-5v6c0 2.761 7.163 5 16 5s16-2.239 16-5v-6c0 2.761-7.163 5-16 5z\"></path>\n",
       "</symbol>\n",
       "<symbol id=\"icon-file-text2\" viewBox=\"0 0 32 32\">\n",
       "<path d=\"M28.681 7.159c-0.694-0.947-1.662-2.053-2.724-3.116s-2.169-2.030-3.116-2.724c-1.612-1.182-2.393-1.319-2.841-1.319h-15.5c-1.378 0-2.5 1.121-2.5 2.5v27c0 1.378 1.122 2.5 2.5 2.5h23c1.378 0 2.5-1.122 2.5-2.5v-19.5c0-0.448-0.137-1.23-1.319-2.841zM24.543 5.457c0.959 0.959 1.712 1.825 2.268 2.543h-4.811v-4.811c0.718 0.556 1.584 1.309 2.543 2.268zM28 29.5c0 0.271-0.229 0.5-0.5 0.5h-23c-0.271 0-0.5-0.229-0.5-0.5v-27c0-0.271 0.229-0.5 0.5-0.5 0 0 15.499-0 15.5 0v7c0 0.552 0.448 1 1 1h7v19.5z\"></path>\n",
       "<path d=\"M23 26h-14c-0.552 0-1-0.448-1-1s0.448-1 1-1h14c0.552 0 1 0.448 1 1s-0.448 1-1 1z\"></path>\n",
       "<path d=\"M23 22h-14c-0.552 0-1-0.448-1-1s0.448-1 1-1h14c0.552 0 1 0.448 1 1s-0.448 1-1 1z\"></path>\n",
       "<path d=\"M23 18h-14c-0.552 0-1-0.448-1-1s0.448-1 1-1h14c0.552 0 1 0.448 1 1s-0.448 1-1 1z\"></path>\n",
       "</symbol>\n",
       "</defs>\n",
       "</svg>\n",
       "<style>/* CSS stylesheet for displaying xarray objects in jupyterlab.\n",
       " *\n",
       " */\n",
       "\n",
       ":root {\n",
       "  --xr-font-color0: var(--jp-content-font-color0, rgba(0, 0, 0, 1));\n",
       "  --xr-font-color2: var(--jp-content-font-color2, rgba(0, 0, 0, 0.54));\n",
       "  --xr-font-color3: var(--jp-content-font-color3, rgba(0, 0, 0, 0.38));\n",
       "  --xr-border-color: var(--jp-border-color2, #e0e0e0);\n",
       "  --xr-disabled-color: var(--jp-layout-color3, #bdbdbd);\n",
       "  --xr-background-color: var(--jp-layout-color0, white);\n",
       "  --xr-background-color-row-even: var(--jp-layout-color1, white);\n",
       "  --xr-background-color-row-odd: var(--jp-layout-color2, #eeeeee);\n",
       "}\n",
       "\n",
       "html[theme=dark],\n",
       "body[data-theme=dark],\n",
       "body.vscode-dark {\n",
       "  --xr-font-color0: rgba(255, 255, 255, 1);\n",
       "  --xr-font-color2: rgba(255, 255, 255, 0.54);\n",
       "  --xr-font-color3: rgba(255, 255, 255, 0.38);\n",
       "  --xr-border-color: #1F1F1F;\n",
       "  --xr-disabled-color: #515151;\n",
       "  --xr-background-color: #111111;\n",
       "  --xr-background-color-row-even: #111111;\n",
       "  --xr-background-color-row-odd: #313131;\n",
       "}\n",
       "\n",
       ".xr-wrap {\n",
       "  display: block !important;\n",
       "  min-width: 300px;\n",
       "  max-width: 700px;\n",
       "}\n",
       "\n",
       ".xr-text-repr-fallback {\n",
       "  /* fallback to plain text repr when CSS is not injected (untrusted notebook) */\n",
       "  display: none;\n",
       "}\n",
       "\n",
       ".xr-header {\n",
       "  padding-top: 6px;\n",
       "  padding-bottom: 6px;\n",
       "  margin-bottom: 4px;\n",
       "  border-bottom: solid 1px var(--xr-border-color);\n",
       "}\n",
       "\n",
       ".xr-header > div,\n",
       ".xr-header > ul {\n",
       "  display: inline;\n",
       "  margin-top: 0;\n",
       "  margin-bottom: 0;\n",
       "}\n",
       "\n",
       ".xr-obj-type,\n",
       ".xr-array-name {\n",
       "  margin-left: 2px;\n",
       "  margin-right: 10px;\n",
       "}\n",
       "\n",
       ".xr-obj-type {\n",
       "  color: var(--xr-font-color2);\n",
       "}\n",
       "\n",
       ".xr-sections {\n",
       "  padding-left: 0 !important;\n",
       "  display: grid;\n",
       "  grid-template-columns: 150px auto auto 1fr 20px 20px;\n",
       "}\n",
       "\n",
       ".xr-section-item {\n",
       "  display: contents;\n",
       "}\n",
       "\n",
       ".xr-section-item input {\n",
       "  display: none;\n",
       "}\n",
       "\n",
       ".xr-section-item input + label {\n",
       "  color: var(--xr-disabled-color);\n",
       "}\n",
       "\n",
       ".xr-section-item input:enabled + label {\n",
       "  cursor: pointer;\n",
       "  color: var(--xr-font-color2);\n",
       "}\n",
       "\n",
       ".xr-section-item input:enabled + label:hover {\n",
       "  color: var(--xr-font-color0);\n",
       "}\n",
       "\n",
       ".xr-section-summary {\n",
       "  grid-column: 1;\n",
       "  color: var(--xr-font-color2);\n",
       "  font-weight: 500;\n",
       "}\n",
       "\n",
       ".xr-section-summary > span {\n",
       "  display: inline-block;\n",
       "  padding-left: 0.5em;\n",
       "}\n",
       "\n",
       ".xr-section-summary-in:disabled + label {\n",
       "  color: var(--xr-font-color2);\n",
       "}\n",
       "\n",
       ".xr-section-summary-in + label:before {\n",
       "  display: inline-block;\n",
       "  content: '►';\n",
       "  font-size: 11px;\n",
       "  width: 15px;\n",
       "  text-align: center;\n",
       "}\n",
       "\n",
       ".xr-section-summary-in:disabled + label:before {\n",
       "  color: var(--xr-disabled-color);\n",
       "}\n",
       "\n",
       ".xr-section-summary-in:checked + label:before {\n",
       "  content: '▼';\n",
       "}\n",
       "\n",
       ".xr-section-summary-in:checked + label > span {\n",
       "  display: none;\n",
       "}\n",
       "\n",
       ".xr-section-summary,\n",
       ".xr-section-inline-details {\n",
       "  padding-top: 4px;\n",
       "  padding-bottom: 4px;\n",
       "}\n",
       "\n",
       ".xr-section-inline-details {\n",
       "  grid-column: 2 / -1;\n",
       "}\n",
       "\n",
       ".xr-section-details {\n",
       "  display: none;\n",
       "  grid-column: 1 / -1;\n",
       "  margin-bottom: 5px;\n",
       "}\n",
       "\n",
       ".xr-section-summary-in:checked ~ .xr-section-details {\n",
       "  display: contents;\n",
       "}\n",
       "\n",
       ".xr-array-wrap {\n",
       "  grid-column: 1 / -1;\n",
       "  display: grid;\n",
       "  grid-template-columns: 20px auto;\n",
       "}\n",
       "\n",
       ".xr-array-wrap > label {\n",
       "  grid-column: 1;\n",
       "  vertical-align: top;\n",
       "}\n",
       "\n",
       ".xr-preview {\n",
       "  color: var(--xr-font-color3);\n",
       "}\n",
       "\n",
       ".xr-array-preview,\n",
       ".xr-array-data {\n",
       "  padding: 0 5px !important;\n",
       "  grid-column: 2;\n",
       "}\n",
       "\n",
       ".xr-array-data,\n",
       ".xr-array-in:checked ~ .xr-array-preview {\n",
       "  display: none;\n",
       "}\n",
       "\n",
       ".xr-array-in:checked ~ .xr-array-data,\n",
       ".xr-array-preview {\n",
       "  display: inline-block;\n",
       "}\n",
       "\n",
       ".xr-dim-list {\n",
       "  display: inline-block !important;\n",
       "  list-style: none;\n",
       "  padding: 0 !important;\n",
       "  margin: 0;\n",
       "}\n",
       "\n",
       ".xr-dim-list li {\n",
       "  display: inline-block;\n",
       "  padding: 0;\n",
       "  margin: 0;\n",
       "}\n",
       "\n",
       ".xr-dim-list:before {\n",
       "  content: '(';\n",
       "}\n",
       "\n",
       ".xr-dim-list:after {\n",
       "  content: ')';\n",
       "}\n",
       "\n",
       ".xr-dim-list li:not(:last-child):after {\n",
       "  content: ',';\n",
       "  padding-right: 5px;\n",
       "}\n",
       "\n",
       ".xr-has-index {\n",
       "  font-weight: bold;\n",
       "}\n",
       "\n",
       ".xr-var-list,\n",
       ".xr-var-item {\n",
       "  display: contents;\n",
       "}\n",
       "\n",
       ".xr-var-item > div,\n",
       ".xr-var-item label,\n",
       ".xr-var-item > .xr-var-name span {\n",
       "  background-color: var(--xr-background-color-row-even);\n",
       "  margin-bottom: 0;\n",
       "}\n",
       "\n",
       ".xr-var-item > .xr-var-name:hover span {\n",
       "  padding-right: 5px;\n",
       "}\n",
       "\n",
       ".xr-var-list > li:nth-child(odd) > div,\n",
       ".xr-var-list > li:nth-child(odd) > label,\n",
       ".xr-var-list > li:nth-child(odd) > .xr-var-name span {\n",
       "  background-color: var(--xr-background-color-row-odd);\n",
       "}\n",
       "\n",
       ".xr-var-name {\n",
       "  grid-column: 1;\n",
       "}\n",
       "\n",
       ".xr-var-dims {\n",
       "  grid-column: 2;\n",
       "}\n",
       "\n",
       ".xr-var-dtype {\n",
       "  grid-column: 3;\n",
       "  text-align: right;\n",
       "  color: var(--xr-font-color2);\n",
       "}\n",
       "\n",
       ".xr-var-preview {\n",
       "  grid-column: 4;\n",
       "}\n",
       "\n",
       ".xr-index-preview {\n",
       "  grid-column: 2 / 5;\n",
       "  color: var(--xr-font-color2);\n",
       "}\n",
       "\n",
       ".xr-var-name,\n",
       ".xr-var-dims,\n",
       ".xr-var-dtype,\n",
       ".xr-preview,\n",
       ".xr-attrs dt {\n",
       "  white-space: nowrap;\n",
       "  overflow: hidden;\n",
       "  text-overflow: ellipsis;\n",
       "  padding-right: 10px;\n",
       "}\n",
       "\n",
       ".xr-var-name:hover,\n",
       ".xr-var-dims:hover,\n",
       ".xr-var-dtype:hover,\n",
       ".xr-attrs dt:hover {\n",
       "  overflow: visible;\n",
       "  width: auto;\n",
       "  z-index: 1;\n",
       "}\n",
       "\n",
       ".xr-var-attrs,\n",
       ".xr-var-data,\n",
       ".xr-index-data {\n",
       "  display: none;\n",
       "  background-color: var(--xr-background-color) !important;\n",
       "  padding-bottom: 5px !important;\n",
       "}\n",
       "\n",
       ".xr-var-attrs-in:checked ~ .xr-var-attrs,\n",
       ".xr-var-data-in:checked ~ .xr-var-data,\n",
       ".xr-index-data-in:checked ~ .xr-index-data {\n",
       "  display: block;\n",
       "}\n",
       "\n",
       ".xr-var-data > table {\n",
       "  float: right;\n",
       "}\n",
       "\n",
       ".xr-var-name span,\n",
       ".xr-var-data,\n",
       ".xr-index-name div,\n",
       ".xr-index-data,\n",
       ".xr-attrs {\n",
       "  padding-left: 25px !important;\n",
       "}\n",
       "\n",
       ".xr-attrs,\n",
       ".xr-var-attrs,\n",
       ".xr-var-data,\n",
       ".xr-index-data {\n",
       "  grid-column: 1 / -1;\n",
       "}\n",
       "\n",
       "dl.xr-attrs {\n",
       "  padding: 0;\n",
       "  margin: 0;\n",
       "  display: grid;\n",
       "  grid-template-columns: 125px auto;\n",
       "}\n",
       "\n",
       ".xr-attrs dt,\n",
       ".xr-attrs dd {\n",
       "  padding: 0;\n",
       "  margin: 0;\n",
       "  float: left;\n",
       "  padding-right: 10px;\n",
       "  width: auto;\n",
       "}\n",
       "\n",
       ".xr-attrs dt {\n",
       "  font-weight: normal;\n",
       "  grid-column: 1;\n",
       "}\n",
       "\n",
       ".xr-attrs dt:hover span {\n",
       "  display: inline-block;\n",
       "  background: var(--xr-background-color);\n",
       "  padding-right: 10px;\n",
       "}\n",
       "\n",
       ".xr-attrs dd {\n",
       "  grid-column: 2;\n",
       "  white-space: pre-wrap;\n",
       "  word-break: break-all;\n",
       "}\n",
       "\n",
       ".xr-icon-database,\n",
       ".xr-icon-file-text2,\n",
       ".xr-no-icon {\n",
       "  display: inline-block;\n",
       "  vertical-align: middle;\n",
       "  width: 1em;\n",
       "  height: 1.5em !important;\n",
       "  stroke-width: 0;\n",
       "  stroke: currentColor;\n",
       "  fill: currentColor;\n",
       "}\n",
       "</style><pre class='xr-text-repr-fallback'>&lt;xarray.Dataset&gt;\n",
       "Dimensions:  (lat: 96, lon: 144, age: 120)\n",
       "Coordinates:\n",
       "  * lat      (lat) float32 -90.0 -88.11 -86.21 -84.32 ... 84.32 86.21 88.11 90.0\n",
       "  * lon      (lon) float32 0.0 2.5 5.0 7.5 10.0 ... 350.0 352.5 355.0 357.5\n",
       "  * age      (age) float32 100.0 300.0 500.0 ... 2.35e+04 2.37e+04 2.39e+04\n",
       "Data variables:\n",
       "    sat      (age, lat, lon) float32 ...\n",
       "    sat_std  (age, lat, lon) float32 ...</pre><div class='xr-wrap' style='display:none'><div class='xr-header'><div class='xr-obj-type'>xarray.Dataset</div></div><ul class='xr-sections'><li class='xr-section-item'><input id='section-3f3e97bc-fc07-47a9-b2af-bcda7ecb9087' class='xr-section-summary-in' type='checkbox' disabled ><label for='section-3f3e97bc-fc07-47a9-b2af-bcda7ecb9087' class='xr-section-summary'  title='Expand/collapse section'>Dimensions:</label><div class='xr-section-inline-details'><ul class='xr-dim-list'><li><span class='xr-has-index'>lat</span>: 96</li><li><span class='xr-has-index'>lon</span>: 144</li><li><span class='xr-has-index'>age</span>: 120</li></ul></div><div class='xr-section-details'></div></li><li class='xr-section-item'><input id='section-d8a62769-8dc9-43ec-a1f2-808115dccf47' class='xr-section-summary-in' type='checkbox'  checked><label for='section-d8a62769-8dc9-43ec-a1f2-808115dccf47' class='xr-section-summary' >Coordinates: <span>(3)</span></label><div class='xr-section-inline-details'></div><div class='xr-section-details'><ul class='xr-var-list'><li class='xr-var-item'><div class='xr-var-name'><span class='xr-has-index'>lat</span></div><div class='xr-var-dims'>(lat)</div><div class='xr-var-dtype'>float32</div><div class='xr-var-preview xr-preview'>-90.0 -88.11 -86.21 ... 88.11 90.0</div><input id='attrs-90a1df69-44c9-4c19-9d0e-8a8c4145c8bf' class='xr-var-attrs-in' type='checkbox' ><label for='attrs-90a1df69-44c9-4c19-9d0e-8a8c4145c8bf' title='Show/Hide attributes'><svg class='icon xr-icon-file-text2'><use xlink:href='#icon-file-text2'></use></svg></label><input id='data-21cec50e-0e5c-47df-be05-162485d3e8b2' class='xr-var-data-in' type='checkbox'><label for='data-21cec50e-0e5c-47df-be05-162485d3e8b2' title='Show/Hide data repr'><svg class='icon xr-icon-database'><use xlink:href='#icon-database'></use></svg></label><div class='xr-var-attrs'><dl class='xr-attrs'><dt><span>FillValue :</span></dt><dd>9.969209968386869e+36</dd><dt><span>long_name :</span></dt><dd>vector latitudes</dd><dt><span>units :</span></dt><dd>degrees_north</dd></dl></div><div class='xr-var-data'><pre>array([-90.      , -88.10526 , -86.210526, -84.31579 , -82.42105 , -80.52631 ,\n",
       "       -78.63158 , -76.73684 , -74.8421  , -72.947365, -71.052635, -69.1579  ,\n",
       "       -67.26316 , -65.36842 , -63.473682, -61.57895 , -59.68421 , -57.789474,\n",
       "       -55.894737, -54.      , -52.105263, -50.210526, -48.31579 , -46.42105 ,\n",
       "       -44.526318, -42.63158 , -40.736843, -38.842106, -36.94737 , -35.05263 ,\n",
       "       -33.157894, -31.263159, -29.368422, -27.473684, -25.578947, -23.68421 ,\n",
       "       -21.789474, -19.894737, -18.      , -16.105263, -14.210526, -12.315789,\n",
       "       -10.421053,  -8.526316,  -6.631579,  -4.736842,  -2.842105,  -0.947368,\n",
       "         0.947368,   2.842105,   4.736842,   6.631579,   8.526316,  10.421053,\n",
       "        12.315789,  14.210526,  16.105263,  18.      ,  19.894737,  21.789474,\n",
       "        23.68421 ,  25.578947,  27.473684,  29.368422,  31.263159,  33.157894,\n",
       "        35.05263 ,  36.94737 ,  38.842106,  40.736843,  42.63158 ,  44.526318,\n",
       "        46.42105 ,  48.31579 ,  50.210526,  52.105263,  54.      ,  55.894737,\n",
       "        57.789474,  59.68421 ,  61.57895 ,  63.473682,  65.36842 ,  67.26316 ,\n",
       "        69.1579  ,  71.052635,  72.947365,  74.8421  ,  76.73684 ,  78.63158 ,\n",
       "        80.52631 ,  82.42105 ,  84.31579 ,  86.210526,  88.10526 ,  90.      ],\n",
       "      dtype=float32)</pre></div></li><li class='xr-var-item'><div class='xr-var-name'><span class='xr-has-index'>lon</span></div><div class='xr-var-dims'>(lon)</div><div class='xr-var-dtype'>float32</div><div class='xr-var-preview xr-preview'>0.0 2.5 5.0 ... 352.5 355.0 357.5</div><input id='attrs-e027b080-ee3e-45e9-8e63-d0c0136febe0' class='xr-var-attrs-in' type='checkbox' ><label for='attrs-e027b080-ee3e-45e9-8e63-d0c0136febe0' title='Show/Hide attributes'><svg class='icon xr-icon-file-text2'><use xlink:href='#icon-file-text2'></use></svg></label><input id='data-2866466f-bbdd-4483-bc43-e5c350c0c857' class='xr-var-data-in' type='checkbox'><label for='data-2866466f-bbdd-4483-bc43-e5c350c0c857' title='Show/Hide data repr'><svg class='icon xr-icon-database'><use xlink:href='#icon-database'></use></svg></label><div class='xr-var-attrs'><dl class='xr-attrs'><dt><span>FillValue :</span></dt><dd>9.969209968386869e+36</dd><dt><span>long_name :</span></dt><dd>vector of longitudes</dd><dt><span>units :</span></dt><dd>degrees_east</dd></dl></div><div class='xr-var-data'><pre>array([  0. ,   2.5,   5. ,   7.5,  10. ,  12.5,  15. ,  17.5,  20. ,  22.5,\n",
       "        25. ,  27.5,  30. ,  32.5,  35. ,  37.5,  40. ,  42.5,  45. ,  47.5,\n",
       "        50. ,  52.5,  55. ,  57.5,  60. ,  62.5,  65. ,  67.5,  70. ,  72.5,\n",
       "        75. ,  77.5,  80. ,  82.5,  85. ,  87.5,  90. ,  92.5,  95. ,  97.5,\n",
       "       100. , 102.5, 105. , 107.5, 110. , 112.5, 115. , 117.5, 120. , 122.5,\n",
       "       125. , 127.5, 130. , 132.5, 135. , 137.5, 140. , 142.5, 145. , 147.5,\n",
       "       150. , 152.5, 155. , 157.5, 160. , 162.5, 165. , 167.5, 170. , 172.5,\n",
       "       175. , 177.5, 180. , 182.5, 185. , 187.5, 190. , 192.5, 195. , 197.5,\n",
       "       200. , 202.5, 205. , 207.5, 210. , 212.5, 215. , 217.5, 220. , 222.5,\n",
       "       225. , 227.5, 230. , 232.5, 235. , 237.5, 240. , 242.5, 245. , 247.5,\n",
       "       250. , 252.5, 255. , 257.5, 260. , 262.5, 265. , 267.5, 270. , 272.5,\n",
       "       275. , 277.5, 280. , 282.5, 285. , 287.5, 290. , 292.5, 295. , 297.5,\n",
       "       300. , 302.5, 305. , 307.5, 310. , 312.5, 315. , 317.5, 320. , 322.5,\n",
       "       325. , 327.5, 330. , 332.5, 335. , 337.5, 340. , 342.5, 345. , 347.5,\n",
       "       350. , 352.5, 355. , 357.5], dtype=float32)</pre></div></li><li class='xr-var-item'><div class='xr-var-name'><span class='xr-has-index'>age</span></div><div class='xr-var-dims'>(age)</div><div class='xr-var-dtype'>float32</div><div class='xr-var-preview xr-preview'>100.0 300.0 ... 2.37e+04 2.39e+04</div><input id='attrs-a00cde37-553f-4b7f-805e-6567b0c29beb' class='xr-var-attrs-in' type='checkbox' disabled><label for='attrs-a00cde37-553f-4b7f-805e-6567b0c29beb' title='Show/Hide attributes'><svg class='icon xr-icon-file-text2'><use xlink:href='#icon-file-text2'></use></svg></label><input id='data-a7d635ea-76f6-4e69-9932-6e122b1587bc' class='xr-var-data-in' type='checkbox'><label for='data-a7d635ea-76f6-4e69-9932-6e122b1587bc' title='Show/Hide data repr'><svg class='icon xr-icon-database'><use xlink:href='#icon-database'></use></svg></label><div class='xr-var-attrs'><dl class='xr-attrs'></dl></div><div class='xr-var-data'><pre>array([  100.,   300.,   500.,   700.,   900.,  1100.,  1300.,  1500.,  1700.,\n",
       "        1900.,  2100.,  2300.,  2500.,  2700.,  2900.,  3100.,  3300.,  3500.,\n",
       "        3700.,  3900.,  4100.,  4300.,  4500.,  4700.,  4900.,  5100.,  5300.,\n",
       "        5500.,  5700.,  5900.,  6100.,  6300.,  6500.,  6700.,  6900.,  7100.,\n",
       "        7300.,  7500.,  7700.,  7900.,  8100.,  8300.,  8500.,  8700.,  8900.,\n",
       "        9100.,  9300.,  9500.,  9700.,  9900., 10100., 10300., 10500., 10700.,\n",
       "       10900., 11100., 11300., 11500., 11700., 11900., 12100., 12300., 12500.,\n",
       "       12700., 12900., 13100., 13300., 13500., 13700., 13900., 14100., 14300.,\n",
       "       14500., 14700., 14900., 15100., 15300., 15500., 15700., 15900., 16100.,\n",
       "       16300., 16500., 16700., 16900., 17100., 17300., 17500., 17700., 17900.,\n",
       "       18100., 18300., 18500., 18700., 18900., 19100., 19300., 19500., 19700.,\n",
       "       19900., 20100., 20300., 20500., 20700., 20900., 21100., 21300., 21500.,\n",
       "       21700., 21900., 22100., 22300., 22500., 22700., 22900., 23100., 23300.,\n",
       "       23500., 23700., 23900.], dtype=float32)</pre></div></li></ul></div></li><li class='xr-section-item'><input id='section-65258df6-6f33-440f-aa0c-7adb47c9ad4a' class='xr-section-summary-in' type='checkbox'  checked><label for='section-65258df6-6f33-440f-aa0c-7adb47c9ad4a' class='xr-section-summary' >Data variables: <span>(2)</span></label><div class='xr-section-inline-details'></div><div class='xr-section-details'><ul class='xr-var-list'><li class='xr-var-item'><div class='xr-var-name'><span>sat</span></div><div class='xr-var-dims'>(age, lat, lon)</div><div class='xr-var-dtype'>float32</div><div class='xr-var-preview xr-preview'>...</div><input id='attrs-95b837c5-5749-47dc-a787-c24075545a6e' class='xr-var-attrs-in' type='checkbox' ><label for='attrs-95b837c5-5749-47dc-a787-c24075545a6e' title='Show/Hide attributes'><svg class='icon xr-icon-file-text2'><use xlink:href='#icon-file-text2'></use></svg></label><input id='data-6f1c543e-a785-41f7-af6c-b50f49208bef' class='xr-var-data-in' type='checkbox'><label for='data-6f1c543e-a785-41f7-af6c-b50f49208bef' title='Show/Hide data repr'><svg class='icon xr-icon-database'><use xlink:href='#icon-database'></use></svg></label><div class='xr-var-attrs'><dl class='xr-attrs'><dt><span>FillValue :</span></dt><dd>9.969209968386869e+36</dd><dt><span>long_name :</span></dt><dd>ENSEMBLE MEAN (n = 500) mean annual temperature at reference height</dd><dt><span>units :</span></dt><dd>degrees Celsius</dd></dl></div><div class='xr-var-data'><pre>[1658880 values with dtype=float32]</pre></div></li><li class='xr-var-item'><div class='xr-var-name'><span>sat_std</span></div><div class='xr-var-dims'>(age, lat, lon)</div><div class='xr-var-dtype'>float32</div><div class='xr-var-preview xr-preview'>...</div><input id='attrs-09df79cc-1b11-4f41-97ce-c7e190d53682' class='xr-var-attrs-in' type='checkbox' ><label for='attrs-09df79cc-1b11-4f41-97ce-c7e190d53682' title='Show/Hide attributes'><svg class='icon xr-icon-file-text2'><use xlink:href='#icon-file-text2'></use></svg></label><input id='data-ee6c223d-5b07-4776-9df5-7c8b2842e0a8' class='xr-var-data-in' type='checkbox'><label for='data-ee6c223d-5b07-4776-9df5-7c8b2842e0a8' title='Show/Hide data repr'><svg class='icon xr-icon-database'><use xlink:href='#icon-database'></use></svg></label><div class='xr-var-attrs'><dl class='xr-attrs'><dt><span>FillValue :</span></dt><dd>9.969209968386869e+36</dd><dt><span>long_name :</span></dt><dd>ENSEMBLE STANDARD DEVIATION (n = 500) mean annual temperature at reference height</dd><dt><span>units :</span></dt><dd>degrees Celsius</dd></dl></div><div class='xr-var-data'><pre>[1658880 values with dtype=float32]</pre></div></li></ul></div></li><li class='xr-section-item'><input id='section-0f02987f-c434-46c5-a639-9fd491bb3938' class='xr-section-summary-in' type='checkbox'  ><label for='section-0f02987f-c434-46c5-a639-9fd491bb3938' class='xr-section-summary' >Indexes: <span>(3)</span></label><div class='xr-section-inline-details'></div><div class='xr-section-details'><ul class='xr-var-list'><li class='xr-var-item'><div class='xr-index-name'><div>lat</div></div><div class='xr-index-preview'>PandasIndex</div><div></div><input id='index-642d0250-9090-4199-b9c5-7922d891400a' class='xr-index-data-in' type='checkbox'/><label for='index-642d0250-9090-4199-b9c5-7922d891400a' title='Show/Hide index repr'><svg class='icon xr-icon-database'><use xlink:href='#icon-database'></use></svg></label><div class='xr-index-data'><pre>PandasIndex(Float64Index([              -90.0,  -88.10526275634766,  -86.21052551269531,\n",
       "               -84.31578826904297,  -82.42105102539062,  -80.52631378173828,\n",
       "               -78.63157653808594,   -76.7368392944336,  -74.84210205078125,\n",
       "                -72.9473648071289,   -71.0526351928711,  -69.15789794921875,\n",
       "                -67.2631607055664,  -65.36842346191406,  -63.47368240356445,\n",
       "              -61.578948974609375,  -59.68421173095703,  -57.78947448730469,\n",
       "              -55.894737243652344,               -54.0, -52.105262756347656,\n",
       "               -50.21052551269531,  -48.31578826904297, -46.421051025390625,\n",
       "               -44.52631759643555,   -42.6315803527832,  -40.73684310913086,\n",
       "              -38.842105865478516,  -36.94736862182617,  -35.05263137817383,\n",
       "              -33.157894134521484, -31.263158798217773,  -29.36842155456543,\n",
       "              -27.473684310913086, -25.578947067260742,   -23.6842098236084,\n",
       "              -21.789474487304688, -19.894737243652344,               -18.0,\n",
       "              -16.105262756347656, -14.210526466369629, -12.315789222717285,\n",
       "              -10.421052932739258,  -8.526315689086914, -6.6315789222717285,\n",
       "               -4.736842155456543, -2.8421051502227783, -0.9473684430122375,\n",
       "               0.9473684430122375,  2.8421051502227783,   4.736842155456543,\n",
       "               6.6315789222717285,   8.526315689086914,  10.421052932739258,\n",
       "               12.315789222717285,  14.210526466369629,  16.105262756347656,\n",
       "                             18.0,  19.894737243652344,  21.789474487304688,\n",
       "                 23.6842098236084,  25.578947067260742,  27.473684310913086,\n",
       "                29.36842155456543,  31.263158798217773,  33.157894134521484,\n",
       "                35.05263137817383,   36.94736862182617,  38.842105865478516,\n",
       "                40.73684310913086,    42.6315803527832,   44.52631759643555,\n",
       "               46.421051025390625,   48.31578826904297,   50.21052551269531,\n",
       "               52.105262756347656,                54.0,  55.894737243652344,\n",
       "                57.78947448730469,   59.68421173095703,  61.578948974609375,\n",
       "                63.47368240356445,   65.36842346191406,    67.2631607055664,\n",
       "                69.15789794921875,    71.0526351928711,    72.9473648071289,\n",
       "                74.84210205078125,    76.7368392944336,   78.63157653808594,\n",
       "                80.52631378173828,   82.42105102539062,   84.31578826904297,\n",
       "                86.21052551269531,   88.10526275634766,                90.0],\n",
       "             dtype=&#x27;float64&#x27;, name=&#x27;lat&#x27;))</pre></div></li><li class='xr-var-item'><div class='xr-index-name'><div>lon</div></div><div class='xr-index-preview'>PandasIndex</div><div></div><input id='index-a5fb357b-09d3-4f51-93d6-2c8102281b93' class='xr-index-data-in' type='checkbox'/><label for='index-a5fb357b-09d3-4f51-93d6-2c8102281b93' title='Show/Hide index repr'><svg class='icon xr-icon-database'><use xlink:href='#icon-database'></use></svg></label><div class='xr-index-data'><pre>PandasIndex(Float64Index([  0.0,   2.5,   5.0,   7.5,  10.0,  12.5,  15.0,  17.5,  20.0,\n",
       "               22.5,\n",
       "              ...\n",
       "              335.0, 337.5, 340.0, 342.5, 345.0, 347.5, 350.0, 352.5, 355.0,\n",
       "              357.5],\n",
       "             dtype=&#x27;float64&#x27;, name=&#x27;lon&#x27;, length=144))</pre></div></li><li class='xr-var-item'><div class='xr-index-name'><div>age</div></div><div class='xr-index-preview'>PandasIndex</div><div></div><input id='index-d32bcef8-1ba2-471b-b076-01367eb79a49' class='xr-index-data-in' type='checkbox'/><label for='index-d32bcef8-1ba2-471b-b076-01367eb79a49' title='Show/Hide index repr'><svg class='icon xr-icon-database'><use xlink:href='#icon-database'></use></svg></label><div class='xr-index-data'><pre>PandasIndex(Float64Index([  100.0,   300.0,   500.0,   700.0,   900.0,  1100.0,  1300.0,\n",
       "               1500.0,  1700.0,  1900.0,\n",
       "              ...\n",
       "              22100.0, 22300.0, 22500.0, 22700.0, 22900.0, 23100.0, 23300.0,\n",
       "              23500.0, 23700.0, 23900.0],\n",
       "             dtype=&#x27;float64&#x27;, name=&#x27;age&#x27;, length=120))</pre></div></li></ul></div></li><li class='xr-section-item'><input id='section-42a34d49-b956-4195-bc0c-0f1e5e37a26f' class='xr-section-summary-in' type='checkbox' disabled ><label for='section-42a34d49-b956-4195-bc0c-0f1e5e37a26f' class='xr-section-summary'  title='Expand/collapse section'>Attributes: <span>(0)</span></label><div class='xr-section-inline-details'></div><div class='xr-section-details'><dl class='xr-attrs'></dl></div></li></ul></div></div>"
      ],
      "text/plain": [
       "<xarray.Dataset>\n",
       "Dimensions:  (lat: 96, lon: 144, age: 120)\n",
       "Coordinates:\n",
       "  * lat      (lat) float32 -90.0 -88.11 -86.21 -84.32 ... 84.32 86.21 88.11 90.0\n",
       "  * lon      (lon) float32 0.0 2.5 5.0 7.5 10.0 ... 350.0 352.5 355.0 357.5\n",
       "  * age      (age) float32 100.0 300.0 500.0 ... 2.35e+04 2.37e+04 2.39e+04\n",
       "Data variables:\n",
       "    sat      (age, lat, lon) float32 ...\n",
       "    sat_std  (age, lat, lon) float32 ..."
      ]
     },
     "execution_count": 2,
     "metadata": {},
     "output_type": "execute_result"
    }
   ],
   "source": [
    "\n",
    "import xarray as xr\n",
    "\n",
    "\n",
    "ds_sat = xr.open_dataset('LGMR_data/ds_sat_flipped.nc')\n",
    "\n",
    "import pandas as pd\n",
    "df_pre = pd.read_csv(r\"D:\\VScode\\Inso_LGMR\\inso_data\\pre.csv\")\n",
    "df_obl = pd.read_csv(r\"D:\\VScode\\Inso_LGMR\\inso_data\\obl.csv\")\n",
    "\n",
    "df = pd.DataFrame({\n",
    "    'Time': ds_sat['age'].values,\n",
    "    'X': df_pre['pre'].values,\n",
    "    'Y': ds_sat['sat'].isel(lat=80).isel(lon=0).values\n",
    "})\n",
    "\n",
    "ds_sat"
   ]
  },
  {
   "cell_type": "code",
   "execution_count": 9,
   "metadata": {},
   "outputs": [
    {
     "data": {
      "text/plain": [
       "[<matplotlib.lines.Line2D at 0x20fbb14f430>]"
      ]
     },
     "execution_count": 9,
     "metadata": {},
     "output_type": "execute_result"
    },
    {
     "data": {
      "image/png": "[encoded data removed]",
      "text/plain": [
       "<Figure size 640x480 with 1 Axes>"
      ]
     },
     "metadata": {},
     "output_type": "display_data"
    }
   ],
   "source": [
    "# plot any sat from the ds_sat\n",
    "\n",
    "import matplotlib.pyplot as plt\n",
    "import numpy as np\n",
    "\n",
    "plt.plot(ds_sat['sat'].isel(lat=80).isel(lon=0).values)"
   ]
  },
  {
   "cell_type": "code",
   "execution_count": 10,
   "metadata": {},
   "outputs": [
    {
     "data": {
      "text/plain": [
       "[<matplotlib.lines.Line2D at 0x20fbd39bc40>]"
      ]
     },
     "execution_count": 10,
     "metadata": {},
     "output_type": "execute_result"
    },
    {
     "data": {
      "image/png": "[encoded data removed]",
      "text/plain": [
       "<Figure size 640x480 with 1 Axes>"
      ]
     },
     "metadata": {},
     "output_type": "display_data"
    }
   ],
   "source": [
    "# plot df_pre\n",
    "plt.plot(df_pre['pre'].values)\n",
    "\n",
    "# print(df_pre['pre'].values)"
   ]
  },
  {
   "cell_type": "code",
   "execution_count": 7,
   "metadata": {},
   "outputs": [
    {
     "data": {
      "application/vnd.plotly.v1+json": {
       "config": {
        "plotlyServerURL": "https://plot.ly"
       },
       "data": [
        {
         "cmax": 0.9980298170955574,
         "cmin": 0.5659634961122633,
         "colorbar": {
          "len": 0.3,
          "title": {
           "side": "right",
           "text": "rho"
          },
          "x": 1.02
         },
         "colorscale": [
          [
           0,
           "#440154"
          ],
          [
           0.1111111111111111,
           "#482878"
          ],
          [
           0.2222222222222222,
           "#3e4989"
          ],
          [
           0.3333333333333333,
           "#31688e"
          ],
          [
           0.4444444444444444,
           "#26828e"
          ],
          [
           0.5555555555555556,
           "#1f9e89"
          ],
          [
           0.6666666666666666,
           "#35b779"
          ],
          [
           0.7777777777777778,
           "#6ece58"
          ],
          [
           0.8888888888888888,
           "#b5de2b"
          ],
          [
           1,
           "#fde725"
          ]
         ],
         "scene": "scene",
         "showscale": true,
         "type": "surface",
         "x": [
          [
           1,
           1,
           1,
           1,
           1,
           1,
           1,
           1,
           1,
           1
          ],
          [
           2,
           2,
           2,
           2,
           2,
           2,
           2,
           2,
           2,
           2
          ],
          [
           3,
           3,
           3,
           3,
           3,
           3,
           3,
           3,
           3,
           3
          ],
          [
           4,
           4,
           4,
           4,
           4,
           4,
           4,
           4,
           4,
           4
          ],
          [
           5,
           5,
           5,
           5,
           5,
           5,
           5,
           5,
           5,
           5
          ]
         ],
         "y": [
          [
           1,
           2,
           3,
           4,
           5,
           6,
           7,
           8,
           9,
           10
          ],
          [
           1,
           2,
           3,
           4,
           5,
           6,
           7,
           8,
           9,
           10
          ],
          [
           1,
           2,
           3,
           4,
           5,
           6,
           7,
           8,
           9,
           10
          ],
          [
           1,
           2,
           3,
           4,
           5,
           6,
           7,
           8,
           9,
           10
          ],
          [
           1,
           2,
           3,
           4,
           5,
           6,
           7,
           8,
           9,
           10
          ]
         ],
         "z": [
          [
           0.8071907175453998,
           0.8071907175453998,
           0.8071907175453998,
           0.8071907175453998,
           0.8071907175453998,
           0.8071907175453998,
           0.8071907175453998,
           0.8071907175453998,
           0.8071907175453998,
           0.8071907175453998
          ],
          [
           0.8518795897262501,
           0.8700401993437852,
           0.9120107617823591,
           0.9383307437912796,
           0.9650800132082736,
           0.9699610870082939,
           0.9791106247219992,
           0.9786138773793023,
           0.9728490125453371,
           0.9554134324788687
          ],
          [
           0.890901863632595,
           0.9472146326399858,
           0.9769288193781476,
           0.9877447581712295,
           0.974680892264695,
           0.9518256297207052,
           0.9035671842251103,
           0.8557820368781084,
           0.7935839286072174,
           0.7346699463105056
          ],
          [
           0.9294961119479934,
           0.9788251950288488,
           0.9852195348489136,
           0.9507237524266918,
           0.8807305037330381,
           0.7852613419399385,
           0.7103789009951739,
           0.690320502568513,
           0.7231216782734794,
           0.7865459688189388
          ],
          [
           0.9388862251447476,
           0.9866344136668922,
           0.9457495534339296,
           0.8409523104415373,
           0.7215661485498785,
           0.6875274200161323,
           0.7426103749187453,
           0.834953034223687,
           0.9011676438900624,
           0.8999364629889303
          ]
         ]
        },
        {
         "cmax": 0.9980298170955574,
         "cmin": 0.5659634961122633,
         "colorscale": [
          [
           0,
           "#440154"
          ],
          [
           0.1111111111111111,
           "#482878"
          ],
          [
           0.2222222222222222,
           "#3e4989"
          ],
          [
           0.3333333333333333,
           "#31688e"
          ],
          [
           0.4444444444444444,
           "#26828e"
          ],
          [
           0.5555555555555556,
           "#1f9e89"
          ],
          [
           0.6666666666666666,
           "#35b779"
          ],
          [
           0.7777777777777778,
           "#6ece58"
          ],
          [
           0.8888888888888888,
           "#b5de2b"
          ],
          [
           1,
           "#fde725"
          ]
         ],
         "scene": "scene2",
         "showscale": false,
         "type": "surface",
         "x": [
          [
           1,
           1,
           1,
           1,
           1,
           1,
           1,
           1,
           1,
           1
          ],
          [
           2,
           2,
           2,
           2,
           2,
           2,
           2,
           2,
           2,
           2
          ],
          [
           3,
           3,
           3,
           3,
           3,
           3,
           3,
           3,
           3,
           3
          ],
          [
           4,
           4,
           4,
           4,
           4,
           4,
           4,
           4,
           4,
           4
          ],
          [
           5,
           5,
           5,
           5,
           5,
           5,
           5,
           5,
           5,
           5
          ]
         ],
         "y": [
          [
           1,
           2,
           3,
           4,
           5,
           6,
           7,
           8,
           9,
           10
          ],
          [
           1,
           2,
           3,
           4,
           5,
           6,
           7,
           8,
           9,
           10
          ],
          [
           1,
           2,
           3,
           4,
           5,
           6,
           7,
           8,
           9,
           10
          ],
          [
           1,
           2,
           3,
           4,
           5,
           6,
           7,
           8,
           9,
           10
          ],
          [
           1,
           2,
           3,
           4,
           5,
           6,
           7,
           8,
           9,
           10
          ]
         ],
         "z": [
          [
           0.7702408075019339,
           0.7702408075019339,
           0.7702408075019339,
           0.7702408075019339,
           0.7702408075019339,
           0.7702408075019339,
           0.7702408075019339,
           0.7702408075019339,
           0.7702408075019339,
           0.7702408075019339
          ],
          [
           0.8229380900616409,
           0.8920379069614794,
           0.9568032386131288,
           0.9038253718511383,
           0.9141900018075801,
           0.8854188026603447,
           0.7833011925360679,
           0.7524315792249151,
           0.7345190268344554,
           0.7119238986731293
          ],
          [
           0.8602486811840795,
           0.9624417135152612,
           0.9580605724528809,
           0.7529228028592772,
           0.6995395022376019,
           0.7007105110503705,
           0.7091245714293101,
           0.7399019350654753,
           0.7244082985545892,
           0.7305152114373412
          ],
          [
           0.9127651620237381,
           0.9554063627149116,
           0.7324642982276603,
           0.7086804717169735,
           0.7092484916827936,
           0.730470727288752,
           0.7174139481971319,
           0.6893815966191268,
           0.72091601243153,
           0.7856893536795961
          ],
          [
           0.9428860578816326,
           0.7406818950918704,
           0.7040597189108395,
           0.7237235091169695,
           0.7226077572437613,
           0.6874628125754546,
           0.7425795159187935,
           0.834091219428975,
           0.9001001961590974,
           0.8991190660695307
          ]
         ]
        },
        {
         "cmax": 0.9980298170955574,
         "cmin": 0.5659634961122633,
         "colorscale": [
          [
           0,
           "#440154"
          ],
          [
           0.1111111111111111,
           "#482878"
          ],
          [
           0.2222222222222222,
           "#3e4989"
          ],
          [
           0.3333333333333333,
           "#31688e"
          ],
          [
           0.4444444444444444,
           "#26828e"
          ],
          [
           0.5555555555555556,
           "#1f9e89"
          ],
          [
           0.6666666666666666,
           "#35b779"
          ],
          [
           0.7777777777777778,
           "#6ece58"
          ],
          [
           0.8888888888888888,
           "#b5de2b"
          ],
          [
           1,
           "#fde725"
          ]
         ],
         "scene": "scene3",
         "showscale": false,
         "type": "surface",
         "x": [
          [
           1,
           1,
           1,
           1,
           1,
           1,
           1,
           1,
           1,
           1
          ],
          [
           2,
           2,
           2,
           2,
           2,
           2,
           2,
           2,
           2,
           2
          ],
          [
           3,
           3,
           3,
           3,
           3,
           3,
           3,
           3,
           3,
           3
          ],
          [
           4,
           4,
           4,
           4,
           4,
           4,
           4,
           4,
           4,
           4
          ],
          [
           5,
           5,
           5,
           5,
           5,
           5,
           5,
           5,
           5,
           5
          ]
         ],
         "y": [
          [
           1,
           2,
           3,
           4,
           5,
           6,
           7,
           8,
           9,
           10
          ],
          [
           1,
           2,
           3,
           4,
           5,
           6,
           7,
           8,
           9,
           10
          ],
          [
           1,
           2,
           3,
           4,
           5,
           6,
           7,
           8,
           9,
           10
          ],
          [
           1,
           2,
           3,
           4,
           5,
           6,
           7,
           8,
           9,
           10
          ],
          [
           1,
           2,
           3,
           4,
           5,
           6,
           7,
           8,
           9,
           10
          ]
         ],
         "z": [
          [
           0.7750502497879654,
           0.7750502497879654,
           0.7750502497879654,
           0.7750502497879654,
           0.7750502497879654,
           0.7750502497879654,
           0.7750502497879654,
           0.7750502497879654,
           0.7750502497879654,
           0.7750502497879654
          ],
          [
           0.8311208114861524,
           0.8791621177222488,
           0.8945921953071507,
           0.8997094840502834,
           0.9022986792745004,
           0.8862248941354877,
           0.8529421022699418,
           0.7686142519332209,
           0.7500418970788055,
           0.7419021220985329
          ],
          [
           0.853445452497149,
           0.8987413089067718,
           0.9194858100438386,
           0.8879119068449098,
           0.8722520680861244,
           0.8022793482284954,
           0.815683315019428,
           0.7022877467712788,
           0.6814964423195163,
           0.6575995566773023
          ],
          [
           0.8758605607286508,
           0.9152488113787149,
           0.9253011584289599,
           0.8611336141060771,
           0.7334293914994614,
           0.6665664707793364,
           0.7048604775194155,
           0.6911078537615211,
           0.7239461158325307,
           0.7853031591804367
          ],
          [
           0.8773796187876791,
           0.9065531979836993,
           0.8767160827636616,
           0.7142705600466366,
           0.6790798182118206,
           0.6884942549914702,
           0.7434284473877508,
           0.8320647947532476,
           0.9003017839134324,
           0.9008429268751141
          ]
         ]
        },
        {
         "cmax": 0.9980298170955574,
         "cmin": 0.5659634961122633,
         "colorscale": [
          [
           0,
           "#440154"
          ],
          [
           0.1111111111111111,
           "#482878"
          ],
          [
           0.2222222222222222,
           "#3e4989"
          ],
          [
           0.3333333333333333,
           "#31688e"
          ],
          [
           0.4444444444444444,
           "#26828e"
          ],
          [
           0.5555555555555556,
           "#1f9e89"
          ],
          [
           0.6666666666666666,
           "#35b779"
          ],
          [
           0.7777777777777778,
           "#6ece58"
          ],
          [
           0.8888888888888888,
           "#b5de2b"
          ],
          [
           1,
           "#fde725"
          ]
         ],
         "scene": "scene4",
         "showscale": false,
         "type": "surface",
         "x": [
          [
           1,
           1,
           1,
           1,
           1,
           1,
           1,
           1,
           1,
           1
          ],
          [
           2,
           2,
           2,
           2,
           2,
           2,
           2,
           2,
           2,
           2
          ],
          [
           3,
           3,
           3,
           3,
           3,
           3,
           3,
           3,
           3,
           3
          ],
          [
           4,
           4,
           4,
           4,
           4,
           4,
           4,
           4,
           4,
           4
          ],
          [
           5,
           5,
           5,
           5,
           5,
           5,
           5,
           5,
           5,
           5
          ]
         ],
         "y": [
          [
           1,
           2,
           3,
           4,
           5,
           6,
           7,
           8,
           9,
           10
          ],
          [
           1,
           2,
           3,
           4,
           5,
           6,
           7,
           8,
           9,
           10
          ],
          [
           1,
           2,
           3,
           4,
           5,
           6,
           7,
           8,
           9,
           10
          ],
          [
           1,
           2,
           3,
           4,
           5,
           6,
           7,
           8,
           9,
           10
          ],
          [
           1,
           2,
           3,
           4,
           5,
           6,
           7,
           8,
           9,
           10
          ]
         ],
         "z": [
          [
           0.5659634961122633,
           0.5659634961122633,
           0.5659634961122633,
           0.5659634961122633,
           0.5659634961122633,
           0.5659634961122633,
           0.5659634961122633,
           0.5659634961122633,
           0.5659634961122633,
           0.5659634961122633
          ],
          [
           0.7794423885530909,
           0.902264659532149,
           0.9475237211615951,
           0.9609006983459061,
           0.9703882812239346,
           0.9743949891567981,
           0.9548007022804827,
           0.92356612204237,
           0.9070732580746463,
           0.9175200459228566
          ],
          [
           0.8639476294902373,
           0.9422565909851638,
           0.9729887677637047,
           0.9622970058364179,
           0.9440729506614973,
           0.9399452326883941,
           0.8850534736891597,
           0.781136469845959,
           0.7914603581156618,
           0.744831445138691
          ],
          [
           0.9049480895530653,
           0.9635102331156643,
           0.9552886693149151,
           0.934163322645507,
           0.8172683567573016,
           0.7810059249361746,
           0.7148063408153,
           0.679633386167385,
           0.7231258271771875,
           0.7860676256963681
          ],
          [
           0.9301152232031743,
           0.9612341642959733,
           0.9353097785694336,
           0.8024649574081621,
           0.7329744415056537,
           0.6884404324110555,
           0.7430762395401268,
           0.833271348097525,
           0.9052902286030999,
           0.8989683421971995
          ]
         ]
        },
        {
         "cmax": 0.9980298170955574,
         "cmin": 0.5659634961122633,
         "colorscale": [
          [
           0,
           "#440154"
          ],
          [
           0.1111111111111111,
           "#482878"
          ],
          [
           0.2222222222222222,
           "#3e4989"
          ],
          [
           0.3333333333333333,
           "#31688e"
          ],
          [
           0.4444444444444444,
           "#26828e"
          ],
          [
           0.5555555555555556,
           "#1f9e89"
          ],
          [
           0.6666666666666666,
           "#35b779"
          ],
          [
           0.7777777777777778,
           "#6ece58"
          ],
          [
           0.8888888888888888,
           "#b5de2b"
          ],
          [
           1,
           "#fde725"
          ]
         ],
         "scene": "scene5",
         "showscale": false,
         "type": "surface",
         "x": [
          [
           1,
           1,
           1,
           1,
           1,
           1,
           1,
           1,
           1,
           1
          ],
          [
           2,
           2,
           2,
           2,
           2,
           2,
           2,
           2,
           2,
           2
          ],
          [
           3,
           3,
           3,
           3,
           3,
           3,
           3,
           3,
           3,
           3
          ],
          [
           4,
           4,
           4,
           4,
           4,
           4,
           4,
           4,
           4,
           4
          ],
          [
           5,
           5,
           5,
           5,
           5,
           5,
           5,
           5,
           5,
           5
          ]
         ],
         "y": [
          [
           1,
           2,
           3,
           4,
           5,
           6,
           7,
           8,
           9,
           10
          ],
          [
           1,
           2,
           3,
           4,
           5,
           6,
           7,
           8,
           9,
           10
          ],
          [
           1,
           2,
           3,
           4,
           5,
           6,
           7,
           8,
           9,
           10
          ],
          [
           1,
           2,
           3,
           4,
           5,
           6,
           7,
           8,
           9,
           10
          ],
          [
           1,
           2,
           3,
           4,
           5,
           6,
           7,
           8,
           9,
           10
          ]
         ],
         "z": [
          [
           0.729937161931871,
           0.729937161931871,
           0.729937161931871,
           0.729937161931871,
           0.729937161931871,
           0.729937161931871,
           0.729937161931871,
           0.729937161931871,
           0.729937161931871,
           0.729937161931871
          ],
          [
           0.8597428823754516,
           0.9418173144744345,
           0.9681619968315803,
           0.9854287999942903,
           0.9855281800588088,
           0.9908957117996727,
           0.9866365486803006,
           0.9757960778206325,
           0.9640904544383,
           0.9503496506340919
          ],
          [
           0.9157725777068725,
           0.9737335158872928,
           0.9888792872604703,
           0.9717967129357199,
           0.9656154064877851,
           0.9356320205391042,
           0.9048397158639664,
           0.822079977834237,
           0.7992918472419576,
           0.7428739326625075
          ],
          [
           0.9361814519487163,
           0.9855691355499193,
           0.9761806662022282,
           0.9457433480608891,
           0.8708511530305996,
           0.7924341801828294,
           0.7126964974778908,
           0.6913110119100643,
           0.7228947551232531,
           0.7869645077928372
          ],
          [
           0.9462089949656106,
           0.9834298715522495,
           0.9413592029198097,
           0.8374114487101735,
           0.731076787825577,
           0.6878441864662539,
           0.743209055300333,
           0.8348336211022449,
           0.9014129875035006,
           0.8995213388844494
          ]
         ]
        },
        {
         "cmax": 0.9980298170955574,
         "cmin": 0.5659634961122633,
         "colorscale": [
          [
           0,
           "#440154"
          ],
          [
           0.1111111111111111,
           "#482878"
          ],
          [
           0.2222222222222222,
           "#3e4989"
          ],
          [
           0.3333333333333333,
           "#31688e"
          ],
          [
           0.4444444444444444,
           "#26828e"
          ],
          [
           0.5555555555555556,
           "#1f9e89"
          ],
          [
           0.6666666666666666,
           "#35b779"
          ],
          [
           0.7777777777777778,
           "#6ece58"
          ],
          [
           0.8888888888888888,
           "#b5de2b"
          ],
          [
           1,
           "#fde725"
          ]
         ],
         "scene": "scene6",
         "showscale": false,
         "type": "surface",
         "x": [
          [
           1,
           1,
           1,
           1,
           1,
           1,
           1,
           1,
           1,
           1
          ],
          [
           2,
           2,
           2,
           2,
           2,
           2,
           2,
           2,
           2,
           2
          ],
          [
           3,
           3,
           3,
           3,
           3,
           3,
           3,
           3,
           3,
           3
          ],
          [
           4,
           4,
           4,
           4,
           4,
           4,
           4,
           4,
           4,
           4
          ],
          [
           5,
           5,
           5,
           5,
           5,
           5,
           5,
           5,
           5,
           5
          ]
         ],
         "y": [
          [
           1,
           2,
           3,
           4,
           5,
           6,
           7,
           8,
           9,
           10
          ],
          [
           1,
           2,
           3,
           4,
           5,
           6,
           7,
           8,
           9,
           10
          ],
          [
           1,
           2,
           3,
           4,
           5,
           6,
           7,
           8,
           9,
           10
          ],
          [
           1,
           2,
           3,
           4,
           5,
           6,
           7,
           8,
           9,
           10
          ],
          [
           1,
           2,
           3,
           4,
           5,
           6,
           7,
           8,
           9,
           10
          ]
         ],
         "z": [
          [
           0.7449249033171101,
           0.7449249033171101,
           0.7449249033171101,
           0.7449249033171101,
           0.7449249033171101,
           0.7449249033171101,
           0.7449249033171101,
           0.7449249033171101,
           0.7449249033171101,
           0.7449249033171101
          ],
          [
           0.8114989809058925,
           0.8889638634524498,
           0.9346567968429864,
           0.8951541774888137,
           0.8761287507329331,
           0.8785258442934617,
           0.7790792871792089,
           0.7511818868672312,
           0.7210566116886101,
           0.7138615826960437
          ],
          [
           0.8306717185438842,
           0.9324659900503195,
           0.9156155545796485,
           0.7506573359480053,
           0.698115091749661,
           0.7056862544121224,
           0.7239794580033817,
           0.7347699486532804,
           0.7156924525960493,
           0.7300067067144884
          ],
          [
           0.8902383696290537,
           0.9187411512908267,
           0.7252065485379341,
           0.714570464717974,
           0.7125371963348501,
           0.7315028818164598,
           0.7180612805322738,
           0.6893396775043585,
           0.7208190277084251,
           0.7861617189690399
          ],
          [
           0.9103232247983003,
           0.7372590339846363,
           0.7079109178138852,
           0.7287843196215439,
           0.7229507039036356,
           0.6873137115865148,
           0.7428078401252228,
           0.8340461827749521,
           0.9004429164053116,
           0.8986524221089469
          ]
         ]
        },
        {
         "cmax": 0.9980298170955574,
         "cmin": 0.5659634961122633,
         "colorscale": [
          [
           0,
           "#440154"
          ],
          [
           0.1111111111111111,
           "#482878"
          ],
          [
           0.2222222222222222,
           "#3e4989"
          ],
          [
           0.3333333333333333,
           "#31688e"
          ],
          [
           0.4444444444444444,
           "#26828e"
          ],
          [
           0.5555555555555556,
           "#1f9e89"
          ],
          [
           0.6666666666666666,
           "#35b779"
          ],
          [
           0.7777777777777778,
           "#6ece58"
          ],
          [
           0.8888888888888888,
           "#b5de2b"
          ],
          [
           1,
           "#fde725"
          ]
         ],
         "scene": "scene7",
         "showscale": false,
         "type": "surface",
         "x": [
          [
           1,
           1,
           1,
           1,
           1,
           1,
           1,
           1,
           1,
           1
          ],
          [
           2,
           2,
           2,
           2,
           2,
           2,
           2,
           2,
           2,
           2
          ],
          [
           3,
           3,
           3,
           3,
           3,
           3,
           3,
           3,
           3,
           3
          ],
          [
           4,
           4,
           4,
           4,
           4,
           4,
           4,
           4,
           4,
           4
          ],
          [
           5,
           5,
           5,
           5,
           5,
           5,
           5,
           5,
           5,
           5
          ]
         ],
         "y": [
          [
           1,
           2,
           3,
           4,
           5,
           6,
           7,
           8,
           9,
           10
          ],
          [
           1,
           2,
           3,
           4,
           5,
           6,
           7,
           8,
           9,
           10
          ],
          [
           1,
           2,
           3,
           4,
           5,
           6,
           7,
           8,
           9,
           10
          ],
          [
           1,
           2,
           3,
           4,
           5,
           6,
           7,
           8,
           9,
           10
          ],
          [
           1,
           2,
           3,
           4,
           5,
           6,
           7,
           8,
           9,
           10
          ]
         ],
         "z": [
          [
           0.7299354935957774,
           0.7299354935957774,
           0.7299354935957774,
           0.7299354935957774,
           0.7299354935957774,
           0.7299354935957774,
           0.7299354935957774,
           0.7299354935957774,
           0.7299354935957774,
           0.7299354935957774
          ],
          [
           0.6926254897066954,
           0.7902561817989697,
           0.8706859168374158,
           0.8976952012174613,
           0.8957333459090842,
           0.8698095381558636,
           0.8238006504659863,
           0.8473857661743592,
           0.8754394655903587,
           0.8883888387181027
          ],
          [
           0.7844081607966724,
           0.9147612125176682,
           0.9087790562840768,
           0.8965353710287934,
           0.8891599871270783,
           0.8721224699173215,
           0.8378459932211791,
           0.8140707197151974,
           0.7638728614120763,
           0.7289364504375515
          ],
          [
           0.8448138647713751,
           0.9121319300155919,
           0.8905001404287471,
           0.8860569385628198,
           0.8280436191900756,
           0.7467683735296161,
           0.7150236423858879,
           0.6848050553428555,
           0.7223835158024937,
           0.7835113264053835
          ],
          [
           0.8869924719848669,
           0.8845471793676208,
           0.8902554548436081,
           0.8080810308218985,
           0.7171380872218003,
           0.6868174253863462,
           0.7436703847763028,
           0.8333344500164078,
           0.9013279168150069,
           0.8944835173677624
          ]
         ]
        },
        {
         "cmax": 0.9980298170955574,
         "cmin": 0.5659634961122633,
         "colorscale": [
          [
           0,
           "#440154"
          ],
          [
           0.1111111111111111,
           "#482878"
          ],
          [
           0.2222222222222222,
           "#3e4989"
          ],
          [
           0.3333333333333333,
           "#31688e"
          ],
          [
           0.4444444444444444,
           "#26828e"
          ],
          [
           0.5555555555555556,
           "#1f9e89"
          ],
          [
           0.6666666666666666,
           "#35b779"
          ],
          [
           0.7777777777777778,
           "#6ece58"
          ],
          [
           0.8888888888888888,
           "#b5de2b"
          ],
          [
           1,
           "#fde725"
          ]
         ],
         "scene": "scene8",
         "showscale": false,
         "type": "surface",
         "x": [
          [
           1,
           1,
           1,
           1,
           1,
           1,
           1,
           1,
           1,
           1
          ],
          [
           2,
           2,
           2,
           2,
           2,
           2,
           2,
           2,
           2,
           2
          ],
          [
           3,
           3,
           3,
           3,
           3,
           3,
           3,
           3,
           3,
           3
          ],
          [
           4,
           4,
           4,
           4,
           4,
           4,
           4,
           4,
           4,
           4
          ],
          [
           5,
           5,
           5,
           5,
           5,
           5,
           5,
           5,
           5,
           5
          ]
         ],
         "y": [
          [
           1,
           2,
           3,
           4,
           5,
           6,
           7,
           8,
           9,
           10
          ],
          [
           1,
           2,
           3,
           4,
           5,
           6,
           7,
           8,
           9,
           10
          ],
          [
           1,
           2,
           3,
           4,
           5,
           6,
           7,
           8,
           9,
           10
          ],
          [
           1,
           2,
           3,
           4,
           5,
           6,
           7,
           8,
           9,
           10
          ],
          [
           1,
           2,
           3,
           4,
           5,
           6,
           7,
           8,
           9,
           10
          ]
         ],
         "z": [
          [
           0.6304916294551368,
           0.6304916294551368,
           0.6304916294551368,
           0.6304916294551368,
           0.6304916294551368,
           0.6304916294551368,
           0.6304916294551368,
           0.6304916294551368,
           0.6304916294551368,
           0.6304916294551368
          ],
          [
           0.8053779118298502,
           0.9466493126479709,
           0.9886129700900939,
           0.9966593928757146,
           0.9971054592856695,
           0.9950071720456826,
           0.9940695586221546,
           0.9923342248334144,
           0.9869146994958228,
           0.9817624184993364
          ],
          [
           0.9205894264527065,
           0.9919751371165973,
           0.9980298170955574,
           0.9945067676213939,
           0.981884800583349,
           0.9499058285747565,
           0.9162682092378717,
           0.8590247391490781,
           0.7943169015860029,
           0.721944899527468
          ],
          [
           0.9497651228298039,
           0.9976637868707949,
           0.9886577158162202,
           0.9532696181541137,
           0.8822157186501614,
           0.778455379093827,
           0.7095437274472028,
           0.683148051712166,
           0.7236972859066412,
           0.7888131718391773
          ],
          [
           0.9758295551784268,
           0.9936153027388603,
           0.9520118499499807,
           0.8434582322152719,
           0.7201110026280623,
           0.6866415237698271,
           0.743199717149791,
           0.8342797384259216,
           0.9014443698912395,
           0.8975514862035676
          ]
         ]
        },
        {
         "cmax": 0.9980298170955574,
         "cmin": 0.5659634961122633,
         "colorscale": [
          [
           0,
           "#440154"
          ],
          [
           0.1111111111111111,
           "#482878"
          ],
          [
           0.2222222222222222,
           "#3e4989"
          ],
          [
           0.3333333333333333,
           "#31688e"
          ],
          [
           0.4444444444444444,
           "#26828e"
          ],
          [
           0.5555555555555556,
           "#1f9e89"
          ],
          [
           0.6666666666666666,
           "#35b779"
          ],
          [
           0.7777777777777778,
           "#6ece58"
          ],
          [
           0.8888888888888888,
           "#b5de2b"
          ],
          [
           1,
           "#fde725"
          ]
         ],
         "scene": "scene9",
         "showscale": false,
         "type": "surface",
         "x": [
          [
           1,
           1,
           1,
           1,
           1,
           1,
           1,
           1,
           1,
           1
          ],
          [
           2,
           2,
           2,
           2,
           2,
           2,
           2,
           2,
           2,
           2
          ],
          [
           3,
           3,
           3,
           3,
           3,
           3,
           3,
           3,
           3,
           3
          ],
          [
           4,
           4,
           4,
           4,
           4,
           4,
           4,
           4,
           4,
           4
          ],
          [
           5,
           5,
           5,
           5,
           5,
           5,
           5,
           5,
           5,
           5
          ]
         ],
         "y": [
          [
           1,
           2,
           3,
           4,
           5,
           6,
           7,
           8,
           9,
           10
          ],
          [
           1,
           2,
           3,
           4,
           5,
           6,
           7,
           8,
           9,
           10
          ],
          [
           1,
           2,
           3,
           4,
           5,
           6,
           7,
           8,
           9,
           10
          ],
          [
           1,
           2,
           3,
           4,
           5,
           6,
           7,
           8,
           9,
           10
          ],
          [
           1,
           2,
           3,
           4,
           5,
           6,
           7,
           8,
           9,
           10
          ]
         ],
         "z": [
          [
           0.678876677163649,
           0.678876677163649,
           0.678876677163649,
           0.678876677163649,
           0.678876677163649,
           0.678876677163649,
           0.678876677163649,
           0.678876677163649,
           0.678876677163649,
           0.678876677163649
          ],
          [
           0.7871824131307994,
           0.849493356481465,
           0.8736235553545659,
           0.8781852342331167,
           0.8843963020004022,
           0.8957436853700629,
           0.9057109294273571,
           0.9062751427383826,
           0.876900754244014,
           0.8654615249464878
          ],
          [
           0.8206265860970872,
           0.9172075135019726,
           0.9291835099661953,
           0.9050795850687153,
           0.8898740796161361,
           0.8747734423624106,
           0.8555451617783744,
           0.8322447130656382,
           0.7921361868227708,
           0.7300668246302673
          ],
          [
           0.859401630399962,
           0.9310119782438677,
           0.9161584270402328,
           0.8847019190174783,
           0.8523210200468335,
           0.7886982570264086,
           0.7090081217302997,
           0.6937412641207119,
           0.7234050587246336,
           0.7866503957753305
          ],
          [
           0.8879689529438439,
           0.9199698963777823,
           0.8951451538860927,
           0.8275032702447754,
           0.7197016774068842,
           0.6904470716733652,
           0.743256381213859,
           0.8345973345354051,
           0.9012788940528395,
           0.8994801147488958
          ]
         ]
        },
        {
         "cmax": 0.9980298170955574,
         "cmin": 0.5659634961122633,
         "colorscale": [
          [
           0,
           "#440154"
          ],
          [
           0.1111111111111111,
           "#482878"
          ],
          [
           0.2222222222222222,
           "#3e4989"
          ],
          [
           0.3333333333333333,
           "#31688e"
          ],
          [
           0.4444444444444444,
           "#26828e"
          ],
          [
           0.5555555555555556,
           "#1f9e89"
          ],
          [
           0.6666666666666666,
           "#35b779"
          ],
          [
           0.7777777777777778,
           "#6ece58"
          ],
          [
           0.8888888888888888,
           "#b5de2b"
          ],
          [
           1,
           "#fde725"
          ]
         ],
         "scene": "scene10",
         "showscale": false,
         "type": "surface",
         "x": [
          [
           1,
           1,
           1,
           1,
           1,
           1,
           1,
           1,
           1,
           1
          ],
          [
           2,
           2,
           2,
           2,
           2,
           2,
           2,
           2,
           2,
           2
          ],
          [
           3,
           3,
           3,
           3,
           3,
           3,
           3,
           3,
           3,
           3
          ],
          [
           4,
           4,
           4,
           4,
           4,
           4,
           4,
           4,
           4,
           4
          ],
          [
           5,
           5,
           5,
           5,
           5,
           5,
           5,
           5,
           5,
           5
          ]
         ],
         "y": [
          [
           1,
           2,
           3,
           4,
           5,
           6,
           7,
           8,
           9,
           10
          ],
          [
           1,
           2,
           3,
           4,
           5,
           6,
           7,
           8,
           9,
           10
          ],
          [
           1,
           2,
           3,
           4,
           5,
           6,
           7,
           8,
           9,
           10
          ],
          [
           1,
           2,
           3,
           4,
           5,
           6,
           7,
           8,
           9,
           10
          ],
          [
           1,
           2,
           3,
           4,
           5,
           6,
           7,
           8,
           9,
           10
          ]
         ],
         "z": [
          [
           0.6342426015520364,
           0.6342426015520364,
           0.6342426015520364,
           0.6342426015520364,
           0.6342426015520364,
           0.6342426015520364,
           0.6342426015520364,
           0.6342426015520364,
           0.6342426015520364,
           0.6342426015520364
          ],
          [
           0.8108359062308259,
           0.9676595392155222,
           0.986609838991555,
           0.9826277915351787,
           0.9875005502243361,
           0.9907179054114542,
           0.9849796099646306,
           0.9685551779680144,
           0.968850772212433,
           0.964989601357516
          ],
          [
           0.9261744832492317,
           0.9890304301502395,
           0.9845669362553245,
           0.9741672599711655,
           0.9690821668348912,
           0.9530519547756987,
           0.9135568781390788,
           0.8589875294379431,
           0.7713430638357339,
           0.734500810039371
          ],
          [
           0.9491697385746282,
           0.9818637983567268,
           0.9728119140482346,
           0.9513579906606826,
           0.8811933424225928,
           0.7662426986808307,
           0.7117812885018643,
           0.6882696809119662,
           0.7233775966939532,
           0.787430272566882
          ],
          [
           0.962843110676167,
           0.9753533313032281,
           0.9487290528196618,
           0.8445566231232313,
           0.7197360478161102,
           0.6868235210739075,
           0.7434366610714866,
           0.8339548862344072,
           0.9012422106255619,
           0.8948688892688634
          ]
         ]
        }
       ],
       "layout": {
        "annotations": [
         {
          "font": {
           "size": 16
          },
          "showarrow": false,
          "text": "lat=-10.42, lon=332.50",
          "x": 0.088,
          "xanchor": "center",
          "xref": "paper",
          "y": 1,
          "yanchor": "bottom",
          "yref": "paper"
         },
         {
          "font": {
           "size": 16
          },
          "showarrow": false,
          "text": "lat=35.05, lon=5.00",
          "x": 0.294,
          "xanchor": "center",
          "xref": "paper",
          "y": 1,
          "yanchor": "bottom",
          "yref": "paper"
         },
         {
          "font": {
           "size": 16
          },
          "showarrow": false,
          "text": "lat=-59.68, lon=330.00",
          "x": 0.5,
          "xanchor": "center",
          "xref": "paper",
          "y": 1,
          "yanchor": "bottom",
          "yref": "paper"
         },
         {
          "font": {
           "size": 16
          },
          "showarrow": false,
          "text": "lat=52.11, lon=342.50",
          "x": 0.706,
          "xanchor": "center",
          "xref": "paper",
          "y": 1,
          "yanchor": "bottom",
          "yref": "paper"
         },
         {
          "font": {
           "size": 16
          },
          "showarrow": false,
          "text": "lat=19.89, lon=145.00",
          "x": 0.9119999999999999,
          "xanchor": "center",
          "xref": "paper",
          "y": 1,
          "yanchor": "bottom",
          "yref": "paper"
         },
         {
          "font": {
           "size": 16
          },
          "showarrow": false,
          "text": "lat=33.16, lon=357.50",
          "x": 0.088,
          "xanchor": "center",
          "xref": "paper",
          "y": 0.45,
          "yanchor": "bottom",
          "yref": "paper"
         },
         {
          "font": {
           "size": 16
          },
          "showarrow": false,
          "text": "lat=29.37, lon=300.00",
          "x": 0.294,
          "xanchor": "center",
          "xref": "paper",
          "y": 0.45,
          "yanchor": "bottom",
          "yref": "paper"
         },
         {
          "font": {
           "size": 16
          },
          "showarrow": false,
          "text": "lat=52.11, lon=242.50",
          "x": 0.5,
          "xanchor": "center",
          "xref": "paper",
          "y": 0.45,
          "yanchor": "bottom",
          "yref": "paper"
         },
         {
          "font": {
           "size": 16
          },
          "showarrow": false,
          "text": "lat=84.32, lon=102.50",
          "x": 0.706,
          "xanchor": "center",
          "xref": "paper",
          "y": 0.45,
          "yanchor": "bottom",
          "yref": "paper"
         },
         {
          "font": {
           "size": 16
          },
          "showarrow": false,
          "text": "lat=21.79, lon=255.00",
          "x": 0.9119999999999999,
          "xanchor": "center",
          "xref": "paper",
          "y": 0.45,
          "yanchor": "bottom",
          "yref": "paper"
         }
        ],
        "height": 800,
        "margin": {
         "b": 50,
         "l": 50,
         "r": 50,
         "t": 80
        },
        "scene": {
         "camera": {
          "eye": {
           "x": 1,
           "y": 2,
           "z": 3
          }
         },
         "domain": {
          "x": [
           0,
           0.176
          ],
          "y": [
           0.55,
           1
          ]
         },
         "xaxis": {
          "title": {
           "text": "E"
          }
         },
         "yaxis": {
          "title": {
           "text": "tau"
          }
         },
         "zaxis": {
          "title": {
           "text": "rho"
          }
         }
        },
        "scene10": {
         "camera": {
          "eye": {
           "x": 1,
           "y": 2,
           "z": 3
          }
         },
         "domain": {
          "x": [
           0.824,
           1
          ],
          "y": [
           0,
           0.45
          ]
         },
         "xaxis": {
          "title": {
           "text": "E"
          }
         },
         "yaxis": {
          "title": {
           "text": "tau"
          }
         },
         "zaxis": {
          "title": {
           "text": "rho"
          }
         }
        },
        "scene2": {
         "camera": {
          "eye": {
           "x": 1,
           "y": 2,
           "z": 3
          }
         },
         "domain": {
          "x": [
           0.206,
           0.382
          ],
          "y": [
           0.55,
           1
          ]
         },
         "xaxis": {
          "title": {
           "text": "E"
          }
         },
         "yaxis": {
          "title": {
           "text": "tau"
          }
         },
         "zaxis": {
          "title": {
           "text": "rho"
          }
         }
        },
        "scene3": {
         "camera": {
          "eye": {
           "x": 1,
           "y": 2,
           "z": 3
          }
         },
         "domain": {
          "x": [
           0.412,
           0.588
          ],
          "y": [
           0.55,
           1
          ]
         },
         "xaxis": {
          "title": {
           "text": "E"
          }
         },
         "yaxis": {
          "title": {
           "text": "tau"
          }
         },
         "zaxis": {
          "title": {
           "text": "rho"
          }
         }
        },
        "scene4": {
         "camera": {
          "eye": {
           "x": 1,
           "y": 2,
           "z": 3
          }
         },
         "domain": {
          "x": [
           0.618,
           0.794
          ],
          "y": [
           0.55,
           1
          ]
         },
         "xaxis": {
          "title": {
           "text": "E"
          }
         },
         "yaxis": {
          "title": {
           "text": "tau"
          }
         },
         "zaxis": {
          "title": {
           "text": "rho"
          }
         }
        },
        "scene5": {
         "camera": {
          "eye": {
           "x": 1,
           "y": 2,
           "z": 3
          }
         },
         "domain": {
          "x": [
           0.824,
           1
          ],
          "y": [
           0.55,
           1
          ]
         },
         "xaxis": {
          "title": {
           "text": "E"
          }
         },
         "yaxis": {
          "title": {
           "text": "tau"
          }
         },
         "zaxis": {
          "title": {
           "text": "rho"
          }
         }
        },
        "scene6": {
         "camera": {
          "eye": {
           "x": 1,
           "y": 2,
           "z": 3
          }
         },
         "domain": {
          "x": [
           0,
           0.176
          ],
          "y": [
           0,
           0.45
          ]
         },
         "xaxis": {
          "title": {
           "text": "E"
          }
         },
         "yaxis": {
          "title": {
           "text": "tau"
          }
         },
         "zaxis": {
          "title": {
           "text": "rho"
          }
         }
        },
        "scene7": {
         "camera": {
          "eye": {
           "x": 1,
           "y": 2,
           "z": 3
          }
         },
         "domain": {
          "x": [
           0.206,
           0.382
          ],
          "y": [
           0,
           0.45
          ]
         },
         "xaxis": {
          "title": {
           "text": "E"
          }
         },
         "yaxis": {
          "title": {
           "text": "tau"
          }
         },
         "zaxis": {
          "title": {
           "text": "rho"
          }
         }
        },
        "scene8": {
         "camera": {
          "eye": {
           "x": 1,
           "y": 2,
           "z": 3
          }
         },
         "domain": {
          "x": [
           0.412,
           0.588
          ],
          "y": [
           0,
           0.45
          ]
         },
         "xaxis": {
          "title": {
           "text": "E"
          }
         },
         "yaxis": {
          "title": {
           "text": "tau"
          }
         },
         "zaxis": {
          "title": {
           "text": "rho"
          }
         }
        },
        "scene9": {
         "camera": {
          "eye": {
           "x": 1,
           "y": 2,
           "z": 3
          }
         },
         "domain": {
          "x": [
           0.618,
           0.794
          ],
          "y": [
           0,
           0.45
          ]
         },
         "xaxis": {
          "title": {
           "text": "E"
          }
         },
         "yaxis": {
          "title": {
           "text": "tau"
          }
         },
         "zaxis": {
          "title": {
           "text": "rho"
          }
         }
        },
        "template": {
         "data": {
          "bar": [
           {
            "error_x": {
             "color": "#2a3f5f"
            },
            "error_y": {
             "color": "#2a3f5f"
            },
            "marker": {
             "line": {
              "color": "#E5ECF6",
              "width": 0.5
             },
             "pattern": {
              "fillmode": "overlay",
              "size": 10,
              "solidity": 0.2
             }
            },
            "type": "bar"
           }
          ],
          "barpolar": [
           {
            "marker": {
             "line": {
              "color": "#E5ECF6",
              "width": 0.5
             },
             "pattern": {
              "fillmode": "overlay",
              "size": 10,
              "solidity": 0.2
             }
            },
            "type": "barpolar"
           }
          ],
          "carpet": [
           {
            "aaxis": {
             "endlinecolor": "#2a3f5f",
             "gridcolor": "white",
             "linecolor": "white",
             "minorgridcolor": "white",
             "startlinecolor": "#2a3f5f"
            },
            "baxis": {
             "endlinecolor": "#2a3f5f",
             "gridcolor": "white",
             "linecolor": "white",
             "minorgridcolor": "white",
             "startlinecolor": "#2a3f5f"
            },
            "type": "carpet"
           }
          ],
          "choropleth": [
           {
            "colorbar": {
             "outlinewidth": 0,
             "ticks": ""
            },
            "type": "choropleth"
           }
          ],
          "contour": [
           {
            "colorbar": {
             "outlinewidth": 0,
             "ticks": ""
            },
            "colorscale": [
             [
              0,
              "#0d0887"
             ],
             [
              0.1111111111111111,
              "#46039f"
             ],
             [
              0.2222222222222222,
              "#7201a8"
             ],
             [
              0.3333333333333333,
              "#9c179e"
             ],
             [
              0.4444444444444444,
              "#bd3786"
             ],
             [
              0.5555555555555556,
              "#d8576b"
             ],
             [
              0.6666666666666666,
              "#ed7953"
             ],
             [
              0.7777777777777778,
              "#fb9f3a"
             ],
             [
              0.8888888888888888,
              "#fdca26"
             ],
             [
              1,
              "#f0f921"
             ]
            ],
            "type": "contour"
           }
          ],
          "contourcarpet": [
           {
            "colorbar": {
             "outlinewidth": 0,
             "ticks": ""
            },
            "type": "contourcarpet"
           }
          ],
          "heatmap": [
           {
            "colorbar": {
             "outlinewidth": 0,
             "ticks": ""
            },
            "colorscale": [
             [
              0,
              "#0d0887"
             ],
             [
              0.1111111111111111,
              "#46039f"
             ],
             [
              0.2222222222222222,
              "#7201a8"
             ],
             [
              0.3333333333333333,
              "#9c179e"
             ],
             [
              0.4444444444444444,
              "#bd3786"
             ],
             [
              0.5555555555555556,
              "#d8576b"
             ],
             [
              0.6666666666666666,
              "#ed7953"
             ],
             [
              0.7777777777777778,
              "#fb9f3a"
             ],
             [
              0.8888888888888888,
              "#fdca26"
             ],
             [
              1,
              "#f0f921"
             ]
            ],
            "type": "heatmap"
           }
          ],
          "heatmapgl": [
           {
            "colorbar": {
             "outlinewidth": 0,
             "ticks": ""
            },
            "colorscale": [
             [
              0,
              "#0d0887"
             ],
             [
              0.1111111111111111,
              "#46039f"
             ],
             [
              0.2222222222222222,
              "#7201a8"
             ],
             [
              0.3333333333333333,
              "#9c179e"
             ],
             [
              0.4444444444444444,
              "#bd3786"
             ],
             [
              0.5555555555555556,
              "#d8576b"
             ],
             [
              0.6666666666666666,
              "#ed7953"
             ],
             [
              0.7777777777777778,
              "#fb9f3a"
             ],
             [
              0.8888888888888888,
              "#fdca26"
             ],
             [
              1,
              "#f0f921"
             ]
            ],
            "type": "heatmapgl"
           }
          ],
          "histogram": [
           {
            "marker": {
             "pattern": {
              "fillmode": "overlay",
              "size": 10,
              "solidity": 0.2
             }
            },
            "type": "histogram"
           }
          ],
          "histogram2d": [
           {
            "colorbar": {
             "outlinewidth": 0,
             "ticks": ""
            },
            "colorscale": [
             [
              0,
              "#0d0887"
             ],
             [
              0.1111111111111111,
              "#46039f"
             ],
             [
              0.2222222222222222,
              "#7201a8"
             ],
             [
              0.3333333333333333,
              "#9c179e"
             ],
             [
              0.4444444444444444,
              "#bd3786"
             ],
             [
              0.5555555555555556,
              "#d8576b"
             ],
             [
              0.6666666666666666,
              "#ed7953"
             ],
             [
              0.7777777777777778,
              "#fb9f3a"
             ],
             [
              0.8888888888888888,
              "#fdca26"
             ],
             [
              1,
              "#f0f921"
             ]
            ],
            "type": "histogram2d"
           }
          ],
          "histogram2dcontour": [
           {
            "colorbar": {
             "outlinewidth": 0,
             "ticks": ""
            },
            "colorscale": [
             [
              0,
              "#0d0887"
             ],
             [
              0.1111111111111111,
              "#46039f"
             ],
             [
              0.2222222222222222,
              "#7201a8"
             ],
             [
              0.3333333333333333,
              "#9c179e"
             ],
             [
              0.4444444444444444,
              "#bd3786"
             ],
             [
              0.5555555555555556,
              "#d8576b"
             ],
             [
              0.6666666666666666,
              "#ed7953"
             ],
             [
              0.7777777777777778,
              "#fb9f3a"
             ],
             [
              0.8888888888888888,
              "#fdca26"
             ],
             [
              1,
              "#f0f921"
             ]
            ],
            "type": "histogram2dcontour"
           }
          ],
          "mesh3d": [
           {
            "colorbar": {
             "outlinewidth": 0,
             "ticks": ""
            },
            "type": "mesh3d"
           }
          ],
          "parcoords": [
           {
            "line": {
             "colorbar": {
              "outlinewidth": 0,
              "ticks": ""
             }
            },
            "type": "parcoords"
           }
          ],
          "pie": [
           {
            "automargin": true,
            "type": "pie"
           }
          ],
          "scatter": [
           {
            "fillpattern": {
             "fillmode": "overlay",
             "size": 10,
             "solidity": 0.2
            },
            "type": "scatter"
           }
          ],
          "scatter3d": [
           {
            "line": {
             "colorbar": {
              "outlinewidth": 0,
              "ticks": ""
             }
            },
            "marker": {
             "colorbar": {
              "outlinewidth": 0,
              "ticks": ""
             }
            },
            "type": "scatter3d"
           }
          ],
          "scattercarpet": [
           {
            "marker": {
             "colorbar": {
              "outlinewidth": 0,
              "ticks": ""
             }
            },
            "type": "scattercarpet"
           }
          ],
          "scattergeo": [
           {
            "marker": {
             "colorbar": {
              "outlinewidth": 0,
              "ticks": ""
             }
            },
            "type": "scattergeo"
           }
          ],
          "scattergl": [
           {
            "marker": {
             "colorbar": {
              "outlinewidth": 0,
              "ticks": ""
             }
            },
            "type": "scattergl"
           }
          ],
          "scattermapbox": [
           {
            "marker": {
             "colorbar": {
              "outlinewidth": 0,
              "ticks": ""
             }
            },
            "type": "scattermapbox"
           }
          ],
          "scatterpolar": [
           {
            "marker": {
             "colorbar": {
              "outlinewidth": 0,
              "ticks": ""
             }
            },
            "type": "scatterpolar"
           }
          ],
          "scatterpolargl": [
           {
            "marker": {
             "colorbar": {
              "outlinewidth": 0,
              "ticks": ""
             }
            },
            "type": "scatterpolargl"
           }
          ],
          "scatterternary": [
           {
            "marker": {
             "colorbar": {
              "outlinewidth": 0,
              "ticks": ""
             }
            },
            "type": "scatterternary"
           }
          ],
          "surface": [
           {
            "colorbar": {
             "outlinewidth": 0,
             "ticks": ""
            },
            "colorscale": [
             [
              0,
              "#0d0887"
             ],
             [
              0.1111111111111111,
              "#46039f"
             ],
             [
              0.2222222222222222,
              "#7201a8"
             ],
             [
              0.3333333333333333,
              "#9c179e"
             ],
             [
              0.4444444444444444,
              "#bd3786"
             ],
             [
              0.5555555555555556,
              "#d8576b"
             ],
             [
              0.6666666666666666,
              "#ed7953"
             ],
             [
              0.7777777777777778,
              "#fb9f3a"
             ],
             [
              0.8888888888888888,
              "#fdca26"
             ],
             [
              1,
              "#f0f921"
             ]
            ],
            "type": "surface"
           }
          ],
          "table": [
           {
            "cells": {
             "fill": {
              "color": "#EBF0F8"
             },
             "line": {
              "color": "white"
             }
            },
            "header": {
             "fill": {
              "color": "#C8D4E3"
             },
             "line": {
              "color": "white"
             }
            },
            "type": "table"
           }
          ]
         },
         "layout": {
          "annotationdefaults": {
           "arrowcolor": "#2a3f5f",
           "arrowhead": 0,
           "arrowwidth": 1
          },
          "autotypenumbers": "strict",
          "coloraxis": {
           "colorbar": {
            "outlinewidth": 0,
            "ticks": ""
           }
          },
          "colorscale": {
           "diverging": [
            [
             0,
             "#8e0152"
            ],
            [
             0.1,
             "#c51b7d"
            ],
            [
             0.2,
             "#de77ae"
            ],
            [
             0.3,
             "#f1b6da"
            ],
            [
             0.4,
             "#fde0ef"
            ],
            [
             0.5,
             "#f7f7f7"
            ],
            [
             0.6,
             "#e6f5d0"
            ],
            [
             0.7,
             "#b8e186"
            ],
            [
             0.8,
             "#7fbc41"
            ],
            [
             0.9,
             "#4d9221"
            ],
            [
             1,
             "#276419"
            ]
           ],
           "sequential": [
            [
             0,
             "#0d0887"
            ],
            [
             0.1111111111111111,
             "#46039f"
            ],
            [
             0.2222222222222222,
             "#7201a8"
            ],
            [
             0.3333333333333333,
             "#9c179e"
            ],
            [
             0.4444444444444444,
             "#bd3786"
            ],
            [
             0.5555555555555556,
             "#d8576b"
            ],
            [
             0.6666666666666666,
             "#ed7953"
            ],
            [
             0.7777777777777778,
             "#fb9f3a"
            ],
            [
             0.8888888888888888,
             "#fdca26"
            ],
            [
             1,
             "#f0f921"
            ]
           ],
           "sequentialminus": [
            [
             0,
             "#0d0887"
            ],
            [
             0.1111111111111111,
             "#46039f"
            ],
            [
             0.2222222222222222,
             "#7201a8"
            ],
            [
             0.3333333333333333,
             "#9c179e"
            ],
            [
             0.4444444444444444,
             "#bd3786"
            ],
            [
             0.5555555555555556,
             "#d8576b"
            ],
            [
             0.6666666666666666,
             "#ed7953"
            ],
            [
             0.7777777777777778,
             "#fb9f3a"
            ],
            [
             0.8888888888888888,
             "#fdca26"
            ],
            [
             1,
             "#f0f921"
            ]
           ]
          },
          "colorway": [
           "#636efa",
           "#EF553B",
           "#00cc96",
           "#ab63fa",
           "#FFA15A",
           "#19d3f3",
           "#FF6692",
           "#B6E880",
           "#FF97FF",
           "#FECB52"
          ],
          "font": {
           "color": "#2a3f5f"
          },
          "geo": {
           "bgcolor": "white",
           "lakecolor": "white",
           "landcolor": "#E5ECF6",
           "showlakes": true,
           "showland": true,
           "subunitcolor": "white"
          },
          "hoverlabel": {
           "align": "left"
          },
          "hovermode": "closest",
          "mapbox": {
           "style": "light"
          },
          "paper_bgcolor": "white",
          "plot_bgcolor": "#E5ECF6",
          "polar": {
           "angularaxis": {
            "gridcolor": "white",
            "linecolor": "white",
            "ticks": ""
           },
           "bgcolor": "#E5ECF6",
           "radialaxis": {
            "gridcolor": "white",
            "linecolor": "white",
            "ticks": ""
           }
          },
          "scene": {
           "xaxis": {
            "backgroundcolor": "#E5ECF6",
            "gridcolor": "white",
            "gridwidth": 2,
            "linecolor": "white",
            "showbackground": true,
            "ticks": "",
            "zerolinecolor": "white"
           },
           "yaxis": {
            "backgroundcolor": "#E5ECF6",
            "gridcolor": "white",
            "gridwidth": 2,
            "linecolor": "white",
            "showbackground": true,
            "ticks": "",
            "zerolinecolor": "white"
           },
           "zaxis": {
            "backgroundcolor": "#E5ECF6",
            "gridcolor": "white",
            "gridwidth": 2,
            "linecolor": "white",
            "showbackground": true,
            "ticks": "",
            "zerolinecolor": "white"
           }
          },
          "shapedefaults": {
           "line": {
            "color": "#2a3f5f"
           }
          },
          "ternary": {
           "aaxis": {
            "gridcolor": "white",
            "linecolor": "white",
            "ticks": ""
           },
           "baxis": {
            "gridcolor": "white",
            "linecolor": "white",
            "ticks": ""
           },
           "bgcolor": "#E5ECF6",
           "caxis": {
            "gridcolor": "white",
            "linecolor": "white",
            "ticks": ""
           }
          },
          "title": {
           "x": 0.05
          },
          "xaxis": {
           "automargin": true,
           "gridcolor": "white",
           "linecolor": "white",
           "ticks": "",
           "title": {
            "standoff": 15
           },
           "zerolinecolor": "white",
           "zerolinewidth": 2
          },
          "yaxis": {
           "automargin": true,
           "gridcolor": "white",
           "linecolor": "white",
           "ticks": "",
           "title": {
            "standoff": 15
           },
           "zerolinecolor": "white",
           "zerolinewidth": 2
          }
         }
        },
        "width": 1400
       }
      }
     },
     "metadata": {},
     "output_type": "display_data"
    }
   ],
   "source": [
    "import xarray as xr\n",
    "import pandas as pd\n",
    "import numpy as np\n",
    "import random\n",
    "\n",
    "import plotly.graph_objects as go\n",
    "from plotly.subplots import make_subplots\n",
    "\n",
    "from pyEDM import EmbedDimension\n",
    "\n",
    "\n",
    "nlat = ds_sat.sizes[\"lat\"]\n",
    "nlon = ds_sat.sizes[\"lon\"]\n",
    "ages = ds_sat[\"age\"].values  # keep track of the ages\n",
    "\n",
    "# ---------------------------------------------------------------------\n",
    "# 2. Randomly select 10 (lat, lon) grid points\n",
    "# ---------------------------------------------------------------------\n",
    "all_pairs = [(ilat, ilon) for ilat in range(nlat) for ilon in range(nlon)]\n",
    "random_pairs = random.sample(all_pairs, 10)  # pick 10 unique (ilat, ilon)\n",
    "\n",
    "results_list = []  # will be a list of (ilat, ilon, E_axis, Tau_axis, RhoMatrix)\n",
    "\n",
    "for idx, (ilat, ilon) in enumerate(random_pairs):\n",
    "    # Extract local sat time series\n",
    "    sat_ts = ds_sat[\"sat\"].isel(lat=ilat, lon=ilon).values\n",
    "\n",
    "    df_tmp = pd.DataFrame({\n",
    "        \"Time\": ages,\n",
    "        \"pre\": df_pre[\"pre\"],  # predictor\n",
    "        \"sat\": sat_ts          # target to predict\n",
    "    })\n",
    "\n",
    "    # We'll store a 2D array of shape (5,10) for E=1..5, tau=1..10\n",
    "    RhoMatrix = np.zeros((5, 10))\n",
    "\n",
    "    # For each tau in 1..10, call EmbedDimension once with maxE=5 and Tp=tau\n",
    "    for tau in range(1, 11):\n",
    "        edm_out = EmbedDimension(\n",
    "            dataFrame=df_tmp,\n",
    "            columns=\"sat\",\n",
    "            target=\"pre\",\n",
    "            maxE=5,          # We'll evaluate E=1..5\n",
    "            tau=tau,\n",
    "            Tp=10,\n",
    "            lib=\"1 120\",     # Entire time series, adapt if needed\n",
    "            pred=\"1 120\",\n",
    "            showPlot=False,  # We'll handle plotting ourselves\n",
    "        )\n",
    "\n",
    "        for e_row in edm_out.itertuples():\n",
    "            e_val = e_row.E     # 1..5\n",
    "            rho_val = e_row.rho\n",
    "            RhoMatrix[int(e_val - 1), int(tau - 1)] = rho_val\n",
    "\n",
    "    # Axis values for plotting\n",
    "    E_axis = np.arange(1, 6)     # E = 1..5\n",
    "    Tau_axis = np.arange(1, 11)  # tau = 1..10\n",
    "\n",
    "    # Save the result for this grid point\n",
    "    results_list.append((ilat, ilon, E_axis, Tau_axis, RhoMatrix))\n",
    "\n",
    "# ---------------------------------------------------------------------\n",
    "# Compute global min and max for all RhoMatrix values\n",
    "# ---------------------------------------------------------------------\n",
    "global_min = min(np.min(RhoMatrix) for _, _, _, _, RhoMatrix in results_list)\n",
    "global_max = max(np.max(RhoMatrix) for _, _, _, _, RhoMatrix in results_list)\n",
    "\n",
    "# ---------------------------------------------------------------------\n",
    "# 4. Make a 3D surface plot for each of the 10 results using Plotly subplots\n",
    "# ---------------------------------------------------------------------\n",
    "\n",
    "# Create subplot titles using true latitude and longitude values\n",
    "subplot_titles = [\n",
    "    f\"lat={ds_sat['lat'].values[r[0]]:.2f}, lon={ds_sat['lon'].values[r[1]]:.2f}\"\n",
    "    for r in results_list\n",
    "]\n",
    "\n",
    "# Create a 2x5 grid of 3D subplots with adjusted spacing\n",
    "fig = make_subplots(\n",
    "    rows=2, cols=5,\n",
    "    specs=[[{\"type\": \"surface\"}]*5, [{\"type\": \"surface\"}]*5],\n",
    "    subplot_titles=subplot_titles,\n",
    "    horizontal_spacing=0.03,  # reduce horizontal spacing\n",
    "    vertical_spacing=0.1      # reduce vertical spacing\n",
    ")\n",
    "\n",
    "# Add each surface plot trace to its respective subplot\n",
    "for i, (ilat, ilon, E_axis, Tau_axis, RhoMatrix) in enumerate(results_list):\n",
    "    E_grid, Tau_grid = np.meshgrid(E_axis, Tau_axis, indexing='ij')\n",
    "    row = (i // 5) + 1\n",
    "    col = (i % 5) + 1\n",
    "\n",
    "    # For a common colorbar, all surfaces use the same color range.\n",
    "    # We enable the colorbar (showscale=True) only for the first trace.\n",
    "    surf = go.Surface(\n",
    "        x=E_grid,       # E dimension\n",
    "        y=Tau_grid,     # tau dimension\n",
    "        z=RhoMatrix,    # rho values\n",
    "        colorscale=\"Viridis\",\n",
    "        cmin=global_min,\n",
    "        cmax=global_max,\n",
    "        showscale=True if i == 0 else False,\n",
    "        # Customize the colorbar for the first subplot\n",
    "        colorbar=dict(\n",
    "            title=\"rho\",\n",
    "            titleside=\"right\",\n",
    "            x=1.02,  \n",
    "            # adjust the shrink ratio to make the colorbar shorter\n",
    "            len=0.3\n",
    "        ) if i == 0 else None\n",
    "    )\n",
    "\n",
    "    fig.add_trace(surf, row=row, col=col)\n",
    "\n",
    "# Update overall layout with adjusted margins for better label visibility\n",
    "fig.update_layout(\n",
    "    height=800,\n",
    "    width=1400,\n",
    "    margin=dict(l=50, r=50, t=80, b=50),\n",
    ")\n",
    "\n",
    "# ---------------------------------------------------------------------\n",
    "# 3. Adjust the viewing angle (camera) for each subplot\n",
    "# ---------------------------------------------------------------------\n",
    "# Loop over each subplot scene and set the camera view.\n",
    "# Note: The first scene is named 'scene', and subsequent ones as 'scene2', 'scene3', etc.\n",
    "for i in range(1, len(results_list)+1):\n",
    "    scene_id = f'scene{i}' if i > 1 else 'scene'\n",
    "    fig.layout[scene_id].update(\n",
    "        xaxis_title=\"E\",\n",
    "        yaxis_title=\"tau\",\n",
    "        zaxis_title=\"rho\",\n",
    "        camera=dict(\n",
    "            eye=dict(x=1, y=2, z=3)  \n",
    "        )\n",
    "    )\n",
    "\n",
    "fig.show()\n"
   ]
  },
  {
   "cell_type": "code",
   "execution_count": null,
   "metadata": {},
   "outputs": [],
   "source": [
    "# fig.write_image(\"surface_plots.png\", width=1400, height=800, scale=3)\n",
    "fig.write_image(\"surface_plots.svg\", width=1400, height=800)"
   ]
  },
  {
   "cell_type": "code",
   "execution_count": null,
   "metadata": {},
   "outputs": [],
   "source": []
  },
  {
   "cell_type": "markdown",
   "metadata": {},
   "source": [
    "# test for obl"
   ]
  },
  {
   "cell_type": "code",
   "execution_count": 5,
   "metadata": {},
   "outputs": [
    {
     "data": {
      "application/vnd.plotly.v1+json": {
       "config": {
        "plotlyServerURL": "https://plot.ly"
       },
       "data": [
        {
         "cmax": 0.998746504848977,
         "cmin": 0.6520174640152446,
         "colorbar": {
          "len": 0.3,
          "title": {
           "side": "right",
           "text": "rho"
          },
          "x": 1.02
         },
         "colorscale": [
          [
           0,
           "#440154"
          ],
          [
           0.1111111111111111,
           "#482878"
          ],
          [
           0.2222222222222222,
           "#3e4989"
          ],
          [
           0.3333333333333333,
           "#31688e"
          ],
          [
           0.4444444444444444,
           "#26828e"
          ],
          [
           0.5555555555555556,
           "#1f9e89"
          ],
          [
           0.6666666666666666,
           "#35b779"
          ],
          [
           0.7777777777777778,
           "#6ece58"
          ],
          [
           0.8888888888888888,
           "#b5de2b"
          ],
          [
           1,
           "#fde725"
          ]
         ],
         "scene": "scene",
         "showscale": true,
         "type": "surface",
         "x": [
          [
           1,
           1,
           1,
           1,
           1,
           1,
           1,
           1,
           1,
           1
          ],
          [
           2,
           2,
           2,
           2,
           2,
           2,
           2,
           2,
           2,
           2
          ],
          [
           3,
           3,
           3,
           3,
           3,
           3,
           3,
           3,
           3,
           3
          ],
          [
           4,
           4,
           4,
           4,
           4,
           4,
           4,
           4,
           4,
           4
          ],
          [
           5,
           5,
           5,
           5,
           5,
           5,
           5,
           5,
           5,
           5
          ]
         ],
         "y": [
          [
           1,
           2,
           3,
           4,
           5,
           6,
           7,
           8,
           9,
           10
          ],
          [
           1,
           2,
           3,
           4,
           5,
           6,
           7,
           8,
           9,
           10
          ],
          [
           1,
           2,
           3,
           4,
           5,
           6,
           7,
           8,
           9,
           10
          ],
          [
           1,
           2,
           3,
           4,
           5,
           6,
           7,
           8,
           9,
           10
          ],
          [
           1,
           2,
           3,
           4,
           5,
           6,
           7,
           8,
           9,
           10
          ]
         ],
         "z": [
          [
           0.6520174640152446,
           0.6520174640152446,
           0.6520174640152446,
           0.6520174640152446,
           0.6520174640152446,
           0.6520174640152446,
           0.6520174640152446,
           0.6520174640152446,
           0.6520174640152446,
           0.6520174640152446
          ],
          [
           0.885405316247318,
           0.9835889064439896,
           0.9953137636308961,
           0.9978066826915244,
           0.9980871764862499,
           0.9975897970852349,
           0.9969057700320113,
           0.9965658598950956,
           0.9957588391174274,
           0.9954355733819967
          ],
          [
           0.963281594942525,
           0.9953880582136324,
           0.9979398668941228,
           0.9966047480769018,
           0.9952347295158898,
           0.9934949450750411,
           0.9928005222497273,
           0.9924957752206321,
           0.9917701231238119,
           0.9933132418993899
          ],
          [
           0.9730775704628778,
           0.997627730470309,
           0.9956473217046742,
           0.9933688145443977,
           0.9921813490072634,
           0.9921861322665946,
           0.9939269106782705,
           0.9964701788099796,
           0.9984424439479211,
           0.9980626766318034
          ],
          [
           0.9843015747901702,
           0.9961632545195789,
           0.9932726896872265,
           0.9920283851395144,
           0.993184520638514,
           0.9965939152957336,
           0.998628551458531,
           0.9953460186256061,
           0.9806523891136114,
           0.9473117977448584
          ]
         ]
        },
        {
         "cmax": 0.998746504848977,
         "cmin": 0.6520174640152446,
         "colorscale": [
          [
           0,
           "#440154"
          ],
          [
           0.1111111111111111,
           "#482878"
          ],
          [
           0.2222222222222222,
           "#3e4989"
          ],
          [
           0.3333333333333333,
           "#31688e"
          ],
          [
           0.4444444444444444,
           "#26828e"
          ],
          [
           0.5555555555555556,
           "#1f9e89"
          ],
          [
           0.6666666666666666,
           "#35b779"
          ],
          [
           0.7777777777777778,
           "#6ece58"
          ],
          [
           0.8888888888888888,
           "#b5de2b"
          ],
          [
           1,
           "#fde725"
          ]
         ],
         "scene": "scene2",
         "showscale": false,
         "type": "surface",
         "x": [
          [
           1,
           1,
           1,
           1,
           1,
           1,
           1,
           1,
           1,
           1
          ],
          [
           2,
           2,
           2,
           2,
           2,
           2,
           2,
           2,
           2,
           2
          ],
          [
           3,
           3,
           3,
           3,
           3,
           3,
           3,
           3,
           3,
           3
          ],
          [
           4,
           4,
           4,
           4,
           4,
           4,
           4,
           4,
           4,
           4
          ],
          [
           5,
           5,
           5,
           5,
           5,
           5,
           5,
           5,
           5,
           5
          ]
         ],
         "y": [
          [
           1,
           2,
           3,
           4,
           5,
           6,
           7,
           8,
           9,
           10
          ],
          [
           1,
           2,
           3,
           4,
           5,
           6,
           7,
           8,
           9,
           10
          ],
          [
           1,
           2,
           3,
           4,
           5,
           6,
           7,
           8,
           9,
           10
          ],
          [
           1,
           2,
           3,
           4,
           5,
           6,
           7,
           8,
           9,
           10
          ],
          [
           1,
           2,
           3,
           4,
           5,
           6,
           7,
           8,
           9,
           10
          ]
         ],
         "z": [
          [
           0.8315755318655867,
           0.8315755318655867,
           0.8315755318655867,
           0.8315755318655867,
           0.8315755318655867,
           0.8315755318655867,
           0.8315755318655867,
           0.8315755318655867,
           0.8315755318655867,
           0.8315755318655867
          ],
          [
           0.8763776841679738,
           0.9507160156137828,
           0.9874415500353763,
           0.9941439515076396,
           0.995062316324711,
           0.995573669125586,
           0.9948263968317644,
           0.9940382563870677,
           0.9921908163557432,
           0.9920750471908175
          ],
          [
           0.9281813621916998,
           0.9899667269578298,
           0.9968646710575109,
           0.9962358732208338,
           0.9944160905543449,
           0.9933473278171179,
           0.9920670555811262,
           0.9906267611881431,
           0.9910988278330529,
           0.9928778502736266
          ],
          [
           0.9562228817978258,
           0.9954480979523475,
           0.9953174539330899,
           0.9931292386575431,
           0.9916534659529994,
           0.9913452784056499,
           0.993653531362238,
           0.996309286921286,
           0.9983449845411735,
           0.9962595130278807
          ],
          [
           0.969874001331119,
           0.9952755262811651,
           0.9928301079714189,
           0.9910491240009475,
           0.993251867440315,
           0.9961650763222737,
           0.9985597355403031,
           0.9952955169252751,
           0.9800386541376919,
           0.945567340704228
          ]
         ]
        },
        {
         "cmax": 0.998746504848977,
         "cmin": 0.6520174640152446,
         "colorscale": [
          [
           0,
           "#440154"
          ],
          [
           0.1111111111111111,
           "#482878"
          ],
          [
           0.2222222222222222,
           "#3e4989"
          ],
          [
           0.3333333333333333,
           "#31688e"
          ],
          [
           0.4444444444444444,
           "#26828e"
          ],
          [
           0.5555555555555556,
           "#1f9e89"
          ],
          [
           0.6666666666666666,
           "#35b779"
          ],
          [
           0.7777777777777778,
           "#6ece58"
          ],
          [
           0.8888888888888888,
           "#b5de2b"
          ],
          [
           1,
           "#fde725"
          ]
         ],
         "scene": "scene3",
         "showscale": false,
         "type": "surface",
         "x": [
          [
           1,
           1,
           1,
           1,
           1,
           1,
           1,
           1,
           1,
           1
          ],
          [
           2,
           2,
           2,
           2,
           2,
           2,
           2,
           2,
           2,
           2
          ],
          [
           3,
           3,
           3,
           3,
           3,
           3,
           3,
           3,
           3,
           3
          ],
          [
           4,
           4,
           4,
           4,
           4,
           4,
           4,
           4,
           4,
           4
          ],
          [
           5,
           5,
           5,
           5,
           5,
           5,
           5,
           5,
           5,
           5
          ]
         ],
         "y": [
          [
           1,
           2,
           3,
           4,
           5,
           6,
           7,
           8,
           9,
           10
          ],
          [
           1,
           2,
           3,
           4,
           5,
           6,
           7,
           8,
           9,
           10
          ],
          [
           1,
           2,
           3,
           4,
           5,
           6,
           7,
           8,
           9,
           10
          ],
          [
           1,
           2,
           3,
           4,
           5,
           6,
           7,
           8,
           9,
           10
          ],
          [
           1,
           2,
           3,
           4,
           5,
           6,
           7,
           8,
           9,
           10
          ]
         ],
         "z": [
          [
           0.863799313275458,
           0.863799313275458,
           0.863799313275458,
           0.863799313275458,
           0.863799313275458,
           0.863799313275458,
           0.863799313275458,
           0.863799313275458,
           0.863799313275458,
           0.863799313275458
          ],
          [
           0.8731072036272489,
           0.893565973891464,
           0.9006613515983687,
           0.9226410748762706,
           0.9493691059881059,
           0.9523907523615197,
           0.949543134752943,
           0.9677392350178812,
           0.9763479290853752,
           0.9777787748231889
          ],
          [
           0.8868442509892902,
           0.9276382963002222,
           0.9520118457069741,
           0.975219267858044,
           0.9800701857884353,
           0.9813210937726098,
           0.9838975929324223,
           0.987161129831245,
           0.9875261619846363,
           0.9912837686488362
          ],
          [
           0.908194190137284,
           0.9582133419917169,
           0.9754847172092461,
           0.9840522070248271,
           0.9869438603391184,
           0.9917094671864262,
           0.9942134075933489,
           0.9966198189832731,
           0.9978569624649378,
           0.9975839861257518
          ],
          [
           0.9221388144838985,
           0.9727281450348813,
           0.9820168511016683,
           0.9882652616649521,
           0.9925102663194819,
           0.9965605138938177,
           0.9984418587255123,
           0.9945101531775399,
           0.9793909498973467,
           0.9492317981661427
          ]
         ]
        },
        {
         "cmax": 0.998746504848977,
         "cmin": 0.6520174640152446,
         "colorscale": [
          [
           0,
           "#440154"
          ],
          [
           0.1111111111111111,
           "#482878"
          ],
          [
           0.2222222222222222,
           "#3e4989"
          ],
          [
           0.3333333333333333,
           "#31688e"
          ],
          [
           0.4444444444444444,
           "#26828e"
          ],
          [
           0.5555555555555556,
           "#1f9e89"
          ],
          [
           0.6666666666666666,
           "#35b779"
          ],
          [
           0.7777777777777778,
           "#6ece58"
          ],
          [
           0.8888888888888888,
           "#b5de2b"
          ],
          [
           1,
           "#fde725"
          ]
         ],
         "scene": "scene4",
         "showscale": false,
         "type": "surface",
         "x": [
          [
           1,
           1,
           1,
           1,
           1,
           1,
           1,
           1,
           1,
           1
          ],
          [
           2,
           2,
           2,
           2,
           2,
           2,
           2,
           2,
           2,
           2
          ],
          [
           3,
           3,
           3,
           3,
           3,
           3,
           3,
           3,
           3,
           3
          ],
          [
           4,
           4,
           4,
           4,
           4,
           4,
           4,
           4,
           4,
           4
          ],
          [
           5,
           5,
           5,
           5,
           5,
           5,
           5,
           5,
           5,
           5
          ]
         ],
         "y": [
          [
           1,
           2,
           3,
           4,
           5,
           6,
           7,
           8,
           9,
           10
          ],
          [
           1,
           2,
           3,
           4,
           5,
           6,
           7,
           8,
           9,
           10
          ],
          [
           1,
           2,
           3,
           4,
           5,
           6,
           7,
           8,
           9,
           10
          ],
          [
           1,
           2,
           3,
           4,
           5,
           6,
           7,
           8,
           9,
           10
          ],
          [
           1,
           2,
           3,
           4,
           5,
           6,
           7,
           8,
           9,
           10
          ]
         ],
         "z": [
          [
           0.763825045250063,
           0.763825045250063,
           0.763825045250063,
           0.763825045250063,
           0.763825045250063,
           0.763825045250063,
           0.763825045250063,
           0.763825045250063,
           0.763825045250063,
           0.763825045250063
          ],
          [
           0.888041461655543,
           0.9385315477305216,
           0.9622784456603918,
           0.9773905754663824,
           0.9714025027212242,
           0.9729787817297578,
           0.9741134936199063,
           0.9771574651573488,
           0.9800700032539513,
           0.9806908951632642
          ],
          [
           0.9177805050116468,
           0.9713118937472985,
           0.9784800707587822,
           0.9834660128960689,
           0.9856009578185855,
           0.9858329305677384,
           0.9872938213849681,
           0.9889971548973147,
           0.9900194911619046,
           0.9926872358709892
          ],
          [
           0.9400647764569782,
           0.9816688702644691,
           0.9819334660827054,
           0.9873111865255859,
           0.9893195565469168,
           0.9912784067969762,
           0.9938616714836288,
           0.9964622792442016,
           0.9981707674331931,
           0.9965708679248536
          ],
          [
           0.9553076512716129,
           0.9792569064206753,
           0.9876369137578053,
           0.9902364589715538,
           0.9931665436727276,
           0.9964012935323696,
           0.9986573402397251,
           0.9951046736443467,
           0.9804294626762503,
           0.9482730433364116
          ]
         ]
        },
        {
         "cmax": 0.998746504848977,
         "cmin": 0.6520174640152446,
         "colorscale": [
          [
           0,
           "#440154"
          ],
          [
           0.1111111111111111,
           "#482878"
          ],
          [
           0.2222222222222222,
           "#3e4989"
          ],
          [
           0.3333333333333333,
           "#31688e"
          ],
          [
           0.4444444444444444,
           "#26828e"
          ],
          [
           0.5555555555555556,
           "#1f9e89"
          ],
          [
           0.6666666666666666,
           "#35b779"
          ],
          [
           0.7777777777777778,
           "#6ece58"
          ],
          [
           0.8888888888888888,
           "#b5de2b"
          ],
          [
           1,
           "#fde725"
          ]
         ],
         "scene": "scene5",
         "showscale": false,
         "type": "surface",
         "x": [
          [
           1,
           1,
           1,
           1,
           1,
           1,
           1,
           1,
           1,
           1
          ],
          [
           2,
           2,
           2,
           2,
           2,
           2,
           2,
           2,
           2,
           2
          ],
          [
           3,
           3,
           3,
           3,
           3,
           3,
           3,
           3,
           3,
           3
          ],
          [
           4,
           4,
           4,
           4,
           4,
           4,
           4,
           4,
           4,
           4
          ],
          [
           5,
           5,
           5,
           5,
           5,
           5,
           5,
           5,
           5,
           5
          ]
         ],
         "y": [
          [
           1,
           2,
           3,
           4,
           5,
           6,
           7,
           8,
           9,
           10
          ],
          [
           1,
           2,
           3,
           4,
           5,
           6,
           7,
           8,
           9,
           10
          ],
          [
           1,
           2,
           3,
           4,
           5,
           6,
           7,
           8,
           9,
           10
          ],
          [
           1,
           2,
           3,
           4,
           5,
           6,
           7,
           8,
           9,
           10
          ],
          [
           1,
           2,
           3,
           4,
           5,
           6,
           7,
           8,
           9,
           10
          ]
         ],
         "z": [
          [
           0.7899935611051968,
           0.7899935611051968,
           0.7899935611051968,
           0.7899935611051968,
           0.7899935611051968,
           0.7899935611051968,
           0.7899935611051968,
           0.7899935611051968,
           0.7899935611051968,
           0.7899935611051968
          ],
          [
           0.8814497287909554,
           0.901013366530587,
           0.915178436478272,
           0.9427250329222381,
           0.9480804007682555,
           0.9557495416733426,
           0.9392169116918764,
           0.9431103955529279,
           0.9658157727220249,
           0.9632534289993273
          ],
          [
           0.9058091724147643,
           0.9404073852347351,
           0.9563596839506953,
           0.9636245091667605,
           0.9797911778843128,
           0.9771987212458914,
           0.9797559555426347,
           0.9817337560427212,
           0.9816300261895649,
           0.9836118217772843
          ],
          [
           0.9185189524833213,
           0.9606842967438188,
           0.9701404660395171,
           0.9770702722962945,
           0.9836773907882638,
           0.9885126480466079,
           0.9912060124900505,
           0.9938910548816099,
           0.9950984622119426,
           0.9966743120406009
          ],
          [
           0.9335405388320159,
           0.9692390180377051,
           0.9730475093640394,
           0.9820051704759357,
           0.989656753032262,
           0.994859867793523,
           0.9968626178715017,
           0.9944469854918561,
           0.9800450699573501,
           0.9468260312224143
          ]
         ]
        },
        {
         "cmax": 0.998746504848977,
         "cmin": 0.6520174640152446,
         "colorscale": [
          [
           0,
           "#440154"
          ],
          [
           0.1111111111111111,
           "#482878"
          ],
          [
           0.2222222222222222,
           "#3e4989"
          ],
          [
           0.3333333333333333,
           "#31688e"
          ],
          [
           0.4444444444444444,
           "#26828e"
          ],
          [
           0.5555555555555556,
           "#1f9e89"
          ],
          [
           0.6666666666666666,
           "#35b779"
          ],
          [
           0.7777777777777778,
           "#6ece58"
          ],
          [
           0.8888888888888888,
           "#b5de2b"
          ],
          [
           1,
           "#fde725"
          ]
         ],
         "scene": "scene6",
         "showscale": false,
         "type": "surface",
         "x": [
          [
           1,
           1,
           1,
           1,
           1,
           1,
           1,
           1,
           1,
           1
          ],
          [
           2,
           2,
           2,
           2,
           2,
           2,
           2,
           2,
           2,
           2
          ],
          [
           3,
           3,
           3,
           3,
           3,
           3,
           3,
           3,
           3,
           3
          ],
          [
           4,
           4,
           4,
           4,
           4,
           4,
           4,
           4,
           4,
           4
          ],
          [
           5,
           5,
           5,
           5,
           5,
           5,
           5,
           5,
           5,
           5
          ]
         ],
         "y": [
          [
           1,
           2,
           3,
           4,
           5,
           6,
           7,
           8,
           9,
           10
          ],
          [
           1,
           2,
           3,
           4,
           5,
           6,
           7,
           8,
           9,
           10
          ],
          [
           1,
           2,
           3,
           4,
           5,
           6,
           7,
           8,
           9,
           10
          ],
          [
           1,
           2,
           3,
           4,
           5,
           6,
           7,
           8,
           9,
           10
          ],
          [
           1,
           2,
           3,
           4,
           5,
           6,
           7,
           8,
           9,
           10
          ]
         ],
         "z": [
          [
           0.8561871055681284,
           0.8561871055681284,
           0.8561871055681284,
           0.8561871055681284,
           0.8561871055681284,
           0.8561871055681284,
           0.8561871055681284,
           0.8561871055681284,
           0.8561871055681284,
           0.8561871055681284
          ],
          [
           0.9254380919272815,
           0.9516206704621564,
           0.9846778524927373,
           0.9898575248641668,
           0.9921021257252912,
           0.989255487359168,
           0.989362724247146,
           0.9887509481098693,
           0.9866917833023526,
           0.9856593871527752
          ],
          [
           0.9407304719024577,
           0.9861805777905848,
           0.9947816641695932,
           0.9931182951376123,
           0.9925521406266826,
           0.9918233167724011,
           0.9912070598861991,
           0.9915524738601921,
           0.9924175289191769,
           0.9932383859854937
          ],
          [
           0.9653852555914003,
           0.9939266711496636,
           0.9931201596103655,
           0.9914777967602766,
           0.9915016745111144,
           0.9918541514956348,
           0.9938168107694493,
           0.9962594091209532,
           0.9983208694326426,
           0.9980627099636199
          ],
          [
           0.9748914304240252,
           0.9936421680242328,
           0.9918362216479158,
           0.9916068604772263,
           0.9933128039931736,
           0.9962359774268388,
           0.9985251772049241,
           0.9947368899883465,
           0.9798243096014732,
           0.9496458700844524
          ]
         ]
        },
        {
         "cmax": 0.998746504848977,
         "cmin": 0.6520174640152446,
         "colorscale": [
          [
           0,
           "#440154"
          ],
          [
           0.1111111111111111,
           "#482878"
          ],
          [
           0.2222222222222222,
           "#3e4989"
          ],
          [
           0.3333333333333333,
           "#31688e"
          ],
          [
           0.4444444444444444,
           "#26828e"
          ],
          [
           0.5555555555555556,
           "#1f9e89"
          ],
          [
           0.6666666666666666,
           "#35b779"
          ],
          [
           0.7777777777777778,
           "#6ece58"
          ],
          [
           0.8888888888888888,
           "#b5de2b"
          ],
          [
           1,
           "#fde725"
          ]
         ],
         "scene": "scene7",
         "showscale": false,
         "type": "surface",
         "x": [
          [
           1,
           1,
           1,
           1,
           1,
           1,
           1,
           1,
           1,
           1
          ],
          [
           2,
           2,
           2,
           2,
           2,
           2,
           2,
           2,
           2,
           2
          ],
          [
           3,
           3,
           3,
           3,
           3,
           3,
           3,
           3,
           3,
           3
          ],
          [
           4,
           4,
           4,
           4,
           4,
           4,
           4,
           4,
           4,
           4
          ],
          [
           5,
           5,
           5,
           5,
           5,
           5,
           5,
           5,
           5,
           5
          ]
         ],
         "y": [
          [
           1,
           2,
           3,
           4,
           5,
           6,
           7,
           8,
           9,
           10
          ],
          [
           1,
           2,
           3,
           4,
           5,
           6,
           7,
           8,
           9,
           10
          ],
          [
           1,
           2,
           3,
           4,
           5,
           6,
           7,
           8,
           9,
           10
          ],
          [
           1,
           2,
           3,
           4,
           5,
           6,
           7,
           8,
           9,
           10
          ],
          [
           1,
           2,
           3,
           4,
           5,
           6,
           7,
           8,
           9,
           10
          ]
         ],
         "z": [
          [
           0.7871982408842135,
           0.7871982408842135,
           0.7871982408842135,
           0.7871982408842135,
           0.7871982408842135,
           0.7871982408842135,
           0.7871982408842135,
           0.7871982408842135,
           0.7871982408842135,
           0.7871982408842135
          ],
          [
           0.85582544784849,
           0.9128431275725478,
           0.9633456752429904,
           0.971144110366388,
           0.98447005964687,
           0.9868525979119135,
           0.9889293023662887,
           0.987453482650576,
           0.9888441936490822,
           0.9876598394983841
          ],
          [
           0.9096179119051665,
           0.9725181402447082,
           0.9875045541037322,
           0.9902318413202738,
           0.9927485033142971,
           0.9905611393942266,
           0.9912067551913827,
           0.9887183049356448,
           0.9906548245672324,
           0.9927308352767026
          ],
          [
           0.9431882220767709,
           0.9838643289741492,
           0.9917650114486933,
           0.9911883964911535,
           0.990735458702865,
           0.9913948280690874,
           0.9937557875781493,
           0.9965081507630487,
           0.9981847201504234,
           0.9978643405956914
          ],
          [
           0.9607594849937118,
           0.9901726712970957,
           0.9911052441056569,
           0.9904573619948213,
           0.9929328850022523,
           0.9964823173936389,
           0.9985124433776648,
           0.9950963422508124,
           0.980137091751415,
           0.9483994522710021
          ]
         ]
        },
        {
         "cmax": 0.998746504848977,
         "cmin": 0.6520174640152446,
         "colorscale": [
          [
           0,
           "#440154"
          ],
          [
           0.1111111111111111,
           "#482878"
          ],
          [
           0.2222222222222222,
           "#3e4989"
          ],
          [
           0.3333333333333333,
           "#31688e"
          ],
          [
           0.4444444444444444,
           "#26828e"
          ],
          [
           0.5555555555555556,
           "#1f9e89"
          ],
          [
           0.6666666666666666,
           "#35b779"
          ],
          [
           0.7777777777777778,
           "#6ece58"
          ],
          [
           0.8888888888888888,
           "#b5de2b"
          ],
          [
           1,
           "#fde725"
          ]
         ],
         "scene": "scene8",
         "showscale": false,
         "type": "surface",
         "x": [
          [
           1,
           1,
           1,
           1,
           1,
           1,
           1,
           1,
           1,
           1
          ],
          [
           2,
           2,
           2,
           2,
           2,
           2,
           2,
           2,
           2,
           2
          ],
          [
           3,
           3,
           3,
           3,
           3,
           3,
           3,
           3,
           3,
           3
          ],
          [
           4,
           4,
           4,
           4,
           4,
           4,
           4,
           4,
           4,
           4
          ],
          [
           5,
           5,
           5,
           5,
           5,
           5,
           5,
           5,
           5,
           5
          ]
         ],
         "y": [
          [
           1,
           2,
           3,
           4,
           5,
           6,
           7,
           8,
           9,
           10
          ],
          [
           1,
           2,
           3,
           4,
           5,
           6,
           7,
           8,
           9,
           10
          ],
          [
           1,
           2,
           3,
           4,
           5,
           6,
           7,
           8,
           9,
           10
          ],
          [
           1,
           2,
           3,
           4,
           5,
           6,
           7,
           8,
           9,
           10
          ],
          [
           1,
           2,
           3,
           4,
           5,
           6,
           7,
           8,
           9,
           10
          ]
         ],
         "z": [
          [
           0.8147078047394293,
           0.8147078047394293,
           0.8147078047394293,
           0.8147078047394293,
           0.8147078047394293,
           0.8147078047394293,
           0.8147078047394293,
           0.8147078047394293,
           0.8147078047394293,
           0.8147078047394293
          ],
          [
           0.8780126438257146,
           0.9221351301083586,
           0.9409953283110339,
           0.9614887848920297,
           0.9591173160872719,
           0.9566011626819212,
           0.9614002369370843,
           0.9648802236957145,
           0.969886017226529,
           0.9687234371499446
          ],
          [
           0.9120997927661757,
           0.9633671731770128,
           0.958852057444376,
           0.9666889819328486,
           0.9737197274110118,
           0.9787799668670992,
           0.9821818892549783,
           0.9876222831602114,
           0.9917553267395229,
           0.9944043632912803
          ],
          [
           0.9377064193923865,
           0.9629327497191638,
           0.9725538683606246,
           0.9771117161423244,
           0.9856011819160446,
           0.9901758102679242,
           0.9938275049434269,
           0.9965086546751956,
           0.9972238697324703,
           0.99738376820518
          ],
          [
           0.9544976225515186,
           0.968068157419921,
           0.9788440070233889,
           0.9859604351767927,
           0.993760271549652,
           0.996386867339649,
           0.9978350196700382,
           0.9948435252452779,
           0.9796180480841172,
           0.9475465709206637
          ]
         ]
        },
        {
         "cmax": 0.998746504848977,
         "cmin": 0.6520174640152446,
         "colorscale": [
          [
           0,
           "#440154"
          ],
          [
           0.1111111111111111,
           "#482878"
          ],
          [
           0.2222222222222222,
           "#3e4989"
          ],
          [
           0.3333333333333333,
           "#31688e"
          ],
          [
           0.4444444444444444,
           "#26828e"
          ],
          [
           0.5555555555555556,
           "#1f9e89"
          ],
          [
           0.6666666666666666,
           "#35b779"
          ],
          [
           0.7777777777777778,
           "#6ece58"
          ],
          [
           0.8888888888888888,
           "#b5de2b"
          ],
          [
           1,
           "#fde725"
          ]
         ],
         "scene": "scene9",
         "showscale": false,
         "type": "surface",
         "x": [
          [
           1,
           1,
           1,
           1,
           1,
           1,
           1,
           1,
           1,
           1
          ],
          [
           2,
           2,
           2,
           2,
           2,
           2,
           2,
           2,
           2,
           2
          ],
          [
           3,
           3,
           3,
           3,
           3,
           3,
           3,
           3,
           3,
           3
          ],
          [
           4,
           4,
           4,
           4,
           4,
           4,
           4,
           4,
           4,
           4
          ],
          [
           5,
           5,
           5,
           5,
           5,
           5,
           5,
           5,
           5,
           5
          ]
         ],
         "y": [
          [
           1,
           2,
           3,
           4,
           5,
           6,
           7,
           8,
           9,
           10
          ],
          [
           1,
           2,
           3,
           4,
           5,
           6,
           7,
           8,
           9,
           10
          ],
          [
           1,
           2,
           3,
           4,
           5,
           6,
           7,
           8,
           9,
           10
          ],
          [
           1,
           2,
           3,
           4,
           5,
           6,
           7,
           8,
           9,
           10
          ],
          [
           1,
           2,
           3,
           4,
           5,
           6,
           7,
           8,
           9,
           10
          ]
         ],
         "z": [
          [
           0.7062497246372784,
           0.7062497246372784,
           0.7062497246372784,
           0.7062497246372784,
           0.7062497246372784,
           0.7062497246372784,
           0.7062497246372784,
           0.7062497246372784,
           0.7062497246372784,
           0.7062497246372784
          ],
          [
           0.8847035389575038,
           0.9655553704387688,
           0.9900404243151358,
           0.9947370013418441,
           0.9954298585801191,
           0.996430559022032,
           0.9959771161711458,
           0.99427738365975,
           0.9924524372090768,
           0.989704083260602
          ],
          [
           0.9412282699340973,
           0.9903198558109002,
           0.9972047945124103,
           0.9964053000879759,
           0.9950206181139212,
           0.9937996786031361,
           0.9922248397349107,
           0.9921400987369926,
           0.9922814382072597,
           0.9932393042782033
          ],
          [
           0.9644804228166391,
           0.9954350254757242,
           0.9957998184385739,
           0.9934781392082523,
           0.9921179633623814,
           0.9922562206070442,
           0.9940259272303348,
           0.9963991895904522,
           0.9983364554944195,
           0.9969375839241397
          ],
          [
           0.979389859657445,
           0.9957143712320783,
           0.9931151362933996,
           0.9915901417814714,
           0.9933704226220638,
           0.9964398016587016,
           0.998746504848977,
           0.9953178017503176,
           0.9802248977982763,
           0.9476872722990705
          ]
         ]
        },
        {
         "cmax": 0.998746504848977,
         "cmin": 0.6520174640152446,
         "colorscale": [
          [
           0,
           "#440154"
          ],
          [
           0.1111111111111111,
           "#482878"
          ],
          [
           0.2222222222222222,
           "#3e4989"
          ],
          [
           0.3333333333333333,
           "#31688e"
          ],
          [
           0.4444444444444444,
           "#26828e"
          ],
          [
           0.5555555555555556,
           "#1f9e89"
          ],
          [
           0.6666666666666666,
           "#35b779"
          ],
          [
           0.7777777777777778,
           "#6ece58"
          ],
          [
           0.8888888888888888,
           "#b5de2b"
          ],
          [
           1,
           "#fde725"
          ]
         ],
         "scene": "scene10",
         "showscale": false,
         "type": "surface",
         "x": [
          [
           1,
           1,
           1,
           1,
           1,
           1,
           1,
           1,
           1,
           1
          ],
          [
           2,
           2,
           2,
           2,
           2,
           2,
           2,
           2,
           2,
           2
          ],
          [
           3,
           3,
           3,
           3,
           3,
           3,
           3,
           3,
           3,
           3
          ],
          [
           4,
           4,
           4,
           4,
           4,
           4,
           4,
           4,
           4,
           4
          ],
          [
           5,
           5,
           5,
           5,
           5,
           5,
           5,
           5,
           5,
           5
          ]
         ],
         "y": [
          [
           1,
           2,
           3,
           4,
           5,
           6,
           7,
           8,
           9,
           10
          ],
          [
           1,
           2,
           3,
           4,
           5,
           6,
           7,
           8,
           9,
           10
          ],
          [
           1,
           2,
           3,
           4,
           5,
           6,
           7,
           8,
           9,
           10
          ],
          [
           1,
           2,
           3,
           4,
           5,
           6,
           7,
           8,
           9,
           10
          ],
          [
           1,
           2,
           3,
           4,
           5,
           6,
           7,
           8,
           9,
           10
          ]
         ],
         "z": [
          [
           0.8660056565605899,
           0.8660056565605899,
           0.8660056565605899,
           0.8660056565605899,
           0.8660056565605899,
           0.8660056565605899,
           0.8660056565605899,
           0.8660056565605899,
           0.8660056565605899,
           0.8660056565605899
          ],
          [
           0.8379372961510281,
           0.8910904183216629,
           0.9040303800269373,
           0.9112376020652257,
           0.931639198635076,
           0.9407286434508805,
           0.9333286286089806,
           0.969992495844175,
           0.9640019135934758,
           0.9729760990784847
          ],
          [
           0.8761856503641077,
           0.9119456256484781,
           0.9342701402439063,
           0.9639728114043723,
           0.9746062337293221,
           0.9895478598734105,
           0.990564837818322,
           0.9908151107051419,
           0.990660707274779,
           0.9918071353051124
          ],
          [
           0.894510567943301,
           0.9409384603535811,
           0.9678094887404093,
           0.9888228952381215,
           0.991317914640311,
           0.9911155278650877,
           0.9935367227165015,
           0.9961682367871457,
           0.9983824052200814,
           0.9971670533232856
          ],
          [
           0.9152749820534922,
           0.9581610329977565,
           0.9869464432616029,
           0.9911724923264081,
           0.992672283066349,
           0.9958676328989359,
           0.9985693554409819,
           0.9951543008138024,
           0.9800620575131946,
           0.9478715214629057
          ]
         ]
        }
       ],
       "layout": {
        "annotations": [
         {
          "font": {
           "size": 16
          },
          "showarrow": false,
          "text": "lat=-18.00, lon=212.50",
          "x": 0.088,
          "xanchor": "center",
          "xref": "paper",
          "y": 1,
          "yanchor": "bottom",
          "yref": "paper"
         },
         {
          "font": {
           "size": 16
          },
          "showarrow": false,
          "text": "lat=71.05, lon=277.50",
          "x": 0.294,
          "xanchor": "center",
          "xref": "paper",
          "y": 1,
          "yanchor": "bottom",
          "yref": "paper"
         },
         {
          "font": {
           "size": 16
          },
          "showarrow": false,
          "text": "lat=-57.79, lon=260.00",
          "x": 0.5,
          "xanchor": "center",
          "xref": "paper",
          "y": 1,
          "yanchor": "bottom",
          "yref": "paper"
         },
         {
          "font": {
           "size": 16
          },
          "showarrow": false,
          "text": "lat=69.16, lon=357.50",
          "x": 0.706,
          "xanchor": "center",
          "xref": "paper",
          "y": 1,
          "yanchor": "bottom",
          "yref": "paper"
         },
         {
          "font": {
           "size": 16
          },
          "showarrow": false,
          "text": "lat=35.05, lon=52.50",
          "x": 0.9119999999999999,
          "xanchor": "center",
          "xref": "paper",
          "y": 1,
          "yanchor": "bottom",
          "yref": "paper"
         },
         {
          "font": {
           "size": 16
          },
          "showarrow": false,
          "text": "lat=-29.37, lon=0.00",
          "x": 0.088,
          "xanchor": "center",
          "xref": "paper",
          "y": 0.45,
          "yanchor": "bottom",
          "yref": "paper"
         },
         {
          "font": {
           "size": 16
          },
          "showarrow": false,
          "text": "lat=57.79, lon=122.50",
          "x": 0.294,
          "xanchor": "center",
          "xref": "paper",
          "y": 0.45,
          "yanchor": "bottom",
          "yref": "paper"
         },
         {
          "font": {
           "size": 16
          },
          "showarrow": false,
          "text": "lat=-67.26, lon=170.00",
          "x": 0.5,
          "xanchor": "center",
          "xref": "paper",
          "y": 0.45,
          "yanchor": "bottom",
          "yref": "paper"
         },
         {
          "font": {
           "size": 16
          },
          "showarrow": false,
          "text": "lat=36.95, lon=285.00",
          "x": 0.706,
          "xanchor": "center",
          "xref": "paper",
          "y": 0.45,
          "yanchor": "bottom",
          "yref": "paper"
         },
         {
          "font": {
           "size": 16
          },
          "showarrow": false,
          "text": "lat=33.16, lon=327.50",
          "x": 0.9119999999999999,
          "xanchor": "center",
          "xref": "paper",
          "y": 0.45,
          "yanchor": "bottom",
          "yref": "paper"
         }
        ],
        "height": 800,
        "margin": {
         "b": 50,
         "l": 50,
         "r": 50,
         "t": 80
        },
        "scene": {
         "camera": {
          "eye": {
           "x": 1,
           "y": 2,
           "z": 3
          }
         },
         "domain": {
          "x": [
           0,
           0.176
          ],
          "y": [
           0.55,
           1
          ]
         },
         "xaxis": {
          "title": {
           "text": "E"
          }
         },
         "yaxis": {
          "title": {
           "text": "tau"
          }
         },
         "zaxis": {
          "title": {
           "text": "rho"
          }
         }
        },
        "scene10": {
         "camera": {
          "eye": {
           "x": 1,
           "y": 2,
           "z": 3
          }
         },
         "domain": {
          "x": [
           0.824,
           1
          ],
          "y": [
           0,
           0.45
          ]
         },
         "xaxis": {
          "title": {
           "text": "E"
          }
         },
         "yaxis": {
          "title": {
           "text": "tau"
          }
         },
         "zaxis": {
          "title": {
           "text": "rho"
          }
         }
        },
        "scene2": {
         "camera": {
          "eye": {
           "x": 1,
           "y": 2,
           "z": 3
          }
         },
         "domain": {
          "x": [
           0.206,
           0.382
          ],
          "y": [
           0.55,
           1
          ]
         },
         "xaxis": {
          "title": {
           "text": "E"
          }
         },
         "yaxis": {
          "title": {
           "text": "tau"
          }
         },
         "zaxis": {
          "title": {
           "text": "rho"
          }
         }
        },
        "scene3": {
         "camera": {
          "eye": {
           "x": 1,
           "y": 2,
           "z": 3
          }
         },
         "domain": {
          "x": [
           0.412,
           0.588
          ],
          "y": [
           0.55,
           1
          ]
         },
         "xaxis": {
          "title": {
           "text": "E"
          }
         },
         "yaxis": {
          "title": {
           "text": "tau"
          }
         },
         "zaxis": {
          "title": {
           "text": "rho"
          }
         }
        },
        "scene4": {
         "camera": {
          "eye": {
           "x": 1,
           "y": 2,
           "z": 3
          }
         },
         "domain": {
          "x": [
           0.618,
           0.794
          ],
          "y": [
           0.55,
           1
          ]
         },
         "xaxis": {
          "title": {
           "text": "E"
          }
         },
         "yaxis": {
          "title": {
           "text": "tau"
          }
         },
         "zaxis": {
          "title": {
           "text": "rho"
          }
         }
        },
        "scene5": {
         "camera": {
          "eye": {
           "x": 1,
           "y": 2,
           "z": 3
          }
         },
         "domain": {
          "x": [
           0.824,
           1
          ],
          "y": [
           0.55,
           1
          ]
         },
         "xaxis": {
          "title": {
           "text": "E"
          }
         },
         "yaxis": {
          "title": {
           "text": "tau"
          }
         },
         "zaxis": {
          "title": {
           "text": "rho"
          }
         }
        },
        "scene6": {
         "camera": {
          "eye": {
           "x": 1,
           "y": 2,
           "z": 3
          }
         },
         "domain": {
          "x": [
           0,
           0.176
          ],
          "y": [
           0,
           0.45
          ]
         },
         "xaxis": {
          "title": {
           "text": "E"
          }
         },
         "yaxis": {
          "title": {
           "text": "tau"
          }
         },
         "zaxis": {
          "title": {
           "text": "rho"
          }
         }
        },
        "scene7": {
         "camera": {
          "eye": {
           "x": 1,
           "y": 2,
           "z": 3
          }
         },
         "domain": {
          "x": [
           0.206,
           0.382
          ],
          "y": [
           0,
           0.45
          ]
         },
         "xaxis": {
          "title": {
           "text": "E"
          }
         },
         "yaxis": {
          "title": {
           "text": "tau"
          }
         },
         "zaxis": {
          "title": {
           "text": "rho"
          }
         }
        },
        "scene8": {
         "camera": {
          "eye": {
           "x": 1,
           "y": 2,
           "z": 3
          }
         },
         "domain": {
          "x": [
           0.412,
           0.588
          ],
          "y": [
           0,
           0.45
          ]
         },
         "xaxis": {
          "title": {
           "text": "E"
          }
         },
         "yaxis": {
          "title": {
           "text": "tau"
          }
         },
         "zaxis": {
          "title": {
           "text": "rho"
          }
         }
        },
        "scene9": {
         "camera": {
          "eye": {
           "x": 1,
           "y": 2,
           "z": 3
          }
         },
         "domain": {
          "x": [
           0.618,
           0.794
          ],
          "y": [
           0,
           0.45
          ]
         },
         "xaxis": {
          "title": {
           "text": "E"
          }
         },
         "yaxis": {
          "title": {
           "text": "tau"
          }
         },
         "zaxis": {
          "title": {
           "text": "rho"
          }
         }
        },
        "template": {
         "data": {
          "bar": [
           {
            "error_x": {
             "color": "#2a3f5f"
            },
            "error_y": {
             "color": "#2a3f5f"
            },
            "marker": {
             "line": {
              "color": "#E5ECF6",
              "width": 0.5
             },
             "pattern": {
              "fillmode": "overlay",
              "size": 10,
              "solidity": 0.2
             }
            },
            "type": "bar"
           }
          ],
          "barpolar": [
           {
            "marker": {
             "line": {
              "color": "#E5ECF6",
              "width": 0.5
             },
             "pattern": {
              "fillmode": "overlay",
              "size": 10,
              "solidity": 0.2
             }
            },
            "type": "barpolar"
           }
          ],
          "carpet": [
           {
            "aaxis": {
             "endlinecolor": "#2a3f5f",
             "gridcolor": "white",
             "linecolor": "white",
             "minorgridcolor": "white",
             "startlinecolor": "#2a3f5f"
            },
            "baxis": {
             "endlinecolor": "#2a3f5f",
             "gridcolor": "white",
             "linecolor": "white",
             "minorgridcolor": "white",
             "startlinecolor": "#2a3f5f"
            },
            "type": "carpet"
           }
          ],
          "choropleth": [
           {
            "colorbar": {
             "outlinewidth": 0,
             "ticks": ""
            },
            "type": "choropleth"
           }
          ],
          "contour": [
           {
            "colorbar": {
             "outlinewidth": 0,
             "ticks": ""
            },
            "colorscale": [
             [
              0,
              "#0d0887"
             ],
             [
              0.1111111111111111,
              "#46039f"
             ],
             [
              0.2222222222222222,
              "#7201a8"
             ],
             [
              0.3333333333333333,
              "#9c179e"
             ],
             [
              0.4444444444444444,
              "#bd3786"
             ],
             [
              0.5555555555555556,
              "#d8576b"
             ],
             [
              0.6666666666666666,
              "#ed7953"
             ],
             [
              0.7777777777777778,
              "#fb9f3a"
             ],
             [
              0.8888888888888888,
              "#fdca26"
             ],
             [
              1,
              "#f0f921"
             ]
            ],
            "type": "contour"
           }
          ],
          "contourcarpet": [
           {
            "colorbar": {
             "outlinewidth": 0,
             "ticks": ""
            },
            "type": "contourcarpet"
           }
          ],
          "heatmap": [
           {
            "colorbar": {
             "outlinewidth": 0,
             "ticks": ""
            },
            "colorscale": [
             [
              0,
              "#0d0887"
             ],
             [
              0.1111111111111111,
              "#46039f"
             ],
             [
              0.2222222222222222,
              "#7201a8"
             ],
             [
              0.3333333333333333,
              "#9c179e"
             ],
             [
              0.4444444444444444,
              "#bd3786"
             ],
             [
              0.5555555555555556,
              "#d8576b"
             ],
             [
              0.6666666666666666,
              "#ed7953"
             ],
             [
              0.7777777777777778,
              "#fb9f3a"
             ],
             [
              0.8888888888888888,
              "#fdca26"
             ],
             [
              1,
              "#f0f921"
             ]
            ],
            "type": "heatmap"
           }
          ],
          "heatmapgl": [
           {
            "colorbar": {
             "outlinewidth": 0,
             "ticks": ""
            },
            "colorscale": [
             [
              0,
              "#0d0887"
             ],
             [
              0.1111111111111111,
              "#46039f"
             ],
             [
              0.2222222222222222,
              "#7201a8"
             ],
             [
              0.3333333333333333,
              "#9c179e"
             ],
             [
              0.4444444444444444,
              "#bd3786"
             ],
             [
              0.5555555555555556,
              "#d8576b"
             ],
             [
              0.6666666666666666,
              "#ed7953"
             ],
             [
              0.7777777777777778,
              "#fb9f3a"
             ],
             [
              0.8888888888888888,
              "#fdca26"
             ],
             [
              1,
              "#f0f921"
             ]
            ],
            "type": "heatmapgl"
           }
          ],
          "histogram": [
           {
            "marker": {
             "pattern": {
              "fillmode": "overlay",
              "size": 10,
              "solidity": 0.2
             }
            },
            "type": "histogram"
           }
          ],
          "histogram2d": [
           {
            "colorbar": {
             "outlinewidth": 0,
             "ticks": ""
            },
            "colorscale": [
             [
              0,
              "#0d0887"
             ],
             [
              0.1111111111111111,
              "#46039f"
             ],
             [
              0.2222222222222222,
              "#7201a8"
             ],
             [
              0.3333333333333333,
              "#9c179e"
             ],
             [
              0.4444444444444444,
              "#bd3786"
             ],
             [
              0.5555555555555556,
              "#d8576b"
             ],
             [
              0.6666666666666666,
              "#ed7953"
             ],
             [
              0.7777777777777778,
              "#fb9f3a"
             ],
             [
              0.8888888888888888,
              "#fdca26"
             ],
             [
              1,
              "#f0f921"
             ]
            ],
            "type": "histogram2d"
           }
          ],
          "histogram2dcontour": [
           {
            "colorbar": {
             "outlinewidth": 0,
             "ticks": ""
            },
            "colorscale": [
             [
              0,
              "#0d0887"
             ],
             [
              0.1111111111111111,
              "#46039f"
             ],
             [
              0.2222222222222222,
              "#7201a8"
             ],
             [
              0.3333333333333333,
              "#9c179e"
             ],
             [
              0.4444444444444444,
              "#bd3786"
             ],
             [
              0.5555555555555556,
              "#d8576b"
             ],
             [
              0.6666666666666666,
              "#ed7953"
             ],
             [
              0.7777777777777778,
              "#fb9f3a"
             ],
             [
              0.8888888888888888,
              "#fdca26"
             ],
             [
              1,
              "#f0f921"
             ]
            ],
            "type": "histogram2dcontour"
           }
          ],
          "mesh3d": [
           {
            "colorbar": {
             "outlinewidth": 0,
             "ticks": ""
            },
            "type": "mesh3d"
           }
          ],
          "parcoords": [
           {
            "line": {
             "colorbar": {
              "outlinewidth": 0,
              "ticks": ""
             }
            },
            "type": "parcoords"
           }
          ],
          "pie": [
           {
            "automargin": true,
            "type": "pie"
           }
          ],
          "scatter": [
           {
            "fillpattern": {
             "fillmode": "overlay",
             "size": 10,
             "solidity": 0.2
            },
            "type": "scatter"
           }
          ],
          "scatter3d": [
           {
            "line": {
             "colorbar": {
              "outlinewidth": 0,
              "ticks": ""
             }
            },
            "marker": {
             "colorbar": {
              "outlinewidth": 0,
              "ticks": ""
             }
            },
            "type": "scatter3d"
           }
          ],
          "scattercarpet": [
           {
            "marker": {
             "colorbar": {
              "outlinewidth": 0,
              "ticks": ""
             }
            },
            "type": "scattercarpet"
           }
          ],
          "scattergeo": [
           {
            "marker": {
             "colorbar": {
              "outlinewidth": 0,
              "ticks": ""
             }
            },
            "type": "scattergeo"
           }
          ],
          "scattergl": [
           {
            "marker": {
             "colorbar": {
              "outlinewidth": 0,
              "ticks": ""
             }
            },
            "type": "scattergl"
           }
          ],
          "scattermapbox": [
           {
            "marker": {
             "colorbar": {
              "outlinewidth": 0,
              "ticks": ""
             }
            },
            "type": "scattermapbox"
           }
          ],
          "scatterpolar": [
           {
            "marker": {
             "colorbar": {
              "outlinewidth": 0,
              "ticks": ""
             }
            },
            "type": "scatterpolar"
           }
          ],
          "scatterpolargl": [
           {
            "marker": {
             "colorbar": {
              "outlinewidth": 0,
              "ticks": ""
             }
            },
            "type": "scatterpolargl"
           }
          ],
          "scatterternary": [
           {
            "marker": {
             "colorbar": {
              "outlinewidth": 0,
              "ticks": ""
             }
            },
            "type": "scatterternary"
           }
          ],
          "surface": [
           {
            "colorbar": {
             "outlinewidth": 0,
             "ticks": ""
            },
            "colorscale": [
             [
              0,
              "#0d0887"
             ],
             [
              0.1111111111111111,
              "#46039f"
             ],
             [
              0.2222222222222222,
              "#7201a8"
             ],
             [
              0.3333333333333333,
              "#9c179e"
             ],
             [
              0.4444444444444444,
              "#bd3786"
             ],
             [
              0.5555555555555556,
              "#d8576b"
             ],
             [
              0.6666666666666666,
              "#ed7953"
             ],
             [
              0.7777777777777778,
              "#fb9f3a"
             ],
             [
              0.8888888888888888,
              "#fdca26"
             ],
             [
              1,
              "#f0f921"
             ]
            ],
            "type": "surface"
           }
          ],
          "table": [
           {
            "cells": {
             "fill": {
              "color": "#EBF0F8"
             },
             "line": {
              "color": "white"
             }
            },
            "header": {
             "fill": {
              "color": "#C8D4E3"
             },
             "line": {
              "color": "white"
             }
            },
            "type": "table"
           }
          ]
         },
         "layout": {
          "annotationdefaults": {
           "arrowcolor": "#2a3f5f",
           "arrowhead": 0,
           "arrowwidth": 1
          },
          "autotypenumbers": "strict",
          "coloraxis": {
           "colorbar": {
            "outlinewidth": 0,
            "ticks": ""
           }
          },
          "colorscale": {
           "diverging": [
            [
             0,
             "#8e0152"
            ],
            [
             0.1,
             "#c51b7d"
            ],
            [
             0.2,
             "#de77ae"
            ],
            [
             0.3,
             "#f1b6da"
            ],
            [
             0.4,
             "#fde0ef"
            ],
            [
             0.5,
             "#f7f7f7"
            ],
            [
             0.6,
             "#e6f5d0"
            ],
            [
             0.7,
             "#b8e186"
            ],
            [
             0.8,
             "#7fbc41"
            ],
            [
             0.9,
             "#4d9221"
            ],
            [
             1,
             "#276419"
            ]
           ],
           "sequential": [
            [
             0,
             "#0d0887"
            ],
            [
             0.1111111111111111,
             "#46039f"
            ],
            [
             0.2222222222222222,
             "#7201a8"
            ],
            [
             0.3333333333333333,
             "#9c179e"
            ],
            [
             0.4444444444444444,
             "#bd3786"
            ],
            [
             0.5555555555555556,
             "#d8576b"
            ],
            [
             0.6666666666666666,
             "#ed7953"
            ],
            [
             0.7777777777777778,
             "#fb9f3a"
            ],
            [
             0.8888888888888888,
             "#fdca26"
            ],
            [
             1,
             "#f0f921"
            ]
           ],
           "sequentialminus": [
            [
             0,
             "#0d0887"
            ],
            [
             0.1111111111111111,
             "#46039f"
            ],
            [
             0.2222222222222222,
             "#7201a8"
            ],
            [
             0.3333333333333333,
             "#9c179e"
            ],
            [
             0.4444444444444444,
             "#bd3786"
            ],
            [
             0.5555555555555556,
             "#d8576b"
            ],
            [
             0.6666666666666666,
             "#ed7953"
            ],
            [
             0.7777777777777778,
             "#fb9f3a"
            ],
            [
             0.8888888888888888,
             "#fdca26"
            ],
            [
             1,
             "#f0f921"
            ]
           ]
          },
          "colorway": [
           "#636efa",
           "#EF553B",
           "#00cc96",
           "#ab63fa",
           "#FFA15A",
           "#19d3f3",
           "#FF6692",
           "#B6E880",
           "#FF97FF",
           "#FECB52"
          ],
          "font": {
           "color": "#2a3f5f"
          },
          "geo": {
           "bgcolor": "white",
           "lakecolor": "white",
           "landcolor": "#E5ECF6",
           "showlakes": true,
           "showland": true,
           "subunitcolor": "white"
          },
          "hoverlabel": {
           "align": "left"
          },
          "hovermode": "closest",
          "mapbox": {
           "style": "light"
          },
          "paper_bgcolor": "white",
          "plot_bgcolor": "#E5ECF6",
          "polar": {
           "angularaxis": {
            "gridcolor": "white",
            "linecolor": "white",
            "ticks": ""
           },
           "bgcolor": "#E5ECF6",
           "radialaxis": {
            "gridcolor": "white",
            "linecolor": "white",
            "ticks": ""
           }
          },
          "scene": {
           "xaxis": {
            "backgroundcolor": "#E5ECF6",
            "gridcolor": "white",
            "gridwidth": 2,
            "linecolor": "white",
            "showbackground": true,
            "ticks": "",
            "zerolinecolor": "white"
           },
           "yaxis": {
            "backgroundcolor": "#E5ECF6",
            "gridcolor": "white",
            "gridwidth": 2,
            "linecolor": "white",
            "showbackground": true,
            "ticks": "",
            "zerolinecolor": "white"
           },
           "zaxis": {
            "backgroundcolor": "#E5ECF6",
            "gridcolor": "white",
            "gridwidth": 2,
            "linecolor": "white",
            "showbackground": true,
            "ticks": "",
            "zerolinecolor": "white"
           }
          },
          "shapedefaults": {
           "line": {
            "color": "#2a3f5f"
           }
          },
          "ternary": {
           "aaxis": {
            "gridcolor": "white",
            "linecolor": "white",
            "ticks": ""
           },
           "baxis": {
            "gridcolor": "white",
            "linecolor": "white",
            "ticks": ""
           },
           "bgcolor": "#E5ECF6",
           "caxis": {
            "gridcolor": "white",
            "linecolor": "white",
            "ticks": ""
           }
          },
          "title": {
           "x": 0.05
          },
          "xaxis": {
           "automargin": true,
           "gridcolor": "white",
           "linecolor": "white",
           "ticks": "",
           "title": {
            "standoff": 15
           },
           "zerolinecolor": "white",
           "zerolinewidth": 2
          },
          "yaxis": {
           "automargin": true,
           "gridcolor": "white",
           "linecolor": "white",
           "ticks": "",
           "title": {
            "standoff": 15
           },
           "zerolinecolor": "white",
           "zerolinewidth": 2
          }
         }
        },
        "width": 1400
       }
      }
     },
     "metadata": {},
     "output_type": "display_data"
    }
   ],
   "source": [
    "import xarray as xr\n",
    "import pandas as pd\n",
    "import numpy as np\n",
    "import random\n",
    "\n",
    "import plotly.graph_objects as go\n",
    "from plotly.subplots import make_subplots\n",
    "\n",
    "from pyEDM import EmbedDimension\n",
    "\n",
    "\n",
    "\n",
    "nlat = ds_sat.sizes[\"lat\"]\n",
    "nlon = ds_sat.sizes[\"lon\"]\n",
    "ages = ds_sat[\"age\"].values  # keep track of the ages\n",
    "\n",
    "# ---------------------------------------------------------------------\n",
    "# 2. Randomly select 10 (lat, lon) grid points\n",
    "# ---------------------------------------------------------------------\n",
    "all_pairs = [(ilat, ilon) for ilat in range(nlat) for ilon in range(nlon)]\n",
    "random_pairs = random.sample(all_pairs, 10)  # pick 10 unique (ilat, ilon)\n",
    "\n",
    "results_list = []  # will be a list of (ilat, ilon, E_axis, Tau_axis, RhoMatrix)\n",
    "\n",
    "for idx, (ilat, ilon) in enumerate(random_pairs):\n",
    "    # Extract local sat time series\n",
    "    sat_ts = ds_sat[\"sat\"].isel(lat=ilat, lon=ilon).values\n",
    "\n",
    "    df_tmp = pd.DataFrame({\n",
    "        \"Time\": ages,\n",
    "        \"obl\": df_obl['obl'].values,  # predictor\n",
    "        \"sat\": sat_ts          # target to predict\n",
    "    })\n",
    "\n",
    "    # We'll store a 2D array of shape (5,10) for E=1..5, tau=1..10\n",
    "    RhoMatrix = np.zeros((5, 10))\n",
    "\n",
    "    # For each tau in 1..10, call EmbedDimension once with maxE=5 and Tp=tau\n",
    "    for tau in range(1, 11):\n",
    "        edm_out = EmbedDimension(\n",
    "            dataFrame=df_tmp,\n",
    "            columns=\"sat\",\n",
    "            target=\"obl\",\n",
    "            maxE=5,          # We'll evaluate E=1..5\n",
    "            tau=tau,\n",
    "            Tp=0,\n",
    "            lib=\"1 120\",     # Entire time series, adapt if needed\n",
    "            pred=\"1 120\",\n",
    "            showPlot=False,  # We'll handle plotting ourselves\n",
    "        )\n",
    "\n",
    "        for e_row in edm_out.itertuples():\n",
    "            e_val = e_row.E     # 1..5\n",
    "            rho_val = e_row.rho\n",
    "            RhoMatrix[int(e_val - 1), int(tau - 1)] = rho_val\n",
    "\n",
    "    # Axis values for plotting\n",
    "    E_axis = np.arange(1, 6)     # E = 1..5\n",
    "    Tau_axis = np.arange(1, 11)  # tau = 1..10\n",
    "\n",
    "    # Save the result for this grid point\n",
    "    results_list.append((ilat, ilon, E_axis, Tau_axis, RhoMatrix))\n",
    "\n",
    "# ---------------------------------------------------------------------\n",
    "# Compute global min and max for all RhoMatrix values\n",
    "# ---------------------------------------------------------------------\n",
    "global_min = min(np.min(RhoMatrix) for _, _, _, _, RhoMatrix in results_list)\n",
    "global_max = max(np.max(RhoMatrix) for _, _, _, _, RhoMatrix in results_list)\n",
    "\n",
    "# ---------------------------------------------------------------------\n",
    "# 4. Make a 3D surface plot for each of the 10 results using Plotly subplots\n",
    "# ---------------------------------------------------------------------\n",
    "\n",
    "# Create subplot titles using true latitude and longitude values\n",
    "subplot_titles = [\n",
    "    f\"lat={ds_sat['lat'].values[r[0]]:.2f}, lon={ds_sat['lon'].values[r[1]]:.2f}\"\n",
    "    for r in results_list\n",
    "]\n",
    "\n",
    "# Create a 2x5 grid of 3D subplots with adjusted spacing\n",
    "fig = make_subplots(\n",
    "    rows=2, cols=5,\n",
    "    specs=[[{\"type\": \"surface\"}]*5, [{\"type\": \"surface\"}]*5],\n",
    "    subplot_titles=subplot_titles,\n",
    "    horizontal_spacing=0.03,  # reduce horizontal spacing\n",
    "    vertical_spacing=0.1      # reduce vertical spacing\n",
    ")\n",
    "\n",
    "# Add each surface plot trace to its respective subplot\n",
    "for i, (ilat, ilon, E_axis, Tau_axis, RhoMatrix) in enumerate(results_list):\n",
    "    E_grid, Tau_grid = np.meshgrid(E_axis, Tau_axis, indexing='ij')\n",
    "    row = (i // 5) + 1\n",
    "    col = (i % 5) + 1\n",
    "\n",
    "    # For a common colorbar, all surfaces use the same color range.\n",
    "    # We enable the colorbar (showscale=True) only for the first trace.\n",
    "    surf = go.Surface(\n",
    "        x=E_grid,       # E dimension\n",
    "        y=Tau_grid,     # tau dimension\n",
    "        z=RhoMatrix,    # rho values\n",
    "        colorscale=\"Viridis\",\n",
    "        cmin=global_min,\n",
    "        cmax=global_max,\n",
    "        showscale=True if i == 0 else False,\n",
    "        # Customize the colorbar for the first subplot\n",
    "        colorbar=dict(\n",
    "            title=\"rho\",\n",
    "            titleside=\"right\",\n",
    "            x=1.02,  \n",
    "            # adjust the shrink ratio to make the colorbar shorter\n",
    "            len=0.3\n",
    "        ) if i == 0 else None\n",
    "    )\n",
    "\n",
    "    fig.add_trace(surf, row=row, col=col)\n",
    "\n",
    "# Update overall layout with adjusted margins for better label visibility\n",
    "fig.update_layout(\n",
    "    height=800,\n",
    "    width=1400,\n",
    "    margin=dict(l=50, r=50, t=80, b=50),\n",
    ")\n",
    "\n",
    "# ---------------------------------------------------------------------\n",
    "# 3. Adjust the viewing angle (camera) for each subplot\n",
    "# ---------------------------------------------------------------------\n",
    "# Loop over each subplot scene and set the camera view.\n",
    "# Note: The first scene is named 'scene', and subsequent ones as 'scene2', 'scene3', etc.\n",
    "for i in range(1, len(results_list)+1):\n",
    "    scene_id = f'scene{i}' if i > 1 else 'scene'\n",
    "    fig.layout[scene_id].update(\n",
    "        xaxis_title=\"E\",\n",
    "        yaxis_title=\"tau\",\n",
    "        zaxis_title=\"rho\",\n",
    "        camera=dict(\n",
    "            eye=dict(x=1, y=2, z=3)  \n",
    "        )\n",
    "    )\n",
    "\n",
    "fig.show()\n"
   ]
  },
  {
   "cell_type": "code",
   "execution_count": null,
   "metadata": {},
   "outputs": [],
   "source": []
  }
 ],
 "metadata": {
  "kernelspec": {
   "display_name": "pz_venv_causal",
   "language": "python",
   "name": "python3"
  },
  "language_info": {
   "codemirror_mode": {
    "name": "ipython",
    "version": 3
   },
   "file_extension": ".py",
   "mimetype": "text/x-python",
   "name": "python",
   "nbconvert_exporter": "python",
   "pygments_lexer": "ipython3",
   "version": "3.8.18"
  }
 },
 "nbformat": 4,
 "nbformat_minor": 2
}
