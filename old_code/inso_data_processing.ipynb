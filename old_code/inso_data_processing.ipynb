{
 "cells": [
  {
   "cell_type": "code",
   "execution_count": 17,
   "metadata": {},
   "outputs": [
    {
     "data": {
      "application/vnd.microsoft.datawrangler.viewer.v0+json": {
       "columns": [
        {
         "name": "index",
         "rawType": "int64",
         "type": "integer"
        },
        {
         "name": "age",
         "rawType": "float64",
         "type": "float"
        },
        {
         "name": "pre",
         "rawType": "float64",
         "type": "float"
        }
       ],
       "conversionMethod": "pd.DataFrame",
       "ref": "23b3b180-8811-4f1b-8444-7846dc2f8ce0",
       "rows": [
        [
         "499",
         "100.0",
         "0.016431"
        ],
        [
         "497",
         "300.0",
         "0.01669"
        ],
        [
         "495",
         "500.0",
         "0.016891"
        ],
        [
         "493",
         "700.0",
         "0.017029"
        ],
        [
         "491",
         "900.0",
         "0.017104"
        ],
        [
         "489",
         "1100.0",
         "0.017109"
        ],
        [
         "487",
         "1300.0",
         "0.017045"
        ],
        [
         "485",
         "1500.0",
         "0.016914"
        ],
        [
         "483",
         "1700.0",
         "0.016718"
        ],
        [
         "481",
         "1900.0",
         "0.01646"
        ],
        [
         "479",
         "2100.0",
         "0.016142"
        ],
        [
         "477",
         "2300.0",
         "0.015766"
        ],
        [
         "475",
         "2500.0",
         "0.015333"
        ],
        [
         "473",
         "2700.0",
         "0.014846"
        ],
        [
         "471",
         "2900.0",
         "0.014307"
        ],
        [
         "469",
         "3100.0",
         "0.013718"
        ],
        [
         "467",
         "3300.0",
         "0.013081"
        ],
        [
         "465",
         "3500.0",
         "0.012394"
        ],
        [
         "463",
         "3700.0",
         "0.011656"
        ],
        [
         "461",
         "3900.0",
         "0.010867"
        ],
        [
         "459",
         "4100.0",
         "0.010024"
        ],
        [
         "457",
         "4300.0",
         "0.009131"
        ],
        [
         "455",
         "4500.0",
         "0.008197"
        ],
        [
         "453",
         "4700.0",
         "0.007229"
        ],
        [
         "451",
         "4900.0",
         "0.006233"
        ],
        [
         "449",
         "5100.0",
         "0.005218"
        ],
        [
         "447",
         "5300.0",
         "0.004186"
        ],
        [
         "445",
         "5500.0",
         "0.003137"
        ],
        [
         "443",
         "5700.0",
         "0.002075"
        ],
        [
         "441",
         "5900.0",
         "0.001001"
        ],
        [
         "439",
         "6100.0",
         "-8.1e-05"
        ],
        [
         "437",
         "6300.0",
         "-0.001167"
        ],
        [
         "435",
         "6500.0",
         "-0.002253"
        ],
        [
         "433",
         "6700.0",
         "-0.003337"
        ],
        [
         "431",
         "6900.0",
         "-0.004415"
        ],
        [
         "429",
         "7100.0",
         "-0.005488"
        ],
        [
         "427",
         "7300.0",
         "-0.006551"
        ],
        [
         "425",
         "7500.0",
         "-0.0076"
        ],
        [
         "423",
         "7700.0",
         "-0.008629"
        ],
        [
         "421",
         "7900.0",
         "-0.009632"
        ],
        [
         "419",
         "8100.0",
         "-0.010603"
        ],
        [
         "417",
         "8300.0",
         "-0.011536"
        ],
        [
         "415",
         "8500.0",
         "-0.012427"
        ],
        [
         "413",
         "8700.0",
         "-0.013273"
        ],
        [
         "411",
         "8900.0",
         "-0.014072"
        ],
        [
         "409",
         "9100.0",
         "-0.014819"
        ],
        [
         "407",
         "9300.0",
         "-0.015515"
        ],
        [
         "405",
         "9500.0",
         "-0.016161"
        ],
        [
         "403",
         "9700.0",
         "-0.016759"
        ],
        [
         "401",
         "9900.0",
         "-0.01731"
        ]
       ],
       "shape": {
        "columns": 2,
        "rows": 120
       }
      },
      "text/html": [
       "<div>\n",
       "<style scoped>\n",
       "    .dataframe tbody tr th:only-of-type {\n",
       "        vertical-align: middle;\n",
       "    }\n",
       "\n",
       "    .dataframe tbody tr th {\n",
       "        vertical-align: top;\n",
       "    }\n",
       "\n",
       "    .dataframe thead th {\n",
       "        text-align: right;\n",
       "    }\n",
       "</style>\n",
       "<table border=\"1\" class=\"dataframe\">\n",
       "  <thead>\n",
       "    <tr style=\"text-align: right;\">\n",
       "      <th></th>\n",
       "      <th>age</th>\n",
       "      <th>pre</th>\n",
       "    </tr>\n",
       "  </thead>\n",
       "  <tbody>\n",
       "    <tr>\n",
       "      <th>499</th>\n",
       "      <td>100.0</td>\n",
       "      <td>0.016431</td>\n",
       "    </tr>\n",
       "    <tr>\n",
       "      <th>497</th>\n",
       "      <td>300.0</td>\n",
       "      <td>0.016690</td>\n",
       "    </tr>\n",
       "    <tr>\n",
       "      <th>495</th>\n",
       "      <td>500.0</td>\n",
       "      <td>0.016891</td>\n",
       "    </tr>\n",
       "    <tr>\n",
       "      <th>493</th>\n",
       "      <td>700.0</td>\n",
       "      <td>0.017029</td>\n",
       "    </tr>\n",
       "    <tr>\n",
       "      <th>491</th>\n",
       "      <td>900.0</td>\n",
       "      <td>0.017104</td>\n",
       "    </tr>\n",
       "    <tr>\n",
       "      <th>...</th>\n",
       "      <td>...</td>\n",
       "      <td>...</td>\n",
       "    </tr>\n",
       "    <tr>\n",
       "      <th>269</th>\n",
       "      <td>23100.0</td>\n",
       "      <td>0.018083</td>\n",
       "    </tr>\n",
       "    <tr>\n",
       "      <th>267</th>\n",
       "      <td>23300.0</td>\n",
       "      <td>0.017836</td>\n",
       "    </tr>\n",
       "    <tr>\n",
       "      <th>265</th>\n",
       "      <td>23500.0</td>\n",
       "      <td>0.017535</td>\n",
       "    </tr>\n",
       "    <tr>\n",
       "      <th>263</th>\n",
       "      <td>23700.0</td>\n",
       "      <td>0.017182</td>\n",
       "    </tr>\n",
       "    <tr>\n",
       "      <th>261</th>\n",
       "      <td>23900.0</td>\n",
       "      <td>0.016777</td>\n",
       "    </tr>\n",
       "  </tbody>\n",
       "</table>\n",
       "<p>120 rows × 2 columns</p>\n",
       "</div>"
      ],
      "text/plain": [
       "         age       pre\n",
       "499    100.0  0.016431\n",
       "497    300.0  0.016690\n",
       "495    500.0  0.016891\n",
       "493    700.0  0.017029\n",
       "491    900.0  0.017104\n",
       "..       ...       ...\n",
       "269  23100.0  0.018083\n",
       "267  23300.0  0.017836\n",
       "265  23500.0  0.017535\n",
       "263  23700.0  0.017182\n",
       "261  23900.0  0.016777\n",
       "\n",
       "[120 rows x 2 columns]"
      ]
     },
     "execution_count": 17,
     "metadata": {},
     "output_type": "execute_result"
    }
   ],
   "source": [
    "import pandas as pd\n",
    "\n",
    "# Read the file into a DataFrame\n",
    "df_pre = pd.read_csv(\n",
    "    r\"D:\\VScode\\Inso_LGMR\\inso_data\\pre.txt\", \n",
    "    sep='\\s+',       # '\\s+' means \"split on any whitespace\"\n",
    "    header=None,     # or specify a row number if there's a header\n",
    "    engine='python'\n",
    ")\n",
    "\n",
    "\n",
    "df_pre.iloc[:, 0] = df_pre.iloc[:, 0].abs() * 1000\n",
    "\n",
    "# Reverse the DataFrame rows\n",
    "df_pre = df_pre.iloc[::-1]\n",
    "\n",
    "# Rename the columns\n",
    "df_pre.columns = ['age', 'pre']\n",
    "\n",
    "\n",
    "\n",
    "\n",
    "df_obl = pd.read_csv(r\"D:\\VScode\\Inso_LGMR\\inso_data\\obl.txt\", \n",
    "                     sep='\\s+', \n",
    "                     header=None, \n",
    "                     engine='python')\n",
    "\n",
    "df_obl.iloc[:, 0] = df_obl.iloc[:, 0].abs() * 1000\n",
    "\n",
    "df_obl = df_obl.iloc[::-1]\n",
    "df_obl.columns = ['age', 'obl']\n",
    "\n",
    "\n",
    "# crop the data for age>=100 <=23900\n",
    "df_pre = df_pre[(df_pre['age'] >= 100) & (df_pre['age'] <= 23900)]\n",
    "df_obl = df_obl[(df_obl['age'] >= 100) & (df_obl['age'] <= 23900)]\n",
    "\n",
    "# remove rows that can be divided by 200\n",
    "df_pre = df_pre[df_pre['age'] % 200 != 0]\n",
    "df_obl = df_obl[df_obl['age'] % 200 != 0]\n",
    "\n",
    "\n",
    "df_obl\n",
    "df_pre\n"
   ]
  },
  {
   "cell_type": "code",
   "execution_count": 18,
   "metadata": {},
   "outputs": [
    {
     "data": {
      "image/png": "[encoded data removed]",
      "text/plain": [
       "<Figure size 800x600 with 2 Axes>"
      ]
     },
     "metadata": {},
     "output_type": "display_data"
    }
   ],
   "source": [
    "import pandas as pd\n",
    "import matplotlib.pyplot as plt\n",
    "\n",
    "\n",
    "# -- Plotting in a 2x1 figure --\n",
    "fig, (ax1, ax2) = plt.subplots(nrows=2, ncols=1, figsize=(8, 6))\n",
    "\n",
    "# Upper subplot: pre\n",
    "ax1.plot(df_pre['age'], df_pre['pre'])\n",
    "ax1.set_title('pre vs Age')\n",
    "ax1.set_xlabel('Age')\n",
    "ax1.set_ylabel('pre')\n",
    "\n",
    "# Lower subplot: obl\n",
    "ax2.plot(df_obl['age'], df_obl['obl'])\n",
    "ax2.set_title('obl vs Age')\n",
    "ax2.set_xlabel('Age')\n",
    "ax2.set_ylabel('obl')\n",
    "\n",
    "plt.tight_layout()\n",
    "plt.show()\n",
    "\n"
   ]
  },
  {
   "cell_type": "code",
   "execution_count": 19,
   "metadata": {},
   "outputs": [],
   "source": [
    "# save df_pre and df_obl to csv files\n",
    "df_pre.to_csv(r\"D:\\VScode\\Inso_LGMR\\inso_data\\pre.csv\", index=False)\n",
    "df_obl.to_csv(r\"D:\\VScode\\Inso_LGMR\\inso_data\\obl.csv\", index=False)"
   ]
  },
  {
   "cell_type": "code",
   "execution_count": null,
   "metadata": {},
   "outputs": [],
   "source": [
    "# read the csv files\n",
    "df_pre = pd.read_csv(r\"D:\\VScode\\Inso_LGMR\\inso_data\\pre.csv\")\n",
    "df_obl = pd.read_csv(r\"D:\\VScode\\Inso_LGMR\\inso_data\\obl.csv\")"
   ]
  }
 ],
 "metadata": {
  "kernelspec": {
   "display_name": "pz_venv_causal",
   "language": "python",
   "name": "python3"
  },
  "language_info": {
   "codemirror_mode": {
    "name": "ipython",
    "version": 3
   },
   "file_extension": ".py",
   "mimetype": "text/x-python",
   "name": "python",
   "nbconvert_exporter": "python",
   "pygments_lexer": "ipython3",
   "version": "3.8.18"
  }
 },
 "nbformat": 4,
 "nbformat_minor": 2
}
